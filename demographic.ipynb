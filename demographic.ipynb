{
 "cells": [
  {
   "cell_type": "code",
   "execution_count": 2,
   "id": "dd91d299",
   "metadata": {},
   "outputs": [],
   "source": [
    "import pandas as pd\n",
    "import numpy as np\n",
    "import re\n",
    "from re import findall\n",
    "import matplotlib.pyplot as plt\n",
    "from datetime import datetime, date\n",
    "import plotly.express as px\n",
    "import seaborn as sns"
   ]
  },
  {
   "cell_type": "code",
   "execution_count": 3,
   "id": "d4bf8064",
   "metadata": {},
   "outputs": [],
   "source": [
    "#!pip install plotly.express"
   ]
  },
  {
   "cell_type": "code",
   "execution_count": 4,
   "id": "792ff0fe",
   "metadata": {},
   "outputs": [],
   "source": [
    "demog = pd.read_excel('/Users/symphony/Downloads/demographics.xlsx')\n",
    "students2021 = pd.read_excel(\"/Users/symphony/Downloads/ratings2021.xlsx\")"
   ]
  },
  {
   "cell_type": "code",
   "execution_count": 5,
   "id": "440083fe",
   "metadata": {},
   "outputs": [
    {
     "data": {
      "text/plain": [
       "592"
      ]
     },
     "execution_count": 5,
     "metadata": {},
     "output_type": "execute_result"
    }
   ],
   "source": [
    "len(students2021)"
   ]
  },
  {
   "cell_type": "code",
   "execution_count": 6,
   "id": "9546def8",
   "metadata": {},
   "outputs": [
    {
     "data": {
      "text/html": [
       "<div>\n",
       "<style scoped>\n",
       "    .dataframe tbody tr th:only-of-type {\n",
       "        vertical-align: middle;\n",
       "    }\n",
       "\n",
       "    .dataframe tbody tr th {\n",
       "        vertical-align: top;\n",
       "    }\n",
       "\n",
       "    .dataframe thead th {\n",
       "        text-align: right;\n",
       "    }\n",
       "</style>\n",
       "<table border=\"1\" class=\"dataframe\">\n",
       "  <thead>\n",
       "    <tr style=\"text-align: right;\">\n",
       "      <th></th>\n",
       "      <th>Campus_x</th>\n",
       "      <th>Department_x</th>\n",
       "      <th>Course Title_x</th>\n",
       "      <th>Employee Number</th>\n",
       "      <th>Compound name</th>\n",
       "      <th>TW2 - rating</th>\n",
       "      <th>TW2 check in notes</th>\n",
       "      <th>TW8 rating</th>\n",
       "      <th>TW8 notes</th>\n",
       "      <th>TW11 rating</th>\n",
       "      <th>...</th>\n",
       "      <th>Gender</th>\n",
       "      <th>Dob</th>\n",
       "      <th>Ethnicity (Student personal characteristics)</th>\n",
       "      <th>Nationality</th>\n",
       "      <th>Household income (Student personal characteristics)</th>\n",
       "      <th>Disability declared (Student personal characteristics)</th>\n",
       "      <th>Campus_y</th>\n",
       "      <th>Job Title</th>\n",
       "      <th>Course Title_y</th>\n",
       "      <th>Department_y</th>\n",
       "    </tr>\n",
       "  </thead>\n",
       "  <tbody>\n",
       "    <tr>\n",
       "      <th>0</th>\n",
       "      <td>Cambridge</td>\n",
       "      <td>BL</td>\n",
       "      <td>BSc (Hons) Business with Events Management</td>\n",
       "      <td>1803103</td>\n",
       "      <td>Aaliah Loureiro Brito</td>\n",
       "      <td>4</td>\n",
       "      <td>NaN</td>\n",
       "      <td>4</td>\n",
       "      <td>NaN</td>\n",
       "      <td>4</td>\n",
       "      <td>...</td>\n",
       "      <td>Female</td>\n",
       "      <td>19/05/2000</td>\n",
       "      <td>Mixed - White &amp; Black African</td>\n",
       "      <td>Portuguese</td>\n",
       "      <td>Low</td>\n",
       "      <td>NaN</td>\n",
       "      <td>Cambridge</td>\n",
       "      <td>School of Management at Anglia Ruskin University</td>\n",
       "      <td>BSc (Hons) Business with Events Management</td>\n",
       "      <td>BL</td>\n",
       "    </tr>\n",
       "    <tr>\n",
       "      <th>1</th>\n",
       "      <td>Chelmsford</td>\n",
       "      <td>BL</td>\n",
       "      <td>BSc (Hons) Accounting and Finance</td>\n",
       "      <td>2014825</td>\n",
       "      <td>Aaron Glover</td>\n",
       "      <td>3</td>\n",
       "      <td>NaN</td>\n",
       "      <td>4</td>\n",
       "      <td>NaN</td>\n",
       "      <td>4</td>\n",
       "      <td>...</td>\n",
       "      <td>Male</td>\n",
       "      <td>15/07/2000</td>\n",
       "      <td>White</td>\n",
       "      <td>UK National</td>\n",
       "      <td>NaN</td>\n",
       "      <td>NaN</td>\n",
       "      <td>Cambridge</td>\n",
       "      <td>School of Computing and Information Sciences a...</td>\n",
       "      <td>BEng (Hons) Computer Science</td>\n",
       "      <td>SE</td>\n",
       "    </tr>\n",
       "    <tr>\n",
       "      <th>2</th>\n",
       "      <td>Chelmsford</td>\n",
       "      <td>BL</td>\n",
       "      <td>BSc (Hons) Accounting and Finance</td>\n",
       "      <td>2014825</td>\n",
       "      <td>Aaron Glover</td>\n",
       "      <td>3</td>\n",
       "      <td>NaN</td>\n",
       "      <td>4</td>\n",
       "      <td>NaN</td>\n",
       "      <td>4</td>\n",
       "      <td>...</td>\n",
       "      <td>Male</td>\n",
       "      <td>02/09/2001</td>\n",
       "      <td>White</td>\n",
       "      <td>UK National</td>\n",
       "      <td>NaN</td>\n",
       "      <td>NaN</td>\n",
       "      <td>Chelmsford</td>\n",
       "      <td>School of Economics Finance and Law at Anglia ...</td>\n",
       "      <td>BSc (Hons) Accounting and Finance</td>\n",
       "      <td>BL</td>\n",
       "    </tr>\n",
       "    <tr>\n",
       "      <th>3</th>\n",
       "      <td>Chelmsford</td>\n",
       "      <td>BL</td>\n",
       "      <td>BSc (Hons) Business Management and Leadership</td>\n",
       "      <td>1841622</td>\n",
       "      <td>Aayush Sanjhawa Prajapati</td>\n",
       "      <td>4</td>\n",
       "      <td>NaN</td>\n",
       "      <td>4</td>\n",
       "      <td>NaN</td>\n",
       "      <td>4</td>\n",
       "      <td>...</td>\n",
       "      <td>Male</td>\n",
       "      <td>13/01/2001</td>\n",
       "      <td>Other Asian background</td>\n",
       "      <td>Nepalese</td>\n",
       "      <td>NaN</td>\n",
       "      <td>NaN</td>\n",
       "      <td>Chelmsford</td>\n",
       "      <td>School of Management at Anglia Ruskin University</td>\n",
       "      <td>BSc (Hons) Business Management and Leadership</td>\n",
       "      <td>BL</td>\n",
       "    </tr>\n",
       "    <tr>\n",
       "      <th>4</th>\n",
       "      <td>Cambridge</td>\n",
       "      <td>AHSS</td>\n",
       "      <td>BA (Hons) Performing Arts</td>\n",
       "      <td>1909589</td>\n",
       "      <td>Abbie Kermode</td>\n",
       "      <td>1</td>\n",
       "      <td>NaN</td>\n",
       "      <td>1</td>\n",
       "      <td>NaN</td>\n",
       "      <td>1</td>\n",
       "      <td>...</td>\n",
       "      <td>Female</td>\n",
       "      <td>10/01/2001</td>\n",
       "      <td>White</td>\n",
       "      <td>UK National</td>\n",
       "      <td>Mid</td>\n",
       "      <td>NaN</td>\n",
       "      <td>Cambridge</td>\n",
       "      <td>Cambridge School of the Creative Industries at...</td>\n",
       "      <td>BA (Hons) Performing Arts</td>\n",
       "      <td>AHSS</td>\n",
       "    </tr>\n",
       "  </tbody>\n",
       "</table>\n",
       "<p>5 rows × 22 columns</p>\n",
       "</div>"
      ],
      "text/plain": [
       "     Campus_x Department_x                                 Course Title_x  \\\n",
       "0   Cambridge           BL     BSc (Hons) Business with Events Management   \n",
       "1  Chelmsford           BL              BSc (Hons) Accounting and Finance   \n",
       "2  Chelmsford           BL              BSc (Hons) Accounting and Finance   \n",
       "3  Chelmsford           BL  BSc (Hons) Business Management and Leadership   \n",
       "4   Cambridge         AHSS                      BA (Hons) Performing Arts   \n",
       "\n",
       "   Employee Number              Compound name TW2 - rating TW2 check in notes  \\\n",
       "0          1803103      Aaliah Loureiro Brito            4                NaN   \n",
       "1          2014825               Aaron Glover            3                NaN   \n",
       "2          2014825               Aaron Glover            3                NaN   \n",
       "3          1841622  Aayush Sanjhawa Prajapati            4                NaN   \n",
       "4          1909589              Abbie Kermode            1                NaN   \n",
       "\n",
       "  TW8 rating TW8 notes TW11 rating  ...  Gender         Dob  \\\n",
       "0          4       NaN           4  ...  Female  19/05/2000   \n",
       "1          4       NaN           4  ...    Male  15/07/2000   \n",
       "2          4       NaN           4  ...    Male  02/09/2001   \n",
       "3          4       NaN           4  ...    Male  13/01/2001   \n",
       "4          1       NaN           1  ...  Female  10/01/2001   \n",
       "\n",
       "  Ethnicity (Student personal characteristics)  Nationality  \\\n",
       "0                Mixed - White & Black African   Portuguese   \n",
       "1                                        White  UK National   \n",
       "2                                        White  UK National   \n",
       "3                       Other Asian background     Nepalese   \n",
       "4                                        White  UK National   \n",
       "\n",
       "  Household income (Student personal characteristics)  \\\n",
       "0                                                Low    \n",
       "1                                                NaN    \n",
       "2                                                NaN    \n",
       "3                                                NaN    \n",
       "4                                                Mid    \n",
       "\n",
       "  Disability declared (Student personal characteristics)    Campus_y  \\\n",
       "0                                                NaN       Cambridge   \n",
       "1                                                NaN       Cambridge   \n",
       "2                                                NaN      Chelmsford   \n",
       "3                                                NaN      Chelmsford   \n",
       "4                                                NaN       Cambridge   \n",
       "\n",
       "                                           Job Title  \\\n",
       "0   School of Management at Anglia Ruskin University   \n",
       "1  School of Computing and Information Sciences a...   \n",
       "2  School of Economics Finance and Law at Anglia ...   \n",
       "3   School of Management at Anglia Ruskin University   \n",
       "4  Cambridge School of the Creative Industries at...   \n",
       "\n",
       "                                  Course Title_y Department_y  \n",
       "0     BSc (Hons) Business with Events Management           BL  \n",
       "1                   BEng (Hons) Computer Science           SE  \n",
       "2              BSc (Hons) Accounting and Finance           BL  \n",
       "3  BSc (Hons) Business Management and Leadership           BL  \n",
       "4                      BA (Hons) Performing Arts         AHSS  \n",
       "\n",
       "[5 rows x 22 columns]"
      ]
     },
     "execution_count": 6,
     "metadata": {},
     "output_type": "execute_result"
    }
   ],
   "source": [
    "#concatenate the two dataframes, mapping names to names \n",
    "df = pd.merge(students2021, demog, on=\"Compound name\", how = 'left')\n",
    "#make sure the dataframes merged correctly\n",
    "df.head()"
   ]
  },
  {
   "cell_type": "code",
   "execution_count": 7,
   "id": "9ef9500c",
   "metadata": {},
   "outputs": [
    {
     "data": {
      "text/html": [
       "<div>\n",
       "<style scoped>\n",
       "    .dataframe tbody tr th:only-of-type {\n",
       "        vertical-align: middle;\n",
       "    }\n",
       "\n",
       "    .dataframe tbody tr th {\n",
       "        vertical-align: top;\n",
       "    }\n",
       "\n",
       "    .dataframe thead th {\n",
       "        text-align: right;\n",
       "    }\n",
       "</style>\n",
       "<table border=\"1\" class=\"dataframe\">\n",
       "  <thead>\n",
       "    <tr style=\"text-align: right;\">\n",
       "      <th></th>\n",
       "      <th>Campus_x</th>\n",
       "      <th>Department_x</th>\n",
       "      <th>Course Title_x</th>\n",
       "      <th>Employee Number</th>\n",
       "      <th>Compound name</th>\n",
       "      <th>TW2 - rating</th>\n",
       "      <th>TW8 rating</th>\n",
       "      <th>TW11 rating</th>\n",
       "      <th>Overall rating</th>\n",
       "      <th>Gender</th>\n",
       "      <th>Dob</th>\n",
       "      <th>Ethnicity (Student personal characteristics)</th>\n",
       "      <th>Nationality</th>\n",
       "      <th>Household income (Student personal characteristics)</th>\n",
       "      <th>Disability declared (Student personal characteristics)</th>\n",
       "      <th>Job Title</th>\n",
       "    </tr>\n",
       "  </thead>\n",
       "  <tbody>\n",
       "    <tr>\n",
       "      <th>0</th>\n",
       "      <td>Cambridge</td>\n",
       "      <td>BL</td>\n",
       "      <td>BSc (Hons) Business with Events Management</td>\n",
       "      <td>1803103</td>\n",
       "      <td>Aaliah Loureiro Brito</td>\n",
       "      <td>4</td>\n",
       "      <td>4</td>\n",
       "      <td>4</td>\n",
       "      <td>4</td>\n",
       "      <td>Female</td>\n",
       "      <td>19/05/2000</td>\n",
       "      <td>Mixed - White &amp; Black African</td>\n",
       "      <td>Portuguese</td>\n",
       "      <td>Low</td>\n",
       "      <td>NaN</td>\n",
       "      <td>School of Management at Anglia Ruskin University</td>\n",
       "    </tr>\n",
       "    <tr>\n",
       "      <th>1</th>\n",
       "      <td>Chelmsford</td>\n",
       "      <td>BL</td>\n",
       "      <td>BSc (Hons) Accounting and Finance</td>\n",
       "      <td>2014825</td>\n",
       "      <td>Aaron Glover</td>\n",
       "      <td>3</td>\n",
       "      <td>4</td>\n",
       "      <td>4</td>\n",
       "      <td>4</td>\n",
       "      <td>Male</td>\n",
       "      <td>15/07/2000</td>\n",
       "      <td>White</td>\n",
       "      <td>UK National</td>\n",
       "      <td>NaN</td>\n",
       "      <td>NaN</td>\n",
       "      <td>School of Computing and Information Sciences a...</td>\n",
       "    </tr>\n",
       "    <tr>\n",
       "      <th>2</th>\n",
       "      <td>Chelmsford</td>\n",
       "      <td>BL</td>\n",
       "      <td>BSc (Hons) Accounting and Finance</td>\n",
       "      <td>2014825</td>\n",
       "      <td>Aaron Glover</td>\n",
       "      <td>3</td>\n",
       "      <td>4</td>\n",
       "      <td>4</td>\n",
       "      <td>4</td>\n",
       "      <td>Male</td>\n",
       "      <td>02/09/2001</td>\n",
       "      <td>White</td>\n",
       "      <td>UK National</td>\n",
       "      <td>NaN</td>\n",
       "      <td>NaN</td>\n",
       "      <td>School of Economics Finance and Law at Anglia ...</td>\n",
       "    </tr>\n",
       "    <tr>\n",
       "      <th>3</th>\n",
       "      <td>Chelmsford</td>\n",
       "      <td>BL</td>\n",
       "      <td>BSc (Hons) Business Management and Leadership</td>\n",
       "      <td>1841622</td>\n",
       "      <td>Aayush Sanjhawa Prajapati</td>\n",
       "      <td>4</td>\n",
       "      <td>4</td>\n",
       "      <td>4</td>\n",
       "      <td>4</td>\n",
       "      <td>Male</td>\n",
       "      <td>13/01/2001</td>\n",
       "      <td>Other Asian background</td>\n",
       "      <td>Nepalese</td>\n",
       "      <td>NaN</td>\n",
       "      <td>NaN</td>\n",
       "      <td>School of Management at Anglia Ruskin University</td>\n",
       "    </tr>\n",
       "    <tr>\n",
       "      <th>4</th>\n",
       "      <td>Cambridge</td>\n",
       "      <td>AHSS</td>\n",
       "      <td>BA (Hons) Performing Arts</td>\n",
       "      <td>1909589</td>\n",
       "      <td>Abbie Kermode</td>\n",
       "      <td>1</td>\n",
       "      <td>1</td>\n",
       "      <td>1</td>\n",
       "      <td>1</td>\n",
       "      <td>Female</td>\n",
       "      <td>10/01/2001</td>\n",
       "      <td>White</td>\n",
       "      <td>UK National</td>\n",
       "      <td>Mid</td>\n",
       "      <td>NaN</td>\n",
       "      <td>Cambridge School of the Creative Industries at...</td>\n",
       "    </tr>\n",
       "    <tr>\n",
       "      <th>...</th>\n",
       "      <td>...</td>\n",
       "      <td>...</td>\n",
       "      <td>...</td>\n",
       "      <td>...</td>\n",
       "      <td>...</td>\n",
       "      <td>...</td>\n",
       "      <td>...</td>\n",
       "      <td>...</td>\n",
       "      <td>...</td>\n",
       "      <td>...</td>\n",
       "      <td>...</td>\n",
       "      <td>...</td>\n",
       "      <td>...</td>\n",
       "      <td>...</td>\n",
       "      <td>...</td>\n",
       "      <td>...</td>\n",
       "    </tr>\n",
       "    <tr>\n",
       "      <th>590</th>\n",
       "      <td>Chelmsford</td>\n",
       "      <td>HEMS</td>\n",
       "      <td>BA (Hons) Primary Education Studies</td>\n",
       "      <td>1912820</td>\n",
       "      <td>Zahra Regan</td>\n",
       "      <td>1</td>\n",
       "      <td>4</td>\n",
       "      <td>2</td>\n",
       "      <td>3</td>\n",
       "      <td>Female</td>\n",
       "      <td>02/08/2000</td>\n",
       "      <td>White</td>\n",
       "      <td>UK National</td>\n",
       "      <td>NaN</td>\n",
       "      <td>NaN</td>\n",
       "      <td>School of Education and Social Care at Anglia ...</td>\n",
       "    </tr>\n",
       "    <tr>\n",
       "      <th>591</th>\n",
       "      <td>Cambridge</td>\n",
       "      <td>AHSS</td>\n",
       "      <td>BA (Hons) Sociology</td>\n",
       "      <td>2012425</td>\n",
       "      <td>Zainab Akhtar</td>\n",
       "      <td>4</td>\n",
       "      <td>4</td>\n",
       "      <td>4</td>\n",
       "      <td>4</td>\n",
       "      <td>Female</td>\n",
       "      <td>28/11/2000</td>\n",
       "      <td>Asian or Asian British - Bangladeshi</td>\n",
       "      <td>UK National</td>\n",
       "      <td>NaN</td>\n",
       "      <td>NaN</td>\n",
       "      <td>School of Humanities and Social Sciences at An...</td>\n",
       "    </tr>\n",
       "    <tr>\n",
       "      <th>592</th>\n",
       "      <td>Cambridge</td>\n",
       "      <td>HEMS</td>\n",
       "      <td>BSc (Hons) Midwifery</td>\n",
       "      <td>1900378</td>\n",
       "      <td>Zoe Evans</td>\n",
       "      <td>1</td>\n",
       "      <td>1</td>\n",
       "      <td>1</td>\n",
       "      <td>1</td>\n",
       "      <td>Female</td>\n",
       "      <td>24/06/1995</td>\n",
       "      <td>White</td>\n",
       "      <td>UK National</td>\n",
       "      <td>Low</td>\n",
       "      <td>NaN</td>\n",
       "      <td>School of Nursing and Midwifery - Cambridgeshi...</td>\n",
       "    </tr>\n",
       "    <tr>\n",
       "      <th>593</th>\n",
       "      <td>Chelmsford</td>\n",
       "      <td>HEMS</td>\n",
       "      <td>BSc (Hons) Paramedic Science</td>\n",
       "      <td>1900944</td>\n",
       "      <td>Zona Harold</td>\n",
       "      <td>1</td>\n",
       "      <td>2</td>\n",
       "      <td>2</td>\n",
       "      <td>2</td>\n",
       "      <td>Female</td>\n",
       "      <td>07/11/1998</td>\n",
       "      <td>White</td>\n",
       "      <td>UK National</td>\n",
       "      <td>Mid</td>\n",
       "      <td>NaN</td>\n",
       "      <td>School of Allied Health at Anglia Ruskin Unive...</td>\n",
       "    </tr>\n",
       "    <tr>\n",
       "      <th>594</th>\n",
       "      <td>Chelmsford</td>\n",
       "      <td>HEMS</td>\n",
       "      <td>MBChB Primary Medical Qualification</td>\n",
       "      <td>1900442</td>\n",
       "      <td>Zoya Arif</td>\n",
       "      <td>was a 4 now a 2</td>\n",
       "      <td>2</td>\n",
       "      <td>3</td>\n",
       "      <td>3</td>\n",
       "      <td>Female</td>\n",
       "      <td>06/09/1999</td>\n",
       "      <td>Asian or Asian British - Indian</td>\n",
       "      <td>UK National</td>\n",
       "      <td>NaN</td>\n",
       "      <td>NaN</td>\n",
       "      <td>School of Medicine</td>\n",
       "    </tr>\n",
       "  </tbody>\n",
       "</table>\n",
       "<p>595 rows × 16 columns</p>\n",
       "</div>"
      ],
      "text/plain": [
       "       Campus_x Department_x                                 Course Title_x  \\\n",
       "0     Cambridge           BL     BSc (Hons) Business with Events Management   \n",
       "1    Chelmsford           BL              BSc (Hons) Accounting and Finance   \n",
       "2    Chelmsford           BL              BSc (Hons) Accounting and Finance   \n",
       "3    Chelmsford           BL  BSc (Hons) Business Management and Leadership   \n",
       "4     Cambridge         AHSS                      BA (Hons) Performing Arts   \n",
       "..          ...          ...                                            ...   \n",
       "590  Chelmsford         HEMS            BA (Hons) Primary Education Studies   \n",
       "591   Cambridge         AHSS                            BA (Hons) Sociology   \n",
       "592   Cambridge         HEMS                           BSc (Hons) Midwifery   \n",
       "593  Chelmsford         HEMS                   BSc (Hons) Paramedic Science   \n",
       "594  Chelmsford         HEMS            MBChB Primary Medical Qualification   \n",
       "\n",
       "     Employee Number              Compound name     TW2 - rating TW8 rating  \\\n",
       "0            1803103      Aaliah Loureiro Brito                4          4   \n",
       "1            2014825               Aaron Glover                3          4   \n",
       "2            2014825               Aaron Glover                3          4   \n",
       "3            1841622  Aayush Sanjhawa Prajapati                4          4   \n",
       "4            1909589              Abbie Kermode                1          1   \n",
       "..               ...                        ...              ...        ...   \n",
       "590          1912820                Zahra Regan                1          4   \n",
       "591          2012425              Zainab Akhtar                4          4   \n",
       "592          1900378                  Zoe Evans                1          1   \n",
       "593          1900944                Zona Harold                1          2   \n",
       "594          1900442                  Zoya Arif  was a 4 now a 2          2   \n",
       "\n",
       "    TW11 rating Overall rating  Gender         Dob  \\\n",
       "0             4              4  Female  19/05/2000   \n",
       "1             4              4    Male  15/07/2000   \n",
       "2             4              4    Male  02/09/2001   \n",
       "3             4              4    Male  13/01/2001   \n",
       "4             1              1  Female  10/01/2001   \n",
       "..          ...            ...     ...         ...   \n",
       "590           2              3  Female  02/08/2000   \n",
       "591           4              4  Female  28/11/2000   \n",
       "592           1              1  Female  24/06/1995   \n",
       "593           2              2  Female  07/11/1998   \n",
       "594           3              3  Female  06/09/1999   \n",
       "\n",
       "    Ethnicity (Student personal characteristics)  Nationality  \\\n",
       "0                  Mixed - White & Black African   Portuguese   \n",
       "1                                          White  UK National   \n",
       "2                                          White  UK National   \n",
       "3                         Other Asian background     Nepalese   \n",
       "4                                          White  UK National   \n",
       "..                                           ...          ...   \n",
       "590                                        White  UK National   \n",
       "591         Asian or Asian British - Bangladeshi  UK National   \n",
       "592                                        White  UK National   \n",
       "593                                        White  UK National   \n",
       "594              Asian or Asian British - Indian  UK National   \n",
       "\n",
       "    Household income (Student personal characteristics)  \\\n",
       "0                                                  Low    \n",
       "1                                                  NaN    \n",
       "2                                                  NaN    \n",
       "3                                                  NaN    \n",
       "4                                                  Mid    \n",
       "..                                                 ...    \n",
       "590                                                NaN    \n",
       "591                                                NaN    \n",
       "592                                                Low    \n",
       "593                                                Mid    \n",
       "594                                                NaN    \n",
       "\n",
       "    Disability declared (Student personal characteristics)  \\\n",
       "0                                                  NaN       \n",
       "1                                                  NaN       \n",
       "2                                                  NaN       \n",
       "3                                                  NaN       \n",
       "4                                                  NaN       \n",
       "..                                                 ...       \n",
       "590                                                NaN       \n",
       "591                                                NaN       \n",
       "592                                                NaN       \n",
       "593                                                NaN       \n",
       "594                                                NaN       \n",
       "\n",
       "                                             Job Title  \n",
       "0     School of Management at Anglia Ruskin University  \n",
       "1    School of Computing and Information Sciences a...  \n",
       "2    School of Economics Finance and Law at Anglia ...  \n",
       "3     School of Management at Anglia Ruskin University  \n",
       "4    Cambridge School of the Creative Industries at...  \n",
       "..                                                 ...  \n",
       "590  School of Education and Social Care at Anglia ...  \n",
       "591  School of Humanities and Social Sciences at An...  \n",
       "592  School of Nursing and Midwifery - Cambridgeshi...  \n",
       "593  School of Allied Health at Anglia Ruskin Unive...  \n",
       "594                                 School of Medicine  \n",
       "\n",
       "[595 rows x 16 columns]"
      ]
     },
     "execution_count": 7,
     "metadata": {},
     "output_type": "execute_result"
    }
   ],
   "source": [
    "#clean data\n",
    "#df = df.set_index('Employee Number')\n",
    "\n",
    "#drop columns\n",
    "clean_df = df.drop(['TW2 check in notes', 'TW8 notes','Campus_y', 'Unnamed: 10', 'Department_y', \n",
    "                    'Course Title_y'], axis = 1)\n",
    "clean_df"
   ]
  },
  {
   "cell_type": "code",
   "execution_count": 8,
   "id": "2cf54382",
   "metadata": {},
   "outputs": [],
   "source": [
    "#rename columns\n",
    "clean_df = clean_df.rename(columns={clean_df.columns[0]:'campus', clean_df.columns[1]:'department', \n",
    "                                    clean_df.columns[2]:'course', clean_df.columns[3]:'id', \n",
    "                                    clean_df.columns[4]:'name', clean_df.columns[5]:'tw2', clean_df.columns[6]:'tw8', \n",
    "                                    clean_df.columns[7]:'tw11', clean_df.columns[8]:'overall', clean_df.columns[9]:'gender', \n",
    "                                    clean_df.columns[10]:'dob', clean_df.columns[11]:'ethnicity', clean_df.columns[12]:'nationality', clean_df.columns[13]:'household_income', clean_df.columns[14]:'disab', clean_df.columns[15]:'school'})"
   ]
  },
  {
   "cell_type": "code",
   "execution_count": 9,
   "id": "f7cf4bc1",
   "metadata": {},
   "outputs": [],
   "source": [
    "duplicateRows = clean_df[clean_df.duplicated(['name'])]\n",
    "clean_df = clean_df.drop(500)"
   ]
  },
  {
   "cell_type": "code",
   "execution_count": 10,
   "id": "0e7f8f50",
   "metadata": {},
   "outputs": [],
   "source": [
    "clean_df = clean_df.drop(345)"
   ]
  },
  {
   "cell_type": "code",
   "execution_count": 11,
   "id": "c51fa701",
   "metadata": {},
   "outputs": [],
   "source": [
    "clean_df = clean_df.drop(2)"
   ]
  },
  {
   "cell_type": "code",
   "execution_count": 12,
   "id": "48d55b5f",
   "metadata": {},
   "outputs": [
    {
     "data": {
      "text/html": [
       "<div>\n",
       "<style scoped>\n",
       "    .dataframe tbody tr th:only-of-type {\n",
       "        vertical-align: middle;\n",
       "    }\n",
       "\n",
       "    .dataframe tbody tr th {\n",
       "        vertical-align: top;\n",
       "    }\n",
       "\n",
       "    .dataframe thead th {\n",
       "        text-align: right;\n",
       "    }\n",
       "</style>\n",
       "<table border=\"1\" class=\"dataframe\">\n",
       "  <thead>\n",
       "    <tr style=\"text-align: right;\">\n",
       "      <th></th>\n",
       "      <th>campus</th>\n",
       "      <th>department</th>\n",
       "      <th>course</th>\n",
       "      <th>id</th>\n",
       "      <th>name</th>\n",
       "      <th>tw2</th>\n",
       "      <th>tw8</th>\n",
       "      <th>tw11</th>\n",
       "      <th>overall</th>\n",
       "      <th>gender</th>\n",
       "      <th>dob</th>\n",
       "      <th>ethnicity</th>\n",
       "      <th>nationality</th>\n",
       "      <th>household_income</th>\n",
       "      <th>disab</th>\n",
       "      <th>school</th>\n",
       "    </tr>\n",
       "  </thead>\n",
       "  <tbody>\n",
       "    <tr>\n",
       "      <th>0</th>\n",
       "      <td>Cambridge</td>\n",
       "      <td>BL</td>\n",
       "      <td>BSc (Hons) Business with Events Management</td>\n",
       "      <td>1803103</td>\n",
       "      <td>Aaliah Loureiro Brito</td>\n",
       "      <td>4</td>\n",
       "      <td>4</td>\n",
       "      <td>4</td>\n",
       "      <td>4</td>\n",
       "      <td>Female</td>\n",
       "      <td>19/05/2000</td>\n",
       "      <td>Mixed - White &amp; Black African</td>\n",
       "      <td>Portuguese</td>\n",
       "      <td>Low</td>\n",
       "      <td>NaN</td>\n",
       "      <td>School of Management at Anglia Ruskin University</td>\n",
       "    </tr>\n",
       "    <tr>\n",
       "      <th>1</th>\n",
       "      <td>Chelmsford</td>\n",
       "      <td>BL</td>\n",
       "      <td>BSc (Hons) Accounting and Finance</td>\n",
       "      <td>2014825</td>\n",
       "      <td>Aaron Glover</td>\n",
       "      <td>3</td>\n",
       "      <td>4</td>\n",
       "      <td>4</td>\n",
       "      <td>4</td>\n",
       "      <td>Male</td>\n",
       "      <td>15/07/2000</td>\n",
       "      <td>White</td>\n",
       "      <td>UK National</td>\n",
       "      <td>NaN</td>\n",
       "      <td>NaN</td>\n",
       "      <td>School of Computing and Information Sciences a...</td>\n",
       "    </tr>\n",
       "    <tr>\n",
       "      <th>3</th>\n",
       "      <td>Chelmsford</td>\n",
       "      <td>BL</td>\n",
       "      <td>BSc (Hons) Business Management and Leadership</td>\n",
       "      <td>1841622</td>\n",
       "      <td>Aayush Sanjhawa Prajapati</td>\n",
       "      <td>4</td>\n",
       "      <td>4</td>\n",
       "      <td>4</td>\n",
       "      <td>4</td>\n",
       "      <td>Male</td>\n",
       "      <td>13/01/2001</td>\n",
       "      <td>Other Asian background</td>\n",
       "      <td>Nepalese</td>\n",
       "      <td>NaN</td>\n",
       "      <td>NaN</td>\n",
       "      <td>School of Management at Anglia Ruskin University</td>\n",
       "    </tr>\n",
       "    <tr>\n",
       "      <th>4</th>\n",
       "      <td>Cambridge</td>\n",
       "      <td>AHSS</td>\n",
       "      <td>BA (Hons) Performing Arts</td>\n",
       "      <td>1909589</td>\n",
       "      <td>Abbie Kermode</td>\n",
       "      <td>1</td>\n",
       "      <td>1</td>\n",
       "      <td>1</td>\n",
       "      <td>1</td>\n",
       "      <td>Female</td>\n",
       "      <td>10/01/2001</td>\n",
       "      <td>White</td>\n",
       "      <td>UK National</td>\n",
       "      <td>Mid</td>\n",
       "      <td>NaN</td>\n",
       "      <td>Cambridge School of the Creative Industries at...</td>\n",
       "    </tr>\n",
       "    <tr>\n",
       "      <th>5</th>\n",
       "      <td>Peterborough</td>\n",
       "      <td>HEMS</td>\n",
       "      <td>BA (Hons) Primary Education Studies</td>\n",
       "      <td>2010362</td>\n",
       "      <td>Abby Paxton</td>\n",
       "      <td>1</td>\n",
       "      <td>2</td>\n",
       "      <td>1</td>\n",
       "      <td>2</td>\n",
       "      <td>Female</td>\n",
       "      <td>27/11/2000</td>\n",
       "      <td>White</td>\n",
       "      <td>UK National</td>\n",
       "      <td>Low</td>\n",
       "      <td>Yes</td>\n",
       "      <td>School of Education and Social Care at Anglia ...</td>\n",
       "    </tr>\n",
       "  </tbody>\n",
       "</table>\n",
       "</div>"
      ],
      "text/plain": [
       "         campus department                                         course  \\\n",
       "0     Cambridge         BL     BSc (Hons) Business with Events Management   \n",
       "1    Chelmsford         BL              BSc (Hons) Accounting and Finance   \n",
       "3    Chelmsford         BL  BSc (Hons) Business Management and Leadership   \n",
       "4     Cambridge       AHSS                      BA (Hons) Performing Arts   \n",
       "5  Peterborough       HEMS            BA (Hons) Primary Education Studies   \n",
       "\n",
       "        id                       name tw2 tw8 tw11 overall  gender  \\\n",
       "0  1803103      Aaliah Loureiro Brito   4   4    4       4  Female   \n",
       "1  2014825               Aaron Glover   3   4    4       4    Male   \n",
       "3  1841622  Aayush Sanjhawa Prajapati   4   4    4       4    Male   \n",
       "4  1909589              Abbie Kermode   1   1    1       1  Female   \n",
       "5  2010362                Abby Paxton   1   2    1       2  Female   \n",
       "\n",
       "          dob                      ethnicity  nationality household_income  \\\n",
       "0  19/05/2000  Mixed - White & Black African   Portuguese              Low   \n",
       "1  15/07/2000                          White  UK National              NaN   \n",
       "3  13/01/2001         Other Asian background     Nepalese              NaN   \n",
       "4  10/01/2001                          White  UK National              Mid   \n",
       "5  27/11/2000                          White  UK National              Low   \n",
       "\n",
       "  disab                                             school  \n",
       "0   NaN   School of Management at Anglia Ruskin University  \n",
       "1   NaN  School of Computing and Information Sciences a...  \n",
       "3   NaN   School of Management at Anglia Ruskin University  \n",
       "4   NaN  Cambridge School of the Creative Industries at...  \n",
       "5   Yes  School of Education and Social Care at Anglia ...  "
      ]
     },
     "execution_count": 12,
     "metadata": {},
     "output_type": "execute_result"
    }
   ],
   "source": [
    "clean_df.head()"
   ]
  },
  {
   "cell_type": "code",
   "execution_count": 13,
   "id": "21150fc0",
   "metadata": {},
   "outputs": [
    {
     "data": {
      "text/html": [
       "<div>\n",
       "<style scoped>\n",
       "    .dataframe tbody tr th:only-of-type {\n",
       "        vertical-align: middle;\n",
       "    }\n",
       "\n",
       "    .dataframe tbody tr th {\n",
       "        vertical-align: top;\n",
       "    }\n",
       "\n",
       "    .dataframe thead th {\n",
       "        text-align: right;\n",
       "    }\n",
       "</style>\n",
       "<table border=\"1\" class=\"dataframe\">\n",
       "  <thead>\n",
       "    <tr style=\"text-align: right;\">\n",
       "      <th></th>\n",
       "      <th>name</th>\n",
       "      <th>gender</th>\n",
       "      <th>campus</th>\n",
       "      <th>action</th>\n",
       "    </tr>\n",
       "  </thead>\n",
       "  <tbody>\n",
       "    <tr>\n",
       "      <th>0</th>\n",
       "      <td>Adam Williams</td>\n",
       "      <td>Male</td>\n",
       "      <td>Cambridge</td>\n",
       "      <td>06/12/2021 01:06 PM Elly Page: \\nTW11 chat spa...</td>\n",
       "    </tr>\n",
       "    <tr>\n",
       "      <th>1</th>\n",
       "      <td>Aliyah Jawad</td>\n",
       "      <td>Female</td>\n",
       "      <td>Cambridge</td>\n",
       "      <td>06/12/2021 01:38 PM Elly Page: \\nTW11 chat spa...</td>\n",
       "    </tr>\n",
       "    <tr>\n",
       "      <th>2</th>\n",
       "      <td>Jack Beedle</td>\n",
       "      <td>Male</td>\n",
       "      <td>Cambridge</td>\n",
       "      <td>07/12/2021 12:44 PM Elly Page: \\nTW11 chat spa...</td>\n",
       "    </tr>\n",
       "    <tr>\n",
       "      <th>3</th>\n",
       "      <td>Harper Harper</td>\n",
       "      <td>Female</td>\n",
       "      <td>Cambridge</td>\n",
       "      <td>07/12/2021 11:47 AM Elly Page: \\nTW11 chat spa...</td>\n",
       "    </tr>\n",
       "    <tr>\n",
       "      <th>4</th>\n",
       "      <td>Esme Powell</td>\n",
       "      <td>Female</td>\n",
       "      <td>Cambridge</td>\n",
       "      <td>07/12/2021 11:19 AM Elly Page: \\nTW11 chat spa...</td>\n",
       "    </tr>\n",
       "    <tr>\n",
       "      <th>...</th>\n",
       "      <td>...</td>\n",
       "      <td>...</td>\n",
       "      <td>...</td>\n",
       "      <td>...</td>\n",
       "    </tr>\n",
       "    <tr>\n",
       "      <th>685</th>\n",
       "      <td>Emmanuel Udekwe</td>\n",
       "      <td>Male</td>\n",
       "      <td>Cambridge</td>\n",
       "      <td>05/10/2021 02:33 PM Nicki Sinclair: \\nOpened i...</td>\n",
       "    </tr>\n",
       "    <tr>\n",
       "      <th>686</th>\n",
       "      <td>Megan Rees</td>\n",
       "      <td>Female</td>\n",
       "      <td>Cambridge</td>\n",
       "      <td>07/12/2021 12:00 PM Nicki Sinclair: \\nTW12 cha...</td>\n",
       "    </tr>\n",
       "    <tr>\n",
       "      <th>687</th>\n",
       "      <td>Steliana Guta</td>\n",
       "      <td>Female</td>\n",
       "      <td>Cambridge</td>\n",
       "      <td>06/12/2021 02:52 PM Nicki Sinclair: \\nTW12 cha...</td>\n",
       "    </tr>\n",
       "    <tr>\n",
       "      <th>688</th>\n",
       "      <td>Vipin Kumar .</td>\n",
       "      <td>Male</td>\n",
       "      <td>Cambridge</td>\n",
       "      <td>06/12/2021 02:07 PM Nicki Sinclair: \\nTW12 cha...</td>\n",
       "    </tr>\n",
       "    <tr>\n",
       "      <th>766</th>\n",
       "      <td>Summaiya Syed</td>\n",
       "      <td>Female</td>\n",
       "      <td>Cambridge</td>\n",
       "      <td>05/04/2022 11:19 AM Rachel Wright: \\nReally so...</td>\n",
       "    </tr>\n",
       "  </tbody>\n",
       "</table>\n",
       "<p>672 rows × 4 columns</p>\n",
       "</div>"
      ],
      "text/plain": [
       "                name  gender     campus  \\\n",
       "0      Adam Williams    Male  Cambridge   \n",
       "1       Aliyah Jawad  Female  Cambridge   \n",
       "2        Jack Beedle    Male  Cambridge   \n",
       "3      Harper Harper  Female  Cambridge   \n",
       "4        Esme Powell  Female  Cambridge   \n",
       "..               ...     ...        ...   \n",
       "685  Emmanuel Udekwe    Male  Cambridge   \n",
       "686       Megan Rees  Female  Cambridge   \n",
       "687    Steliana Guta  Female  Cambridge   \n",
       "688    Vipin Kumar .    Male  Cambridge   \n",
       "766    Summaiya Syed  Female  Cambridge   \n",
       "\n",
       "                                                action  \n",
       "0    06/12/2021 01:06 PM Elly Page: \\nTW11 chat spa...  \n",
       "1    06/12/2021 01:38 PM Elly Page: \\nTW11 chat spa...  \n",
       "2    07/12/2021 12:44 PM Elly Page: \\nTW11 chat spa...  \n",
       "3    07/12/2021 11:47 AM Elly Page: \\nTW11 chat spa...  \n",
       "4    07/12/2021 11:19 AM Elly Page: \\nTW11 chat spa...  \n",
       "..                                                 ...  \n",
       "685  05/10/2021 02:33 PM Nicki Sinclair: \\nOpened i...  \n",
       "686  07/12/2021 12:00 PM Nicki Sinclair: \\nTW12 cha...  \n",
       "687  06/12/2021 02:52 PM Nicki Sinclair: \\nTW12 cha...  \n",
       "688  06/12/2021 02:07 PM Nicki Sinclair: \\nTW12 cha...  \n",
       "766  05/04/2022 11:19 AM Rachel Wright: \\nReally so...  \n",
       "\n",
       "[672 rows x 4 columns]"
      ]
     },
     "execution_count": 13,
     "metadata": {},
     "output_type": "execute_result"
    }
   ],
   "source": [
    "#import chat data\n",
    "chat = pd.read_excel('/Users/symphony/Downloads/wb_calls.xlsx')\n",
    "#clean chat dataframe\n",
    "#rename columns\n",
    "chat_df = chat.rename(columns={chat.columns[0]:'name', chat.columns[1]:'gender', \n",
    "                                    chat.columns[2]:'campus', chat.columns[-1]: 'action'})\n",
    "chat_df = chat_df.drop_duplicates(subset='name')\n",
    "chat_df"
   ]
  },
  {
   "cell_type": "code",
   "execution_count": 14,
   "id": "f45006ae",
   "metadata": {},
   "outputs": [
    {
     "data": {
      "text/html": [
       "<div>\n",
       "<style scoped>\n",
       "    .dataframe tbody tr th:only-of-type {\n",
       "        vertical-align: middle;\n",
       "    }\n",
       "\n",
       "    .dataframe tbody tr th {\n",
       "        vertical-align: top;\n",
       "    }\n",
       "\n",
       "    .dataframe thead th {\n",
       "        text-align: right;\n",
       "    }\n",
       "</style>\n",
       "<table border=\"1\" class=\"dataframe\">\n",
       "  <thead>\n",
       "    <tr style=\"text-align: right;\">\n",
       "      <th></th>\n",
       "      <th>campus</th>\n",
       "      <th>department</th>\n",
       "      <th>course</th>\n",
       "      <th>id</th>\n",
       "      <th>name</th>\n",
       "      <th>tw2</th>\n",
       "      <th>tw8</th>\n",
       "      <th>tw11</th>\n",
       "      <th>overall</th>\n",
       "      <th>gender</th>\n",
       "      <th>dob</th>\n",
       "      <th>ethnicity</th>\n",
       "      <th>nationality</th>\n",
       "      <th>household_income</th>\n",
       "      <th>disab</th>\n",
       "      <th>school</th>\n",
       "      <th>action</th>\n",
       "    </tr>\n",
       "  </thead>\n",
       "  <tbody>\n",
       "    <tr>\n",
       "      <th>0</th>\n",
       "      <td>Cambridge</td>\n",
       "      <td>BL</td>\n",
       "      <td>BSc (Hons) Business with Events Management</td>\n",
       "      <td>1803103</td>\n",
       "      <td>Aaliah Loureiro Brito</td>\n",
       "      <td>4</td>\n",
       "      <td>4</td>\n",
       "      <td>4</td>\n",
       "      <td>4</td>\n",
       "      <td>Female</td>\n",
       "      <td>19/05/2000</td>\n",
       "      <td>Mixed - White &amp; Black African</td>\n",
       "      <td>Portuguese</td>\n",
       "      <td>Low</td>\n",
       "      <td>NaN</td>\n",
       "      <td>School of Management at Anglia Ruskin University</td>\n",
       "      <td>06/12/2021 11:43 AM Elly Page: \\nTW11 chat spa...</td>\n",
       "    </tr>\n",
       "    <tr>\n",
       "      <th>1</th>\n",
       "      <td>Chelmsford</td>\n",
       "      <td>BL</td>\n",
       "      <td>BSc (Hons) Accounting and Finance</td>\n",
       "      <td>2014825</td>\n",
       "      <td>Aaron Glover</td>\n",
       "      <td>3</td>\n",
       "      <td>4</td>\n",
       "      <td>4</td>\n",
       "      <td>4</td>\n",
       "      <td>Male</td>\n",
       "      <td>15/07/2000</td>\n",
       "      <td>White</td>\n",
       "      <td>UK National</td>\n",
       "      <td>NaN</td>\n",
       "      <td>NaN</td>\n",
       "      <td>School of Computing and Information Sciences a...</td>\n",
       "      <td>02/09/2021 12:31 PM Nicki Sinclair: \\nThis see...</td>\n",
       "    </tr>\n",
       "    <tr>\n",
       "      <th>2</th>\n",
       "      <td>Chelmsford</td>\n",
       "      <td>BL</td>\n",
       "      <td>BSc (Hons) Business Management and Leadership</td>\n",
       "      <td>1841622</td>\n",
       "      <td>Aayush Sanjhawa Prajapati</td>\n",
       "      <td>4</td>\n",
       "      <td>4</td>\n",
       "      <td>4</td>\n",
       "      <td>4</td>\n",
       "      <td>Male</td>\n",
       "      <td>13/01/2001</td>\n",
       "      <td>Other Asian background</td>\n",
       "      <td>Nepalese</td>\n",
       "      <td>NaN</td>\n",
       "      <td>NaN</td>\n",
       "      <td>School of Management at Anglia Ruskin University</td>\n",
       "      <td>06/12/2021 11:45 AM Elly Page: \\nTW11 Chat spa...</td>\n",
       "    </tr>\n",
       "    <tr>\n",
       "      <th>3</th>\n",
       "      <td>Cambridge</td>\n",
       "      <td>AHSS</td>\n",
       "      <td>BA (Hons) Performing Arts</td>\n",
       "      <td>1909589</td>\n",
       "      <td>Abbie Kermode</td>\n",
       "      <td>1</td>\n",
       "      <td>1</td>\n",
       "      <td>1</td>\n",
       "      <td>1</td>\n",
       "      <td>Female</td>\n",
       "      <td>10/01/2001</td>\n",
       "      <td>White</td>\n",
       "      <td>UK National</td>\n",
       "      <td>Mid</td>\n",
       "      <td>NaN</td>\n",
       "      <td>Cambridge School of the Creative Industries at...</td>\n",
       "      <td>06/12/2021 11:46 AM Elly Page: \\nTW11 chat spa...</td>\n",
       "    </tr>\n",
       "    <tr>\n",
       "      <th>4</th>\n",
       "      <td>Peterborough</td>\n",
       "      <td>HEMS</td>\n",
       "      <td>BA (Hons) Primary Education Studies</td>\n",
       "      <td>2010362</td>\n",
       "      <td>Abby Paxton</td>\n",
       "      <td>1</td>\n",
       "      <td>2</td>\n",
       "      <td>1</td>\n",
       "      <td>2</td>\n",
       "      <td>Female</td>\n",
       "      <td>27/11/2000</td>\n",
       "      <td>White</td>\n",
       "      <td>UK National</td>\n",
       "      <td>Low</td>\n",
       "      <td>Yes</td>\n",
       "      <td>School of Education and Social Care at Anglia ...</td>\n",
       "      <td>06/12/2021 11:50 AM Elly Page: \\nTW11 chat spa...</td>\n",
       "    </tr>\n",
       "  </tbody>\n",
       "</table>\n",
       "</div>"
      ],
      "text/plain": [
       "         campus department                                         course  \\\n",
       "0     Cambridge         BL     BSc (Hons) Business with Events Management   \n",
       "1    Chelmsford         BL              BSc (Hons) Accounting and Finance   \n",
       "2    Chelmsford         BL  BSc (Hons) Business Management and Leadership   \n",
       "3     Cambridge       AHSS                      BA (Hons) Performing Arts   \n",
       "4  Peterborough       HEMS            BA (Hons) Primary Education Studies   \n",
       "\n",
       "        id                       name tw2 tw8 tw11 overall  gender  \\\n",
       "0  1803103      Aaliah Loureiro Brito   4   4    4       4  Female   \n",
       "1  2014825               Aaron Glover   3   4    4       4    Male   \n",
       "2  1841622  Aayush Sanjhawa Prajapati   4   4    4       4    Male   \n",
       "3  1909589              Abbie Kermode   1   1    1       1  Female   \n",
       "4  2010362                Abby Paxton   1   2    1       2  Female   \n",
       "\n",
       "          dob                      ethnicity  nationality household_income  \\\n",
       "0  19/05/2000  Mixed - White & Black African   Portuguese              Low   \n",
       "1  15/07/2000                          White  UK National              NaN   \n",
       "2  13/01/2001         Other Asian background     Nepalese              NaN   \n",
       "3  10/01/2001                          White  UK National              Mid   \n",
       "4  27/11/2000                          White  UK National              Low   \n",
       "\n",
       "  disab                                             school  \\\n",
       "0   NaN   School of Management at Anglia Ruskin University   \n",
       "1   NaN  School of Computing and Information Sciences a...   \n",
       "2   NaN   School of Management at Anglia Ruskin University   \n",
       "3   NaN  Cambridge School of the Creative Industries at...   \n",
       "4   Yes  School of Education and Social Care at Anglia ...   \n",
       "\n",
       "                                              action  \n",
       "0  06/12/2021 11:43 AM Elly Page: \\nTW11 chat spa...  \n",
       "1  02/09/2021 12:31 PM Nicki Sinclair: \\nThis see...  \n",
       "2  06/12/2021 11:45 AM Elly Page: \\nTW11 Chat spa...  \n",
       "3  06/12/2021 11:46 AM Elly Page: \\nTW11 chat spa...  \n",
       "4  06/12/2021 11:50 AM Elly Page: \\nTW11 chat spa...  "
      ]
     },
     "execution_count": 14,
     "metadata": {},
     "output_type": "execute_result"
    }
   ],
   "source": [
    "#new complete dataframe with all available data for each WB\n",
    "df1 = pd.merge(clean_df, chat_df, on ='name')\n",
    "#drop redundant columns & rename columns\n",
    "df1 = df1.drop(['gender_y', 'campus_y'], axis = 1)\n",
    "df1 = df1.rename(columns={df1.columns[0]:'campus', df1.columns[9]:'gender'})\n",
    "df1.head()"
   ]
  },
  {
   "cell_type": "code",
   "execution_count": 15,
   "id": "611466f6",
   "metadata": {},
   "outputs": [],
   "source": [
    "df1.drop(df1.loc[df1['name']=='Aaron Glover'].index, inplace=True)"
   ]
  },
  {
   "cell_type": "code",
   "execution_count": 16,
   "id": "32b240e3",
   "metadata": {},
   "outputs": [],
   "source": [
    "df1.index = range(len(df1))"
   ]
  },
  {
   "cell_type": "code",
   "execution_count": 17,
   "id": "ce4002ca",
   "metadata": {},
   "outputs": [
    {
     "data": {
      "text/plain": [
       "\"06/12/2021 11:43 AM Elly Page: \\nTW11 chat space check in. Buddy posted another message but has only checked in twice with little said\\nBuddy rating: 4\\xa0\\n\\n06/12/2021 10:37 AM Rachel Wright: \\nAs this trimester draws to a close, unfortunately that means that the Welcome Buddy scheme is also ending. So to the Welcome Buddy, thank you for your work this term.\\n \\nTo everyone in the chat, we hope that the scheme has been valuable in helping you settle in to life at ARU, but however you feel about it, we would love to hear your feedback so that we can continually improve it going forward.\\n \\nYou can either complete this anonymously or provide your details and be entered into a prize draw to win a £40 Amazon voucher. It should take no more than 10 minutes and you can complete it here. The deadline for completing the survey is midnight on Sunday 12th December and the winner of the Amazon voucher will be notified on their ARU student email on Monday 13th December: https://angliaruskin.onlinesurveys.ac.uk/welcome-buddy-evaluation-september2021-new-students\\n  \\nWe would also love you to sign up to be a Welcome Buddy yourself in September 2022 – as someone who has had a buddy recently, you know what is needed to be a great buddy and to support new students through their transition to ARU. You can sign up on the link below and you will be invited to a training session in the new year: https://angliaruskin.onlinesurveys.ac.uk/welcome-buddy-sign-up-september-2022\\n \\nFinally, our team will now close this chat space. Although the Welcome Buddy scheme has now ended, there is still plenty of support available to you at ARU. We would encourage you to speak to the iCentre, our one stop shop for help, information and advice, for any queries you have going forward: https://myaru.sharepoint.com/sites/student-help-support/SitePages/icentre.aspx\\n \\nIf you have any further questions or would like to speak to a member of the Welcome Buddy team, you can contact us on welcomebuddy@aru.ac.uk. Please do NOT reply in this chat space as we will not receive your message.\\n \\nBest wishes,\\nThe Welcome Buddy Team\\n\\nE: welcomebuddy@aru.ac.uk  \\nW: arul.ink/welcomebuddy\\n\\n22/11/2021 01:15 PM Aaliah Loureiro Brito: \\nHey guys, just wanted to send a last quick little message to remind you that I am still here should you require any assistance! Look forward to hearing back :)\\n\\n08/11/2021 01:36 PM Elly Page: \\nTW8 chat space check in. Buddy still hasn't posted a message.\\nHave messaged the buddy directly on:\\xa0E2111-01866\\nBuddy rating: 4\\xa0\\n\\n11/10/2021 12:17 PM Sara Hoxhaj: \\nBuddy has not yet written another message for the new students, follow up email sent directly on\\xa0E2110-04436\\n\\n27/09/2021 12:41 PM Sara Hoxhaj: \\nTW2 Chat space check-in - only reached out once, no video call offered\\xa0\\nHave messaged the buddy directly on\\xa0E2109-15784\\nBuddy Rating: \\xa04\\n\\n03/09/2021 11:31 AM Aaliah Loureiro Brito: \\nHey everyone! I’m Aaliah and I’ll be your welcome buddy this year. I’m here to answer any questions that you may have and to help you have a smoother transition so please feel free to speak to me :)\\n\\n02/09/2021 12:36 PM Sara Hoxhaj: \\nHi everyone, we hope you find this chat space useful. So that you know who you are chatting to, here is the full list of people in this conversation:\\n\\nBuddy = Aaliah,\\xa0Business with Events Management\\n\\nNew students =\\nJosh,\\xa0Business with Events Management\\nKacey,\\xa0Business with Events Management\\nLiberty,\\xa0Business with Events Management\\nMaria,\\xa0Business with Events Management\\nSophie,\\xa0Business with Events Management\\nZara,\\xa0Business with Events Management\\n\\n26/08/2021 02:54 PM Nicki Sinclair: \\nBuddy = Aaliah,\\xa0Business with Events Management\\n\\nNew students =\\nJosh,\\xa0Business with Events Management\\nKacey,\\xa0Business with Events Management\\nLiberty,\\xa0Business with Events Management\\nMaria,\\xa0Business with Events Management\\nSophie,\\xa0Business with Events Management\\nZara,\\xa0Business with Events Management\""
      ]
     },
     "execution_count": 17,
     "metadata": {},
     "output_type": "execute_result"
    }
   ],
   "source": [
    "df1 = df1.rename(columns={df1.columns[-1]:'text'})\n",
    "df1['text'][0]"
   ]
  },
  {
   "cell_type": "code",
   "execution_count": 18,
   "id": "d1c284da",
   "metadata": {},
   "outputs": [],
   "source": [
    "#text = df1['action'][0]\n",
    "#name = df1['name'][0]\n",
    "#findall('{}: \\n(.+?)\\n'.format(df1['name'][0]), df1['action'][0])"
   ]
  },
  {
   "cell_type": "code",
   "execution_count": 19,
   "id": "5b6164de",
   "metadata": {},
   "outputs": [
    {
     "data": {
      "text/plain": [
       "581"
      ]
     },
     "execution_count": 19,
     "metadata": {},
     "output_type": "execute_result"
    }
   ],
   "source": [
    "len(df1)"
   ]
  },
  {
   "cell_type": "code",
   "execution_count": 20,
   "id": "3011966d",
   "metadata": {},
   "outputs": [
    {
     "data": {
      "text/plain": [
       "581"
      ]
     },
     "execution_count": 20,
     "metadata": {},
     "output_type": "execute_result"
    }
   ],
   "source": [
    "len(df1['text'])"
   ]
  },
  {
   "cell_type": "code",
   "execution_count": 21,
   "id": "bab897ba",
   "metadata": {},
   "outputs": [
    {
     "data": {
      "text/html": [
       "<div>\n",
       "<style scoped>\n",
       "    .dataframe tbody tr th:only-of-type {\n",
       "        vertical-align: middle;\n",
       "    }\n",
       "\n",
       "    .dataframe tbody tr th {\n",
       "        vertical-align: top;\n",
       "    }\n",
       "\n",
       "    .dataframe thead th {\n",
       "        text-align: right;\n",
       "    }\n",
       "</style>\n",
       "<table border=\"1\" class=\"dataframe\">\n",
       "  <thead>\n",
       "    <tr style=\"text-align: right;\">\n",
       "      <th></th>\n",
       "      <th>campus</th>\n",
       "      <th>department</th>\n",
       "      <th>course</th>\n",
       "      <th>id</th>\n",
       "      <th>name</th>\n",
       "      <th>tw2</th>\n",
       "      <th>tw8</th>\n",
       "      <th>tw11</th>\n",
       "      <th>overall</th>\n",
       "      <th>gender</th>\n",
       "      <th>dob</th>\n",
       "      <th>ethnicity</th>\n",
       "      <th>nationality</th>\n",
       "      <th>household_income</th>\n",
       "      <th>disab</th>\n",
       "      <th>school</th>\n",
       "      <th>text</th>\n",
       "    </tr>\n",
       "  </thead>\n",
       "  <tbody>\n",
       "    <tr>\n",
       "      <th>0</th>\n",
       "      <td>Cambridge</td>\n",
       "      <td>BL</td>\n",
       "      <td>BSc (Hons) Business with Events Management</td>\n",
       "      <td>1803103</td>\n",
       "      <td>Aaliah Loureiro Brito</td>\n",
       "      <td>4</td>\n",
       "      <td>4</td>\n",
       "      <td>4</td>\n",
       "      <td>4</td>\n",
       "      <td>Female</td>\n",
       "      <td>19/05/2000</td>\n",
       "      <td>Mixed - White &amp; Black African</td>\n",
       "      <td>Portuguese</td>\n",
       "      <td>Low</td>\n",
       "      <td>NaN</td>\n",
       "      <td>School of Management at Anglia Ruskin University</td>\n",
       "      <td>06/12/2021 11:43 AM Elly Page: \\nTW11 chat spa...</td>\n",
       "    </tr>\n",
       "    <tr>\n",
       "      <th>1</th>\n",
       "      <td>Chelmsford</td>\n",
       "      <td>BL</td>\n",
       "      <td>BSc (Hons) Business Management and Leadership</td>\n",
       "      <td>1841622</td>\n",
       "      <td>Aayush Sanjhawa Prajapati</td>\n",
       "      <td>4</td>\n",
       "      <td>4</td>\n",
       "      <td>4</td>\n",
       "      <td>4</td>\n",
       "      <td>Male</td>\n",
       "      <td>13/01/2001</td>\n",
       "      <td>Other Asian background</td>\n",
       "      <td>Nepalese</td>\n",
       "      <td>NaN</td>\n",
       "      <td>NaN</td>\n",
       "      <td>School of Management at Anglia Ruskin University</td>\n",
       "      <td>06/12/2021 11:45 AM Elly Page: \\nTW11 Chat spa...</td>\n",
       "    </tr>\n",
       "    <tr>\n",
       "      <th>2</th>\n",
       "      <td>Cambridge</td>\n",
       "      <td>AHSS</td>\n",
       "      <td>BA (Hons) Performing Arts</td>\n",
       "      <td>1909589</td>\n",
       "      <td>Abbie Kermode</td>\n",
       "      <td>1</td>\n",
       "      <td>1</td>\n",
       "      <td>1</td>\n",
       "      <td>1</td>\n",
       "      <td>Female</td>\n",
       "      <td>10/01/2001</td>\n",
       "      <td>White</td>\n",
       "      <td>UK National</td>\n",
       "      <td>Mid</td>\n",
       "      <td>NaN</td>\n",
       "      <td>Cambridge School of the Creative Industries at...</td>\n",
       "      <td>06/12/2021 11:46 AM Elly Page: \\nTW11 chat spa...</td>\n",
       "    </tr>\n",
       "    <tr>\n",
       "      <th>3</th>\n",
       "      <td>Peterborough</td>\n",
       "      <td>HEMS</td>\n",
       "      <td>BA (Hons) Primary Education Studies</td>\n",
       "      <td>2010362</td>\n",
       "      <td>Abby Paxton</td>\n",
       "      <td>1</td>\n",
       "      <td>2</td>\n",
       "      <td>1</td>\n",
       "      <td>2</td>\n",
       "      <td>Female</td>\n",
       "      <td>27/11/2000</td>\n",
       "      <td>White</td>\n",
       "      <td>UK National</td>\n",
       "      <td>Low</td>\n",
       "      <td>Yes</td>\n",
       "      <td>School of Education and Social Care at Anglia ...</td>\n",
       "      <td>06/12/2021 11:50 AM Elly Page: \\nTW11 chat spa...</td>\n",
       "    </tr>\n",
       "    <tr>\n",
       "      <th>4</th>\n",
       "      <td>Chelmsford</td>\n",
       "      <td>HEMS</td>\n",
       "      <td>BSc (Hons) Nursing (Child)</td>\n",
       "      <td>1803962</td>\n",
       "      <td>Abi Mason</td>\n",
       "      <td>2</td>\n",
       "      <td>1</td>\n",
       "      <td>3</td>\n",
       "      <td>2</td>\n",
       "      <td>Female</td>\n",
       "      <td>07/05/1992</td>\n",
       "      <td>White</td>\n",
       "      <td>UK National</td>\n",
       "      <td>Low</td>\n",
       "      <td>Yes</td>\n",
       "      <td>School of Nursing and Midwifery - Chelmsford a...</td>\n",
       "      <td>06/12/2021 12:57 PM Elly Page: \\nTW11 chat spa...</td>\n",
       "    </tr>\n",
       "  </tbody>\n",
       "</table>\n",
       "</div>"
      ],
      "text/plain": [
       "         campus department                                         course  \\\n",
       "0     Cambridge         BL     BSc (Hons) Business with Events Management   \n",
       "1    Chelmsford         BL  BSc (Hons) Business Management and Leadership   \n",
       "2     Cambridge       AHSS                      BA (Hons) Performing Arts   \n",
       "3  Peterborough       HEMS            BA (Hons) Primary Education Studies   \n",
       "4    Chelmsford       HEMS                     BSc (Hons) Nursing (Child)   \n",
       "\n",
       "        id                       name tw2 tw8 tw11 overall  gender  \\\n",
       "0  1803103      Aaliah Loureiro Brito   4   4    4       4  Female   \n",
       "1  1841622  Aayush Sanjhawa Prajapati   4   4    4       4    Male   \n",
       "2  1909589              Abbie Kermode   1   1    1       1  Female   \n",
       "3  2010362                Abby Paxton   1   2    1       2  Female   \n",
       "4  1803962                  Abi Mason   2   1    3       2  Female   \n",
       "\n",
       "          dob                      ethnicity  nationality household_income  \\\n",
       "0  19/05/2000  Mixed - White & Black African   Portuguese              Low   \n",
       "1  13/01/2001         Other Asian background     Nepalese              NaN   \n",
       "2  10/01/2001                          White  UK National              Mid   \n",
       "3  27/11/2000                          White  UK National              Low   \n",
       "4  07/05/1992                          White  UK National              Low   \n",
       "\n",
       "  disab                                             school  \\\n",
       "0   NaN   School of Management at Anglia Ruskin University   \n",
       "1   NaN   School of Management at Anglia Ruskin University   \n",
       "2   NaN  Cambridge School of the Creative Industries at...   \n",
       "3   Yes  School of Education and Social Care at Anglia ...   \n",
       "4   Yes  School of Nursing and Midwifery - Chelmsford a...   \n",
       "\n",
       "                                                text  \n",
       "0  06/12/2021 11:43 AM Elly Page: \\nTW11 chat spa...  \n",
       "1  06/12/2021 11:45 AM Elly Page: \\nTW11 Chat spa...  \n",
       "2  06/12/2021 11:46 AM Elly Page: \\nTW11 chat spa...  \n",
       "3  06/12/2021 11:50 AM Elly Page: \\nTW11 chat spa...  \n",
       "4  06/12/2021 12:57 PM Elly Page: \\nTW11 chat spa...  "
      ]
     },
     "execution_count": 21,
     "metadata": {},
     "output_type": "execute_result"
    }
   ],
   "source": [
    "df1.head()"
   ]
  },
  {
   "cell_type": "code",
   "execution_count": 22,
   "id": "bc46d79c",
   "metadata": {},
   "outputs": [],
   "source": [
    "#create column for cleaned text\n",
    "df1[\"chat\"] = \" \""
   ]
  },
  {
   "cell_type": "code",
   "execution_count": 23,
   "id": "d4a702fe",
   "metadata": {},
   "outputs": [
    {
     "data": {
      "text/plain": [
       "['Hey guys, just wanted to send a last quick little message to remind you that I am still here should you require any assistance! Look forward to hearing back :)',\n",
       " 'Hey everyone! I’m Aaliah and I’ll be your welcome buddy this year. I’m here to answer any questions that you may have and to help you have a smoother transition so please feel free to speak to me :)']"
      ]
     },
     "execution_count": 23,
     "metadata": {},
     "output_type": "execute_result"
    }
   ],
   "source": [
    "n = df1['name'][0]\n",
    "t = df1['text'][0]\n",
    "findall('{}: \\n(.+?)\\n'.format(n), t)"
   ]
  },
  {
   "cell_type": "code",
   "execution_count": 24,
   "id": "6e66a7e0",
   "metadata": {},
   "outputs": [],
   "source": [
    "df1 = df1[df1['text'].notna()]"
   ]
  },
  {
   "cell_type": "code",
   "execution_count": 25,
   "id": "6109c3a3",
   "metadata": {},
   "outputs": [],
   "source": [
    "len(df1)\n",
    "df1['text'] = df1['text'].astype(\"string\")\n",
    "text = df1['text']"
   ]
  },
  {
   "cell_type": "code",
   "execution_count": 27,
   "id": "403ea047",
   "metadata": {},
   "outputs": [],
   "source": [
    "def extract(name, text):\n",
    "    found_text = findall('{}: \\n(.+?)\\n'.format(name), text)\n",
    "    return found_text"
   ]
  },
  {
   "cell_type": "code",
   "execution_count": 32,
   "id": "66f74c91",
   "metadata": {},
   "outputs": [
    {
     "name": "stderr",
     "output_type": "stream",
     "text": [
      "<ipython-input-32-3f8f5815945d>:7: SettingWithCopyWarning: \n",
      "A value is trying to be set on a copy of a slice from a DataFrame\n",
      "\n",
      "See the caveats in the documentation: https://pandas.pydata.org/pandas-docs/stable/user_guide/indexing.html#returning-a-view-versus-a-copy\n",
      "  df1.chat[i] = extract(name, text)\n"
     ]
    }
   ],
   "source": [
    "#chat = []\n",
    "for i in range(len(df1)):\n",
    "    name = df1['name'][i]\n",
    "   # print(name) \n",
    "    text = df1['text'][i]\n",
    "   # print(extract(name, text))\n",
    "    df1.chat[i] = extract(name, text)\n",
    "    #chat = chat.append(extract(name, text))"
   ]
  },
  {
   "cell_type": "code",
   "execution_count": 33,
   "id": "d64addbf",
   "metadata": {},
   "outputs": [],
   "source": [
    "#create columns for chat analysis\n",
    "df1[\"formality\"] = \" \"\n",
    "df1[\"helpfulness\"] = \" \"\n",
    "df1[\"warmth\"] = \" \""
   ]
  },
  {
   "cell_type": "code",
   "execution_count": 34,
   "id": "d1fa211e",
   "metadata": {},
   "outputs": [
    {
     "data": {
      "text/plain": [
       "['Yeah let’s make a group chat guys, why don’t you send me your numbers to my uni email: zha100@student.aru.ac.uk',\n",
       " 'Hey guys! I can’t stay for the bingo, but I can meet you guys after f2f, before you go into bingo? Around 4:15pm on the 25th of October, if that’s good for you?']"
      ]
     },
     "execution_count": 34,
     "metadata": {},
     "output_type": "execute_result"
    }
   ],
   "source": [
    "#manually input formality, warmth and helpfulness values\n",
    "df1['chat'][580]"
   ]
  },
  {
   "cell_type": "code",
   "execution_count": 374,
   "id": "2cacda81",
   "metadata": {},
   "outputs": [],
   "source": [
    "df1.loc[581,'formality'] = 1\n",
    "df1.loc[581,'warmth'] = 3\n",
    "df1.loc[581,'helpfulness'] = 3\n"
   ]
  },
  {
   "cell_type": "code",
   "execution_count": 375,
   "id": "63518ae9",
   "metadata": {},
   "outputs": [
    {
     "data": {
      "text/plain": [
       "\"06/12/2021 01:51 PM Nicki Sinclair: \\nTW12 Chat space check-in - buddy hasn't done anything since our last check in but was doing a good job up until that point.\\nBuddy Rating: 3\\n\\n06/12/2021 10:37 AM Rachel Wright: \\nAs this trimester draws to a close, unfortunately that means that the Welcome Buddy scheme is also ending. So to the Welcome Buddy, thank you for your work this term.\\n \\nTo everyone in the chat, we hope that the scheme has been valuable in helping you settle in to life at ARU, but however you feel about it, we would love to hear your feedback so that we can continually improve it going forward.\\n \\nYou can either complete this anonymously or provide your details and be entered into a prize draw to win a £40 Amazon voucher. It should take no more than 10 minutes and you can complete it here. The deadline for completing the survey is midnight on Sunday 12th December and the winner of the Amazon voucher will be notified on their ARU student email on Monday 13th December: https://angliaruskin.onlinesurveys.ac.uk/welcome-buddy-evaluation-september2021-new-students\\n  \\nWe would also love you to sign up to be a Welcome Buddy yourself in September 2022 – as someone who has had a buddy recently, you know what is needed to be a great buddy and to support new students through their transition to ARU. You can sign up on the link below and you will be invited to a training session in the new year: https://angliaruskin.onlinesurveys.ac.uk/welcome-buddy-sign-up-september-2022\\n \\nFinally, our team will now close this chat space. Although the Welcome Buddy scheme has now ended, there is still plenty of support available to you at ARU. We would encourage you to speak to the iCentre, our one stop shop for help, information and advice, for any queries you have going forward: https://myaru.sharepoint.com/sites/student-help-support/SitePages/icentre.aspx\\n \\nIf you have any further questions or would like to speak to a member of the Welcome Buddy team, you can contact us on welcomebuddy@aru.ac.uk. Please do NOT reply in this chat space as we will not receive your message.\\n \\nBest wishes,\\nThe Welcome Buddy Team\\n\\nE: welcomebuddy@aru.ac.uk  \\nW: arul.ink/welcomebuddy\\n\\n08/11/2021 11:43 AM Nicki Sinclair: \\nTW8 Chat space check-in - buddy doing a great job but mainly in response to new students rather than being proactive herself necessarily.\\nHave messaged the buddy directly on\\xa0E2111-01779\\nBuddy Rating: 2\\n\\n22/10/2021 02:42 PM Sharmeen Jawad: \\nWill do, and yes!\\n\\n21/10/2021 08:11 PM Zoya Arif: \\nYeah let’s make a group chat guys, why don’t you send me your numbers to my uni email: zha100@student.aru.ac.uk\\nDo you all have WhatsApp?\\n\\n21/10/2021 12:55 PM Sharmeen Jawad: \\nSure I'm fine with anything! I was actually thinking that maybe we could do the escape room? I'm planning it so will be there anyways. I'll also be at Bingo with my medic family\\n\\n21/10/2021 12:53 PM Sharmeen Jawad: \\nWould you guys be up for making a group chat? Probably easier than Welcome Buddy, let me know. There's an escape room too next week- soooo many events to choose from that we can attend together- let me know what your preferences are! :)\\n\\n21/10/2021 12:51 PM Zoya Arif: \\nHey guys! I can’t stay for the bingo, but I can meet you guys after f2f, before you go into bingo? Around 4:15pm on the 25th of October, if that’s good for you?\\n\\n21/10/2021 11:55 AM Niro Baskaran: \\nHi guys! Yeah I commute aswell so Mondays after 4 would be convenient, after the f2f teaching :)\\n\\n21/10/2021 11:12 AM Sharmeen Jawad: \\nThat sounds good! What about everyone else?\\n\\n21/10/2021 09:01 AM Moona Iqbal: \\nHiya!\\nI've gone home for the week so I can't make it to the quiz night tomorrow but I can meet up at the Bingo Night on Mondat the 25th.\\n\\n21/10/2021 01:13 AM Sharmeen Jawad: \\nI also come in to uni for most events (FOMO!!) so if there's an event you'll be at, we can even meet then! I was actually thinking that we could meet and maybe even form a team for the ARMS quiz night tomorrow (Friday, 22nd\""
      ]
     },
     "execution_count": 375,
     "metadata": {},
     "output_type": "execute_result"
    }
   ],
   "source": [
    "df1['text'][580]"
   ]
  },
  {
   "cell_type": "code",
   "execution_count": 376,
   "id": "3d3c8e2a",
   "metadata": {},
   "outputs": [
    {
     "data": {
      "text/html": [
       "<div>\n",
       "<style scoped>\n",
       "    .dataframe tbody tr th:only-of-type {\n",
       "        vertical-align: middle;\n",
       "    }\n",
       "\n",
       "    .dataframe tbody tr th {\n",
       "        vertical-align: top;\n",
       "    }\n",
       "\n",
       "    .dataframe thead th {\n",
       "        text-align: right;\n",
       "    }\n",
       "</style>\n",
       "<table border=\"1\" class=\"dataframe\">\n",
       "  <thead>\n",
       "    <tr style=\"text-align: right;\">\n",
       "      <th></th>\n",
       "      <th>overall</th>\n",
       "      <th>formality</th>\n",
       "      <th>warmth</th>\n",
       "      <th>helpfulness</th>\n",
       "    </tr>\n",
       "  </thead>\n",
       "  <tbody>\n",
       "    <tr>\n",
       "      <th>500</th>\n",
       "      <td>2</td>\n",
       "      <td></td>\n",
       "      <td></td>\n",
       "      <td></td>\n",
       "    </tr>\n",
       "    <tr>\n",
       "      <th>501</th>\n",
       "      <td>4</td>\n",
       "      <td></td>\n",
       "      <td></td>\n",
       "      <td></td>\n",
       "    </tr>\n",
       "    <tr>\n",
       "      <th>502</th>\n",
       "      <td>4</td>\n",
       "      <td></td>\n",
       "      <td></td>\n",
       "      <td></td>\n",
       "    </tr>\n",
       "    <tr>\n",
       "      <th>503</th>\n",
       "      <td>3</td>\n",
       "      <td></td>\n",
       "      <td></td>\n",
       "      <td></td>\n",
       "    </tr>\n",
       "    <tr>\n",
       "      <th>504</th>\n",
       "      <td>3</td>\n",
       "      <td></td>\n",
       "      <td></td>\n",
       "      <td></td>\n",
       "    </tr>\n",
       "    <tr>\n",
       "      <th>...</th>\n",
       "      <td>...</td>\n",
       "      <td>...</td>\n",
       "      <td>...</td>\n",
       "      <td>...</td>\n",
       "    </tr>\n",
       "    <tr>\n",
       "      <th>576</th>\n",
       "      <td>3</td>\n",
       "      <td></td>\n",
       "      <td></td>\n",
       "      <td></td>\n",
       "    </tr>\n",
       "    <tr>\n",
       "      <th>577</th>\n",
       "      <td>4</td>\n",
       "      <td></td>\n",
       "      <td></td>\n",
       "      <td></td>\n",
       "    </tr>\n",
       "    <tr>\n",
       "      <th>578</th>\n",
       "      <td>1</td>\n",
       "      <td></td>\n",
       "      <td></td>\n",
       "      <td></td>\n",
       "    </tr>\n",
       "    <tr>\n",
       "      <th>579</th>\n",
       "      <td>2</td>\n",
       "      <td></td>\n",
       "      <td></td>\n",
       "      <td></td>\n",
       "    </tr>\n",
       "    <tr>\n",
       "      <th>580</th>\n",
       "      <td>3</td>\n",
       "      <td></td>\n",
       "      <td></td>\n",
       "      <td></td>\n",
       "    </tr>\n",
       "  </tbody>\n",
       "</table>\n",
       "<p>81 rows × 4 columns</p>\n",
       "</div>"
      ],
      "text/plain": [
       "    overall formality warmth helpfulness\n",
       "500       2                             \n",
       "501       4                             \n",
       "502       4                             \n",
       "503       3                             \n",
       "504       3                             \n",
       "..      ...       ...    ...         ...\n",
       "576       3                             \n",
       "577       4                             \n",
       "578       1                             \n",
       "579       2                             \n",
       "580       3                             \n",
       "\n",
       "[81 rows x 4 columns]"
      ]
     },
     "execution_count": 376,
     "metadata": {},
     "output_type": "execute_result"
    }
   ],
   "source": [
    "\n",
    "chat_analysis_df = df1[['overall', 'formality', 'warmth', 'helpfulness']][500:581].copy()\n",
    "chat_analysis_df"
   ]
  },
  {
   "cell_type": "code",
   "execution_count": 377,
   "id": "4c322658",
   "metadata": {},
   "outputs": [],
   "source": [
    "#df1.to_csv('final_df.csv')"
   ]
  },
  {
   "cell_type": "code",
   "execution_count": 378,
   "id": "15edf153",
   "metadata": {},
   "outputs": [],
   "source": [
    "#df1.to_csv('/Users/symphony/Downloads/final_df.csv')"
   ]
  },
  {
   "cell_type": "code",
   "execution_count": 379,
   "id": "15c6d8df",
   "metadata": {},
   "outputs": [
    {
     "data": {
      "text/plain": [
       "581"
      ]
     },
     "execution_count": 379,
     "metadata": {},
     "output_type": "execute_result"
    }
   ],
   "source": [
    "labeled_df = pd.read_csv('/Users/symphony/Downloads/500_df.csv')\n",
    "len(labeled_df)"
   ]
  },
  {
   "cell_type": "code",
   "execution_count": 380,
   "id": "2e77fb46",
   "metadata": {},
   "outputs": [],
   "source": [
    "#is there a relationship between overall and chat metrics?\n",
    "\n",
    "chat_analysis_df = labeled_df[['overall', 'formality', 'warmth', 'helpfulness']].copy()\n",
    "\n",
    "#convert al columns to floats, not int\n",
    "chat_analysis_df.overall = chat_analysis_df.overall.astype(float)\n",
    "chat_analysis_df['formality'] = pd.to_numeric(chat_analysis_df['formality'],errors='coerce')\n",
    "chat_analysis_df['helpfulness'] = pd.to_numeric(chat_analysis_df['helpfulness'],errors='coerce')\n",
    "chat_analysis_df['warmth'] = pd.to_numeric(chat_analysis_df['warmth'],errors='coerce')"
   ]
  },
  {
   "cell_type": "code",
   "execution_count": 381,
   "id": "d599c190",
   "metadata": {},
   "outputs": [
    {
     "data": {
      "text/plain": [
       "False"
      ]
     },
     "execution_count": 381,
     "metadata": {},
     "output_type": "execute_result"
    }
   ],
   "source": [
    "#remove nans from overall\n",
    "chat_analysis_df['overall'].isnull().values.any()\n",
    "chat_analysis=chat_analysis_df.dropna(axis = 0).reset_index(drop=True)\n",
    "chat_analysis['overall'].isnull().values.any()"
   ]
  },
  {
   "cell_type": "code",
   "execution_count": 382,
   "id": "a3c71188",
   "metadata": {},
   "outputs": [
    {
     "data": {
      "text/plain": [
       "False"
      ]
     },
     "execution_count": 382,
     "metadata": {},
     "output_type": "execute_result"
    }
   ],
   "source": [
    "#remove nans from formailty/warmth/help\n",
    "chat_analysis_df['formality'].isnull().values.any()\n",
    "chat_analysis=chat_analysis_df.dropna(axis = 0).reset_index(drop=True)\n",
    "chat_analysis['formality'].isnull().values.any()"
   ]
  },
  {
   "cell_type": "code",
   "execution_count": 383,
   "id": "3daa5b24",
   "metadata": {},
   "outputs": [
    {
     "data": {
      "text/plain": [
       "0"
      ]
     },
     "execution_count": 383,
     "metadata": {},
     "output_type": "execute_result"
    }
   ],
   "source": [
    "#check for and remove all columns with 0s, and these rows were not analyzaable \n",
    "(chat_analysis['formality'] == 0).sum()\n",
    "chat_analysis= chat_analysis[chat_analysis['formality'] != 0]\n",
    "(chat_analysis['helpfulness'] == 0).sum()"
   ]
  },
  {
   "cell_type": "code",
   "execution_count": 384,
   "id": "e584f6a0",
   "metadata": {},
   "outputs": [
    {
     "data": {
      "text/plain": [
       "numpy.float64"
      ]
     },
     "execution_count": 384,
     "metadata": {},
     "output_type": "execute_result"
    }
   ],
   "source": [
    "type(chat_analysis['warmth'][0])"
   ]
  },
  {
   "cell_type": "code",
   "execution_count": 385,
   "id": "af9b28a6",
   "metadata": {},
   "outputs": [
    {
     "data": {
      "text/plain": [
       "overall        1.000000\n",
       "formality      0.062721\n",
       "warmth        -0.432518\n",
       "helpfulness   -0.417757\n",
       "Name: overall, dtype: float64"
      ]
     },
     "execution_count": 385,
     "metadata": {},
     "output_type": "execute_result"
    }
   ],
   "source": [
    "chat_corr = chat_analysis.corr()['overall']\n",
    "chat_corr\n",
    "#warmth is highly correlated with a high performance score\n",
    "#notable negative correlation between warmth and helpfulness and overall score"
   ]
  },
  {
   "cell_type": "code",
   "execution_count": 386,
   "id": "c3859e94",
   "metadata": {},
   "outputs": [],
   "source": [
    "from scipy.stats import pearsonr\n",
    "def calculate_pvalues(chat_analysis):\n",
    "    chat_analysis = chat_analysis.dropna()._get_numeric_data()\n",
    "    dfcols = pd.DataFrame(columns=chat_analysis.columns)\n",
    "    pvalues = dfcols.transpose().join(dfcols, how='outer')\n",
    "    for r in chat_analysis.columns:\n",
    "        for c in chat_analysis.columns:\n",
    "            pvalues[r][c] = round(pearsonr(chat_analysis[r], chat_analysis[c])[1], 3)\n",
    "    return pvalues"
   ]
  },
  {
   "cell_type": "code",
   "execution_count": 387,
   "id": "5bbd9928",
   "metadata": {},
   "outputs": [
    {
     "data": {
      "text/html": [
       "<div>\n",
       "<style scoped>\n",
       "    .dataframe tbody tr th:only-of-type {\n",
       "        vertical-align: middle;\n",
       "    }\n",
       "\n",
       "    .dataframe tbody tr th {\n",
       "        vertical-align: top;\n",
       "    }\n",
       "\n",
       "    .dataframe thead th {\n",
       "        text-align: right;\n",
       "    }\n",
       "</style>\n",
       "<table border=\"1\" class=\"dataframe\">\n",
       "  <thead>\n",
       "    <tr style=\"text-align: right;\">\n",
       "      <th></th>\n",
       "      <th>overall</th>\n",
       "      <th>formality</th>\n",
       "      <th>warmth</th>\n",
       "      <th>helpfulness</th>\n",
       "    </tr>\n",
       "  </thead>\n",
       "  <tbody>\n",
       "    <tr>\n",
       "      <th>overall</th>\n",
       "      <td>0.0</td>\n",
       "      <td>0.14</td>\n",
       "      <td>0.0</td>\n",
       "      <td>0.0</td>\n",
       "    </tr>\n",
       "    <tr>\n",
       "      <th>formality</th>\n",
       "      <td>0.14</td>\n",
       "      <td>0.0</td>\n",
       "      <td>0.0</td>\n",
       "      <td>0.0</td>\n",
       "    </tr>\n",
       "    <tr>\n",
       "      <th>warmth</th>\n",
       "      <td>0.0</td>\n",
       "      <td>0.0</td>\n",
       "      <td>0.0</td>\n",
       "      <td>0.0</td>\n",
       "    </tr>\n",
       "    <tr>\n",
       "      <th>helpfulness</th>\n",
       "      <td>0.0</td>\n",
       "      <td>0.0</td>\n",
       "      <td>0.0</td>\n",
       "      <td>0.0</td>\n",
       "    </tr>\n",
       "  </tbody>\n",
       "</table>\n",
       "</div>"
      ],
      "text/plain": [
       "            overall formality warmth helpfulness\n",
       "overall         0.0      0.14    0.0         0.0\n",
       "formality      0.14       0.0    0.0         0.0\n",
       "warmth          0.0       0.0    0.0         0.0\n",
       "helpfulness     0.0       0.0    0.0         0.0"
      ]
     },
     "execution_count": 387,
     "metadata": {},
     "output_type": "execute_result"
    }
   ],
   "source": [
    "calculate_pvalues(chat_analysis) "
   ]
  },
  {
   "cell_type": "code",
   "execution_count": 388,
   "id": "dd5bad1e",
   "metadata": {},
   "outputs": [
    {
     "data": {
      "text/plain": [
       "555"
      ]
     },
     "execution_count": 388,
     "metadata": {},
     "output_type": "execute_result"
    }
   ],
   "source": [
    "len(chat_analysis)"
   ]
  },
  {
   "cell_type": "markdown",
   "id": "60035fc6",
   "metadata": {},
   "source": [
    "## Descriptive Statistics"
   ]
  },
  {
   "cell_type": "markdown",
   "id": "b7d172a1",
   "metadata": {},
   "source": [
    "### WB per campus"
   ]
  },
  {
   "cell_type": "code",
   "execution_count": 389,
   "id": "f20abad8",
   "metadata": {},
   "outputs": [],
   "source": [
    "#Remove nans from dob column\n",
    "df1=df1.dropna(subset=['dob'])"
   ]
  },
  {
   "cell_type": "code",
   "execution_count": 390,
   "id": "0faa1af6",
   "metadata": {},
   "outputs": [
    {
     "data": {
      "text/html": [
       "<div>\n",
       "<style scoped>\n",
       "    .dataframe tbody tr th:only-of-type {\n",
       "        vertical-align: middle;\n",
       "    }\n",
       "\n",
       "    .dataframe tbody tr th {\n",
       "        vertical-align: top;\n",
       "    }\n",
       "\n",
       "    .dataframe thead th {\n",
       "        text-align: right;\n",
       "    }\n",
       "</style>\n",
       "<table border=\"1\" class=\"dataframe\">\n",
       "  <thead>\n",
       "    <tr style=\"text-align: right;\">\n",
       "      <th></th>\n",
       "      <th>campus</th>\n",
       "    </tr>\n",
       "  </thead>\n",
       "  <tbody>\n",
       "    <tr>\n",
       "      <th>Cambridge</th>\n",
       "      <td>340</td>\n",
       "    </tr>\n",
       "    <tr>\n",
       "      <th>Chelmsford</th>\n",
       "      <td>215</td>\n",
       "    </tr>\n",
       "    <tr>\n",
       "      <th>Peterborough</th>\n",
       "      <td>15</td>\n",
       "    </tr>\n",
       "  </tbody>\n",
       "</table>\n",
       "</div>"
      ],
      "text/plain": [
       "              campus\n",
       "Cambridge        340\n",
       "Chelmsford       215\n",
       "Peterborough      15"
      ]
     },
     "execution_count": 390,
     "metadata": {},
     "output_type": "execute_result"
    }
   ],
   "source": [
    "#find number of WB from each campus \n",
    "df1['campus'].value_counts()\n",
    "pd.DataFrame(data=df1['campus'].value_counts(), dtype=None, copy=None)\n",
    "#any observations from Peterborough will be underpowered "
   ]
  },
  {
   "cell_type": "code",
   "execution_count": 391,
   "id": "88e243f1",
   "metadata": {},
   "outputs": [
    {
     "data": {
      "text/plain": [
       "570"
      ]
     },
     "execution_count": 391,
     "metadata": {},
     "output_type": "execute_result"
    }
   ],
   "source": [
    "len(df1)"
   ]
  },
  {
   "cell_type": "code",
   "execution_count": 392,
   "id": "90044584",
   "metadata": {},
   "outputs": [
    {
     "data": {
      "text/plain": [
       "Text(0, 0.5, 'number of Welcome Buddies')"
      ]
     },
     "execution_count": 392,
     "metadata": {},
     "output_type": "execute_result"
    },
    {
     "data": {
      "image/png": "[encoded data removed]",
      "text/plain": [
       "<Figure size 720x432 with 1 Axes>"
      ]
     },
     "metadata": {
      "needs_background": "light"
     },
     "output_type": "display_data"
    }
   ],
   "source": [
    "#visualize distribution of WB across three campuses \n",
    "df1['campus'].value_counts().plot(kind=\"bar\", figsize=(10,6), color=\"#61d199\")\n",
    "plt.title('campus distribution of Welcome Buddies')\n",
    "plt.xlabel('campuses')\n",
    "plt.xticks(rotation=0, ha='right')\n",
    "plt.ylabel('number of Welcome Buddies')"
   ]
  },
  {
   "cell_type": "markdown",
   "id": "fa5cd141",
   "metadata": {},
   "source": [
    "### gender distribution of welcome buddies"
   ]
  },
  {
   "cell_type": "code",
   "execution_count": 393,
   "id": "a0ad1e01",
   "metadata": {},
   "outputs": [
    {
     "data": {
      "text/html": [
       "<div>\n",
       "<style scoped>\n",
       "    .dataframe tbody tr th:only-of-type {\n",
       "        vertical-align: middle;\n",
       "    }\n",
       "\n",
       "    .dataframe tbody tr th {\n",
       "        vertical-align: top;\n",
       "    }\n",
       "\n",
       "    .dataframe thead th {\n",
       "        text-align: right;\n",
       "    }\n",
       "</style>\n",
       "<table border=\"1\" class=\"dataframe\">\n",
       "  <thead>\n",
       "    <tr style=\"text-align: right;\">\n",
       "      <th></th>\n",
       "      <th>gender</th>\n",
       "    </tr>\n",
       "  </thead>\n",
       "  <tbody>\n",
       "    <tr>\n",
       "      <th>Female</th>\n",
       "      <td>452</td>\n",
       "    </tr>\n",
       "    <tr>\n",
       "      <th>Male</th>\n",
       "      <td>118</td>\n",
       "    </tr>\n",
       "  </tbody>\n",
       "</table>\n",
       "</div>"
      ],
      "text/plain": [
       "        gender\n",
       "Female     452\n",
       "Male       118"
      ]
     },
     "execution_count": 393,
     "metadata": {},
     "output_type": "execute_result"
    }
   ],
   "source": [
    "gender_count = pd.DataFrame(data=df1['gender'].value_counts(), dtype=None, copy=None)\n",
    "gender_count"
   ]
  },
  {
   "cell_type": "code",
   "execution_count": 394,
   "id": "463bc2b5",
   "metadata": {},
   "outputs": [
    {
     "data": {
      "text/html": [
       "<div>\n",
       "<style scoped>\n",
       "    .dataframe tbody tr th:only-of-type {\n",
       "        vertical-align: middle;\n",
       "    }\n",
       "\n",
       "    .dataframe tbody tr th {\n",
       "        vertical-align: top;\n",
       "    }\n",
       "\n",
       "    .dataframe thead th {\n",
       "        text-align: right;\n",
       "    }\n",
       "</style>\n",
       "<table border=\"1\" class=\"dataframe\">\n",
       "  <thead>\n",
       "    <tr style=\"text-align: right;\">\n",
       "      <th></th>\n",
       "      <th>gender</th>\n",
       "    </tr>\n",
       "  </thead>\n",
       "  <tbody>\n",
       "    <tr>\n",
       "      <th>Female</th>\n",
       "      <td>0.792982</td>\n",
       "    </tr>\n",
       "    <tr>\n",
       "      <th>Male</th>\n",
       "      <td>0.207018</td>\n",
       "    </tr>\n",
       "  </tbody>\n",
       "</table>\n",
       "</div>"
      ],
      "text/plain": [
       "          gender\n",
       "Female  0.792982\n",
       "Male    0.207018"
      ]
     },
     "execution_count": 394,
     "metadata": {},
     "output_type": "execute_result"
    }
   ],
   "source": [
    "prop_gender_count = pd.DataFrame(data=df1['gender'].value_counts(normalize=True), dtype=None, copy=None)\n",
    "prop_gender_count"
   ]
  },
  {
   "cell_type": "code",
   "execution_count": 395,
   "id": "a2043c90",
   "metadata": {},
   "outputs": [
    {
     "data": {
      "image/png": "[encoded data removed]",
      "text/plain": [
       "<Figure size 720x432 with 1 Axes>"
      ]
     },
     "metadata": {},
     "output_type": "display_data"
    }
   ],
   "source": [
    "#visualize gender breakdown across campuses\n",
    "prop_gender_count.plot(kind='pie', y='gender', autopct='%1.0f%%', figsize=(10,6), labels= ['female','male'], colors=[\"pink\", \"blue\"])\n",
    "#most responses are positive\n",
    "plt.title('gender distribution of Welcome Buddies')\n",
    "plt.show() "
   ]
  },
  {
   "cell_type": "code",
   "execution_count": 396,
   "id": "38b76db0",
   "metadata": {},
   "outputs": [
    {
     "data": {
      "text/html": [
       "<div>\n",
       "<style scoped>\n",
       "    .dataframe tbody tr th:only-of-type {\n",
       "        vertical-align: middle;\n",
       "    }\n",
       "\n",
       "    .dataframe tbody tr th {\n",
       "        vertical-align: top;\n",
       "    }\n",
       "\n",
       "    .dataframe thead th {\n",
       "        text-align: right;\n",
       "    }\n",
       "</style>\n",
       "<table border=\"1\" class=\"dataframe\">\n",
       "  <thead>\n",
       "    <tr style=\"text-align: right;\">\n",
       "      <th>gender</th>\n",
       "      <th>Female</th>\n",
       "      <th>Male</th>\n",
       "    </tr>\n",
       "    <tr>\n",
       "      <th>campus</th>\n",
       "      <th></th>\n",
       "      <th></th>\n",
       "    </tr>\n",
       "  </thead>\n",
       "  <tbody>\n",
       "    <tr>\n",
       "      <th>Cambridge</th>\n",
       "      <td>77.058824</td>\n",
       "      <td>22.941176</td>\n",
       "    </tr>\n",
       "    <tr>\n",
       "      <th>Chelmsford</th>\n",
       "      <td>81.395349</td>\n",
       "      <td>18.604651</td>\n",
       "    </tr>\n",
       "    <tr>\n",
       "      <th>Peterborough</th>\n",
       "      <td>100.000000</td>\n",
       "      <td>0.000000</td>\n",
       "    </tr>\n",
       "  </tbody>\n",
       "</table>\n",
       "</div>"
      ],
      "text/plain": [
       "gender            Female       Male\n",
       "campus                             \n",
       "Cambridge      77.058824  22.941176\n",
       "Chelmsford     81.395349  18.604651\n",
       "Peterborough  100.000000   0.000000"
      ]
     },
     "execution_count": 396,
     "metadata": {},
     "output_type": "execute_result"
    }
   ],
   "source": [
    "#proportional gender distribution of WB subsetted to campus\n",
    "gender_table = pd.crosstab(index=df1['campus'], columns=df1['gender'], normalize='index')*100\n",
    "gender_table"
   ]
  },
  {
   "cell_type": "code",
   "execution_count": 397,
   "id": "7a1c5e27",
   "metadata": {},
   "outputs": [
    {
     "data": {
      "text/plain": [
       "Text(0.5, 0, 'campus')"
      ]
     },
     "execution_count": 397,
     "metadata": {},
     "output_type": "execute_result"
    },
    {
     "data": {
      "image/png": "[encoded data removed]",
      "text/plain": [
       "<Figure size 720x432 with 1 Axes>"
      ]
     },
     "metadata": {
      "needs_background": "light"
     },
     "output_type": "display_data"
    }
   ],
   "source": [
    "#stacked bar plot showing proportional distribution of genders of WB in each campus\n",
    "ax = gender_table.plot(kind='bar', stacked=True, figsize=(10,6), rot=0, color = ['pink','blue'])\n",
    "plt.title('proportional gender distribution of Welcome Buddies by campus', fontsize=12)\n",
    "ax.legend(title='', bbox_to_anchor=(1, 1.02), loc='upper left', prop={'size': 10})\n",
    "ax.tick_params(axis='both', which='major', labelsize=11)\n",
    "ax.tick_params(axis='both', which='minor', labelsize=11)\n",
    "plt.ylabel('proportion of students', fontsize = 11)\n",
    "plt.xlabel('campus', fontsize = 11)"
   ]
  },
  {
   "cell_type": "markdown",
   "id": "57977806",
   "metadata": {},
   "source": [
    "##### conclusion: overwhelming manority of Welcome Buddies across campuses and within campuses are female"
   ]
  },
  {
   "cell_type": "markdown",
   "id": "748f9a4d",
   "metadata": {},
   "source": [
    "# age"
   ]
  },
  {
   "cell_type": "code",
   "execution_count": 398,
   "id": "73ecbffa",
   "metadata": {},
   "outputs": [
    {
     "data": {
      "text/plain": [
       "False"
      ]
     },
     "execution_count": 398,
     "metadata": {},
     "output_type": "execute_result"
    }
   ],
   "source": [
    "df1['dob'].isnull().values.any()"
   ]
  },
  {
   "cell_type": "code",
   "execution_count": 399,
   "id": "bdb71c95",
   "metadata": {},
   "outputs": [],
   "source": [
    "#create age column\n",
    "def calculate_age(born):\n",
    "    born = datetime.strptime(born, \"%d/%m/%Y\").date()\n",
    "    today = date.today()\n",
    "    return today.year - born.year - ((today.month, today.day) < (born.month, born.day))\n",
    "\n",
    "df1['age'] = df1['dob'].apply(calculate_age)"
   ]
  },
  {
   "cell_type": "code",
   "execution_count": 400,
   "id": "1741d18e",
   "metadata": {},
   "outputs": [
    {
     "data": {
      "application/vnd.plotly.v1+json": {
       "config": {
        "plotlyServerURL": "https://plot.ly"
       },
       "data": [
        {
         "alignmentgroup": "True",
         "hovertemplate": "variable=age<br>index=%{x}<br>value=%{y}<extra></extra>",
         "legendgroup": "age",
         "marker": {
          "color": "#636efa",
          "pattern": {
           "shape": ""
          }
         },
         "name": "age",
         "offsetgroup": "age",
         "orientation": "v",
         "showlegend": true,
         "textposition": "auto",
         "type": "bar",
         "x": [
          20,
          21,
          22,
          23,
          24,
          25,
          19,
          27,
          28,
          31,
          35,
          26,
          29,
          34,
          36,
          42,
          39,
          41,
          40,
          37,
          33,
          30,
          44,
          45,
          38,
          32,
          46,
          49,
          50,
          47,
          48,
          51,
          53,
          57,
          58,
          18,
          43,
          59
         ],
         "xaxis": "x",
         "y": [
          162,
          137,
          63,
          22,
          20,
          19,
          12,
          9,
          8,
          8,
          8,
          8,
          7,
          7,
          7,
          6,
          6,
          5,
          5,
          5,
          5,
          5,
          4,
          4,
          3,
          3,
          3,
          3,
          3,
          2,
          2,
          2,
          2,
          1,
          1,
          1,
          1,
          1
         ],
         "yaxis": "y"
        }
       ],
       "layout": {
        "barmode": "relative",
        "legend": {
         "title": {
          "text": "variable"
         },
         "tracegroupgap": 0
        },
        "showlegend": false,
        "template": {
         "data": {
          "bar": [
           {
            "error_x": {
             "color": "#2a3f5f"
            },
            "error_y": {
             "color": "#2a3f5f"
            },
            "marker": {
             "line": {
              "color": "#E5ECF6",
              "width": 0.5
             },
             "pattern": {
              "fillmode": "overlay",
              "size": 10,
              "solidity": 0.2
             }
            },
            "type": "bar"
           }
          ],
          "barpolar": [
           {
            "marker": {
             "line": {
              "color": "#E5ECF6",
              "width": 0.5
             },
             "pattern": {
              "fillmode": "overlay",
              "size": 10,
              "solidity": 0.2
             }
            },
            "type": "barpolar"
           }
          ],
          "carpet": [
           {
            "aaxis": {
             "endlinecolor": "#2a3f5f",
             "gridcolor": "white",
             "linecolor": "white",
             "minorgridcolor": "white",
             "startlinecolor": "#2a3f5f"
            },
            "baxis": {
             "endlinecolor": "#2a3f5f",
             "gridcolor": "white",
             "linecolor": "white",
             "minorgridcolor": "white",
             "startlinecolor": "#2a3f5f"
            },
            "type": "carpet"
           }
          ],
          "choropleth": [
           {
            "colorbar": {
             "outlinewidth": 0,
             "ticks": ""
            },
            "type": "choropleth"
           }
          ],
          "contour": [
           {
            "colorbar": {
             "outlinewidth": 0,
             "ticks": ""
            },
            "colorscale": [
             [
              0,
              "#0d0887"
             ],
             [
              0.1111111111111111,
              "#46039f"
             ],
             [
              0.2222222222222222,
              "#7201a8"
             ],
             [
              0.3333333333333333,
              "#9c179e"
             ],
             [
              0.4444444444444444,
              "#bd3786"
             ],
             [
              0.5555555555555556,
              "#d8576b"
             ],
             [
              0.6666666666666666,
              "#ed7953"
             ],
             [
              0.7777777777777778,
              "#fb9f3a"
             ],
             [
              0.8888888888888888,
              "#fdca26"
             ],
             [
              1,
              "#f0f921"
             ]
            ],
            "type": "contour"
           }
          ],
          "contourcarpet": [
           {
            "colorbar": {
             "outlinewidth": 0,
             "ticks": ""
            },
            "type": "contourcarpet"
           }
          ],
          "heatmap": [
           {
            "colorbar": {
             "outlinewidth": 0,
             "ticks": ""
            },
            "colorscale": [
             [
              0,
              "#0d0887"
             ],
             [
              0.1111111111111111,
              "#46039f"
             ],
             [
              0.2222222222222222,
              "#7201a8"
             ],
             [
              0.3333333333333333,
              "#9c179e"
             ],
             [
              0.4444444444444444,
              "#bd3786"
             ],
             [
              0.5555555555555556,
              "#d8576b"
             ],
             [
              0.6666666666666666,
              "#ed7953"
             ],
             [
              0.7777777777777778,
              "#fb9f3a"
             ],
             [
              0.8888888888888888,
              "#fdca26"
             ],
             [
              1,
              "#f0f921"
             ]
            ],
            "type": "heatmap"
           }
          ],
          "heatmapgl": [
           {
            "colorbar": {
             "outlinewidth": 0,
             "ticks": ""
            },
            "colorscale": [
             [
              0,
              "#0d0887"
             ],
             [
              0.1111111111111111,
              "#46039f"
             ],
             [
              0.2222222222222222,
              "#7201a8"
             ],
             [
              0.3333333333333333,
              "#9c179e"
             ],
             [
              0.4444444444444444,
              "#bd3786"
             ],
             [
              0.5555555555555556,
              "#d8576b"
             ],
             [
              0.6666666666666666,
              "#ed7953"
             ],
             [
              0.7777777777777778,
              "#fb9f3a"
             ],
             [
              0.8888888888888888,
              "#fdca26"
             ],
             [
              1,
              "#f0f921"
             ]
            ],
            "type": "heatmapgl"
           }
          ],
          "histogram": [
           {
            "marker": {
             "pattern": {
              "fillmode": "overlay",
              "size": 10,
              "solidity": 0.2
             }
            },
            "type": "histogram"
           }
          ],
          "histogram2d": [
           {
            "colorbar": {
             "outlinewidth": 0,
             "ticks": ""
            },
            "colorscale": [
             [
              0,
              "#0d0887"
             ],
             [
              0.1111111111111111,
              "#46039f"
             ],
             [
              0.2222222222222222,
              "#7201a8"
             ],
             [
              0.3333333333333333,
              "#9c179e"
             ],
             [
              0.4444444444444444,
              "#bd3786"
             ],
             [
              0.5555555555555556,
              "#d8576b"
             ],
             [
              0.6666666666666666,
              "#ed7953"
             ],
             [
              0.7777777777777778,
              "#fb9f3a"
             ],
             [
              0.8888888888888888,
              "#fdca26"
             ],
             [
              1,
              "#f0f921"
             ]
            ],
            "type": "histogram2d"
           }
          ],
          "histogram2dcontour": [
           {
            "colorbar": {
             "outlinewidth": 0,
             "ticks": ""
            },
            "colorscale": [
             [
              0,
              "#0d0887"
             ],
             [
              0.1111111111111111,
              "#46039f"
             ],
             [
              0.2222222222222222,
              "#7201a8"
             ],
             [
              0.3333333333333333,
              "#9c179e"
             ],
             [
              0.4444444444444444,
              "#bd3786"
             ],
             [
              0.5555555555555556,
              "#d8576b"
             ],
             [
              0.6666666666666666,
              "#ed7953"
             ],
             [
              0.7777777777777778,
              "#fb9f3a"
             ],
             [
              0.8888888888888888,
              "#fdca26"
             ],
             [
              1,
              "#f0f921"
             ]
            ],
            "type": "histogram2dcontour"
           }
          ],
          "mesh3d": [
           {
            "colorbar": {
             "outlinewidth": 0,
             "ticks": ""
            },
            "type": "mesh3d"
           }
          ],
          "parcoords": [
           {
            "line": {
             "colorbar": {
              "outlinewidth": 0,
              "ticks": ""
             }
            },
            "type": "parcoords"
           }
          ],
          "pie": [
           {
            "automargin": true,
            "type": "pie"
           }
          ],
          "scatter": [
           {
            "fillpattern": {
             "fillmode": "overlay",
             "size": 10,
             "solidity": 0.2
            },
            "type": "scatter"
           }
          ],
          "scatter3d": [
           {
            "line": {
             "colorbar": {
              "outlinewidth": 0,
              "ticks": ""
             }
            },
            "marker": {
             "colorbar": {
              "outlinewidth": 0,
              "ticks": ""
             }
            },
            "type": "scatter3d"
           }
          ],
          "scattercarpet": [
           {
            "marker": {
             "colorbar": {
              "outlinewidth": 0,
              "ticks": ""
             }
            },
            "type": "scattercarpet"
           }
          ],
          "scattergeo": [
           {
            "marker": {
             "colorbar": {
              "outlinewidth": 0,
              "ticks": ""
             }
            },
            "type": "scattergeo"
           }
          ],
          "scattergl": [
           {
            "marker": {
             "colorbar": {
              "outlinewidth": 0,
              "ticks": ""
             }
            },
            "type": "scattergl"
           }
          ],
          "scattermapbox": [
           {
            "marker": {
             "colorbar": {
              "outlinewidth": 0,
              "ticks": ""
             }
            },
            "type": "scattermapbox"
           }
          ],
          "scatterpolar": [
           {
            "marker": {
             "colorbar": {
              "outlinewidth": 0,
              "ticks": ""
             }
            },
            "type": "scatterpolar"
           }
          ],
          "scatterpolargl": [
           {
            "marker": {
             "colorbar": {
              "outlinewidth": 0,
              "ticks": ""
             }
            },
            "type": "scatterpolargl"
           }
          ],
          "scatterternary": [
           {
            "marker": {
             "colorbar": {
              "outlinewidth": 0,
              "ticks": ""
             }
            },
            "type": "scatterternary"
           }
          ],
          "surface": [
           {
            "colorbar": {
             "outlinewidth": 0,
             "ticks": ""
            },
            "colorscale": [
             [
              0,
              "#0d0887"
             ],
             [
              0.1111111111111111,
              "#46039f"
             ],
             [
              0.2222222222222222,
              "#7201a8"
             ],
             [
              0.3333333333333333,
              "#9c179e"
             ],
             [
              0.4444444444444444,
              "#bd3786"
             ],
             [
              0.5555555555555556,
              "#d8576b"
             ],
             [
              0.6666666666666666,
              "#ed7953"
             ],
             [
              0.7777777777777778,
              "#fb9f3a"
             ],
             [
              0.8888888888888888,
              "#fdca26"
             ],
             [
              1,
              "#f0f921"
             ]
            ],
            "type": "surface"
           }
          ],
          "table": [
           {
            "cells": {
             "fill": {
              "color": "#EBF0F8"
             },
             "line": {
              "color": "white"
             }
            },
            "header": {
             "fill": {
              "color": "#C8D4E3"
             },
             "line": {
              "color": "white"
             }
            },
            "type": "table"
           }
          ]
         },
         "layout": {
          "annotationdefaults": {
           "arrowcolor": "#2a3f5f",
           "arrowhead": 0,
           "arrowwidth": 1
          },
          "autotypenumbers": "strict",
          "coloraxis": {
           "colorbar": {
            "outlinewidth": 0,
            "ticks": ""
           }
          },
          "colorscale": {
           "diverging": [
            [
             0,
             "#8e0152"
            ],
            [
             0.1,
             "#c51b7d"
            ],
            [
             0.2,
             "#de77ae"
            ],
            [
             0.3,
             "#f1b6da"
            ],
            [
             0.4,
             "#fde0ef"
            ],
            [
             0.5,
             "#f7f7f7"
            ],
            [
             0.6,
             "#e6f5d0"
            ],
            [
             0.7,
             "#b8e186"
            ],
            [
             0.8,
             "#7fbc41"
            ],
            [
             0.9,
             "#4d9221"
            ],
            [
             1,
             "#276419"
            ]
           ],
           "sequential": [
            [
             0,
             "#0d0887"
            ],
            [
             0.1111111111111111,
             "#46039f"
            ],
            [
             0.2222222222222222,
             "#7201a8"
            ],
            [
             0.3333333333333333,
             "#9c179e"
            ],
            [
             0.4444444444444444,
             "#bd3786"
            ],
            [
             0.5555555555555556,
             "#d8576b"
            ],
            [
             0.6666666666666666,
             "#ed7953"
            ],
            [
             0.7777777777777778,
             "#fb9f3a"
            ],
            [
             0.8888888888888888,
             "#fdca26"
            ],
            [
             1,
             "#f0f921"
            ]
           ],
           "sequentialminus": [
            [
             0,
             "#0d0887"
            ],
            [
             0.1111111111111111,
             "#46039f"
            ],
            [
             0.2222222222222222,
             "#7201a8"
            ],
            [
             0.3333333333333333,
             "#9c179e"
            ],
            [
             0.4444444444444444,
             "#bd3786"
            ],
            [
             0.5555555555555556,
             "#d8576b"
            ],
            [
             0.6666666666666666,
             "#ed7953"
            ],
            [
             0.7777777777777778,
             "#fb9f3a"
            ],
            [
             0.8888888888888888,
             "#fdca26"
            ],
            [
             1,
             "#f0f921"
            ]
           ]
          },
          "colorway": [
           "#636efa",
           "#EF553B",
           "#00cc96",
           "#ab63fa",
           "#FFA15A",
           "#19d3f3",
           "#FF6692",
           "#B6E880",
           "#FF97FF",
           "#FECB52"
          ],
          "font": {
           "color": "#2a3f5f"
          },
          "geo": {
           "bgcolor": "white",
           "lakecolor": "white",
           "landcolor": "#E5ECF6",
           "showlakes": true,
           "showland": true,
           "subunitcolor": "white"
          },
          "hoverlabel": {
           "align": "left"
          },
          "hovermode": "closest",
          "mapbox": {
           "style": "light"
          },
          "paper_bgcolor": "white",
          "plot_bgcolor": "#E5ECF6",
          "polar": {
           "angularaxis": {
            "gridcolor": "white",
            "linecolor": "white",
            "ticks": ""
           },
           "bgcolor": "#E5ECF6",
           "radialaxis": {
            "gridcolor": "white",
            "linecolor": "white",
            "ticks": ""
           }
          },
          "scene": {
           "xaxis": {
            "backgroundcolor": "#E5ECF6",
            "gridcolor": "white",
            "gridwidth": 2,
            "linecolor": "white",
            "showbackground": true,
            "ticks": "",
            "zerolinecolor": "white"
           },
           "yaxis": {
            "backgroundcolor": "#E5ECF6",
            "gridcolor": "white",
            "gridwidth": 2,
            "linecolor": "white",
            "showbackground": true,
            "ticks": "",
            "zerolinecolor": "white"
           },
           "zaxis": {
            "backgroundcolor": "#E5ECF6",
            "gridcolor": "white",
            "gridwidth": 2,
            "linecolor": "white",
            "showbackground": true,
            "ticks": "",
            "zerolinecolor": "white"
           }
          },
          "shapedefaults": {
           "line": {
            "color": "#2a3f5f"
           }
          },
          "ternary": {
           "aaxis": {
            "gridcolor": "white",
            "linecolor": "white",
            "ticks": ""
           },
           "baxis": {
            "gridcolor": "white",
            "linecolor": "white",
            "ticks": ""
           },
           "bgcolor": "#E5ECF6",
           "caxis": {
            "gridcolor": "white",
            "linecolor": "white",
            "ticks": ""
           }
          },
          "title": {
           "x": 0.05
          },
          "xaxis": {
           "automargin": true,
           "gridcolor": "white",
           "linecolor": "white",
           "ticks": "",
           "title": {
            "standoff": 15
           },
           "zerolinecolor": "white",
           "zerolinewidth": 2
          },
          "yaxis": {
           "automargin": true,
           "gridcolor": "white",
           "linecolor": "white",
           "ticks": "",
           "title": {
            "standoff": 15
           },
           "zerolinecolor": "white",
           "zerolinewidth": 2
          }
         }
        },
        "title": {
         "text": "age of Welcome Buddies",
         "x": 0.5
        },
        "xaxis": {
         "anchor": "y",
         "domain": [
          0,
          1
         ],
         "title": {
          "text": "Age"
         }
        },
        "yaxis": {
         "anchor": "x",
         "domain": [
          0,
          1
         ],
         "title": {
          "text": "Frequency"
         }
        }
       }
      },
      "text/html": [
       "<div>                            <div id=\"5c76b08a-3a55-43f7-9e97-4fab82bb5f0d\" class=\"plotly-graph-div\" style=\"height:525px; width:100%;\"></div>            <script type=\"text/javascript\">                require([\"plotly\"], function(Plotly) {                    window.PLOTLYENV=window.PLOTLYENV || {};                                    if (document.getElementById(\"5c76b08a-3a55-43f7-9e97-4fab82bb5f0d\")) {                    Plotly.newPlot(                        \"5c76b08a-3a55-43f7-9e97-4fab82bb5f0d\",                        [{\"alignmentgroup\":\"True\",\"hovertemplate\":\"variable=age<br>index=%{x}<br>value=%{y}<extra></extra>\",\"legendgroup\":\"age\",\"marker\":{\"color\":\"#636efa\",\"pattern\":{\"shape\":\"\"}},\"name\":\"age\",\"offsetgroup\":\"age\",\"orientation\":\"v\",\"showlegend\":true,\"textposition\":\"auto\",\"x\":[20,21,22,23,24,25,19,27,28,31,35,26,29,34,36,42,39,41,40,37,33,30,44,45,38,32,46,49,50,47,48,51,53,57,58,18,43,59],\"xaxis\":\"x\",\"y\":[162,137,63,22,20,19,12,9,8,8,8,8,7,7,7,6,6,5,5,5,5,5,4,4,3,3,3,3,3,2,2,2,2,1,1,1,1,1],\"yaxis\":\"y\",\"type\":\"bar\"}],                        {\"template\":{\"data\":{\"histogram2dcontour\":[{\"type\":\"histogram2dcontour\",\"colorbar\":{\"outlinewidth\":0,\"ticks\":\"\"},\"colorscale\":[[0.0,\"#0d0887\"],[0.1111111111111111,\"#46039f\"],[0.2222222222222222,\"#7201a8\"],[0.3333333333333333,\"#9c179e\"],[0.4444444444444444,\"#bd3786\"],[0.5555555555555556,\"#d8576b\"],[0.6666666666666666,\"#ed7953\"],[0.7777777777777778,\"#fb9f3a\"],[0.8888888888888888,\"#fdca26\"],[1.0,\"#f0f921\"]]}],\"choropleth\":[{\"type\":\"choropleth\",\"colorbar\":{\"outlinewidth\":0,\"ticks\":\"\"}}],\"histogram2d\":[{\"type\":\"histogram2d\",\"colorbar\":{\"outlinewidth\":0,\"ticks\":\"\"},\"colorscale\":[[0.0,\"#0d0887\"],[0.1111111111111111,\"#46039f\"],[0.2222222222222222,\"#7201a8\"],[0.3333333333333333,\"#9c179e\"],[0.4444444444444444,\"#bd3786\"],[0.5555555555555556,\"#d8576b\"],[0.6666666666666666,\"#ed7953\"],[0.7777777777777778,\"#fb9f3a\"],[0.8888888888888888,\"#fdca26\"],[1.0,\"#f0f921\"]]}],\"heatmap\":[{\"type\":\"heatmap\",\"colorbar\":{\"outlinewidth\":0,\"ticks\":\"\"},\"colorscale\":[[0.0,\"#0d0887\"],[0.1111111111111111,\"#46039f\"],[0.2222222222222222,\"#7201a8\"],[0.3333333333333333,\"#9c179e\"],[0.4444444444444444,\"#bd3786\"],[0.5555555555555556,\"#d8576b\"],[0.6666666666666666,\"#ed7953\"],[0.7777777777777778,\"#fb9f3a\"],[0.8888888888888888,\"#fdca26\"],[1.0,\"#f0f921\"]]}],\"heatmapgl\":[{\"type\":\"heatmapgl\",\"colorbar\":{\"outlinewidth\":0,\"ticks\":\"\"},\"colorscale\":[[0.0,\"#0d0887\"],[0.1111111111111111,\"#46039f\"],[0.2222222222222222,\"#7201a8\"],[0.3333333333333333,\"#9c179e\"],[0.4444444444444444,\"#bd3786\"],[0.5555555555555556,\"#d8576b\"],[0.6666666666666666,\"#ed7953\"],[0.7777777777777778,\"#fb9f3a\"],[0.8888888888888888,\"#fdca26\"],[1.0,\"#f0f921\"]]}],\"contourcarpet\":[{\"type\":\"contourcarpet\",\"colorbar\":{\"outlinewidth\":0,\"ticks\":\"\"}}],\"contour\":[{\"type\":\"contour\",\"colorbar\":{\"outlinewidth\":0,\"ticks\":\"\"},\"colorscale\":[[0.0,\"#0d0887\"],[0.1111111111111111,\"#46039f\"],[0.2222222222222222,\"#7201a8\"],[0.3333333333333333,\"#9c179e\"],[0.4444444444444444,\"#bd3786\"],[0.5555555555555556,\"#d8576b\"],[0.6666666666666666,\"#ed7953\"],[0.7777777777777778,\"#fb9f3a\"],[0.8888888888888888,\"#fdca26\"],[1.0,\"#f0f921\"]]}],\"surface\":[{\"type\":\"surface\",\"colorbar\":{\"outlinewidth\":0,\"ticks\":\"\"},\"colorscale\":[[0.0,\"#0d0887\"],[0.1111111111111111,\"#46039f\"],[0.2222222222222222,\"#7201a8\"],[0.3333333333333333,\"#9c179e\"],[0.4444444444444444,\"#bd3786\"],[0.5555555555555556,\"#d8576b\"],[0.6666666666666666,\"#ed7953\"],[0.7777777777777778,\"#fb9f3a\"],[0.8888888888888888,\"#fdca26\"],[1.0,\"#f0f921\"]]}],\"mesh3d\":[{\"type\":\"mesh3d\",\"colorbar\":{\"outlinewidth\":0,\"ticks\":\"\"}}],\"scatter\":[{\"fillpattern\":{\"fillmode\":\"overlay\",\"size\":10,\"solidity\":0.2},\"type\":\"scatter\"}],\"parcoords\":[{\"type\":\"parcoords\",\"line\":{\"colorbar\":{\"outlinewidth\":0,\"ticks\":\"\"}}}],\"scatterpolargl\":[{\"type\":\"scatterpolargl\",\"marker\":{\"colorbar\":{\"outlinewidth\":0,\"ticks\":\"\"}}}],\"bar\":[{\"error_x\":{\"color\":\"#2a3f5f\"},\"error_y\":{\"color\":\"#2a3f5f\"},\"marker\":{\"line\":{\"color\":\"#E5ECF6\",\"width\":0.5},\"pattern\":{\"fillmode\":\"overlay\",\"size\":10,\"solidity\":0.2}},\"type\":\"bar\"}],\"scattergeo\":[{\"type\":\"scattergeo\",\"marker\":{\"colorbar\":{\"outlinewidth\":0,\"ticks\":\"\"}}}],\"scatterpolar\":[{\"type\":\"scatterpolar\",\"marker\":{\"colorbar\":{\"outlinewidth\":0,\"ticks\":\"\"}}}],\"histogram\":[{\"marker\":{\"pattern\":{\"fillmode\":\"overlay\",\"size\":10,\"solidity\":0.2}},\"type\":\"histogram\"}],\"scattergl\":[{\"type\":\"scattergl\",\"marker\":{\"colorbar\":{\"outlinewidth\":0,\"ticks\":\"\"}}}],\"scatter3d\":[{\"type\":\"scatter3d\",\"line\":{\"colorbar\":{\"outlinewidth\":0,\"ticks\":\"\"}},\"marker\":{\"colorbar\":{\"outlinewidth\":0,\"ticks\":\"\"}}}],\"scattermapbox\":[{\"type\":\"scattermapbox\",\"marker\":{\"colorbar\":{\"outlinewidth\":0,\"ticks\":\"\"}}}],\"scatterternary\":[{\"type\":\"scatterternary\",\"marker\":{\"colorbar\":{\"outlinewidth\":0,\"ticks\":\"\"}}}],\"scattercarpet\":[{\"type\":\"scattercarpet\",\"marker\":{\"colorbar\":{\"outlinewidth\":0,\"ticks\":\"\"}}}],\"carpet\":[{\"aaxis\":{\"endlinecolor\":\"#2a3f5f\",\"gridcolor\":\"white\",\"linecolor\":\"white\",\"minorgridcolor\":\"white\",\"startlinecolor\":\"#2a3f5f\"},\"baxis\":{\"endlinecolor\":\"#2a3f5f\",\"gridcolor\":\"white\",\"linecolor\":\"white\",\"minorgridcolor\":\"white\",\"startlinecolor\":\"#2a3f5f\"},\"type\":\"carpet\"}],\"table\":[{\"cells\":{\"fill\":{\"color\":\"#EBF0F8\"},\"line\":{\"color\":\"white\"}},\"header\":{\"fill\":{\"color\":\"#C8D4E3\"},\"line\":{\"color\":\"white\"}},\"type\":\"table\"}],\"barpolar\":[{\"marker\":{\"line\":{\"color\":\"#E5ECF6\",\"width\":0.5},\"pattern\":{\"fillmode\":\"overlay\",\"size\":10,\"solidity\":0.2}},\"type\":\"barpolar\"}],\"pie\":[{\"automargin\":true,\"type\":\"pie\"}]},\"layout\":{\"autotypenumbers\":\"strict\",\"colorway\":[\"#636efa\",\"#EF553B\",\"#00cc96\",\"#ab63fa\",\"#FFA15A\",\"#19d3f3\",\"#FF6692\",\"#B6E880\",\"#FF97FF\",\"#FECB52\"],\"font\":{\"color\":\"#2a3f5f\"},\"hovermode\":\"closest\",\"hoverlabel\":{\"align\":\"left\"},\"paper_bgcolor\":\"white\",\"plot_bgcolor\":\"#E5ECF6\",\"polar\":{\"bgcolor\":\"#E5ECF6\",\"angularaxis\":{\"gridcolor\":\"white\",\"linecolor\":\"white\",\"ticks\":\"\"},\"radialaxis\":{\"gridcolor\":\"white\",\"linecolor\":\"white\",\"ticks\":\"\"}},\"ternary\":{\"bgcolor\":\"#E5ECF6\",\"aaxis\":{\"gridcolor\":\"white\",\"linecolor\":\"white\",\"ticks\":\"\"},\"baxis\":{\"gridcolor\":\"white\",\"linecolor\":\"white\",\"ticks\":\"\"},\"caxis\":{\"gridcolor\":\"white\",\"linecolor\":\"white\",\"ticks\":\"\"}},\"coloraxis\":{\"colorbar\":{\"outlinewidth\":0,\"ticks\":\"\"}},\"colorscale\":{\"sequential\":[[0.0,\"#0d0887\"],[0.1111111111111111,\"#46039f\"],[0.2222222222222222,\"#7201a8\"],[0.3333333333333333,\"#9c179e\"],[0.4444444444444444,\"#bd3786\"],[0.5555555555555556,\"#d8576b\"],[0.6666666666666666,\"#ed7953\"],[0.7777777777777778,\"#fb9f3a\"],[0.8888888888888888,\"#fdca26\"],[1.0,\"#f0f921\"]],\"sequentialminus\":[[0.0,\"#0d0887\"],[0.1111111111111111,\"#46039f\"],[0.2222222222222222,\"#7201a8\"],[0.3333333333333333,\"#9c179e\"],[0.4444444444444444,\"#bd3786\"],[0.5555555555555556,\"#d8576b\"],[0.6666666666666666,\"#ed7953\"],[0.7777777777777778,\"#fb9f3a\"],[0.8888888888888888,\"#fdca26\"],[1.0,\"#f0f921\"]],\"diverging\":[[0,\"#8e0152\"],[0.1,\"#c51b7d\"],[0.2,\"#de77ae\"],[0.3,\"#f1b6da\"],[0.4,\"#fde0ef\"],[0.5,\"#f7f7f7\"],[0.6,\"#e6f5d0\"],[0.7,\"#b8e186\"],[0.8,\"#7fbc41\"],[0.9,\"#4d9221\"],[1,\"#276419\"]]},\"xaxis\":{\"gridcolor\":\"white\",\"linecolor\":\"white\",\"ticks\":\"\",\"title\":{\"standoff\":15},\"zerolinecolor\":\"white\",\"automargin\":true,\"zerolinewidth\":2},\"yaxis\":{\"gridcolor\":\"white\",\"linecolor\":\"white\",\"ticks\":\"\",\"title\":{\"standoff\":15},\"zerolinecolor\":\"white\",\"automargin\":true,\"zerolinewidth\":2},\"scene\":{\"xaxis\":{\"backgroundcolor\":\"#E5ECF6\",\"gridcolor\":\"white\",\"linecolor\":\"white\",\"showbackground\":true,\"ticks\":\"\",\"zerolinecolor\":\"white\",\"gridwidth\":2},\"yaxis\":{\"backgroundcolor\":\"#E5ECF6\",\"gridcolor\":\"white\",\"linecolor\":\"white\",\"showbackground\":true,\"ticks\":\"\",\"zerolinecolor\":\"white\",\"gridwidth\":2},\"zaxis\":{\"backgroundcolor\":\"#E5ECF6\",\"gridcolor\":\"white\",\"linecolor\":\"white\",\"showbackground\":true,\"ticks\":\"\",\"zerolinecolor\":\"white\",\"gridwidth\":2}},\"shapedefaults\":{\"line\":{\"color\":\"#2a3f5f\"}},\"annotationdefaults\":{\"arrowcolor\":\"#2a3f5f\",\"arrowhead\":0,\"arrowwidth\":1},\"geo\":{\"bgcolor\":\"white\",\"landcolor\":\"#E5ECF6\",\"subunitcolor\":\"white\",\"showland\":true,\"showlakes\":true,\"lakecolor\":\"white\"},\"title\":{\"x\":0.05},\"mapbox\":{\"style\":\"light\"}}},\"xaxis\":{\"anchor\":\"y\",\"domain\":[0.0,1.0],\"title\":{\"text\":\"Age\"}},\"yaxis\":{\"anchor\":\"x\",\"domain\":[0.0,1.0],\"title\":{\"text\":\"Frequency\"}},\"legend\":{\"title\":{\"text\":\"variable\"},\"tracegroupgap\":0},\"title\":{\"text\":\"age of Welcome Buddies\",\"x\":0.5},\"barmode\":\"relative\",\"showlegend\":false},                        {\"responsive\": true}                    ).then(function(){\n",
       "                            \n",
       "var gd = document.getElementById('5c76b08a-3a55-43f7-9e97-4fab82bb5f0d');\n",
       "var x = new MutationObserver(function (mutations, observer) {{\n",
       "        var display = window.getComputedStyle(gd).display;\n",
       "        if (!display || display === 'none') {{\n",
       "            console.log([gd, 'removed!']);\n",
       "            Plotly.purge(gd);\n",
       "            observer.disconnect();\n",
       "        }}\n",
       "}});\n",
       "\n",
       "// Listen for the removal of the full notebook cells\n",
       "var notebookContainer = gd.closest('#notebook-container');\n",
       "if (notebookContainer) {{\n",
       "    x.observe(notebookContainer, {childList: true});\n",
       "}}\n",
       "\n",
       "// Listen for the clearing of the current output cell\n",
       "var outputEl = gd.closest('.output');\n",
       "if (outputEl) {{\n",
       "    x.observe(outputEl, {childList: true});\n",
       "}}\n",
       "\n",
       "                        })                };                });            </script>        </div>"
      ]
     },
     "metadata": {},
     "output_type": "display_data"
    }
   ],
   "source": [
    "#find age distribution\n",
    "age_counts = df1[\"age\"].value_counts()\n",
    "\n",
    "fig = px.bar(age_counts, title=\"age of Welcome Buddies\")\n",
    "fig.update_layout(\n",
    "    xaxis_title = \"Age\",\n",
    "    yaxis_title = \"Frequency\",\n",
    "    title_x = 0.5, \n",
    "    showlegend = False\n",
    ")\n",
    "fig.show()"
   ]
  },
  {
   "cell_type": "code",
   "execution_count": 401,
   "id": "33f18ee2",
   "metadata": {},
   "outputs": [
    {
     "data": {
      "text/plain": [
       "570"
      ]
     },
     "execution_count": 401,
     "metadata": {},
     "output_type": "execute_result"
    }
   ],
   "source": [
    "len(df1['age'])"
   ]
  },
  {
   "cell_type": "code",
   "execution_count": 402,
   "id": "4a4779d5",
   "metadata": {},
   "outputs": [
    {
     "data": {
      "text/plain": [
       "436"
      ]
     },
     "execution_count": 402,
     "metadata": {},
     "output_type": "execute_result"
    }
   ],
   "source": [
    "(df1['age'] <= 25).sum()"
   ]
  },
  {
   "cell_type": "code",
   "execution_count": 403,
   "id": "9aeee5cb",
   "metadata": {},
   "outputs": [
    {
     "data": {
      "text/plain": [
       "134"
      ]
     },
     "execution_count": 403,
     "metadata": {},
     "output_type": "execute_result"
    }
   ],
   "source": [
    "\n",
    "(df1['age'] >= 26).sum()\n",
    "#approz 24% od students are over 25, this is sizeable enough to warrant a binary variable of 25 and under or over 25"
   ]
  },
  {
   "cell_type": "code",
   "execution_count": 404,
   "id": "1fffb4bf",
   "metadata": {},
   "outputs": [
    {
     "data": {
      "text/plain": [
       "0.7649122807017544"
      ]
     },
     "execution_count": 404,
     "metadata": {},
     "output_type": "execute_result"
    }
   ],
   "source": [
    "436/570"
   ]
  },
  {
   "cell_type": "code",
   "execution_count": 405,
   "id": "348b2186",
   "metadata": {},
   "outputs": [
    {
     "name": "stdout",
     "output_type": "stream",
     "text": [
      "mean age: 24.75964912280702\n",
      "median age: 21.0\n",
      "mode age: 0    20\n",
      "dtype: int64\n"
     ]
    }
   ],
   "source": [
    "mean_age = df1[\"age\"].mean()\n",
    "print('mean age:', mean_age)\n",
    "median_age = df1[\"age\"].median()\n",
    "print('median age:', median_age)\n",
    "mode_age = df1[\"age\"].mode()\n",
    "print('mode age:', mode_age)"
   ]
  },
  {
   "cell_type": "markdown",
   "id": "df1863e5",
   "metadata": {},
   "source": [
    "### conclusion: most WB are 20 years old and the median age is 21"
   ]
  },
  {
   "cell_type": "code",
   "execution_count": 406,
   "id": "80b21b37",
   "metadata": {},
   "outputs": [
    {
     "data": {
      "text/plain": [
       "True"
      ]
     },
     "execution_count": 406,
     "metadata": {},
     "output_type": "execute_result"
    }
   ],
   "source": [
    "df1['overall'].isnull().values.any()"
   ]
  },
  {
   "cell_type": "code",
   "execution_count": 407,
   "id": "8bb0dfcb",
   "metadata": {},
   "outputs": [],
   "source": [
    "df1 = df1[df1['overall'].notna()]"
   ]
  },
  {
   "cell_type": "code",
   "execution_count": 408,
   "id": "34114f00",
   "metadata": {},
   "outputs": [
    {
     "data": {
      "text/plain": [
       "False"
      ]
     },
     "execution_count": 408,
     "metadata": {},
     "output_type": "execute_result"
    }
   ],
   "source": [
    "df1['age'].isnull().values.any()"
   ]
  },
  {
   "cell_type": "code",
   "execution_count": 409,
   "id": "243e8833",
   "metadata": {},
   "outputs": [
    {
     "data": {
      "text/plain": [
       "-0.05004790359948181"
      ]
     },
     "execution_count": 409,
     "metadata": {},
     "output_type": "execute_result"
    }
   ],
   "source": [
    "#is there a corr between age and overall?\n",
    "df1['age'].astype('int').corr(df1['overall'].astype('int'))\n",
    "#not much corr"
   ]
  },
  {
   "cell_type": "markdown",
   "id": "d2bc9988",
   "metadata": {},
   "source": [
    "### ethnicity"
   ]
  },
  {
   "cell_type": "code",
   "execution_count": 410,
   "id": "0c36a5c2",
   "metadata": {},
   "outputs": [
    {
     "data": {
      "text/html": [
       "<div>\n",
       "<style scoped>\n",
       "    .dataframe tbody tr th:only-of-type {\n",
       "        vertical-align: middle;\n",
       "    }\n",
       "\n",
       "    .dataframe tbody tr th {\n",
       "        vertical-align: top;\n",
       "    }\n",
       "\n",
       "    .dataframe thead th {\n",
       "        text-align: right;\n",
       "    }\n",
       "</style>\n",
       "<table border=\"1\" class=\"dataframe\">\n",
       "  <thead>\n",
       "    <tr style=\"text-align: right;\">\n",
       "      <th></th>\n",
       "      <th>ethnicity</th>\n",
       "    </tr>\n",
       "  </thead>\n",
       "  <tbody>\n",
       "    <tr>\n",
       "      <th>White</th>\n",
       "      <td>375</td>\n",
       "    </tr>\n",
       "    <tr>\n",
       "      <th>Black or Black British - African</th>\n",
       "      <td>47</td>\n",
       "    </tr>\n",
       "    <tr>\n",
       "      <th>Asian or Asian British - Indian</th>\n",
       "      <td>33</td>\n",
       "    </tr>\n",
       "    <tr>\n",
       "      <th>Asian or Asian British - Pakistani</th>\n",
       "      <td>22</td>\n",
       "    </tr>\n",
       "    <tr>\n",
       "      <th>Other Asian background</th>\n",
       "      <td>21</td>\n",
       "    </tr>\n",
       "    <tr>\n",
       "      <th>Asian or Asian British - Bangladeshi</th>\n",
       "      <td>8</td>\n",
       "    </tr>\n",
       "    <tr>\n",
       "      <th>Mixed - White &amp; Black African</th>\n",
       "      <td>8</td>\n",
       "    </tr>\n",
       "    <tr>\n",
       "      <th>Not known</th>\n",
       "      <td>8</td>\n",
       "    </tr>\n",
       "    <tr>\n",
       "      <th>Other ethnic background</th>\n",
       "      <td>7</td>\n",
       "    </tr>\n",
       "    <tr>\n",
       "      <th>Other mixed background</th>\n",
       "      <td>6</td>\n",
       "    </tr>\n",
       "    <tr>\n",
       "      <th>Chinese</th>\n",
       "      <td>6</td>\n",
       "    </tr>\n",
       "    <tr>\n",
       "      <th>Arab</th>\n",
       "      <td>5</td>\n",
       "    </tr>\n",
       "    <tr>\n",
       "      <th>Mixed - White &amp; Asian</th>\n",
       "      <td>5</td>\n",
       "    </tr>\n",
       "    <tr>\n",
       "      <th>Other Black background</th>\n",
       "      <td>4</td>\n",
       "    </tr>\n",
       "    <tr>\n",
       "      <th>Mixed - White &amp; Black Caribbean</th>\n",
       "      <td>4</td>\n",
       "    </tr>\n",
       "    <tr>\n",
       "      <th>Black or Black British - Caribbean</th>\n",
       "      <td>4</td>\n",
       "    </tr>\n",
       "  </tbody>\n",
       "</table>\n",
       "</div>"
      ],
      "text/plain": [
       "                                      ethnicity\n",
       "White                                       375\n",
       "Black or Black British - African             47\n",
       "Asian or Asian British - Indian              33\n",
       "Asian or Asian British - Pakistani           22\n",
       "Other Asian background                       21\n",
       "Asian or Asian British - Bangladeshi          8\n",
       "Mixed - White & Black African                 8\n",
       "Not known                                     8\n",
       "Other ethnic background                       7\n",
       "Other mixed background                        6\n",
       "Chinese                                       6\n",
       "Arab                                          5\n",
       "Mixed - White & Asian                         5\n",
       "Other Black background                        4\n",
       "Mixed - White & Black Caribbean               4\n",
       "Black or Black British - Caribbean            4"
      ]
     },
     "execution_count": 410,
     "metadata": {},
     "output_type": "execute_result"
    }
   ],
   "source": [
    "#find ethnicity distribution\n",
    "ethn_counts = pd.DataFrame(data = df1[\"ethnicity\"].value_counts(), dtype=None, copy=None)\n",
    "ethn_counts"
   ]
  },
  {
   "cell_type": "code",
   "execution_count": 411,
   "id": "16d57bde",
   "metadata": {},
   "outputs": [
    {
     "data": {
      "application/vnd.plotly.v1+json": {
       "config": {
        "plotlyServerURL": "https://plot.ly"
       },
       "data": [
        {
         "alignmentgroup": "True",
         "hovertemplate": "variable=ethnicity<br>index=%{x}<br>value=%{y}<extra></extra>",
         "legendgroup": "ethnicity",
         "marker": {
          "color": "#636efa",
          "pattern": {
           "shape": ""
          }
         },
         "name": "ethnicity",
         "offsetgroup": "ethnicity",
         "orientation": "v",
         "showlegend": true,
         "textposition": "auto",
         "type": "bar",
         "x": [
          "White",
          "Black or Black British - African",
          "Asian or Asian British - Indian",
          "Asian or Asian British - Pakistani",
          "Other Asian background",
          "Asian or Asian British - Bangladeshi",
          "Mixed - White & Black African",
          "Not known",
          "Other ethnic background",
          "Other mixed background",
          "Chinese",
          "Arab",
          "Mixed - White & Asian",
          "Other Black background",
          "Mixed - White & Black Caribbean",
          "Black or Black British - Caribbean"
         ],
         "xaxis": "x",
         "y": [
          375,
          47,
          33,
          22,
          21,
          8,
          8,
          8,
          7,
          6,
          6,
          5,
          5,
          4,
          4,
          4
         ],
         "yaxis": "y"
        }
       ],
       "layout": {
        "barmode": "relative",
        "legend": {
         "title": {
          "text": "variable"
         },
         "tracegroupgap": 0
        },
        "showlegend": false,
        "template": {
         "data": {
          "bar": [
           {
            "error_x": {
             "color": "#2a3f5f"
            },
            "error_y": {
             "color": "#2a3f5f"
            },
            "marker": {
             "line": {
              "color": "#E5ECF6",
              "width": 0.5
             },
             "pattern": {
              "fillmode": "overlay",
              "size": 10,
              "solidity": 0.2
             }
            },
            "type": "bar"
           }
          ],
          "barpolar": [
           {
            "marker": {
             "line": {
              "color": "#E5ECF6",
              "width": 0.5
             },
             "pattern": {
              "fillmode": "overlay",
              "size": 10,
              "solidity": 0.2
             }
            },
            "type": "barpolar"
           }
          ],
          "carpet": [
           {
            "aaxis": {
             "endlinecolor": "#2a3f5f",
             "gridcolor": "white",
             "linecolor": "white",
             "minorgridcolor": "white",
             "startlinecolor": "#2a3f5f"
            },
            "baxis": {
             "endlinecolor": "#2a3f5f",
             "gridcolor": "white",
             "linecolor": "white",
             "minorgridcolor": "white",
             "startlinecolor": "#2a3f5f"
            },
            "type": "carpet"
           }
          ],
          "choropleth": [
           {
            "colorbar": {
             "outlinewidth": 0,
             "ticks": ""
            },
            "type": "choropleth"
           }
          ],
          "contour": [
           {
            "colorbar": {
             "outlinewidth": 0,
             "ticks": ""
            },
            "colorscale": [
             [
              0,
              "#0d0887"
             ],
             [
              0.1111111111111111,
              "#46039f"
             ],
             [
              0.2222222222222222,
              "#7201a8"
             ],
             [
              0.3333333333333333,
              "#9c179e"
             ],
             [
              0.4444444444444444,
              "#bd3786"
             ],
             [
              0.5555555555555556,
              "#d8576b"
             ],
             [
              0.6666666666666666,
              "#ed7953"
             ],
             [
              0.7777777777777778,
              "#fb9f3a"
             ],
             [
              0.8888888888888888,
              "#fdca26"
             ],
             [
              1,
              "#f0f921"
             ]
            ],
            "type": "contour"
           }
          ],
          "contourcarpet": [
           {
            "colorbar": {
             "outlinewidth": 0,
             "ticks": ""
            },
            "type": "contourcarpet"
           }
          ],
          "heatmap": [
           {
            "colorbar": {
             "outlinewidth": 0,
             "ticks": ""
            },
            "colorscale": [
             [
              0,
              "#0d0887"
             ],
             [
              0.1111111111111111,
              "#46039f"
             ],
             [
              0.2222222222222222,
              "#7201a8"
             ],
             [
              0.3333333333333333,
              "#9c179e"
             ],
             [
              0.4444444444444444,
              "#bd3786"
             ],
             [
              0.5555555555555556,
              "#d8576b"
             ],
             [
              0.6666666666666666,
              "#ed7953"
             ],
             [
              0.7777777777777778,
              "#fb9f3a"
             ],
             [
              0.8888888888888888,
              "#fdca26"
             ],
             [
              1,
              "#f0f921"
             ]
            ],
            "type": "heatmap"
           }
          ],
          "heatmapgl": [
           {
            "colorbar": {
             "outlinewidth": 0,
             "ticks": ""
            },
            "colorscale": [
             [
              0,
              "#0d0887"
             ],
             [
              0.1111111111111111,
              "#46039f"
             ],
             [
              0.2222222222222222,
              "#7201a8"
             ],
             [
              0.3333333333333333,
              "#9c179e"
             ],
             [
              0.4444444444444444,
              "#bd3786"
             ],
             [
              0.5555555555555556,
              "#d8576b"
             ],
             [
              0.6666666666666666,
              "#ed7953"
             ],
             [
              0.7777777777777778,
              "#fb9f3a"
             ],
             [
              0.8888888888888888,
              "#fdca26"
             ],
             [
              1,
              "#f0f921"
             ]
            ],
            "type": "heatmapgl"
           }
          ],
          "histogram": [
           {
            "marker": {
             "pattern": {
              "fillmode": "overlay",
              "size": 10,
              "solidity": 0.2
             }
            },
            "type": "histogram"
           }
          ],
          "histogram2d": [
           {
            "colorbar": {
             "outlinewidth": 0,
             "ticks": ""
            },
            "colorscale": [
             [
              0,
              "#0d0887"
             ],
             [
              0.1111111111111111,
              "#46039f"
             ],
             [
              0.2222222222222222,
              "#7201a8"
             ],
             [
              0.3333333333333333,
              "#9c179e"
             ],
             [
              0.4444444444444444,
              "#bd3786"
             ],
             [
              0.5555555555555556,
              "#d8576b"
             ],
             [
              0.6666666666666666,
              "#ed7953"
             ],
             [
              0.7777777777777778,
              "#fb9f3a"
             ],
             [
              0.8888888888888888,
              "#fdca26"
             ],
             [
              1,
              "#f0f921"
             ]
            ],
            "type": "histogram2d"
           }
          ],
          "histogram2dcontour": [
           {
            "colorbar": {
             "outlinewidth": 0,
             "ticks": ""
            },
            "colorscale": [
             [
              0,
              "#0d0887"
             ],
             [
              0.1111111111111111,
              "#46039f"
             ],
             [
              0.2222222222222222,
              "#7201a8"
             ],
             [
              0.3333333333333333,
              "#9c179e"
             ],
             [
              0.4444444444444444,
              "#bd3786"
             ],
             [
              0.5555555555555556,
              "#d8576b"
             ],
             [
              0.6666666666666666,
              "#ed7953"
             ],
             [
              0.7777777777777778,
              "#fb9f3a"
             ],
             [
              0.8888888888888888,
              "#fdca26"
             ],
             [
              1,
              "#f0f921"
             ]
            ],
            "type": "histogram2dcontour"
           }
          ],
          "mesh3d": [
           {
            "colorbar": {
             "outlinewidth": 0,
             "ticks": ""
            },
            "type": "mesh3d"
           }
          ],
          "parcoords": [
           {
            "line": {
             "colorbar": {
              "outlinewidth": 0,
              "ticks": ""
             }
            },
            "type": "parcoords"
           }
          ],
          "pie": [
           {
            "automargin": true,
            "type": "pie"
           }
          ],
          "scatter": [
           {
            "fillpattern": {
             "fillmode": "overlay",
             "size": 10,
             "solidity": 0.2
            },
            "type": "scatter"
           }
          ],
          "scatter3d": [
           {
            "line": {
             "colorbar": {
              "outlinewidth": 0,
              "ticks": ""
             }
            },
            "marker": {
             "colorbar": {
              "outlinewidth": 0,
              "ticks": ""
             }
            },
            "type": "scatter3d"
           }
          ],
          "scattercarpet": [
           {
            "marker": {
             "colorbar": {
              "outlinewidth": 0,
              "ticks": ""
             }
            },
            "type": "scattercarpet"
           }
          ],
          "scattergeo": [
           {
            "marker": {
             "colorbar": {
              "outlinewidth": 0,
              "ticks": ""
             }
            },
            "type": "scattergeo"
           }
          ],
          "scattergl": [
           {
            "marker": {
             "colorbar": {
              "outlinewidth": 0,
              "ticks": ""
             }
            },
            "type": "scattergl"
           }
          ],
          "scattermapbox": [
           {
            "marker": {
             "colorbar": {
              "outlinewidth": 0,
              "ticks": ""
             }
            },
            "type": "scattermapbox"
           }
          ],
          "scatterpolar": [
           {
            "marker": {
             "colorbar": {
              "outlinewidth": 0,
              "ticks": ""
             }
            },
            "type": "scatterpolar"
           }
          ],
          "scatterpolargl": [
           {
            "marker": {
             "colorbar": {
              "outlinewidth": 0,
              "ticks": ""
             }
            },
            "type": "scatterpolargl"
           }
          ],
          "scatterternary": [
           {
            "marker": {
             "colorbar": {
              "outlinewidth": 0,
              "ticks": ""
             }
            },
            "type": "scatterternary"
           }
          ],
          "surface": [
           {
            "colorbar": {
             "outlinewidth": 0,
             "ticks": ""
            },
            "colorscale": [
             [
              0,
              "#0d0887"
             ],
             [
              0.1111111111111111,
              "#46039f"
             ],
             [
              0.2222222222222222,
              "#7201a8"
             ],
             [
              0.3333333333333333,
              "#9c179e"
             ],
             [
              0.4444444444444444,
              "#bd3786"
             ],
             [
              0.5555555555555556,
              "#d8576b"
             ],
             [
              0.6666666666666666,
              "#ed7953"
             ],
             [
              0.7777777777777778,
              "#fb9f3a"
             ],
             [
              0.8888888888888888,
              "#fdca26"
             ],
             [
              1,
              "#f0f921"
             ]
            ],
            "type": "surface"
           }
          ],
          "table": [
           {
            "cells": {
             "fill": {
              "color": "#EBF0F8"
             },
             "line": {
              "color": "white"
             }
            },
            "header": {
             "fill": {
              "color": "#C8D4E3"
             },
             "line": {
              "color": "white"
             }
            },
            "type": "table"
           }
          ]
         },
         "layout": {
          "annotationdefaults": {
           "arrowcolor": "#2a3f5f",
           "arrowhead": 0,
           "arrowwidth": 1
          },
          "autotypenumbers": "strict",
          "coloraxis": {
           "colorbar": {
            "outlinewidth": 0,
            "ticks": ""
           }
          },
          "colorscale": {
           "diverging": [
            [
             0,
             "#8e0152"
            ],
            [
             0.1,
             "#c51b7d"
            ],
            [
             0.2,
             "#de77ae"
            ],
            [
             0.3,
             "#f1b6da"
            ],
            [
             0.4,
             "#fde0ef"
            ],
            [
             0.5,
             "#f7f7f7"
            ],
            [
             0.6,
             "#e6f5d0"
            ],
            [
             0.7,
             "#b8e186"
            ],
            [
             0.8,
             "#7fbc41"
            ],
            [
             0.9,
             "#4d9221"
            ],
            [
             1,
             "#276419"
            ]
           ],
           "sequential": [
            [
             0,
             "#0d0887"
            ],
            [
             0.1111111111111111,
             "#46039f"
            ],
            [
             0.2222222222222222,
             "#7201a8"
            ],
            [
             0.3333333333333333,
             "#9c179e"
            ],
            [
             0.4444444444444444,
             "#bd3786"
            ],
            [
             0.5555555555555556,
             "#d8576b"
            ],
            [
             0.6666666666666666,
             "#ed7953"
            ],
            [
             0.7777777777777778,
             "#fb9f3a"
            ],
            [
             0.8888888888888888,
             "#fdca26"
            ],
            [
             1,
             "#f0f921"
            ]
           ],
           "sequentialminus": [
            [
             0,
             "#0d0887"
            ],
            [
             0.1111111111111111,
             "#46039f"
            ],
            [
             0.2222222222222222,
             "#7201a8"
            ],
            [
             0.3333333333333333,
             "#9c179e"
            ],
            [
             0.4444444444444444,
             "#bd3786"
            ],
            [
             0.5555555555555556,
             "#d8576b"
            ],
            [
             0.6666666666666666,
             "#ed7953"
            ],
            [
             0.7777777777777778,
             "#fb9f3a"
            ],
            [
             0.8888888888888888,
             "#fdca26"
            ],
            [
             1,
             "#f0f921"
            ]
           ]
          },
          "colorway": [
           "#636efa",
           "#EF553B",
           "#00cc96",
           "#ab63fa",
           "#FFA15A",
           "#19d3f3",
           "#FF6692",
           "#B6E880",
           "#FF97FF",
           "#FECB52"
          ],
          "font": {
           "color": "#2a3f5f"
          },
          "geo": {
           "bgcolor": "white",
           "lakecolor": "white",
           "landcolor": "#E5ECF6",
           "showlakes": true,
           "showland": true,
           "subunitcolor": "white"
          },
          "hoverlabel": {
           "align": "left"
          },
          "hovermode": "closest",
          "mapbox": {
           "style": "light"
          },
          "paper_bgcolor": "white",
          "plot_bgcolor": "#E5ECF6",
          "polar": {
           "angularaxis": {
            "gridcolor": "white",
            "linecolor": "white",
            "ticks": ""
           },
           "bgcolor": "#E5ECF6",
           "radialaxis": {
            "gridcolor": "white",
            "linecolor": "white",
            "ticks": ""
           }
          },
          "scene": {
           "xaxis": {
            "backgroundcolor": "#E5ECF6",
            "gridcolor": "white",
            "gridwidth": 2,
            "linecolor": "white",
            "showbackground": true,
            "ticks": "",
            "zerolinecolor": "white"
           },
           "yaxis": {
            "backgroundcolor": "#E5ECF6",
            "gridcolor": "white",
            "gridwidth": 2,
            "linecolor": "white",
            "showbackground": true,
            "ticks": "",
            "zerolinecolor": "white"
           },
           "zaxis": {
            "backgroundcolor": "#E5ECF6",
            "gridcolor": "white",
            "gridwidth": 2,
            "linecolor": "white",
            "showbackground": true,
            "ticks": "",
            "zerolinecolor": "white"
           }
          },
          "shapedefaults": {
           "line": {
            "color": "#2a3f5f"
           }
          },
          "ternary": {
           "aaxis": {
            "gridcolor": "white",
            "linecolor": "white",
            "ticks": ""
           },
           "baxis": {
            "gridcolor": "white",
            "linecolor": "white",
            "ticks": ""
           },
           "bgcolor": "#E5ECF6",
           "caxis": {
            "gridcolor": "white",
            "linecolor": "white",
            "ticks": ""
           }
          },
          "title": {
           "x": 0.05
          },
          "xaxis": {
           "automargin": true,
           "gridcolor": "white",
           "linecolor": "white",
           "ticks": "",
           "title": {
            "standoff": 15
           },
           "zerolinecolor": "white",
           "zerolinewidth": 2
          },
          "yaxis": {
           "automargin": true,
           "gridcolor": "white",
           "linecolor": "white",
           "ticks": "",
           "title": {
            "standoff": 15
           },
           "zerolinecolor": "white",
           "zerolinewidth": 2
          }
         }
        },
        "title": {
         "text": "ethnic distribution of Welcome Buddies",
         "x": 0.5
        },
        "xaxis": {
         "anchor": "y",
         "domain": [
          0,
          1
         ],
         "title": {
          "text": "ethnic"
         }
        },
        "yaxis": {
         "anchor": "x",
         "domain": [
          0,
          1
         ],
         "title": {
          "text": "frequency"
         }
        }
       }
      },
      "text/html": [
       "<div>                            <div id=\"a8f46260-00bc-4a80-893d-3565d85248a8\" class=\"plotly-graph-div\" style=\"height:525px; width:100%;\"></div>            <script type=\"text/javascript\">                require([\"plotly\"], function(Plotly) {                    window.PLOTLYENV=window.PLOTLYENV || {};                                    if (document.getElementById(\"a8f46260-00bc-4a80-893d-3565d85248a8\")) {                    Plotly.newPlot(                        \"a8f46260-00bc-4a80-893d-3565d85248a8\",                        [{\"alignmentgroup\":\"True\",\"hovertemplate\":\"variable=ethnicity<br>index=%{x}<br>value=%{y}<extra></extra>\",\"legendgroup\":\"ethnicity\",\"marker\":{\"color\":\"#636efa\",\"pattern\":{\"shape\":\"\"}},\"name\":\"ethnicity\",\"offsetgroup\":\"ethnicity\",\"orientation\":\"v\",\"showlegend\":true,\"textposition\":\"auto\",\"x\":[\"White\",\"Black or Black British - African\",\"Asian or Asian British - Indian\",\"Asian or Asian British - Pakistani\",\"Other Asian background\",\"Asian or Asian British - Bangladeshi\",\"Mixed - White & Black African\",\"Not known\",\"Other ethnic background\",\"Other mixed background\",\"Chinese\",\"Arab\",\"Mixed - White & Asian\",\"Other Black background\",\"Mixed - White & Black Caribbean\",\"Black or Black British - Caribbean\"],\"xaxis\":\"x\",\"y\":[375,47,33,22,21,8,8,8,7,6,6,5,5,4,4,4],\"yaxis\":\"y\",\"type\":\"bar\"}],                        {\"template\":{\"data\":{\"histogram2dcontour\":[{\"type\":\"histogram2dcontour\",\"colorbar\":{\"outlinewidth\":0,\"ticks\":\"\"},\"colorscale\":[[0.0,\"#0d0887\"],[0.1111111111111111,\"#46039f\"],[0.2222222222222222,\"#7201a8\"],[0.3333333333333333,\"#9c179e\"],[0.4444444444444444,\"#bd3786\"],[0.5555555555555556,\"#d8576b\"],[0.6666666666666666,\"#ed7953\"],[0.7777777777777778,\"#fb9f3a\"],[0.8888888888888888,\"#fdca26\"],[1.0,\"#f0f921\"]]}],\"choropleth\":[{\"type\":\"choropleth\",\"colorbar\":{\"outlinewidth\":0,\"ticks\":\"\"}}],\"histogram2d\":[{\"type\":\"histogram2d\",\"colorbar\":{\"outlinewidth\":0,\"ticks\":\"\"},\"colorscale\":[[0.0,\"#0d0887\"],[0.1111111111111111,\"#46039f\"],[0.2222222222222222,\"#7201a8\"],[0.3333333333333333,\"#9c179e\"],[0.4444444444444444,\"#bd3786\"],[0.5555555555555556,\"#d8576b\"],[0.6666666666666666,\"#ed7953\"],[0.7777777777777778,\"#fb9f3a\"],[0.8888888888888888,\"#fdca26\"],[1.0,\"#f0f921\"]]}],\"heatmap\":[{\"type\":\"heatmap\",\"colorbar\":{\"outlinewidth\":0,\"ticks\":\"\"},\"colorscale\":[[0.0,\"#0d0887\"],[0.1111111111111111,\"#46039f\"],[0.2222222222222222,\"#7201a8\"],[0.3333333333333333,\"#9c179e\"],[0.4444444444444444,\"#bd3786\"],[0.5555555555555556,\"#d8576b\"],[0.6666666666666666,\"#ed7953\"],[0.7777777777777778,\"#fb9f3a\"],[0.8888888888888888,\"#fdca26\"],[1.0,\"#f0f921\"]]}],\"heatmapgl\":[{\"type\":\"heatmapgl\",\"colorbar\":{\"outlinewidth\":0,\"ticks\":\"\"},\"colorscale\":[[0.0,\"#0d0887\"],[0.1111111111111111,\"#46039f\"],[0.2222222222222222,\"#7201a8\"],[0.3333333333333333,\"#9c179e\"],[0.4444444444444444,\"#bd3786\"],[0.5555555555555556,\"#d8576b\"],[0.6666666666666666,\"#ed7953\"],[0.7777777777777778,\"#fb9f3a\"],[0.8888888888888888,\"#fdca26\"],[1.0,\"#f0f921\"]]}],\"contourcarpet\":[{\"type\":\"contourcarpet\",\"colorbar\":{\"outlinewidth\":0,\"ticks\":\"\"}}],\"contour\":[{\"type\":\"contour\",\"colorbar\":{\"outlinewidth\":0,\"ticks\":\"\"},\"colorscale\":[[0.0,\"#0d0887\"],[0.1111111111111111,\"#46039f\"],[0.2222222222222222,\"#7201a8\"],[0.3333333333333333,\"#9c179e\"],[0.4444444444444444,\"#bd3786\"],[0.5555555555555556,\"#d8576b\"],[0.6666666666666666,\"#ed7953\"],[0.7777777777777778,\"#fb9f3a\"],[0.8888888888888888,\"#fdca26\"],[1.0,\"#f0f921\"]]}],\"surface\":[{\"type\":\"surface\",\"colorbar\":{\"outlinewidth\":0,\"ticks\":\"\"},\"colorscale\":[[0.0,\"#0d0887\"],[0.1111111111111111,\"#46039f\"],[0.2222222222222222,\"#7201a8\"],[0.3333333333333333,\"#9c179e\"],[0.4444444444444444,\"#bd3786\"],[0.5555555555555556,\"#d8576b\"],[0.6666666666666666,\"#ed7953\"],[0.7777777777777778,\"#fb9f3a\"],[0.8888888888888888,\"#fdca26\"],[1.0,\"#f0f921\"]]}],\"mesh3d\":[{\"type\":\"mesh3d\",\"colorbar\":{\"outlinewidth\":0,\"ticks\":\"\"}}],\"scatter\":[{\"fillpattern\":{\"fillmode\":\"overlay\",\"size\":10,\"solidity\":0.2},\"type\":\"scatter\"}],\"parcoords\":[{\"type\":\"parcoords\",\"line\":{\"colorbar\":{\"outlinewidth\":0,\"ticks\":\"\"}}}],\"scatterpolargl\":[{\"type\":\"scatterpolargl\",\"marker\":{\"colorbar\":{\"outlinewidth\":0,\"ticks\":\"\"}}}],\"bar\":[{\"error_x\":{\"color\":\"#2a3f5f\"},\"error_y\":{\"color\":\"#2a3f5f\"},\"marker\":{\"line\":{\"color\":\"#E5ECF6\",\"width\":0.5},\"pattern\":{\"fillmode\":\"overlay\",\"size\":10,\"solidity\":0.2}},\"type\":\"bar\"}],\"scattergeo\":[{\"type\":\"scattergeo\",\"marker\":{\"colorbar\":{\"outlinewidth\":0,\"ticks\":\"\"}}}],\"scatterpolar\":[{\"type\":\"scatterpolar\",\"marker\":{\"colorbar\":{\"outlinewidth\":0,\"ticks\":\"\"}}}],\"histogram\":[{\"marker\":{\"pattern\":{\"fillmode\":\"overlay\",\"size\":10,\"solidity\":0.2}},\"type\":\"histogram\"}],\"scattergl\":[{\"type\":\"scattergl\",\"marker\":{\"colorbar\":{\"outlinewidth\":0,\"ticks\":\"\"}}}],\"scatter3d\":[{\"type\":\"scatter3d\",\"line\":{\"colorbar\":{\"outlinewidth\":0,\"ticks\":\"\"}},\"marker\":{\"colorbar\":{\"outlinewidth\":0,\"ticks\":\"\"}}}],\"scattermapbox\":[{\"type\":\"scattermapbox\",\"marker\":{\"colorbar\":{\"outlinewidth\":0,\"ticks\":\"\"}}}],\"scatterternary\":[{\"type\":\"scatterternary\",\"marker\":{\"colorbar\":{\"outlinewidth\":0,\"ticks\":\"\"}}}],\"scattercarpet\":[{\"type\":\"scattercarpet\",\"marker\":{\"colorbar\":{\"outlinewidth\":0,\"ticks\":\"\"}}}],\"carpet\":[{\"aaxis\":{\"endlinecolor\":\"#2a3f5f\",\"gridcolor\":\"white\",\"linecolor\":\"white\",\"minorgridcolor\":\"white\",\"startlinecolor\":\"#2a3f5f\"},\"baxis\":{\"endlinecolor\":\"#2a3f5f\",\"gridcolor\":\"white\",\"linecolor\":\"white\",\"minorgridcolor\":\"white\",\"startlinecolor\":\"#2a3f5f\"},\"type\":\"carpet\"}],\"table\":[{\"cells\":{\"fill\":{\"color\":\"#EBF0F8\"},\"line\":{\"color\":\"white\"}},\"header\":{\"fill\":{\"color\":\"#C8D4E3\"},\"line\":{\"color\":\"white\"}},\"type\":\"table\"}],\"barpolar\":[{\"marker\":{\"line\":{\"color\":\"#E5ECF6\",\"width\":0.5},\"pattern\":{\"fillmode\":\"overlay\",\"size\":10,\"solidity\":0.2}},\"type\":\"barpolar\"}],\"pie\":[{\"automargin\":true,\"type\":\"pie\"}]},\"layout\":{\"autotypenumbers\":\"strict\",\"colorway\":[\"#636efa\",\"#EF553B\",\"#00cc96\",\"#ab63fa\",\"#FFA15A\",\"#19d3f3\",\"#FF6692\",\"#B6E880\",\"#FF97FF\",\"#FECB52\"],\"font\":{\"color\":\"#2a3f5f\"},\"hovermode\":\"closest\",\"hoverlabel\":{\"align\":\"left\"},\"paper_bgcolor\":\"white\",\"plot_bgcolor\":\"#E5ECF6\",\"polar\":{\"bgcolor\":\"#E5ECF6\",\"angularaxis\":{\"gridcolor\":\"white\",\"linecolor\":\"white\",\"ticks\":\"\"},\"radialaxis\":{\"gridcolor\":\"white\",\"linecolor\":\"white\",\"ticks\":\"\"}},\"ternary\":{\"bgcolor\":\"#E5ECF6\",\"aaxis\":{\"gridcolor\":\"white\",\"linecolor\":\"white\",\"ticks\":\"\"},\"baxis\":{\"gridcolor\":\"white\",\"linecolor\":\"white\",\"ticks\":\"\"},\"caxis\":{\"gridcolor\":\"white\",\"linecolor\":\"white\",\"ticks\":\"\"}},\"coloraxis\":{\"colorbar\":{\"outlinewidth\":0,\"ticks\":\"\"}},\"colorscale\":{\"sequential\":[[0.0,\"#0d0887\"],[0.1111111111111111,\"#46039f\"],[0.2222222222222222,\"#7201a8\"],[0.3333333333333333,\"#9c179e\"],[0.4444444444444444,\"#bd3786\"],[0.5555555555555556,\"#d8576b\"],[0.6666666666666666,\"#ed7953\"],[0.7777777777777778,\"#fb9f3a\"],[0.8888888888888888,\"#fdca26\"],[1.0,\"#f0f921\"]],\"sequentialminus\":[[0.0,\"#0d0887\"],[0.1111111111111111,\"#46039f\"],[0.2222222222222222,\"#7201a8\"],[0.3333333333333333,\"#9c179e\"],[0.4444444444444444,\"#bd3786\"],[0.5555555555555556,\"#d8576b\"],[0.6666666666666666,\"#ed7953\"],[0.7777777777777778,\"#fb9f3a\"],[0.8888888888888888,\"#fdca26\"],[1.0,\"#f0f921\"]],\"diverging\":[[0,\"#8e0152\"],[0.1,\"#c51b7d\"],[0.2,\"#de77ae\"],[0.3,\"#f1b6da\"],[0.4,\"#fde0ef\"],[0.5,\"#f7f7f7\"],[0.6,\"#e6f5d0\"],[0.7,\"#b8e186\"],[0.8,\"#7fbc41\"],[0.9,\"#4d9221\"],[1,\"#276419\"]]},\"xaxis\":{\"gridcolor\":\"white\",\"linecolor\":\"white\",\"ticks\":\"\",\"title\":{\"standoff\":15},\"zerolinecolor\":\"white\",\"automargin\":true,\"zerolinewidth\":2},\"yaxis\":{\"gridcolor\":\"white\",\"linecolor\":\"white\",\"ticks\":\"\",\"title\":{\"standoff\":15},\"zerolinecolor\":\"white\",\"automargin\":true,\"zerolinewidth\":2},\"scene\":{\"xaxis\":{\"backgroundcolor\":\"#E5ECF6\",\"gridcolor\":\"white\",\"linecolor\":\"white\",\"showbackground\":true,\"ticks\":\"\",\"zerolinecolor\":\"white\",\"gridwidth\":2},\"yaxis\":{\"backgroundcolor\":\"#E5ECF6\",\"gridcolor\":\"white\",\"linecolor\":\"white\",\"showbackground\":true,\"ticks\":\"\",\"zerolinecolor\":\"white\",\"gridwidth\":2},\"zaxis\":{\"backgroundcolor\":\"#E5ECF6\",\"gridcolor\":\"white\",\"linecolor\":\"white\",\"showbackground\":true,\"ticks\":\"\",\"zerolinecolor\":\"white\",\"gridwidth\":2}},\"shapedefaults\":{\"line\":{\"color\":\"#2a3f5f\"}},\"annotationdefaults\":{\"arrowcolor\":\"#2a3f5f\",\"arrowhead\":0,\"arrowwidth\":1},\"geo\":{\"bgcolor\":\"white\",\"landcolor\":\"#E5ECF6\",\"subunitcolor\":\"white\",\"showland\":true,\"showlakes\":true,\"lakecolor\":\"white\"},\"title\":{\"x\":0.05},\"mapbox\":{\"style\":\"light\"}}},\"xaxis\":{\"anchor\":\"y\",\"domain\":[0.0,1.0],\"title\":{\"text\":\"ethnic\"}},\"yaxis\":{\"anchor\":\"x\",\"domain\":[0.0,1.0],\"title\":{\"text\":\"frequency\"}},\"legend\":{\"title\":{\"text\":\"variable\"},\"tracegroupgap\":0},\"title\":{\"text\":\"ethnic distribution of Welcome Buddies\",\"x\":0.5},\"barmode\":\"relative\",\"showlegend\":false},                        {\"responsive\": true}                    ).then(function(){\n",
       "                            \n",
       "var gd = document.getElementById('a8f46260-00bc-4a80-893d-3565d85248a8');\n",
       "var x = new MutationObserver(function (mutations, observer) {{\n",
       "        var display = window.getComputedStyle(gd).display;\n",
       "        if (!display || display === 'none') {{\n",
       "            console.log([gd, 'removed!']);\n",
       "            Plotly.purge(gd);\n",
       "            observer.disconnect();\n",
       "        }}\n",
       "}});\n",
       "\n",
       "// Listen for the removal of the full notebook cells\n",
       "var notebookContainer = gd.closest('#notebook-container');\n",
       "if (notebookContainer) {{\n",
       "    x.observe(notebookContainer, {childList: true});\n",
       "}}\n",
       "\n",
       "// Listen for the clearing of the current output cell\n",
       "var outputEl = gd.closest('.output');\n",
       "if (outputEl) {{\n",
       "    x.observe(outputEl, {childList: true});\n",
       "}}\n",
       "\n",
       "                        })                };                });            </script>        </div>"
      ]
     },
     "metadata": {},
     "output_type": "display_data"
    }
   ],
   "source": [
    "ethn_fig = px.bar(ethn_counts, title=\"ethnic distribution of Welcome Buddies\")\n",
    "ethn_fig.update_layout(\n",
    "    xaxis_title = \"ethnic\",\n",
    "    yaxis_title = \"frequency\",\n",
    "    title_x = 0.5, \n",
    "    showlegend = False\n",
    ")\n",
    "ethn_fig.show()"
   ]
  },
  {
   "cell_type": "markdown",
   "id": "fc190d98",
   "metadata": {},
   "source": [
    "### nationality"
   ]
  },
  {
   "cell_type": "code",
   "execution_count": 412,
   "id": "8aabd1b0",
   "metadata": {},
   "outputs": [
    {
     "data": {
      "text/html": [
       "<div>\n",
       "<style scoped>\n",
       "    .dataframe tbody tr th:only-of-type {\n",
       "        vertical-align: middle;\n",
       "    }\n",
       "\n",
       "    .dataframe tbody tr th {\n",
       "        vertical-align: top;\n",
       "    }\n",
       "\n",
       "    .dataframe thead th {\n",
       "        text-align: right;\n",
       "    }\n",
       "</style>\n",
       "<table border=\"1\" class=\"dataframe\">\n",
       "  <thead>\n",
       "    <tr style=\"text-align: right;\">\n",
       "      <th></th>\n",
       "      <th>nationality</th>\n",
       "    </tr>\n",
       "  </thead>\n",
       "  <tbody>\n",
       "    <tr>\n",
       "      <th>UK National</th>\n",
       "      <td>393</td>\n",
       "    </tr>\n",
       "    <tr>\n",
       "      <th>Portuguese</th>\n",
       "      <td>20</td>\n",
       "    </tr>\n",
       "    <tr>\n",
       "      <th>Indian</th>\n",
       "      <td>16</td>\n",
       "    </tr>\n",
       "    <tr>\n",
       "      <th>Italian</th>\n",
       "      <td>16</td>\n",
       "    </tr>\n",
       "    <tr>\n",
       "      <th>Romanian</th>\n",
       "      <td>15</td>\n",
       "    </tr>\n",
       "  </tbody>\n",
       "</table>\n",
       "</div>"
      ],
      "text/plain": [
       "             nationality\n",
       "UK National          393\n",
       "Portuguese            20\n",
       "Indian                16\n",
       "Italian               16\n",
       "Romanian              15"
      ]
     },
     "execution_count": 412,
     "metadata": {},
     "output_type": "execute_result"
    }
   ],
   "source": [
    "#find nationality distribution\n",
    "nat_counts = pd.DataFrame(data = df1[\"nationality\"].value_counts(), dtype=None, copy=None)\n",
    "nat_counts.head()"
   ]
  },
  {
   "cell_type": "code",
   "execution_count": 413,
   "id": "8157f271",
   "metadata": {},
   "outputs": [
    {
     "data": {
      "application/vnd.plotly.v1+json": {
       "config": {
        "plotlyServerURL": "https://plot.ly"
       },
       "data": [
        {
         "alignmentgroup": "True",
         "hovertemplate": "variable=nationality<br>index=%{x}<br>value=%{y}<extra></extra>",
         "legendgroup": "nationality",
         "marker": {
          "color": "#636efa",
          "pattern": {
           "shape": ""
          }
         },
         "name": "nationality",
         "offsetgroup": "nationality",
         "orientation": "v",
         "showlegend": true,
         "textposition": "auto",
         "type": "bar",
         "x": [
          "UK National",
          "Portuguese",
          "Indian",
          "Italian",
          "Romanian",
          "Nigerian",
          "Polish",
          "Spanish",
          "Lithuanian",
          "Irish",
          "Pakistani",
          "Latvian",
          "Bulgarian",
          "Nepalese",
          "Czech",
          "German",
          "Dutch",
          "Ghanaian",
          "Philippine",
          "Ukrainian",
          "Chinese",
          "Bangladeshi",
          "Greek",
          "Gambian",
          "French",
          "Kazakh",
          "Finnish",
          "Jersey",
          "Israeli",
          "Belgian",
          "Tanzanian",
          "South African",
          "Sierra Leonean",
          "Fijian",
          "Hungarian",
          "Zimbabwean",
          "Egyptian",
          "Norwegian",
          "Dominica"
         ],
         "xaxis": "x",
         "y": [
          393,
          20,
          16,
          16,
          15,
          13,
          12,
          10,
          6,
          6,
          5,
          4,
          4,
          4,
          3,
          3,
          3,
          3,
          2,
          2,
          2,
          2,
          2,
          1,
          1,
          1,
          1,
          1,
          1,
          1,
          1,
          1,
          1,
          1,
          1,
          1,
          1,
          1,
          1
         ],
         "yaxis": "y"
        }
       ],
       "layout": {
        "barmode": "relative",
        "legend": {
         "title": {
          "text": "variable"
         },
         "tracegroupgap": 0
        },
        "showlegend": false,
        "template": {
         "data": {
          "bar": [
           {
            "error_x": {
             "color": "#2a3f5f"
            },
            "error_y": {
             "color": "#2a3f5f"
            },
            "marker": {
             "line": {
              "color": "#E5ECF6",
              "width": 0.5
             },
             "pattern": {
              "fillmode": "overlay",
              "size": 10,
              "solidity": 0.2
             }
            },
            "type": "bar"
           }
          ],
          "barpolar": [
           {
            "marker": {
             "line": {
              "color": "#E5ECF6",
              "width": 0.5
             },
             "pattern": {
              "fillmode": "overlay",
              "size": 10,
              "solidity": 0.2
             }
            },
            "type": "barpolar"
           }
          ],
          "carpet": [
           {
            "aaxis": {
             "endlinecolor": "#2a3f5f",
             "gridcolor": "white",
             "linecolor": "white",
             "minorgridcolor": "white",
             "startlinecolor": "#2a3f5f"
            },
            "baxis": {
             "endlinecolor": "#2a3f5f",
             "gridcolor": "white",
             "linecolor": "white",
             "minorgridcolor": "white",
             "startlinecolor": "#2a3f5f"
            },
            "type": "carpet"
           }
          ],
          "choropleth": [
           {
            "colorbar": {
             "outlinewidth": 0,
             "ticks": ""
            },
            "type": "choropleth"
           }
          ],
          "contour": [
           {
            "colorbar": {
             "outlinewidth": 0,
             "ticks": ""
            },
            "colorscale": [
             [
              0,
              "#0d0887"
             ],
             [
              0.1111111111111111,
              "#46039f"
             ],
             [
              0.2222222222222222,
              "#7201a8"
             ],
             [
              0.3333333333333333,
              "#9c179e"
             ],
             [
              0.4444444444444444,
              "#bd3786"
             ],
             [
              0.5555555555555556,
              "#d8576b"
             ],
             [
              0.6666666666666666,
              "#ed7953"
             ],
             [
              0.7777777777777778,
              "#fb9f3a"
             ],
             [
              0.8888888888888888,
              "#fdca26"
             ],
             [
              1,
              "#f0f921"
             ]
            ],
            "type": "contour"
           }
          ],
          "contourcarpet": [
           {
            "colorbar": {
             "outlinewidth": 0,
             "ticks": ""
            },
            "type": "contourcarpet"
           }
          ],
          "heatmap": [
           {
            "colorbar": {
             "outlinewidth": 0,
             "ticks": ""
            },
            "colorscale": [
             [
              0,
              "#0d0887"
             ],
             [
              0.1111111111111111,
              "#46039f"
             ],
             [
              0.2222222222222222,
              "#7201a8"
             ],
             [
              0.3333333333333333,
              "#9c179e"
             ],
             [
              0.4444444444444444,
              "#bd3786"
             ],
             [
              0.5555555555555556,
              "#d8576b"
             ],
             [
              0.6666666666666666,
              "#ed7953"
             ],
             [
              0.7777777777777778,
              "#fb9f3a"
             ],
             [
              0.8888888888888888,
              "#fdca26"
             ],
             [
              1,
              "#f0f921"
             ]
            ],
            "type": "heatmap"
           }
          ],
          "heatmapgl": [
           {
            "colorbar": {
             "outlinewidth": 0,
             "ticks": ""
            },
            "colorscale": [
             [
              0,
              "#0d0887"
             ],
             [
              0.1111111111111111,
              "#46039f"
             ],
             [
              0.2222222222222222,
              "#7201a8"
             ],
             [
              0.3333333333333333,
              "#9c179e"
             ],
             [
              0.4444444444444444,
              "#bd3786"
             ],
             [
              0.5555555555555556,
              "#d8576b"
             ],
             [
              0.6666666666666666,
              "#ed7953"
             ],
             [
              0.7777777777777778,
              "#fb9f3a"
             ],
             [
              0.8888888888888888,
              "#fdca26"
             ],
             [
              1,
              "#f0f921"
             ]
            ],
            "type": "heatmapgl"
           }
          ],
          "histogram": [
           {
            "marker": {
             "pattern": {
              "fillmode": "overlay",
              "size": 10,
              "solidity": 0.2
             }
            },
            "type": "histogram"
           }
          ],
          "histogram2d": [
           {
            "colorbar": {
             "outlinewidth": 0,
             "ticks": ""
            },
            "colorscale": [
             [
              0,
              "#0d0887"
             ],
             [
              0.1111111111111111,
              "#46039f"
             ],
             [
              0.2222222222222222,
              "#7201a8"
             ],
             [
              0.3333333333333333,
              "#9c179e"
             ],
             [
              0.4444444444444444,
              "#bd3786"
             ],
             [
              0.5555555555555556,
              "#d8576b"
             ],
             [
              0.6666666666666666,
              "#ed7953"
             ],
             [
              0.7777777777777778,
              "#fb9f3a"
             ],
             [
              0.8888888888888888,
              "#fdca26"
             ],
             [
              1,
              "#f0f921"
             ]
            ],
            "type": "histogram2d"
           }
          ],
          "histogram2dcontour": [
           {
            "colorbar": {
             "outlinewidth": 0,
             "ticks": ""
            },
            "colorscale": [
             [
              0,
              "#0d0887"
             ],
             [
              0.1111111111111111,
              "#46039f"
             ],
             [
              0.2222222222222222,
              "#7201a8"
             ],
             [
              0.3333333333333333,
              "#9c179e"
             ],
             [
              0.4444444444444444,
              "#bd3786"
             ],
             [
              0.5555555555555556,
              "#d8576b"
             ],
             [
              0.6666666666666666,
              "#ed7953"
             ],
             [
              0.7777777777777778,
              "#fb9f3a"
             ],
             [
              0.8888888888888888,
              "#fdca26"
             ],
             [
              1,
              "#f0f921"
             ]
            ],
            "type": "histogram2dcontour"
           }
          ],
          "mesh3d": [
           {
            "colorbar": {
             "outlinewidth": 0,
             "ticks": ""
            },
            "type": "mesh3d"
           }
          ],
          "parcoords": [
           {
            "line": {
             "colorbar": {
              "outlinewidth": 0,
              "ticks": ""
             }
            },
            "type": "parcoords"
           }
          ],
          "pie": [
           {
            "automargin": true,
            "type": "pie"
           }
          ],
          "scatter": [
           {
            "fillpattern": {
             "fillmode": "overlay",
             "size": 10,
             "solidity": 0.2
            },
            "type": "scatter"
           }
          ],
          "scatter3d": [
           {
            "line": {
             "colorbar": {
              "outlinewidth": 0,
              "ticks": ""
             }
            },
            "marker": {
             "colorbar": {
              "outlinewidth": 0,
              "ticks": ""
             }
            },
            "type": "scatter3d"
           }
          ],
          "scattercarpet": [
           {
            "marker": {
             "colorbar": {
              "outlinewidth": 0,
              "ticks": ""
             }
            },
            "type": "scattercarpet"
           }
          ],
          "scattergeo": [
           {
            "marker": {
             "colorbar": {
              "outlinewidth": 0,
              "ticks": ""
             }
            },
            "type": "scattergeo"
           }
          ],
          "scattergl": [
           {
            "marker": {
             "colorbar": {
              "outlinewidth": 0,
              "ticks": ""
             }
            },
            "type": "scattergl"
           }
          ],
          "scattermapbox": [
           {
            "marker": {
             "colorbar": {
              "outlinewidth": 0,
              "ticks": ""
             }
            },
            "type": "scattermapbox"
           }
          ],
          "scatterpolar": [
           {
            "marker": {
             "colorbar": {
              "outlinewidth": 0,
              "ticks": ""
             }
            },
            "type": "scatterpolar"
           }
          ],
          "scatterpolargl": [
           {
            "marker": {
             "colorbar": {
              "outlinewidth": 0,
              "ticks": ""
             }
            },
            "type": "scatterpolargl"
           }
          ],
          "scatterternary": [
           {
            "marker": {
             "colorbar": {
              "outlinewidth": 0,
              "ticks": ""
             }
            },
            "type": "scatterternary"
           }
          ],
          "surface": [
           {
            "colorbar": {
             "outlinewidth": 0,
             "ticks": ""
            },
            "colorscale": [
             [
              0,
              "#0d0887"
             ],
             [
              0.1111111111111111,
              "#46039f"
             ],
             [
              0.2222222222222222,
              "#7201a8"
             ],
             [
              0.3333333333333333,
              "#9c179e"
             ],
             [
              0.4444444444444444,
              "#bd3786"
             ],
             [
              0.5555555555555556,
              "#d8576b"
             ],
             [
              0.6666666666666666,
              "#ed7953"
             ],
             [
              0.7777777777777778,
              "#fb9f3a"
             ],
             [
              0.8888888888888888,
              "#fdca26"
             ],
             [
              1,
              "#f0f921"
             ]
            ],
            "type": "surface"
           }
          ],
          "table": [
           {
            "cells": {
             "fill": {
              "color": "#EBF0F8"
             },
             "line": {
              "color": "white"
             }
            },
            "header": {
             "fill": {
              "color": "#C8D4E3"
             },
             "line": {
              "color": "white"
             }
            },
            "type": "table"
           }
          ]
         },
         "layout": {
          "annotationdefaults": {
           "arrowcolor": "#2a3f5f",
           "arrowhead": 0,
           "arrowwidth": 1
          },
          "autotypenumbers": "strict",
          "coloraxis": {
           "colorbar": {
            "outlinewidth": 0,
            "ticks": ""
           }
          },
          "colorscale": {
           "diverging": [
            [
             0,
             "#8e0152"
            ],
            [
             0.1,
             "#c51b7d"
            ],
            [
             0.2,
             "#de77ae"
            ],
            [
             0.3,
             "#f1b6da"
            ],
            [
             0.4,
             "#fde0ef"
            ],
            [
             0.5,
             "#f7f7f7"
            ],
            [
             0.6,
             "#e6f5d0"
            ],
            [
             0.7,
             "#b8e186"
            ],
            [
             0.8,
             "#7fbc41"
            ],
            [
             0.9,
             "#4d9221"
            ],
            [
             1,
             "#276419"
            ]
           ],
           "sequential": [
            [
             0,
             "#0d0887"
            ],
            [
             0.1111111111111111,
             "#46039f"
            ],
            [
             0.2222222222222222,
             "#7201a8"
            ],
            [
             0.3333333333333333,
             "#9c179e"
            ],
            [
             0.4444444444444444,
             "#bd3786"
            ],
            [
             0.5555555555555556,
             "#d8576b"
            ],
            [
             0.6666666666666666,
             "#ed7953"
            ],
            [
             0.7777777777777778,
             "#fb9f3a"
            ],
            [
             0.8888888888888888,
             "#fdca26"
            ],
            [
             1,
             "#f0f921"
            ]
           ],
           "sequentialminus": [
            [
             0,
             "#0d0887"
            ],
            [
             0.1111111111111111,
             "#46039f"
            ],
            [
             0.2222222222222222,
             "#7201a8"
            ],
            [
             0.3333333333333333,
             "#9c179e"
            ],
            [
             0.4444444444444444,
             "#bd3786"
            ],
            [
             0.5555555555555556,
             "#d8576b"
            ],
            [
             0.6666666666666666,
             "#ed7953"
            ],
            [
             0.7777777777777778,
             "#fb9f3a"
            ],
            [
             0.8888888888888888,
             "#fdca26"
            ],
            [
             1,
             "#f0f921"
            ]
           ]
          },
          "colorway": [
           "#636efa",
           "#EF553B",
           "#00cc96",
           "#ab63fa",
           "#FFA15A",
           "#19d3f3",
           "#FF6692",
           "#B6E880",
           "#FF97FF",
           "#FECB52"
          ],
          "font": {
           "color": "#2a3f5f"
          },
          "geo": {
           "bgcolor": "white",
           "lakecolor": "white",
           "landcolor": "#E5ECF6",
           "showlakes": true,
           "showland": true,
           "subunitcolor": "white"
          },
          "hoverlabel": {
           "align": "left"
          },
          "hovermode": "closest",
          "mapbox": {
           "style": "light"
          },
          "paper_bgcolor": "white",
          "plot_bgcolor": "#E5ECF6",
          "polar": {
           "angularaxis": {
            "gridcolor": "white",
            "linecolor": "white",
            "ticks": ""
           },
           "bgcolor": "#E5ECF6",
           "radialaxis": {
            "gridcolor": "white",
            "linecolor": "white",
            "ticks": ""
           }
          },
          "scene": {
           "xaxis": {
            "backgroundcolor": "#E5ECF6",
            "gridcolor": "white",
            "gridwidth": 2,
            "linecolor": "white",
            "showbackground": true,
            "ticks": "",
            "zerolinecolor": "white"
           },
           "yaxis": {
            "backgroundcolor": "#E5ECF6",
            "gridcolor": "white",
            "gridwidth": 2,
            "linecolor": "white",
            "showbackground": true,
            "ticks": "",
            "zerolinecolor": "white"
           },
           "zaxis": {
            "backgroundcolor": "#E5ECF6",
            "gridcolor": "white",
            "gridwidth": 2,
            "linecolor": "white",
            "showbackground": true,
            "ticks": "",
            "zerolinecolor": "white"
           }
          },
          "shapedefaults": {
           "line": {
            "color": "#2a3f5f"
           }
          },
          "ternary": {
           "aaxis": {
            "gridcolor": "white",
            "linecolor": "white",
            "ticks": ""
           },
           "baxis": {
            "gridcolor": "white",
            "linecolor": "white",
            "ticks": ""
           },
           "bgcolor": "#E5ECF6",
           "caxis": {
            "gridcolor": "white",
            "linecolor": "white",
            "ticks": ""
           }
          },
          "title": {
           "x": 0.05
          },
          "xaxis": {
           "automargin": true,
           "gridcolor": "white",
           "linecolor": "white",
           "ticks": "",
           "title": {
            "standoff": 15
           },
           "zerolinecolor": "white",
           "zerolinewidth": 2
          },
          "yaxis": {
           "automargin": true,
           "gridcolor": "white",
           "linecolor": "white",
           "ticks": "",
           "title": {
            "standoff": 15
           },
           "zerolinecolor": "white",
           "zerolinewidth": 2
          }
         }
        },
        "title": {
         "text": "nationality distribution of Welcome Buddies",
         "x": 0.5
        },
        "xaxis": {
         "anchor": "y",
         "domain": [
          0,
          1
         ],
         "title": {
          "text": "nationality"
         }
        },
        "yaxis": {
         "anchor": "x",
         "domain": [
          0,
          1
         ],
         "title": {
          "text": "frequency"
         }
        }
       }
      },
      "text/html": [
       "<div>                            <div id=\"3d0cbeb1-f57e-4f56-bfa0-633d084eefd1\" class=\"plotly-graph-div\" style=\"height:525px; width:100%;\"></div>            <script type=\"text/javascript\">                require([\"plotly\"], function(Plotly) {                    window.PLOTLYENV=window.PLOTLYENV || {};                                    if (document.getElementById(\"3d0cbeb1-f57e-4f56-bfa0-633d084eefd1\")) {                    Plotly.newPlot(                        \"3d0cbeb1-f57e-4f56-bfa0-633d084eefd1\",                        [{\"alignmentgroup\":\"True\",\"hovertemplate\":\"variable=nationality<br>index=%{x}<br>value=%{y}<extra></extra>\",\"legendgroup\":\"nationality\",\"marker\":{\"color\":\"#636efa\",\"pattern\":{\"shape\":\"\"}},\"name\":\"nationality\",\"offsetgroup\":\"nationality\",\"orientation\":\"v\",\"showlegend\":true,\"textposition\":\"auto\",\"x\":[\"UK National\",\"Portuguese\",\"Indian\",\"Italian\",\"Romanian\",\"Nigerian\",\"Polish\",\"Spanish\",\"Lithuanian\",\"Irish\",\"Pakistani\",\"Latvian\",\"Bulgarian\",\"Nepalese\",\"Czech\",\"German\",\"Dutch\",\"Ghanaian\",\"Philippine\",\"Ukrainian\",\"Chinese\",\"Bangladeshi\",\"Greek\",\"Gambian\",\"French\",\"Kazakh\",\"Finnish\",\"Jersey\",\"Israeli\",\"Belgian\",\"Tanzanian\",\"South African\",\"Sierra Leonean\",\"Fijian\",\"Hungarian\",\"Zimbabwean\",\"Egyptian\",\"Norwegian\",\"Dominica\"],\"xaxis\":\"x\",\"y\":[393,20,16,16,15,13,12,10,6,6,5,4,4,4,3,3,3,3,2,2,2,2,2,1,1,1,1,1,1,1,1,1,1,1,1,1,1,1,1],\"yaxis\":\"y\",\"type\":\"bar\"}],                        {\"template\":{\"data\":{\"histogram2dcontour\":[{\"type\":\"histogram2dcontour\",\"colorbar\":{\"outlinewidth\":0,\"ticks\":\"\"},\"colorscale\":[[0.0,\"#0d0887\"],[0.1111111111111111,\"#46039f\"],[0.2222222222222222,\"#7201a8\"],[0.3333333333333333,\"#9c179e\"],[0.4444444444444444,\"#bd3786\"],[0.5555555555555556,\"#d8576b\"],[0.6666666666666666,\"#ed7953\"],[0.7777777777777778,\"#fb9f3a\"],[0.8888888888888888,\"#fdca26\"],[1.0,\"#f0f921\"]]}],\"choropleth\":[{\"type\":\"choropleth\",\"colorbar\":{\"outlinewidth\":0,\"ticks\":\"\"}}],\"histogram2d\":[{\"type\":\"histogram2d\",\"colorbar\":{\"outlinewidth\":0,\"ticks\":\"\"},\"colorscale\":[[0.0,\"#0d0887\"],[0.1111111111111111,\"#46039f\"],[0.2222222222222222,\"#7201a8\"],[0.3333333333333333,\"#9c179e\"],[0.4444444444444444,\"#bd3786\"],[0.5555555555555556,\"#d8576b\"],[0.6666666666666666,\"#ed7953\"],[0.7777777777777778,\"#fb9f3a\"],[0.8888888888888888,\"#fdca26\"],[1.0,\"#f0f921\"]]}],\"heatmap\":[{\"type\":\"heatmap\",\"colorbar\":{\"outlinewidth\":0,\"ticks\":\"\"},\"colorscale\":[[0.0,\"#0d0887\"],[0.1111111111111111,\"#46039f\"],[0.2222222222222222,\"#7201a8\"],[0.3333333333333333,\"#9c179e\"],[0.4444444444444444,\"#bd3786\"],[0.5555555555555556,\"#d8576b\"],[0.6666666666666666,\"#ed7953\"],[0.7777777777777778,\"#fb9f3a\"],[0.8888888888888888,\"#fdca26\"],[1.0,\"#f0f921\"]]}],\"heatmapgl\":[{\"type\":\"heatmapgl\",\"colorbar\":{\"outlinewidth\":0,\"ticks\":\"\"},\"colorscale\":[[0.0,\"#0d0887\"],[0.1111111111111111,\"#46039f\"],[0.2222222222222222,\"#7201a8\"],[0.3333333333333333,\"#9c179e\"],[0.4444444444444444,\"#bd3786\"],[0.5555555555555556,\"#d8576b\"],[0.6666666666666666,\"#ed7953\"],[0.7777777777777778,\"#fb9f3a\"],[0.8888888888888888,\"#fdca26\"],[1.0,\"#f0f921\"]]}],\"contourcarpet\":[{\"type\":\"contourcarpet\",\"colorbar\":{\"outlinewidth\":0,\"ticks\":\"\"}}],\"contour\":[{\"type\":\"contour\",\"colorbar\":{\"outlinewidth\":0,\"ticks\":\"\"},\"colorscale\":[[0.0,\"#0d0887\"],[0.1111111111111111,\"#46039f\"],[0.2222222222222222,\"#7201a8\"],[0.3333333333333333,\"#9c179e\"],[0.4444444444444444,\"#bd3786\"],[0.5555555555555556,\"#d8576b\"],[0.6666666666666666,\"#ed7953\"],[0.7777777777777778,\"#fb9f3a\"],[0.8888888888888888,\"#fdca26\"],[1.0,\"#f0f921\"]]}],\"surface\":[{\"type\":\"surface\",\"colorbar\":{\"outlinewidth\":0,\"ticks\":\"\"},\"colorscale\":[[0.0,\"#0d0887\"],[0.1111111111111111,\"#46039f\"],[0.2222222222222222,\"#7201a8\"],[0.3333333333333333,\"#9c179e\"],[0.4444444444444444,\"#bd3786\"],[0.5555555555555556,\"#d8576b\"],[0.6666666666666666,\"#ed7953\"],[0.7777777777777778,\"#fb9f3a\"],[0.8888888888888888,\"#fdca26\"],[1.0,\"#f0f921\"]]}],\"mesh3d\":[{\"type\":\"mesh3d\",\"colorbar\":{\"outlinewidth\":0,\"ticks\":\"\"}}],\"scatter\":[{\"fillpattern\":{\"fillmode\":\"overlay\",\"size\":10,\"solidity\":0.2},\"type\":\"scatter\"}],\"parcoords\":[{\"type\":\"parcoords\",\"line\":{\"colorbar\":{\"outlinewidth\":0,\"ticks\":\"\"}}}],\"scatterpolargl\":[{\"type\":\"scatterpolargl\",\"marker\":{\"colorbar\":{\"outlinewidth\":0,\"ticks\":\"\"}}}],\"bar\":[{\"error_x\":{\"color\":\"#2a3f5f\"},\"error_y\":{\"color\":\"#2a3f5f\"},\"marker\":{\"line\":{\"color\":\"#E5ECF6\",\"width\":0.5},\"pattern\":{\"fillmode\":\"overlay\",\"size\":10,\"solidity\":0.2}},\"type\":\"bar\"}],\"scattergeo\":[{\"type\":\"scattergeo\",\"marker\":{\"colorbar\":{\"outlinewidth\":0,\"ticks\":\"\"}}}],\"scatterpolar\":[{\"type\":\"scatterpolar\",\"marker\":{\"colorbar\":{\"outlinewidth\":0,\"ticks\":\"\"}}}],\"histogram\":[{\"marker\":{\"pattern\":{\"fillmode\":\"overlay\",\"size\":10,\"solidity\":0.2}},\"type\":\"histogram\"}],\"scattergl\":[{\"type\":\"scattergl\",\"marker\":{\"colorbar\":{\"outlinewidth\":0,\"ticks\":\"\"}}}],\"scatter3d\":[{\"type\":\"scatter3d\",\"line\":{\"colorbar\":{\"outlinewidth\":0,\"ticks\":\"\"}},\"marker\":{\"colorbar\":{\"outlinewidth\":0,\"ticks\":\"\"}}}],\"scattermapbox\":[{\"type\":\"scattermapbox\",\"marker\":{\"colorbar\":{\"outlinewidth\":0,\"ticks\":\"\"}}}],\"scatterternary\":[{\"type\":\"scatterternary\",\"marker\":{\"colorbar\":{\"outlinewidth\":0,\"ticks\":\"\"}}}],\"scattercarpet\":[{\"type\":\"scattercarpet\",\"marker\":{\"colorbar\":{\"outlinewidth\":0,\"ticks\":\"\"}}}],\"carpet\":[{\"aaxis\":{\"endlinecolor\":\"#2a3f5f\",\"gridcolor\":\"white\",\"linecolor\":\"white\",\"minorgridcolor\":\"white\",\"startlinecolor\":\"#2a3f5f\"},\"baxis\":{\"endlinecolor\":\"#2a3f5f\",\"gridcolor\":\"white\",\"linecolor\":\"white\",\"minorgridcolor\":\"white\",\"startlinecolor\":\"#2a3f5f\"},\"type\":\"carpet\"}],\"table\":[{\"cells\":{\"fill\":{\"color\":\"#EBF0F8\"},\"line\":{\"color\":\"white\"}},\"header\":{\"fill\":{\"color\":\"#C8D4E3\"},\"line\":{\"color\":\"white\"}},\"type\":\"table\"}],\"barpolar\":[{\"marker\":{\"line\":{\"color\":\"#E5ECF6\",\"width\":0.5},\"pattern\":{\"fillmode\":\"overlay\",\"size\":10,\"solidity\":0.2}},\"type\":\"barpolar\"}],\"pie\":[{\"automargin\":true,\"type\":\"pie\"}]},\"layout\":{\"autotypenumbers\":\"strict\",\"colorway\":[\"#636efa\",\"#EF553B\",\"#00cc96\",\"#ab63fa\",\"#FFA15A\",\"#19d3f3\",\"#FF6692\",\"#B6E880\",\"#FF97FF\",\"#FECB52\"],\"font\":{\"color\":\"#2a3f5f\"},\"hovermode\":\"closest\",\"hoverlabel\":{\"align\":\"left\"},\"paper_bgcolor\":\"white\",\"plot_bgcolor\":\"#E5ECF6\",\"polar\":{\"bgcolor\":\"#E5ECF6\",\"angularaxis\":{\"gridcolor\":\"white\",\"linecolor\":\"white\",\"ticks\":\"\"},\"radialaxis\":{\"gridcolor\":\"white\",\"linecolor\":\"white\",\"ticks\":\"\"}},\"ternary\":{\"bgcolor\":\"#E5ECF6\",\"aaxis\":{\"gridcolor\":\"white\",\"linecolor\":\"white\",\"ticks\":\"\"},\"baxis\":{\"gridcolor\":\"white\",\"linecolor\":\"white\",\"ticks\":\"\"},\"caxis\":{\"gridcolor\":\"white\",\"linecolor\":\"white\",\"ticks\":\"\"}},\"coloraxis\":{\"colorbar\":{\"outlinewidth\":0,\"ticks\":\"\"}},\"colorscale\":{\"sequential\":[[0.0,\"#0d0887\"],[0.1111111111111111,\"#46039f\"],[0.2222222222222222,\"#7201a8\"],[0.3333333333333333,\"#9c179e\"],[0.4444444444444444,\"#bd3786\"],[0.5555555555555556,\"#d8576b\"],[0.6666666666666666,\"#ed7953\"],[0.7777777777777778,\"#fb9f3a\"],[0.8888888888888888,\"#fdca26\"],[1.0,\"#f0f921\"]],\"sequentialminus\":[[0.0,\"#0d0887\"],[0.1111111111111111,\"#46039f\"],[0.2222222222222222,\"#7201a8\"],[0.3333333333333333,\"#9c179e\"],[0.4444444444444444,\"#bd3786\"],[0.5555555555555556,\"#d8576b\"],[0.6666666666666666,\"#ed7953\"],[0.7777777777777778,\"#fb9f3a\"],[0.8888888888888888,\"#fdca26\"],[1.0,\"#f0f921\"]],\"diverging\":[[0,\"#8e0152\"],[0.1,\"#c51b7d\"],[0.2,\"#de77ae\"],[0.3,\"#f1b6da\"],[0.4,\"#fde0ef\"],[0.5,\"#f7f7f7\"],[0.6,\"#e6f5d0\"],[0.7,\"#b8e186\"],[0.8,\"#7fbc41\"],[0.9,\"#4d9221\"],[1,\"#276419\"]]},\"xaxis\":{\"gridcolor\":\"white\",\"linecolor\":\"white\",\"ticks\":\"\",\"title\":{\"standoff\":15},\"zerolinecolor\":\"white\",\"automargin\":true,\"zerolinewidth\":2},\"yaxis\":{\"gridcolor\":\"white\",\"linecolor\":\"white\",\"ticks\":\"\",\"title\":{\"standoff\":15},\"zerolinecolor\":\"white\",\"automargin\":true,\"zerolinewidth\":2},\"scene\":{\"xaxis\":{\"backgroundcolor\":\"#E5ECF6\",\"gridcolor\":\"white\",\"linecolor\":\"white\",\"showbackground\":true,\"ticks\":\"\",\"zerolinecolor\":\"white\",\"gridwidth\":2},\"yaxis\":{\"backgroundcolor\":\"#E5ECF6\",\"gridcolor\":\"white\",\"linecolor\":\"white\",\"showbackground\":true,\"ticks\":\"\",\"zerolinecolor\":\"white\",\"gridwidth\":2},\"zaxis\":{\"backgroundcolor\":\"#E5ECF6\",\"gridcolor\":\"white\",\"linecolor\":\"white\",\"showbackground\":true,\"ticks\":\"\",\"zerolinecolor\":\"white\",\"gridwidth\":2}},\"shapedefaults\":{\"line\":{\"color\":\"#2a3f5f\"}},\"annotationdefaults\":{\"arrowcolor\":\"#2a3f5f\",\"arrowhead\":0,\"arrowwidth\":1},\"geo\":{\"bgcolor\":\"white\",\"landcolor\":\"#E5ECF6\",\"subunitcolor\":\"white\",\"showland\":true,\"showlakes\":true,\"lakecolor\":\"white\"},\"title\":{\"x\":0.05},\"mapbox\":{\"style\":\"light\"}}},\"xaxis\":{\"anchor\":\"y\",\"domain\":[0.0,1.0],\"title\":{\"text\":\"nationality\"}},\"yaxis\":{\"anchor\":\"x\",\"domain\":[0.0,1.0],\"title\":{\"text\":\"frequency\"}},\"legend\":{\"title\":{\"text\":\"variable\"},\"tracegroupgap\":0},\"title\":{\"text\":\"nationality distribution of Welcome Buddies\",\"x\":0.5},\"barmode\":\"relative\",\"showlegend\":false},                        {\"responsive\": true}                    ).then(function(){\n",
       "                            \n",
       "var gd = document.getElementById('3d0cbeb1-f57e-4f56-bfa0-633d084eefd1');\n",
       "var x = new MutationObserver(function (mutations, observer) {{\n",
       "        var display = window.getComputedStyle(gd).display;\n",
       "        if (!display || display === 'none') {{\n",
       "            console.log([gd, 'removed!']);\n",
       "            Plotly.purge(gd);\n",
       "            observer.disconnect();\n",
       "        }}\n",
       "}});\n",
       "\n",
       "// Listen for the removal of the full notebook cells\n",
       "var notebookContainer = gd.closest('#notebook-container');\n",
       "if (notebookContainer) {{\n",
       "    x.observe(notebookContainer, {childList: true});\n",
       "}}\n",
       "\n",
       "// Listen for the clearing of the current output cell\n",
       "var outputEl = gd.closest('.output');\n",
       "if (outputEl) {{\n",
       "    x.observe(outputEl, {childList: true});\n",
       "}}\n",
       "\n",
       "                        })                };                });            </script>        </div>"
      ]
     },
     "metadata": {},
     "output_type": "display_data"
    }
   ],
   "source": [
    "nat_fig = px.bar(nat_counts, title=\"nationality distribution of Welcome Buddies\")\n",
    "nat_fig.update_layout(\n",
    "    xaxis_title = \"nationality\",\n",
    "    yaxis_title = \"frequency\",\n",
    "    title_x = 0.5, \n",
    "    showlegend = False\n",
    ")\n",
    "nat_fig.show()"
   ]
  },
  {
   "cell_type": "markdown",
   "id": "60908ce7",
   "metadata": {},
   "source": [
    "### dept"
   ]
  },
  {
   "cell_type": "code",
   "execution_count": 414,
   "id": "4449a31f",
   "metadata": {},
   "outputs": [
    {
     "data": {
      "text/html": [
       "<div>\n",
       "<style scoped>\n",
       "    .dataframe tbody tr th:only-of-type {\n",
       "        vertical-align: middle;\n",
       "    }\n",
       "\n",
       "    .dataframe tbody tr th {\n",
       "        vertical-align: top;\n",
       "    }\n",
       "\n",
       "    .dataframe thead th {\n",
       "        text-align: right;\n",
       "    }\n",
       "</style>\n",
       "<table border=\"1\" class=\"dataframe\">\n",
       "  <thead>\n",
       "    <tr style=\"text-align: right;\">\n",
       "      <th></th>\n",
       "      <th>department</th>\n",
       "    </tr>\n",
       "  </thead>\n",
       "  <tbody>\n",
       "    <tr>\n",
       "      <th>HEMS</th>\n",
       "      <td>253</td>\n",
       "    </tr>\n",
       "    <tr>\n",
       "      <th>SE</th>\n",
       "      <td>157</td>\n",
       "    </tr>\n",
       "    <tr>\n",
       "      <th>AHSS</th>\n",
       "      <td>89</td>\n",
       "    </tr>\n",
       "    <tr>\n",
       "      <th>BL</th>\n",
       "      <td>64</td>\n",
       "    </tr>\n",
       "  </tbody>\n",
       "</table>\n",
       "</div>"
      ],
      "text/plain": [
       "      department\n",
       "HEMS         253\n",
       "SE           157\n",
       "AHSS          89\n",
       "BL            64"
      ]
     },
     "execution_count": 414,
     "metadata": {},
     "output_type": "execute_result"
    }
   ],
   "source": [
    "#find dept distribution across WBs\n",
    "dept_counts = pd.DataFrame(data = df1[\"department\"].value_counts(), dtype=None, copy=None)\n",
    "dept_counts"
   ]
  },
  {
   "cell_type": "code",
   "execution_count": 415,
   "id": "b537cf00",
   "metadata": {},
   "outputs": [
    {
     "data": {
      "application/vnd.plotly.v1+json": {
       "config": {
        "plotlyServerURL": "https://plot.ly"
       },
       "data": [
        {
         "alignmentgroup": "True",
         "hovertemplate": "variable=department<br>index=%{x}<br>value=%{y}<extra></extra>",
         "legendgroup": "department",
         "marker": {
          "color": "#636efa",
          "pattern": {
           "shape": ""
          }
         },
         "name": "department",
         "offsetgroup": "department",
         "orientation": "v",
         "showlegend": true,
         "textposition": "auto",
         "type": "bar",
         "x": [
          "HEMS",
          "SE",
          "AHSS",
          "BL"
         ],
         "xaxis": "x",
         "y": [
          253,
          157,
          89,
          64
         ],
         "yaxis": "y"
        }
       ],
       "layout": {
        "barmode": "relative",
        "legend": {
         "title": {
          "text": "variable"
         },
         "tracegroupgap": 0
        },
        "showlegend": false,
        "template": {
         "data": {
          "bar": [
           {
            "error_x": {
             "color": "#2a3f5f"
            },
            "error_y": {
             "color": "#2a3f5f"
            },
            "marker": {
             "line": {
              "color": "#E5ECF6",
              "width": 0.5
             },
             "pattern": {
              "fillmode": "overlay",
              "size": 10,
              "solidity": 0.2
             }
            },
            "type": "bar"
           }
          ],
          "barpolar": [
           {
            "marker": {
             "line": {
              "color": "#E5ECF6",
              "width": 0.5
             },
             "pattern": {
              "fillmode": "overlay",
              "size": 10,
              "solidity": 0.2
             }
            },
            "type": "barpolar"
           }
          ],
          "carpet": [
           {
            "aaxis": {
             "endlinecolor": "#2a3f5f",
             "gridcolor": "white",
             "linecolor": "white",
             "minorgridcolor": "white",
             "startlinecolor": "#2a3f5f"
            },
            "baxis": {
             "endlinecolor": "#2a3f5f",
             "gridcolor": "white",
             "linecolor": "white",
             "minorgridcolor": "white",
             "startlinecolor": "#2a3f5f"
            },
            "type": "carpet"
           }
          ],
          "choropleth": [
           {
            "colorbar": {
             "outlinewidth": 0,
             "ticks": ""
            },
            "type": "choropleth"
           }
          ],
          "contour": [
           {
            "colorbar": {
             "outlinewidth": 0,
             "ticks": ""
            },
            "colorscale": [
             [
              0,
              "#0d0887"
             ],
             [
              0.1111111111111111,
              "#46039f"
             ],
             [
              0.2222222222222222,
              "#7201a8"
             ],
             [
              0.3333333333333333,
              "#9c179e"
             ],
             [
              0.4444444444444444,
              "#bd3786"
             ],
             [
              0.5555555555555556,
              "#d8576b"
             ],
             [
              0.6666666666666666,
              "#ed7953"
             ],
             [
              0.7777777777777778,
              "#fb9f3a"
             ],
             [
              0.8888888888888888,
              "#fdca26"
             ],
             [
              1,
              "#f0f921"
             ]
            ],
            "type": "contour"
           }
          ],
          "contourcarpet": [
           {
            "colorbar": {
             "outlinewidth": 0,
             "ticks": ""
            },
            "type": "contourcarpet"
           }
          ],
          "heatmap": [
           {
            "colorbar": {
             "outlinewidth": 0,
             "ticks": ""
            },
            "colorscale": [
             [
              0,
              "#0d0887"
             ],
             [
              0.1111111111111111,
              "#46039f"
             ],
             [
              0.2222222222222222,
              "#7201a8"
             ],
             [
              0.3333333333333333,
              "#9c179e"
             ],
             [
              0.4444444444444444,
              "#bd3786"
             ],
             [
              0.5555555555555556,
              "#d8576b"
             ],
             [
              0.6666666666666666,
              "#ed7953"
             ],
             [
              0.7777777777777778,
              "#fb9f3a"
             ],
             [
              0.8888888888888888,
              "#fdca26"
             ],
             [
              1,
              "#f0f921"
             ]
            ],
            "type": "heatmap"
           }
          ],
          "heatmapgl": [
           {
            "colorbar": {
             "outlinewidth": 0,
             "ticks": ""
            },
            "colorscale": [
             [
              0,
              "#0d0887"
             ],
             [
              0.1111111111111111,
              "#46039f"
             ],
             [
              0.2222222222222222,
              "#7201a8"
             ],
             [
              0.3333333333333333,
              "#9c179e"
             ],
             [
              0.4444444444444444,
              "#bd3786"
             ],
             [
              0.5555555555555556,
              "#d8576b"
             ],
             [
              0.6666666666666666,
              "#ed7953"
             ],
             [
              0.7777777777777778,
              "#fb9f3a"
             ],
             [
              0.8888888888888888,
              "#fdca26"
             ],
             [
              1,
              "#f0f921"
             ]
            ],
            "type": "heatmapgl"
           }
          ],
          "histogram": [
           {
            "marker": {
             "pattern": {
              "fillmode": "overlay",
              "size": 10,
              "solidity": 0.2
             }
            },
            "type": "histogram"
           }
          ],
          "histogram2d": [
           {
            "colorbar": {
             "outlinewidth": 0,
             "ticks": ""
            },
            "colorscale": [
             [
              0,
              "#0d0887"
             ],
             [
              0.1111111111111111,
              "#46039f"
             ],
             [
              0.2222222222222222,
              "#7201a8"
             ],
             [
              0.3333333333333333,
              "#9c179e"
             ],
             [
              0.4444444444444444,
              "#bd3786"
             ],
             [
              0.5555555555555556,
              "#d8576b"
             ],
             [
              0.6666666666666666,
              "#ed7953"
             ],
             [
              0.7777777777777778,
              "#fb9f3a"
             ],
             [
              0.8888888888888888,
              "#fdca26"
             ],
             [
              1,
              "#f0f921"
             ]
            ],
            "type": "histogram2d"
           }
          ],
          "histogram2dcontour": [
           {
            "colorbar": {
             "outlinewidth": 0,
             "ticks": ""
            },
            "colorscale": [
             [
              0,
              "#0d0887"
             ],
             [
              0.1111111111111111,
              "#46039f"
             ],
             [
              0.2222222222222222,
              "#7201a8"
             ],
             [
              0.3333333333333333,
              "#9c179e"
             ],
             [
              0.4444444444444444,
              "#bd3786"
             ],
             [
              0.5555555555555556,
              "#d8576b"
             ],
             [
              0.6666666666666666,
              "#ed7953"
             ],
             [
              0.7777777777777778,
              "#fb9f3a"
             ],
             [
              0.8888888888888888,
              "#fdca26"
             ],
             [
              1,
              "#f0f921"
             ]
            ],
            "type": "histogram2dcontour"
           }
          ],
          "mesh3d": [
           {
            "colorbar": {
             "outlinewidth": 0,
             "ticks": ""
            },
            "type": "mesh3d"
           }
          ],
          "parcoords": [
           {
            "line": {
             "colorbar": {
              "outlinewidth": 0,
              "ticks": ""
             }
            },
            "type": "parcoords"
           }
          ],
          "pie": [
           {
            "automargin": true,
            "type": "pie"
           }
          ],
          "scatter": [
           {
            "fillpattern": {
             "fillmode": "overlay",
             "size": 10,
             "solidity": 0.2
            },
            "type": "scatter"
           }
          ],
          "scatter3d": [
           {
            "line": {
             "colorbar": {
              "outlinewidth": 0,
              "ticks": ""
             }
            },
            "marker": {
             "colorbar": {
              "outlinewidth": 0,
              "ticks": ""
             }
            },
            "type": "scatter3d"
           }
          ],
          "scattercarpet": [
           {
            "marker": {
             "colorbar": {
              "outlinewidth": 0,
              "ticks": ""
             }
            },
            "type": "scattercarpet"
           }
          ],
          "scattergeo": [
           {
            "marker": {
             "colorbar": {
              "outlinewidth": 0,
              "ticks": ""
             }
            },
            "type": "scattergeo"
           }
          ],
          "scattergl": [
           {
            "marker": {
             "colorbar": {
              "outlinewidth": 0,
              "ticks": ""
             }
            },
            "type": "scattergl"
           }
          ],
          "scattermapbox": [
           {
            "marker": {
             "colorbar": {
              "outlinewidth": 0,
              "ticks": ""
             }
            },
            "type": "scattermapbox"
           }
          ],
          "scatterpolar": [
           {
            "marker": {
             "colorbar": {
              "outlinewidth": 0,
              "ticks": ""
             }
            },
            "type": "scatterpolar"
           }
          ],
          "scatterpolargl": [
           {
            "marker": {
             "colorbar": {
              "outlinewidth": 0,
              "ticks": ""
             }
            },
            "type": "scatterpolargl"
           }
          ],
          "scatterternary": [
           {
            "marker": {
             "colorbar": {
              "outlinewidth": 0,
              "ticks": ""
             }
            },
            "type": "scatterternary"
           }
          ],
          "surface": [
           {
            "colorbar": {
             "outlinewidth": 0,
             "ticks": ""
            },
            "colorscale": [
             [
              0,
              "#0d0887"
             ],
             [
              0.1111111111111111,
              "#46039f"
             ],
             [
              0.2222222222222222,
              "#7201a8"
             ],
             [
              0.3333333333333333,
              "#9c179e"
             ],
             [
              0.4444444444444444,
              "#bd3786"
             ],
             [
              0.5555555555555556,
              "#d8576b"
             ],
             [
              0.6666666666666666,
              "#ed7953"
             ],
             [
              0.7777777777777778,
              "#fb9f3a"
             ],
             [
              0.8888888888888888,
              "#fdca26"
             ],
             [
              1,
              "#f0f921"
             ]
            ],
            "type": "surface"
           }
          ],
          "table": [
           {
            "cells": {
             "fill": {
              "color": "#EBF0F8"
             },
             "line": {
              "color": "white"
             }
            },
            "header": {
             "fill": {
              "color": "#C8D4E3"
             },
             "line": {
              "color": "white"
             }
            },
            "type": "table"
           }
          ]
         },
         "layout": {
          "annotationdefaults": {
           "arrowcolor": "#2a3f5f",
           "arrowhead": 0,
           "arrowwidth": 1
          },
          "autotypenumbers": "strict",
          "coloraxis": {
           "colorbar": {
            "outlinewidth": 0,
            "ticks": ""
           }
          },
          "colorscale": {
           "diverging": [
            [
             0,
             "#8e0152"
            ],
            [
             0.1,
             "#c51b7d"
            ],
            [
             0.2,
             "#de77ae"
            ],
            [
             0.3,
             "#f1b6da"
            ],
            [
             0.4,
             "#fde0ef"
            ],
            [
             0.5,
             "#f7f7f7"
            ],
            [
             0.6,
             "#e6f5d0"
            ],
            [
             0.7,
             "#b8e186"
            ],
            [
             0.8,
             "#7fbc41"
            ],
            [
             0.9,
             "#4d9221"
            ],
            [
             1,
             "#276419"
            ]
           ],
           "sequential": [
            [
             0,
             "#0d0887"
            ],
            [
             0.1111111111111111,
             "#46039f"
            ],
            [
             0.2222222222222222,
             "#7201a8"
            ],
            [
             0.3333333333333333,
             "#9c179e"
            ],
            [
             0.4444444444444444,
             "#bd3786"
            ],
            [
             0.5555555555555556,
             "#d8576b"
            ],
            [
             0.6666666666666666,
             "#ed7953"
            ],
            [
             0.7777777777777778,
             "#fb9f3a"
            ],
            [
             0.8888888888888888,
             "#fdca26"
            ],
            [
             1,
             "#f0f921"
            ]
           ],
           "sequentialminus": [
            [
             0,
             "#0d0887"
            ],
            [
             0.1111111111111111,
             "#46039f"
            ],
            [
             0.2222222222222222,
             "#7201a8"
            ],
            [
             0.3333333333333333,
             "#9c179e"
            ],
            [
             0.4444444444444444,
             "#bd3786"
            ],
            [
             0.5555555555555556,
             "#d8576b"
            ],
            [
             0.6666666666666666,
             "#ed7953"
            ],
            [
             0.7777777777777778,
             "#fb9f3a"
            ],
            [
             0.8888888888888888,
             "#fdca26"
            ],
            [
             1,
             "#f0f921"
            ]
           ]
          },
          "colorway": [
           "#636efa",
           "#EF553B",
           "#00cc96",
           "#ab63fa",
           "#FFA15A",
           "#19d3f3",
           "#FF6692",
           "#B6E880",
           "#FF97FF",
           "#FECB52"
          ],
          "font": {
           "color": "#2a3f5f"
          },
          "geo": {
           "bgcolor": "white",
           "lakecolor": "white",
           "landcolor": "#E5ECF6",
           "showlakes": true,
           "showland": true,
           "subunitcolor": "white"
          },
          "hoverlabel": {
           "align": "left"
          },
          "hovermode": "closest",
          "mapbox": {
           "style": "light"
          },
          "paper_bgcolor": "white",
          "plot_bgcolor": "#E5ECF6",
          "polar": {
           "angularaxis": {
            "gridcolor": "white",
            "linecolor": "white",
            "ticks": ""
           },
           "bgcolor": "#E5ECF6",
           "radialaxis": {
            "gridcolor": "white",
            "linecolor": "white",
            "ticks": ""
           }
          },
          "scene": {
           "xaxis": {
            "backgroundcolor": "#E5ECF6",
            "gridcolor": "white",
            "gridwidth": 2,
            "linecolor": "white",
            "showbackground": true,
            "ticks": "",
            "zerolinecolor": "white"
           },
           "yaxis": {
            "backgroundcolor": "#E5ECF6",
            "gridcolor": "white",
            "gridwidth": 2,
            "linecolor": "white",
            "showbackground": true,
            "ticks": "",
            "zerolinecolor": "white"
           },
           "zaxis": {
            "backgroundcolor": "#E5ECF6",
            "gridcolor": "white",
            "gridwidth": 2,
            "linecolor": "white",
            "showbackground": true,
            "ticks": "",
            "zerolinecolor": "white"
           }
          },
          "shapedefaults": {
           "line": {
            "color": "#2a3f5f"
           }
          },
          "ternary": {
           "aaxis": {
            "gridcolor": "white",
            "linecolor": "white",
            "ticks": ""
           },
           "baxis": {
            "gridcolor": "white",
            "linecolor": "white",
            "ticks": ""
           },
           "bgcolor": "#E5ECF6",
           "caxis": {
            "gridcolor": "white",
            "linecolor": "white",
            "ticks": ""
           }
          },
          "title": {
           "x": 0.05
          },
          "xaxis": {
           "automargin": true,
           "gridcolor": "white",
           "linecolor": "white",
           "ticks": "",
           "title": {
            "standoff": 15
           },
           "zerolinecolor": "white",
           "zerolinewidth": 2
          },
          "yaxis": {
           "automargin": true,
           "gridcolor": "white",
           "linecolor": "white",
           "ticks": "",
           "title": {
            "standoff": 15
           },
           "zerolinecolor": "white",
           "zerolinewidth": 2
          }
         }
        },
        "title": {
         "text": "faculty distribution of Welcome Buddies",
         "x": 0.5
        },
        "xaxis": {
         "anchor": "y",
         "domain": [
          0,
          1
         ],
         "title": {
          "text": "department"
         }
        },
        "yaxis": {
         "anchor": "x",
         "domain": [
          0,
          1
         ],
         "title": {
          "text": "frequency"
         }
        }
       }
      },
      "text/html": [
       "<div>                            <div id=\"0bd80820-7800-45ad-822c-2d117134d040\" class=\"plotly-graph-div\" style=\"height:525px; width:100%;\"></div>            <script type=\"text/javascript\">                require([\"plotly\"], function(Plotly) {                    window.PLOTLYENV=window.PLOTLYENV || {};                                    if (document.getElementById(\"0bd80820-7800-45ad-822c-2d117134d040\")) {                    Plotly.newPlot(                        \"0bd80820-7800-45ad-822c-2d117134d040\",                        [{\"alignmentgroup\":\"True\",\"hovertemplate\":\"variable=department<br>index=%{x}<br>value=%{y}<extra></extra>\",\"legendgroup\":\"department\",\"marker\":{\"color\":\"#636efa\",\"pattern\":{\"shape\":\"\"}},\"name\":\"department\",\"offsetgroup\":\"department\",\"orientation\":\"v\",\"showlegend\":true,\"textposition\":\"auto\",\"x\":[\"HEMS\",\"SE\",\"AHSS\",\"BL\"],\"xaxis\":\"x\",\"y\":[253,157,89,64],\"yaxis\":\"y\",\"type\":\"bar\"}],                        {\"template\":{\"data\":{\"histogram2dcontour\":[{\"type\":\"histogram2dcontour\",\"colorbar\":{\"outlinewidth\":0,\"ticks\":\"\"},\"colorscale\":[[0.0,\"#0d0887\"],[0.1111111111111111,\"#46039f\"],[0.2222222222222222,\"#7201a8\"],[0.3333333333333333,\"#9c179e\"],[0.4444444444444444,\"#bd3786\"],[0.5555555555555556,\"#d8576b\"],[0.6666666666666666,\"#ed7953\"],[0.7777777777777778,\"#fb9f3a\"],[0.8888888888888888,\"#fdca26\"],[1.0,\"#f0f921\"]]}],\"choropleth\":[{\"type\":\"choropleth\",\"colorbar\":{\"outlinewidth\":0,\"ticks\":\"\"}}],\"histogram2d\":[{\"type\":\"histogram2d\",\"colorbar\":{\"outlinewidth\":0,\"ticks\":\"\"},\"colorscale\":[[0.0,\"#0d0887\"],[0.1111111111111111,\"#46039f\"],[0.2222222222222222,\"#7201a8\"],[0.3333333333333333,\"#9c179e\"],[0.4444444444444444,\"#bd3786\"],[0.5555555555555556,\"#d8576b\"],[0.6666666666666666,\"#ed7953\"],[0.7777777777777778,\"#fb9f3a\"],[0.8888888888888888,\"#fdca26\"],[1.0,\"#f0f921\"]]}],\"heatmap\":[{\"type\":\"heatmap\",\"colorbar\":{\"outlinewidth\":0,\"ticks\":\"\"},\"colorscale\":[[0.0,\"#0d0887\"],[0.1111111111111111,\"#46039f\"],[0.2222222222222222,\"#7201a8\"],[0.3333333333333333,\"#9c179e\"],[0.4444444444444444,\"#bd3786\"],[0.5555555555555556,\"#d8576b\"],[0.6666666666666666,\"#ed7953\"],[0.7777777777777778,\"#fb9f3a\"],[0.8888888888888888,\"#fdca26\"],[1.0,\"#f0f921\"]]}],\"heatmapgl\":[{\"type\":\"heatmapgl\",\"colorbar\":{\"outlinewidth\":0,\"ticks\":\"\"},\"colorscale\":[[0.0,\"#0d0887\"],[0.1111111111111111,\"#46039f\"],[0.2222222222222222,\"#7201a8\"],[0.3333333333333333,\"#9c179e\"],[0.4444444444444444,\"#bd3786\"],[0.5555555555555556,\"#d8576b\"],[0.6666666666666666,\"#ed7953\"],[0.7777777777777778,\"#fb9f3a\"],[0.8888888888888888,\"#fdca26\"],[1.0,\"#f0f921\"]]}],\"contourcarpet\":[{\"type\":\"contourcarpet\",\"colorbar\":{\"outlinewidth\":0,\"ticks\":\"\"}}],\"contour\":[{\"type\":\"contour\",\"colorbar\":{\"outlinewidth\":0,\"ticks\":\"\"},\"colorscale\":[[0.0,\"#0d0887\"],[0.1111111111111111,\"#46039f\"],[0.2222222222222222,\"#7201a8\"],[0.3333333333333333,\"#9c179e\"],[0.4444444444444444,\"#bd3786\"],[0.5555555555555556,\"#d8576b\"],[0.6666666666666666,\"#ed7953\"],[0.7777777777777778,\"#fb9f3a\"],[0.8888888888888888,\"#fdca26\"],[1.0,\"#f0f921\"]]}],\"surface\":[{\"type\":\"surface\",\"colorbar\":{\"outlinewidth\":0,\"ticks\":\"\"},\"colorscale\":[[0.0,\"#0d0887\"],[0.1111111111111111,\"#46039f\"],[0.2222222222222222,\"#7201a8\"],[0.3333333333333333,\"#9c179e\"],[0.4444444444444444,\"#bd3786\"],[0.5555555555555556,\"#d8576b\"],[0.6666666666666666,\"#ed7953\"],[0.7777777777777778,\"#fb9f3a\"],[0.8888888888888888,\"#fdca26\"],[1.0,\"#f0f921\"]]}],\"mesh3d\":[{\"type\":\"mesh3d\",\"colorbar\":{\"outlinewidth\":0,\"ticks\":\"\"}}],\"scatter\":[{\"fillpattern\":{\"fillmode\":\"overlay\",\"size\":10,\"solidity\":0.2},\"type\":\"scatter\"}],\"parcoords\":[{\"type\":\"parcoords\",\"line\":{\"colorbar\":{\"outlinewidth\":0,\"ticks\":\"\"}}}],\"scatterpolargl\":[{\"type\":\"scatterpolargl\",\"marker\":{\"colorbar\":{\"outlinewidth\":0,\"ticks\":\"\"}}}],\"bar\":[{\"error_x\":{\"color\":\"#2a3f5f\"},\"error_y\":{\"color\":\"#2a3f5f\"},\"marker\":{\"line\":{\"color\":\"#E5ECF6\",\"width\":0.5},\"pattern\":{\"fillmode\":\"overlay\",\"size\":10,\"solidity\":0.2}},\"type\":\"bar\"}],\"scattergeo\":[{\"type\":\"scattergeo\",\"marker\":{\"colorbar\":{\"outlinewidth\":0,\"ticks\":\"\"}}}],\"scatterpolar\":[{\"type\":\"scatterpolar\",\"marker\":{\"colorbar\":{\"outlinewidth\":0,\"ticks\":\"\"}}}],\"histogram\":[{\"marker\":{\"pattern\":{\"fillmode\":\"overlay\",\"size\":10,\"solidity\":0.2}},\"type\":\"histogram\"}],\"scattergl\":[{\"type\":\"scattergl\",\"marker\":{\"colorbar\":{\"outlinewidth\":0,\"ticks\":\"\"}}}],\"scatter3d\":[{\"type\":\"scatter3d\",\"line\":{\"colorbar\":{\"outlinewidth\":0,\"ticks\":\"\"}},\"marker\":{\"colorbar\":{\"outlinewidth\":0,\"ticks\":\"\"}}}],\"scattermapbox\":[{\"type\":\"scattermapbox\",\"marker\":{\"colorbar\":{\"outlinewidth\":0,\"ticks\":\"\"}}}],\"scatterternary\":[{\"type\":\"scatterternary\",\"marker\":{\"colorbar\":{\"outlinewidth\":0,\"ticks\":\"\"}}}],\"scattercarpet\":[{\"type\":\"scattercarpet\",\"marker\":{\"colorbar\":{\"outlinewidth\":0,\"ticks\":\"\"}}}],\"carpet\":[{\"aaxis\":{\"endlinecolor\":\"#2a3f5f\",\"gridcolor\":\"white\",\"linecolor\":\"white\",\"minorgridcolor\":\"white\",\"startlinecolor\":\"#2a3f5f\"},\"baxis\":{\"endlinecolor\":\"#2a3f5f\",\"gridcolor\":\"white\",\"linecolor\":\"white\",\"minorgridcolor\":\"white\",\"startlinecolor\":\"#2a3f5f\"},\"type\":\"carpet\"}],\"table\":[{\"cells\":{\"fill\":{\"color\":\"#EBF0F8\"},\"line\":{\"color\":\"white\"}},\"header\":{\"fill\":{\"color\":\"#C8D4E3\"},\"line\":{\"color\":\"white\"}},\"type\":\"table\"}],\"barpolar\":[{\"marker\":{\"line\":{\"color\":\"#E5ECF6\",\"width\":0.5},\"pattern\":{\"fillmode\":\"overlay\",\"size\":10,\"solidity\":0.2}},\"type\":\"barpolar\"}],\"pie\":[{\"automargin\":true,\"type\":\"pie\"}]},\"layout\":{\"autotypenumbers\":\"strict\",\"colorway\":[\"#636efa\",\"#EF553B\",\"#00cc96\",\"#ab63fa\",\"#FFA15A\",\"#19d3f3\",\"#FF6692\",\"#B6E880\",\"#FF97FF\",\"#FECB52\"],\"font\":{\"color\":\"#2a3f5f\"},\"hovermode\":\"closest\",\"hoverlabel\":{\"align\":\"left\"},\"paper_bgcolor\":\"white\",\"plot_bgcolor\":\"#E5ECF6\",\"polar\":{\"bgcolor\":\"#E5ECF6\",\"angularaxis\":{\"gridcolor\":\"white\",\"linecolor\":\"white\",\"ticks\":\"\"},\"radialaxis\":{\"gridcolor\":\"white\",\"linecolor\":\"white\",\"ticks\":\"\"}},\"ternary\":{\"bgcolor\":\"#E5ECF6\",\"aaxis\":{\"gridcolor\":\"white\",\"linecolor\":\"white\",\"ticks\":\"\"},\"baxis\":{\"gridcolor\":\"white\",\"linecolor\":\"white\",\"ticks\":\"\"},\"caxis\":{\"gridcolor\":\"white\",\"linecolor\":\"white\",\"ticks\":\"\"}},\"coloraxis\":{\"colorbar\":{\"outlinewidth\":0,\"ticks\":\"\"}},\"colorscale\":{\"sequential\":[[0.0,\"#0d0887\"],[0.1111111111111111,\"#46039f\"],[0.2222222222222222,\"#7201a8\"],[0.3333333333333333,\"#9c179e\"],[0.4444444444444444,\"#bd3786\"],[0.5555555555555556,\"#d8576b\"],[0.6666666666666666,\"#ed7953\"],[0.7777777777777778,\"#fb9f3a\"],[0.8888888888888888,\"#fdca26\"],[1.0,\"#f0f921\"]],\"sequentialminus\":[[0.0,\"#0d0887\"],[0.1111111111111111,\"#46039f\"],[0.2222222222222222,\"#7201a8\"],[0.3333333333333333,\"#9c179e\"],[0.4444444444444444,\"#bd3786\"],[0.5555555555555556,\"#d8576b\"],[0.6666666666666666,\"#ed7953\"],[0.7777777777777778,\"#fb9f3a\"],[0.8888888888888888,\"#fdca26\"],[1.0,\"#f0f921\"]],\"diverging\":[[0,\"#8e0152\"],[0.1,\"#c51b7d\"],[0.2,\"#de77ae\"],[0.3,\"#f1b6da\"],[0.4,\"#fde0ef\"],[0.5,\"#f7f7f7\"],[0.6,\"#e6f5d0\"],[0.7,\"#b8e186\"],[0.8,\"#7fbc41\"],[0.9,\"#4d9221\"],[1,\"#276419\"]]},\"xaxis\":{\"gridcolor\":\"white\",\"linecolor\":\"white\",\"ticks\":\"\",\"title\":{\"standoff\":15},\"zerolinecolor\":\"white\",\"automargin\":true,\"zerolinewidth\":2},\"yaxis\":{\"gridcolor\":\"white\",\"linecolor\":\"white\",\"ticks\":\"\",\"title\":{\"standoff\":15},\"zerolinecolor\":\"white\",\"automargin\":true,\"zerolinewidth\":2},\"scene\":{\"xaxis\":{\"backgroundcolor\":\"#E5ECF6\",\"gridcolor\":\"white\",\"linecolor\":\"white\",\"showbackground\":true,\"ticks\":\"\",\"zerolinecolor\":\"white\",\"gridwidth\":2},\"yaxis\":{\"backgroundcolor\":\"#E5ECF6\",\"gridcolor\":\"white\",\"linecolor\":\"white\",\"showbackground\":true,\"ticks\":\"\",\"zerolinecolor\":\"white\",\"gridwidth\":2},\"zaxis\":{\"backgroundcolor\":\"#E5ECF6\",\"gridcolor\":\"white\",\"linecolor\":\"white\",\"showbackground\":true,\"ticks\":\"\",\"zerolinecolor\":\"white\",\"gridwidth\":2}},\"shapedefaults\":{\"line\":{\"color\":\"#2a3f5f\"}},\"annotationdefaults\":{\"arrowcolor\":\"#2a3f5f\",\"arrowhead\":0,\"arrowwidth\":1},\"geo\":{\"bgcolor\":\"white\",\"landcolor\":\"#E5ECF6\",\"subunitcolor\":\"white\",\"showland\":true,\"showlakes\":true,\"lakecolor\":\"white\"},\"title\":{\"x\":0.05},\"mapbox\":{\"style\":\"light\"}}},\"xaxis\":{\"anchor\":\"y\",\"domain\":[0.0,1.0],\"title\":{\"text\":\"department\"}},\"yaxis\":{\"anchor\":\"x\",\"domain\":[0.0,1.0],\"title\":{\"text\":\"frequency\"}},\"legend\":{\"title\":{\"text\":\"variable\"},\"tracegroupgap\":0},\"title\":{\"text\":\"faculty distribution of Welcome Buddies\",\"x\":0.5},\"barmode\":\"relative\",\"showlegend\":false},                        {\"responsive\": true}                    ).then(function(){\n",
       "                            \n",
       "var gd = document.getElementById('0bd80820-7800-45ad-822c-2d117134d040');\n",
       "var x = new MutationObserver(function (mutations, observer) {{\n",
       "        var display = window.getComputedStyle(gd).display;\n",
       "        if (!display || display === 'none') {{\n",
       "            console.log([gd, 'removed!']);\n",
       "            Plotly.purge(gd);\n",
       "            observer.disconnect();\n",
       "        }}\n",
       "}});\n",
       "\n",
       "// Listen for the removal of the full notebook cells\n",
       "var notebookContainer = gd.closest('#notebook-container');\n",
       "if (notebookContainer) {{\n",
       "    x.observe(notebookContainer, {childList: true});\n",
       "}}\n",
       "\n",
       "// Listen for the clearing of the current output cell\n",
       "var outputEl = gd.closest('.output');\n",
       "if (outputEl) {{\n",
       "    x.observe(outputEl, {childList: true});\n",
       "}}\n",
       "\n",
       "                        })                };                });            </script>        </div>"
      ]
     },
     "metadata": {},
     "output_type": "display_data"
    }
   ],
   "source": [
    "dept_fig = px.bar(dept_counts, title=\"faculty distribution of Welcome Buddies\")\n",
    "dept_fig.update_layout(\n",
    "    xaxis_title = \"department\",\n",
    "    yaxis_title = \"frequency\",\n",
    "    title_x = 0.5, \n",
    "    showlegend = False\n",
    ")\n",
    "dept_fig.show()"
   ]
  },
  {
   "cell_type": "markdown",
   "id": "e1c9e1a9",
   "metadata": {},
   "source": [
    "### course"
   ]
  },
  {
   "cell_type": "code",
   "execution_count": 416,
   "id": "84d2b082",
   "metadata": {},
   "outputs": [
    {
     "data": {
      "text/html": [
       "<div>\n",
       "<style scoped>\n",
       "    .dataframe tbody tr th:only-of-type {\n",
       "        vertical-align: middle;\n",
       "    }\n",
       "\n",
       "    .dataframe tbody tr th {\n",
       "        vertical-align: top;\n",
       "    }\n",
       "\n",
       "    .dataframe thead th {\n",
       "        text-align: right;\n",
       "    }\n",
       "</style>\n",
       "<table border=\"1\" class=\"dataframe\">\n",
       "  <thead>\n",
       "    <tr style=\"text-align: right;\">\n",
       "      <th></th>\n",
       "      <th>course</th>\n",
       "    </tr>\n",
       "  </thead>\n",
       "  <tbody>\n",
       "    <tr>\n",
       "      <th>BSc (Hons) Midwifery</th>\n",
       "      <td>48</td>\n",
       "    </tr>\n",
       "    <tr>\n",
       "      <th>BSc (Hons) Nursing (Adult)</th>\n",
       "      <td>37</td>\n",
       "    </tr>\n",
       "    <tr>\n",
       "      <th>BA (Hons) Primary Education Studies</th>\n",
       "      <td>37</td>\n",
       "    </tr>\n",
       "    <tr>\n",
       "      <th>BSc (Hons) Paramedic Science</th>\n",
       "      <td>32</td>\n",
       "    </tr>\n",
       "    <tr>\n",
       "      <th>BSc (Hons) Biomedical Science</th>\n",
       "      <td>30</td>\n",
       "    </tr>\n",
       "    <tr>\n",
       "      <th>...</th>\n",
       "      <td>...</td>\n",
       "    </tr>\n",
       "    <tr>\n",
       "      <th>BSc (Hons) Psychology and Criminology [Extended]</th>\n",
       "      <td>1</td>\n",
       "    </tr>\n",
       "    <tr>\n",
       "      <th>BSc (Hons) Business with Human Resource Management</th>\n",
       "      <td>1</td>\n",
       "    </tr>\n",
       "    <tr>\n",
       "      <th>BA (Hons) Writing and Film</th>\n",
       "      <td>1</td>\n",
       "    </tr>\n",
       "    <tr>\n",
       "      <th>BSc (Hons) Zoology [Extended]</th>\n",
       "      <td>1</td>\n",
       "    </tr>\n",
       "    <tr>\n",
       "      <th>BSc (Hons) Software Engineering</th>\n",
       "      <td>1</td>\n",
       "    </tr>\n",
       "  </tbody>\n",
       "</table>\n",
       "<p>90 rows × 1 columns</p>\n",
       "</div>"
      ],
      "text/plain": [
       "                                                    course\n",
       "BSc (Hons) Midwifery                                    48\n",
       "BSc (Hons) Nursing (Adult)                              37\n",
       "BA (Hons) Primary Education Studies                     37\n",
       "BSc (Hons) Paramedic Science                            32\n",
       "BSc (Hons) Biomedical Science                           30\n",
       "...                                                    ...\n",
       "BSc (Hons) Psychology and Criminology [Extended]         1\n",
       "BSc (Hons) Business with Human Resource Management       1\n",
       "BA (Hons) Writing and Film                               1\n",
       "BSc (Hons) Zoology [Extended]                            1\n",
       "BSc (Hons) Software Engineering                          1\n",
       "\n",
       "[90 rows x 1 columns]"
      ]
     },
     "execution_count": 416,
     "metadata": {},
     "output_type": "execute_result"
    }
   ],
   "source": [
    "#find course distribution across WBs\n",
    "course_counts = pd.DataFrame(data = df1[\"course\"].value_counts(), dtype=None, copy=None)\n",
    "course_counts"
   ]
  },
  {
   "cell_type": "code",
   "execution_count": 417,
   "id": "35d2c667",
   "metadata": {},
   "outputs": [],
   "source": [
    "#find courses with 5 or more WB representatives \n",
    "not_to_recruit =df1[\"course\"].value_counts().loc[lambda x: x > 4]\n",
    "nr = pd.DataFrame(data = not_to_recruit)\n",
    "nr.to_excel(\"nr.xlsx\",\n",
    "             sheet_name='not_to_recruit')\n"
   ]
  },
  {
   "cell_type": "code",
   "execution_count": 418,
   "id": "3016ff3a",
   "metadata": {},
   "outputs": [],
   "source": [
    "#find courses with 2 or less WB representatives \n",
    "to_recruit =df1[\"course\"].value_counts().loc[lambda x: x <= 4]\n",
    "tr = pd.DataFrame(data = to_recruit)\n",
    "tr.to_excel(\"tr.xlsx\",\n",
    "             sheet_name='to_recruit')\n"
   ]
  },
  {
   "cell_type": "code",
   "execution_count": 419,
   "id": "92c82d06",
   "metadata": {},
   "outputs": [
    {
     "data": {
      "image/png": "[encoded data removed]",
      "text/plain": [
       "<Figure size 432x288 with 1 Axes>"
      ]
     },
     "metadata": {
      "needs_background": "light"
     },
     "output_type": "display_data"
    }
   ],
   "source": [
    "#histogram shows that there are a high number of courses with less than 5 representatives, \n",
    "#strong right skew?\n",
    "plt.hist(course_counts, bins = 20)\n",
    "plt.title('frequency of course counts',fontsize = 13)\n",
    "plt.ylabel('frequency', fontsize = 11)\n",
    "plt.xlabel('course counts', fontsize = 11)\n",
    "plt.show() "
   ]
  },
  {
   "cell_type": "markdown",
   "id": "9fda8c0a",
   "metadata": {},
   "source": [
    "##### conclusion: most courses have less than 5 Welcome Budy representatives. see to_recruit for which courses these are"
   ]
  },
  {
   "cell_type": "code",
   "execution_count": 420,
   "id": "1a65825f",
   "metadata": {},
   "outputs": [
    {
     "data": {
      "application/vnd.plotly.v1+json": {
       "config": {
        "plotlyServerURL": "https://plot.ly"
       },
       "data": [
        {
         "alignmentgroup": "True",
         "hovertemplate": "variable=course<br>index=%{x}<br>value=%{y}<extra></extra>",
         "legendgroup": "course",
         "marker": {
          "color": "#636efa",
          "pattern": {
           "shape": ""
          }
         },
         "name": "course",
         "offsetgroup": "course",
         "orientation": "v",
         "showlegend": true,
         "textposition": "auto",
         "type": "bar",
         "x": [
          "BSc (Hons) Midwifery",
          "BSc (Hons) Nursing (Adult)",
          "BA (Hons) Primary Education Studies",
          "BSc (Hons) Paramedic Science",
          "BSc (Hons) Biomedical Science",
          "BSc (Hons) Nursing (Child)",
          "MBChB Primary Medical Qualification",
          "BSc (Hons) Crime and Investigative Studies",
          "LLB (Hons) Law",
          "BA (Hons) Social Work",
          "BOptom (Hons) Optometry",
          "BEng (Hons) Computer Science",
          "BSc (Hons) Psychology",
          "BSc (Hons) Nursing (Mental Health)",
          "BSc (Hons) Medical Science",
          "BA (Hons) Computer Games Art",
          "BSc (Hons) Zoology",
          "BSc (Hons) Business Management",
          "BA (Hons) Fine Art",
          "BSc (Hons) International Business Management",
          "BSc (Hons) Policing and Criminal Justice",
          "BEng (Hons) Mechanical Engineering",
          "BSc (Hons) Accounting and Finance",
          "BSc (Hons) Animal Behaviour",
          "BSc (Hons) Forensic Science",
          "BA (Hons) Illustration",
          "BSc (Hons) Marine and Terrestrial Conservation",
          "BA (Hons) English Language and Linguistics",
          "BA (Hons) Film and Television Production",
          "BSc (Hons) Psychology with Clinical Psychology",
          "BA (Hons) Performing Arts",
          "BSc (Hons) Sport and Exercise Science",
          "BSc (Hons) Operating Department Practice",
          "BA (Hons) Writing and English Literature",
          "BSc (Hons) Quantity Surveying",
          "BSc (Hons) Psychology with Criminology",
          "BA (Hons) Musical Theatre",
          "BA (Hons) Criminology and Sociology",
          "BSc (Hons) Sport and Exercise Therapy",
          "BSc (Hons) Cyber Security",
          "BA (Hons) Interior Design",
          "BSc (Hons) Ophthalmic Dispensing",
          "BSc (Hons) Business with Marketing",
          "BSc (Hons) Nursing (Adult and Mental Health)",
          "BSc (Hons) Business with Events Management",
          "BA (Hons) Architecture",
          "BSc (Hons) Business with Tourism Management",
          "BSc (Hons) Sport Coaching and Physical Education",
          "BA (Hons) Photography",
          "BSc (Hons) Computer Gaming Technology",
          "BSc (Hons) Business Management and Leadership",
          "BA (Hons) Film",
          "BA (Hons) Criminology and Policing",
          "BSc (Hons) Events Management",
          "BA (Hons) Illustration and Animation",
          "BSc (Hons) Finance with Economics",
          "BSc (Hons) Business and Human Resource Management",
          "BSc (Hons) Public Health",
          "BSc (Hons) Economics",
          "BA (Hons) TESOL (Teaching English to Speakers of Other Languages)",
          "BA (Hons) Criminology",
          "BSc (Hons) Computer Science",
          "BA (Hons) Early Childhood Studies",
          "BA (Hons) Politics",
          "BA (Hons) English Literature",
          "BA (Hons) Sociology",
          "BA (Hons) Drama and Film",
          "BSc (Hons) Tourism Management",
          "BA (Hons) Marketing",
          "BA (Hons) Graphic Design",
          "BSc (Hons) Strength and Conditioning with Rehabilitation",
          "BSc (Hons) Marine Biology with Biodiversity and Conservation",
          "BSc (Hons) Pharmaceutical Science",
          "BSc (Hons) Business with Economics",
          "BSc (Hons) Architecture",
          "BA (Hons) Philosophy",
          "BA (Hons) Drama and English Literature",
          "BSc (Hons) Psychology and Criminology",
          "BSc (Hons) Business with Entrepreneurship",
          "BA (Hons) Fashion Design",
          "BA (Hons) Drama",
          "BA (Hons) Philosophy and English Literature",
          "BA (Hons) Media Studies",
          "BSc (Hons) Creative Industries",
          "MEng Automotive Engineering",
          "BSc (Hons) Psychology and Criminology [Extended]",
          "BSc (Hons) Business with Human Resource Management",
          "BA (Hons) Writing and Film",
          "BSc (Hons) Zoology [Extended]",
          "BSc (Hons) Software Engineering"
         ],
         "xaxis": "x",
         "y": [
          48,
          37,
          37,
          32,
          30,
          26,
          26,
          20,
          18,
          15,
          11,
          11,
          10,
          10,
          10,
          7,
          7,
          7,
          7,
          7,
          6,
          6,
          6,
          6,
          5,
          5,
          5,
          5,
          5,
          5,
          5,
          5,
          4,
          4,
          4,
          4,
          4,
          4,
          4,
          4,
          4,
          4,
          3,
          3,
          3,
          3,
          3,
          3,
          3,
          3,
          3,
          2,
          2,
          2,
          2,
          2,
          2,
          2,
          2,
          2,
          2,
          2,
          2,
          2,
          2,
          2,
          2,
          2,
          1,
          1,
          1,
          1,
          1,
          1,
          1,
          1,
          1,
          1,
          1,
          1,
          1,
          1,
          1,
          1,
          1,
          1,
          1,
          1,
          1,
          1
         ],
         "yaxis": "y"
        }
       ],
       "layout": {
        "barmode": "relative",
        "legend": {
         "title": {
          "text": "variable"
         },
         "tracegroupgap": 0
        },
        "showlegend": false,
        "template": {
         "data": {
          "bar": [
           {
            "error_x": {
             "color": "#2a3f5f"
            },
            "error_y": {
             "color": "#2a3f5f"
            },
            "marker": {
             "line": {
              "color": "#E5ECF6",
              "width": 0.5
             },
             "pattern": {
              "fillmode": "overlay",
              "size": 10,
              "solidity": 0.2
             }
            },
            "type": "bar"
           }
          ],
          "barpolar": [
           {
            "marker": {
             "line": {
              "color": "#E5ECF6",
              "width": 0.5
             },
             "pattern": {
              "fillmode": "overlay",
              "size": 10,
              "solidity": 0.2
             }
            },
            "type": "barpolar"
           }
          ],
          "carpet": [
           {
            "aaxis": {
             "endlinecolor": "#2a3f5f",
             "gridcolor": "white",
             "linecolor": "white",
             "minorgridcolor": "white",
             "startlinecolor": "#2a3f5f"
            },
            "baxis": {
             "endlinecolor": "#2a3f5f",
             "gridcolor": "white",
             "linecolor": "white",
             "minorgridcolor": "white",
             "startlinecolor": "#2a3f5f"
            },
            "type": "carpet"
           }
          ],
          "choropleth": [
           {
            "colorbar": {
             "outlinewidth": 0,
             "ticks": ""
            },
            "type": "choropleth"
           }
          ],
          "contour": [
           {
            "colorbar": {
             "outlinewidth": 0,
             "ticks": ""
            },
            "colorscale": [
             [
              0,
              "#0d0887"
             ],
             [
              0.1111111111111111,
              "#46039f"
             ],
             [
              0.2222222222222222,
              "#7201a8"
             ],
             [
              0.3333333333333333,
              "#9c179e"
             ],
             [
              0.4444444444444444,
              "#bd3786"
             ],
             [
              0.5555555555555556,
              "#d8576b"
             ],
             [
              0.6666666666666666,
              "#ed7953"
             ],
             [
              0.7777777777777778,
              "#fb9f3a"
             ],
             [
              0.8888888888888888,
              "#fdca26"
             ],
             [
              1,
              "#f0f921"
             ]
            ],
            "type": "contour"
           }
          ],
          "contourcarpet": [
           {
            "colorbar": {
             "outlinewidth": 0,
             "ticks": ""
            },
            "type": "contourcarpet"
           }
          ],
          "heatmap": [
           {
            "colorbar": {
             "outlinewidth": 0,
             "ticks": ""
            },
            "colorscale": [
             [
              0,
              "#0d0887"
             ],
             [
              0.1111111111111111,
              "#46039f"
             ],
             [
              0.2222222222222222,
              "#7201a8"
             ],
             [
              0.3333333333333333,
              "#9c179e"
             ],
             [
              0.4444444444444444,
              "#bd3786"
             ],
             [
              0.5555555555555556,
              "#d8576b"
             ],
             [
              0.6666666666666666,
              "#ed7953"
             ],
             [
              0.7777777777777778,
              "#fb9f3a"
             ],
             [
              0.8888888888888888,
              "#fdca26"
             ],
             [
              1,
              "#f0f921"
             ]
            ],
            "type": "heatmap"
           }
          ],
          "heatmapgl": [
           {
            "colorbar": {
             "outlinewidth": 0,
             "ticks": ""
            },
            "colorscale": [
             [
              0,
              "#0d0887"
             ],
             [
              0.1111111111111111,
              "#46039f"
             ],
             [
              0.2222222222222222,
              "#7201a8"
             ],
             [
              0.3333333333333333,
              "#9c179e"
             ],
             [
              0.4444444444444444,
              "#bd3786"
             ],
             [
              0.5555555555555556,
              "#d8576b"
             ],
             [
              0.6666666666666666,
              "#ed7953"
             ],
             [
              0.7777777777777778,
              "#fb9f3a"
             ],
             [
              0.8888888888888888,
              "#fdca26"
             ],
             [
              1,
              "#f0f921"
             ]
            ],
            "type": "heatmapgl"
           }
          ],
          "histogram": [
           {
            "marker": {
             "pattern": {
              "fillmode": "overlay",
              "size": 10,
              "solidity": 0.2
             }
            },
            "type": "histogram"
           }
          ],
          "histogram2d": [
           {
            "colorbar": {
             "outlinewidth": 0,
             "ticks": ""
            },
            "colorscale": [
             [
              0,
              "#0d0887"
             ],
             [
              0.1111111111111111,
              "#46039f"
             ],
             [
              0.2222222222222222,
              "#7201a8"
             ],
             [
              0.3333333333333333,
              "#9c179e"
             ],
             [
              0.4444444444444444,
              "#bd3786"
             ],
             [
              0.5555555555555556,
              "#d8576b"
             ],
             [
              0.6666666666666666,
              "#ed7953"
             ],
             [
              0.7777777777777778,
              "#fb9f3a"
             ],
             [
              0.8888888888888888,
              "#fdca26"
             ],
             [
              1,
              "#f0f921"
             ]
            ],
            "type": "histogram2d"
           }
          ],
          "histogram2dcontour": [
           {
            "colorbar": {
             "outlinewidth": 0,
             "ticks": ""
            },
            "colorscale": [
             [
              0,
              "#0d0887"
             ],
             [
              0.1111111111111111,
              "#46039f"
             ],
             [
              0.2222222222222222,
              "#7201a8"
             ],
             [
              0.3333333333333333,
              "#9c179e"
             ],
             [
              0.4444444444444444,
              "#bd3786"
             ],
             [
              0.5555555555555556,
              "#d8576b"
             ],
             [
              0.6666666666666666,
              "#ed7953"
             ],
             [
              0.7777777777777778,
              "#fb9f3a"
             ],
             [
              0.8888888888888888,
              "#fdca26"
             ],
             [
              1,
              "#f0f921"
             ]
            ],
            "type": "histogram2dcontour"
           }
          ],
          "mesh3d": [
           {
            "colorbar": {
             "outlinewidth": 0,
             "ticks": ""
            },
            "type": "mesh3d"
           }
          ],
          "parcoords": [
           {
            "line": {
             "colorbar": {
              "outlinewidth": 0,
              "ticks": ""
             }
            },
            "type": "parcoords"
           }
          ],
          "pie": [
           {
            "automargin": true,
            "type": "pie"
           }
          ],
          "scatter": [
           {
            "fillpattern": {
             "fillmode": "overlay",
             "size": 10,
             "solidity": 0.2
            },
            "type": "scatter"
           }
          ],
          "scatter3d": [
           {
            "line": {
             "colorbar": {
              "outlinewidth": 0,
              "ticks": ""
             }
            },
            "marker": {
             "colorbar": {
              "outlinewidth": 0,
              "ticks": ""
             }
            },
            "type": "scatter3d"
           }
          ],
          "scattercarpet": [
           {
            "marker": {
             "colorbar": {
              "outlinewidth": 0,
              "ticks": ""
             }
            },
            "type": "scattercarpet"
           }
          ],
          "scattergeo": [
           {
            "marker": {
             "colorbar": {
              "outlinewidth": 0,
              "ticks": ""
             }
            },
            "type": "scattergeo"
           }
          ],
          "scattergl": [
           {
            "marker": {
             "colorbar": {
              "outlinewidth": 0,
              "ticks": ""
             }
            },
            "type": "scattergl"
           }
          ],
          "scattermapbox": [
           {
            "marker": {
             "colorbar": {
              "outlinewidth": 0,
              "ticks": ""
             }
            },
            "type": "scattermapbox"
           }
          ],
          "scatterpolar": [
           {
            "marker": {
             "colorbar": {
              "outlinewidth": 0,
              "ticks": ""
             }
            },
            "type": "scatterpolar"
           }
          ],
          "scatterpolargl": [
           {
            "marker": {
             "colorbar": {
              "outlinewidth": 0,
              "ticks": ""
             }
            },
            "type": "scatterpolargl"
           }
          ],
          "scatterternary": [
           {
            "marker": {
             "colorbar": {
              "outlinewidth": 0,
              "ticks": ""
             }
            },
            "type": "scatterternary"
           }
          ],
          "surface": [
           {
            "colorbar": {
             "outlinewidth": 0,
             "ticks": ""
            },
            "colorscale": [
             [
              0,
              "#0d0887"
             ],
             [
              0.1111111111111111,
              "#46039f"
             ],
             [
              0.2222222222222222,
              "#7201a8"
             ],
             [
              0.3333333333333333,
              "#9c179e"
             ],
             [
              0.4444444444444444,
              "#bd3786"
             ],
             [
              0.5555555555555556,
              "#d8576b"
             ],
             [
              0.6666666666666666,
              "#ed7953"
             ],
             [
              0.7777777777777778,
              "#fb9f3a"
             ],
             [
              0.8888888888888888,
              "#fdca26"
             ],
             [
              1,
              "#f0f921"
             ]
            ],
            "type": "surface"
           }
          ],
          "table": [
           {
            "cells": {
             "fill": {
              "color": "#EBF0F8"
             },
             "line": {
              "color": "white"
             }
            },
            "header": {
             "fill": {
              "color": "#C8D4E3"
             },
             "line": {
              "color": "white"
             }
            },
            "type": "table"
           }
          ]
         },
         "layout": {
          "annotationdefaults": {
           "arrowcolor": "#2a3f5f",
           "arrowhead": 0,
           "arrowwidth": 1
          },
          "autotypenumbers": "strict",
          "coloraxis": {
           "colorbar": {
            "outlinewidth": 0,
            "ticks": ""
           }
          },
          "colorscale": {
           "diverging": [
            [
             0,
             "#8e0152"
            ],
            [
             0.1,
             "#c51b7d"
            ],
            [
             0.2,
             "#de77ae"
            ],
            [
             0.3,
             "#f1b6da"
            ],
            [
             0.4,
             "#fde0ef"
            ],
            [
             0.5,
             "#f7f7f7"
            ],
            [
             0.6,
             "#e6f5d0"
            ],
            [
             0.7,
             "#b8e186"
            ],
            [
             0.8,
             "#7fbc41"
            ],
            [
             0.9,
             "#4d9221"
            ],
            [
             1,
             "#276419"
            ]
           ],
           "sequential": [
            [
             0,
             "#0d0887"
            ],
            [
             0.1111111111111111,
             "#46039f"
            ],
            [
             0.2222222222222222,
             "#7201a8"
            ],
            [
             0.3333333333333333,
             "#9c179e"
            ],
            [
             0.4444444444444444,
             "#bd3786"
            ],
            [
             0.5555555555555556,
             "#d8576b"
            ],
            [
             0.6666666666666666,
             "#ed7953"
            ],
            [
             0.7777777777777778,
             "#fb9f3a"
            ],
            [
             0.8888888888888888,
             "#fdca26"
            ],
            [
             1,
             "#f0f921"
            ]
           ],
           "sequentialminus": [
            [
             0,
             "#0d0887"
            ],
            [
             0.1111111111111111,
             "#46039f"
            ],
            [
             0.2222222222222222,
             "#7201a8"
            ],
            [
             0.3333333333333333,
             "#9c179e"
            ],
            [
             0.4444444444444444,
             "#bd3786"
            ],
            [
             0.5555555555555556,
             "#d8576b"
            ],
            [
             0.6666666666666666,
             "#ed7953"
            ],
            [
             0.7777777777777778,
             "#fb9f3a"
            ],
            [
             0.8888888888888888,
             "#fdca26"
            ],
            [
             1,
             "#f0f921"
            ]
           ]
          },
          "colorway": [
           "#636efa",
           "#EF553B",
           "#00cc96",
           "#ab63fa",
           "#FFA15A",
           "#19d3f3",
           "#FF6692",
           "#B6E880",
           "#FF97FF",
           "#FECB52"
          ],
          "font": {
           "color": "#2a3f5f"
          },
          "geo": {
           "bgcolor": "white",
           "lakecolor": "white",
           "landcolor": "#E5ECF6",
           "showlakes": true,
           "showland": true,
           "subunitcolor": "white"
          },
          "hoverlabel": {
           "align": "left"
          },
          "hovermode": "closest",
          "mapbox": {
           "style": "light"
          },
          "paper_bgcolor": "white",
          "plot_bgcolor": "#E5ECF6",
          "polar": {
           "angularaxis": {
            "gridcolor": "white",
            "linecolor": "white",
            "ticks": ""
           },
           "bgcolor": "#E5ECF6",
           "radialaxis": {
            "gridcolor": "white",
            "linecolor": "white",
            "ticks": ""
           }
          },
          "scene": {
           "xaxis": {
            "backgroundcolor": "#E5ECF6",
            "gridcolor": "white",
            "gridwidth": 2,
            "linecolor": "white",
            "showbackground": true,
            "ticks": "",
            "zerolinecolor": "white"
           },
           "yaxis": {
            "backgroundcolor": "#E5ECF6",
            "gridcolor": "white",
            "gridwidth": 2,
            "linecolor": "white",
            "showbackground": true,
            "ticks": "",
            "zerolinecolor": "white"
           },
           "zaxis": {
            "backgroundcolor": "#E5ECF6",
            "gridcolor": "white",
            "gridwidth": 2,
            "linecolor": "white",
            "showbackground": true,
            "ticks": "",
            "zerolinecolor": "white"
           }
          },
          "shapedefaults": {
           "line": {
            "color": "#2a3f5f"
           }
          },
          "ternary": {
           "aaxis": {
            "gridcolor": "white",
            "linecolor": "white",
            "ticks": ""
           },
           "baxis": {
            "gridcolor": "white",
            "linecolor": "white",
            "ticks": ""
           },
           "bgcolor": "#E5ECF6",
           "caxis": {
            "gridcolor": "white",
            "linecolor": "white",
            "ticks": ""
           }
          },
          "title": {
           "x": 0.05
          },
          "xaxis": {
           "automargin": true,
           "gridcolor": "white",
           "linecolor": "white",
           "ticks": "",
           "title": {
            "standoff": 15
           },
           "zerolinecolor": "white",
           "zerolinewidth": 2
          },
          "yaxis": {
           "automargin": true,
           "gridcolor": "white",
           "linecolor": "white",
           "ticks": "",
           "title": {
            "standoff": 15
           },
           "zerolinecolor": "white",
           "zerolinewidth": 2
          }
         }
        },
        "title": {
         "text": "course distribution of Welcome Buddies",
         "x": 0.5
        },
        "xaxis": {
         "anchor": "y",
         "domain": [
          0,
          1
         ],
         "title": {
          "text": "course"
         }
        },
        "yaxis": {
         "anchor": "x",
         "domain": [
          0,
          1
         ],
         "title": {
          "text": "frequency"
         }
        }
       }
      },
      "text/html": [
       "<div>                            <div id=\"14fdbea0-f5a2-4c96-b3d5-d44244a97332\" class=\"plotly-graph-div\" style=\"height:525px; width:100%;\"></div>            <script type=\"text/javascript\">                require([\"plotly\"], function(Plotly) {                    window.PLOTLYENV=window.PLOTLYENV || {};                                    if (document.getElementById(\"14fdbea0-f5a2-4c96-b3d5-d44244a97332\")) {                    Plotly.newPlot(                        \"14fdbea0-f5a2-4c96-b3d5-d44244a97332\",                        [{\"alignmentgroup\":\"True\",\"hovertemplate\":\"variable=course<br>index=%{x}<br>value=%{y}<extra></extra>\",\"legendgroup\":\"course\",\"marker\":{\"color\":\"#636efa\",\"pattern\":{\"shape\":\"\"}},\"name\":\"course\",\"offsetgroup\":\"course\",\"orientation\":\"v\",\"showlegend\":true,\"textposition\":\"auto\",\"x\":[\"BSc (Hons) Midwifery\",\"BSc (Hons) Nursing (Adult)\",\"BA (Hons) Primary Education Studies\",\"BSc (Hons) Paramedic Science\",\"BSc (Hons) Biomedical Science\",\"BSc (Hons) Nursing (Child)\",\"MBChB Primary Medical Qualification\",\"BSc (Hons) Crime and Investigative Studies\",\"LLB (Hons) Law\",\"BA (Hons) Social Work\",\"BOptom (Hons) Optometry\",\"BEng (Hons) Computer Science\",\"BSc (Hons) Psychology\",\"BSc (Hons) Nursing (Mental Health)\",\"BSc (Hons) Medical Science\",\"BA (Hons) Computer Games Art\",\"BSc (Hons) Zoology\",\"BSc (Hons) Business Management\",\"BA (Hons) Fine Art\",\"BSc (Hons) International Business Management\",\"BSc (Hons) Policing and Criminal Justice\",\"BEng (Hons) Mechanical Engineering\",\"BSc (Hons) Accounting and Finance\",\"BSc (Hons) Animal Behaviour\",\"BSc (Hons) Forensic Science\",\"BA (Hons) Illustration\",\"BSc (Hons) Marine and Terrestrial Conservation\",\"BA (Hons) English Language and Linguistics\",\"BA (Hons) Film and Television Production\",\"BSc (Hons) Psychology with Clinical Psychology\",\"BA (Hons) Performing Arts\",\"BSc (Hons) Sport and Exercise Science\",\"BSc (Hons) Operating Department Practice\",\"BA (Hons) Writing and English Literature\",\"BSc (Hons) Quantity Surveying\",\"BSc (Hons) Psychology with Criminology\",\"BA (Hons) Musical Theatre\",\"BA (Hons) Criminology and Sociology\",\"BSc (Hons) Sport and Exercise Therapy\",\"BSc (Hons) Cyber Security\",\"BA (Hons) Interior Design\",\"BSc (Hons) Ophthalmic Dispensing\",\"BSc (Hons) Business with Marketing\",\"BSc (Hons) Nursing (Adult and Mental Health)\",\"BSc (Hons) Business with Events Management\",\"BA (Hons) Architecture\",\"BSc (Hons) Business with Tourism Management\",\"BSc (Hons) Sport Coaching and Physical Education\",\"BA (Hons) Photography\",\"BSc (Hons) Computer Gaming Technology\",\"BSc (Hons) Business Management and Leadership\",\"BA (Hons) Film\",\"BA (Hons) Criminology and Policing\",\"BSc (Hons) Events Management\",\"BA (Hons) Illustration and Animation\",\"BSc (Hons) Finance with Economics\",\"BSc (Hons) Business and Human Resource Management\",\"BSc (Hons) Public Health\",\"BSc (Hons) Economics\",\"BA (Hons) TESOL (Teaching English to Speakers of Other Languages)\",\"BA (Hons) Criminology\",\"BSc (Hons) Computer Science\",\"BA (Hons) Early Childhood Studies\",\"BA (Hons) Politics\",\"BA (Hons) English Literature\",\"BA (Hons) Sociology\",\"BA (Hons) Drama and Film\",\"BSc (Hons) Tourism Management\",\"BA (Hons) Marketing\",\"BA (Hons) Graphic Design\",\"BSc (Hons) Strength and Conditioning with Rehabilitation\",\"BSc (Hons) Marine Biology with Biodiversity and Conservation\",\"BSc (Hons) Pharmaceutical Science\",\"BSc (Hons) Business with Economics\",\"BSc (Hons) Architecture\",\"BA (Hons) Philosophy\",\"BA (Hons) Drama and English Literature\",\"BSc (Hons) Psychology and Criminology\",\"BSc (Hons) Business with Entrepreneurship\",\"BA (Hons) Fashion Design\",\"BA (Hons) Drama\",\"BA (Hons) Philosophy and English Literature\",\"BA (Hons) Media Studies\",\"BSc (Hons) Creative Industries\",\"MEng Automotive Engineering\",\"BSc (Hons) Psychology and Criminology [Extended]\",\"BSc (Hons) Business with Human Resource Management\",\"BA (Hons) Writing and Film\",\"BSc (Hons) Zoology [Extended]\",\"BSc (Hons) Software Engineering\"],\"xaxis\":\"x\",\"y\":[48,37,37,32,30,26,26,20,18,15,11,11,10,10,10,7,7,7,7,7,6,6,6,6,5,5,5,5,5,5,5,5,4,4,4,4,4,4,4,4,4,4,3,3,3,3,3,3,3,3,3,2,2,2,2,2,2,2,2,2,2,2,2,2,2,2,2,2,1,1,1,1,1,1,1,1,1,1,1,1,1,1,1,1,1,1,1,1,1,1],\"yaxis\":\"y\",\"type\":\"bar\"}],                        {\"template\":{\"data\":{\"histogram2dcontour\":[{\"type\":\"histogram2dcontour\",\"colorbar\":{\"outlinewidth\":0,\"ticks\":\"\"},\"colorscale\":[[0.0,\"#0d0887\"],[0.1111111111111111,\"#46039f\"],[0.2222222222222222,\"#7201a8\"],[0.3333333333333333,\"#9c179e\"],[0.4444444444444444,\"#bd3786\"],[0.5555555555555556,\"#d8576b\"],[0.6666666666666666,\"#ed7953\"],[0.7777777777777778,\"#fb9f3a\"],[0.8888888888888888,\"#fdca26\"],[1.0,\"#f0f921\"]]}],\"choropleth\":[{\"type\":\"choropleth\",\"colorbar\":{\"outlinewidth\":0,\"ticks\":\"\"}}],\"histogram2d\":[{\"type\":\"histogram2d\",\"colorbar\":{\"outlinewidth\":0,\"ticks\":\"\"},\"colorscale\":[[0.0,\"#0d0887\"],[0.1111111111111111,\"#46039f\"],[0.2222222222222222,\"#7201a8\"],[0.3333333333333333,\"#9c179e\"],[0.4444444444444444,\"#bd3786\"],[0.5555555555555556,\"#d8576b\"],[0.6666666666666666,\"#ed7953\"],[0.7777777777777778,\"#fb9f3a\"],[0.8888888888888888,\"#fdca26\"],[1.0,\"#f0f921\"]]}],\"heatmap\":[{\"type\":\"heatmap\",\"colorbar\":{\"outlinewidth\":0,\"ticks\":\"\"},\"colorscale\":[[0.0,\"#0d0887\"],[0.1111111111111111,\"#46039f\"],[0.2222222222222222,\"#7201a8\"],[0.3333333333333333,\"#9c179e\"],[0.4444444444444444,\"#bd3786\"],[0.5555555555555556,\"#d8576b\"],[0.6666666666666666,\"#ed7953\"],[0.7777777777777778,\"#fb9f3a\"],[0.8888888888888888,\"#fdca26\"],[1.0,\"#f0f921\"]]}],\"heatmapgl\":[{\"type\":\"heatmapgl\",\"colorbar\":{\"outlinewidth\":0,\"ticks\":\"\"},\"colorscale\":[[0.0,\"#0d0887\"],[0.1111111111111111,\"#46039f\"],[0.2222222222222222,\"#7201a8\"],[0.3333333333333333,\"#9c179e\"],[0.4444444444444444,\"#bd3786\"],[0.5555555555555556,\"#d8576b\"],[0.6666666666666666,\"#ed7953\"],[0.7777777777777778,\"#fb9f3a\"],[0.8888888888888888,\"#fdca26\"],[1.0,\"#f0f921\"]]}],\"contourcarpet\":[{\"type\":\"contourcarpet\",\"colorbar\":{\"outlinewidth\":0,\"ticks\":\"\"}}],\"contour\":[{\"type\":\"contour\",\"colorbar\":{\"outlinewidth\":0,\"ticks\":\"\"},\"colorscale\":[[0.0,\"#0d0887\"],[0.1111111111111111,\"#46039f\"],[0.2222222222222222,\"#7201a8\"],[0.3333333333333333,\"#9c179e\"],[0.4444444444444444,\"#bd3786\"],[0.5555555555555556,\"#d8576b\"],[0.6666666666666666,\"#ed7953\"],[0.7777777777777778,\"#fb9f3a\"],[0.8888888888888888,\"#fdca26\"],[1.0,\"#f0f921\"]]}],\"surface\":[{\"type\":\"surface\",\"colorbar\":{\"outlinewidth\":0,\"ticks\":\"\"},\"colorscale\":[[0.0,\"#0d0887\"],[0.1111111111111111,\"#46039f\"],[0.2222222222222222,\"#7201a8\"],[0.3333333333333333,\"#9c179e\"],[0.4444444444444444,\"#bd3786\"],[0.5555555555555556,\"#d8576b\"],[0.6666666666666666,\"#ed7953\"],[0.7777777777777778,\"#fb9f3a\"],[0.8888888888888888,\"#fdca26\"],[1.0,\"#f0f921\"]]}],\"mesh3d\":[{\"type\":\"mesh3d\",\"colorbar\":{\"outlinewidth\":0,\"ticks\":\"\"}}],\"scatter\":[{\"fillpattern\":{\"fillmode\":\"overlay\",\"size\":10,\"solidity\":0.2},\"type\":\"scatter\"}],\"parcoords\":[{\"type\":\"parcoords\",\"line\":{\"colorbar\":{\"outlinewidth\":0,\"ticks\":\"\"}}}],\"scatterpolargl\":[{\"type\":\"scatterpolargl\",\"marker\":{\"colorbar\":{\"outlinewidth\":0,\"ticks\":\"\"}}}],\"bar\":[{\"error_x\":{\"color\":\"#2a3f5f\"},\"error_y\":{\"color\":\"#2a3f5f\"},\"marker\":{\"line\":{\"color\":\"#E5ECF6\",\"width\":0.5},\"pattern\":{\"fillmode\":\"overlay\",\"size\":10,\"solidity\":0.2}},\"type\":\"bar\"}],\"scattergeo\":[{\"type\":\"scattergeo\",\"marker\":{\"colorbar\":{\"outlinewidth\":0,\"ticks\":\"\"}}}],\"scatterpolar\":[{\"type\":\"scatterpolar\",\"marker\":{\"colorbar\":{\"outlinewidth\":0,\"ticks\":\"\"}}}],\"histogram\":[{\"marker\":{\"pattern\":{\"fillmode\":\"overlay\",\"size\":10,\"solidity\":0.2}},\"type\":\"histogram\"}],\"scattergl\":[{\"type\":\"scattergl\",\"marker\":{\"colorbar\":{\"outlinewidth\":0,\"ticks\":\"\"}}}],\"scatter3d\":[{\"type\":\"scatter3d\",\"line\":{\"colorbar\":{\"outlinewidth\":0,\"ticks\":\"\"}},\"marker\":{\"colorbar\":{\"outlinewidth\":0,\"ticks\":\"\"}}}],\"scattermapbox\":[{\"type\":\"scattermapbox\",\"marker\":{\"colorbar\":{\"outlinewidth\":0,\"ticks\":\"\"}}}],\"scatterternary\":[{\"type\":\"scatterternary\",\"marker\":{\"colorbar\":{\"outlinewidth\":0,\"ticks\":\"\"}}}],\"scattercarpet\":[{\"type\":\"scattercarpet\",\"marker\":{\"colorbar\":{\"outlinewidth\":0,\"ticks\":\"\"}}}],\"carpet\":[{\"aaxis\":{\"endlinecolor\":\"#2a3f5f\",\"gridcolor\":\"white\",\"linecolor\":\"white\",\"minorgridcolor\":\"white\",\"startlinecolor\":\"#2a3f5f\"},\"baxis\":{\"endlinecolor\":\"#2a3f5f\",\"gridcolor\":\"white\",\"linecolor\":\"white\",\"minorgridcolor\":\"white\",\"startlinecolor\":\"#2a3f5f\"},\"type\":\"carpet\"}],\"table\":[{\"cells\":{\"fill\":{\"color\":\"#EBF0F8\"},\"line\":{\"color\":\"white\"}},\"header\":{\"fill\":{\"color\":\"#C8D4E3\"},\"line\":{\"color\":\"white\"}},\"type\":\"table\"}],\"barpolar\":[{\"marker\":{\"line\":{\"color\":\"#E5ECF6\",\"width\":0.5},\"pattern\":{\"fillmode\":\"overlay\",\"size\":10,\"solidity\":0.2}},\"type\":\"barpolar\"}],\"pie\":[{\"automargin\":true,\"type\":\"pie\"}]},\"layout\":{\"autotypenumbers\":\"strict\",\"colorway\":[\"#636efa\",\"#EF553B\",\"#00cc96\",\"#ab63fa\",\"#FFA15A\",\"#19d3f3\",\"#FF6692\",\"#B6E880\",\"#FF97FF\",\"#FECB52\"],\"font\":{\"color\":\"#2a3f5f\"},\"hovermode\":\"closest\",\"hoverlabel\":{\"align\":\"left\"},\"paper_bgcolor\":\"white\",\"plot_bgcolor\":\"#E5ECF6\",\"polar\":{\"bgcolor\":\"#E5ECF6\",\"angularaxis\":{\"gridcolor\":\"white\",\"linecolor\":\"white\",\"ticks\":\"\"},\"radialaxis\":{\"gridcolor\":\"white\",\"linecolor\":\"white\",\"ticks\":\"\"}},\"ternary\":{\"bgcolor\":\"#E5ECF6\",\"aaxis\":{\"gridcolor\":\"white\",\"linecolor\":\"white\",\"ticks\":\"\"},\"baxis\":{\"gridcolor\":\"white\",\"linecolor\":\"white\",\"ticks\":\"\"},\"caxis\":{\"gridcolor\":\"white\",\"linecolor\":\"white\",\"ticks\":\"\"}},\"coloraxis\":{\"colorbar\":{\"outlinewidth\":0,\"ticks\":\"\"}},\"colorscale\":{\"sequential\":[[0.0,\"#0d0887\"],[0.1111111111111111,\"#46039f\"],[0.2222222222222222,\"#7201a8\"],[0.3333333333333333,\"#9c179e\"],[0.4444444444444444,\"#bd3786\"],[0.5555555555555556,\"#d8576b\"],[0.6666666666666666,\"#ed7953\"],[0.7777777777777778,\"#fb9f3a\"],[0.8888888888888888,\"#fdca26\"],[1.0,\"#f0f921\"]],\"sequentialminus\":[[0.0,\"#0d0887\"],[0.1111111111111111,\"#46039f\"],[0.2222222222222222,\"#7201a8\"],[0.3333333333333333,\"#9c179e\"],[0.4444444444444444,\"#bd3786\"],[0.5555555555555556,\"#d8576b\"],[0.6666666666666666,\"#ed7953\"],[0.7777777777777778,\"#fb9f3a\"],[0.8888888888888888,\"#fdca26\"],[1.0,\"#f0f921\"]],\"diverging\":[[0,\"#8e0152\"],[0.1,\"#c51b7d\"],[0.2,\"#de77ae\"],[0.3,\"#f1b6da\"],[0.4,\"#fde0ef\"],[0.5,\"#f7f7f7\"],[0.6,\"#e6f5d0\"],[0.7,\"#b8e186\"],[0.8,\"#7fbc41\"],[0.9,\"#4d9221\"],[1,\"#276419\"]]},\"xaxis\":{\"gridcolor\":\"white\",\"linecolor\":\"white\",\"ticks\":\"\",\"title\":{\"standoff\":15},\"zerolinecolor\":\"white\",\"automargin\":true,\"zerolinewidth\":2},\"yaxis\":{\"gridcolor\":\"white\",\"linecolor\":\"white\",\"ticks\":\"\",\"title\":{\"standoff\":15},\"zerolinecolor\":\"white\",\"automargin\":true,\"zerolinewidth\":2},\"scene\":{\"xaxis\":{\"backgroundcolor\":\"#E5ECF6\",\"gridcolor\":\"white\",\"linecolor\":\"white\",\"showbackground\":true,\"ticks\":\"\",\"zerolinecolor\":\"white\",\"gridwidth\":2},\"yaxis\":{\"backgroundcolor\":\"#E5ECF6\",\"gridcolor\":\"white\",\"linecolor\":\"white\",\"showbackground\":true,\"ticks\":\"\",\"zerolinecolor\":\"white\",\"gridwidth\":2},\"zaxis\":{\"backgroundcolor\":\"#E5ECF6\",\"gridcolor\":\"white\",\"linecolor\":\"white\",\"showbackground\":true,\"ticks\":\"\",\"zerolinecolor\":\"white\",\"gridwidth\":2}},\"shapedefaults\":{\"line\":{\"color\":\"#2a3f5f\"}},\"annotationdefaults\":{\"arrowcolor\":\"#2a3f5f\",\"arrowhead\":0,\"arrowwidth\":1},\"geo\":{\"bgcolor\":\"white\",\"landcolor\":\"#E5ECF6\",\"subunitcolor\":\"white\",\"showland\":true,\"showlakes\":true,\"lakecolor\":\"white\"},\"title\":{\"x\":0.05},\"mapbox\":{\"style\":\"light\"}}},\"xaxis\":{\"anchor\":\"y\",\"domain\":[0.0,1.0],\"title\":{\"text\":\"course\"}},\"yaxis\":{\"anchor\":\"x\",\"domain\":[0.0,1.0],\"title\":{\"text\":\"frequency\"}},\"legend\":{\"title\":{\"text\":\"variable\"},\"tracegroupgap\":0},\"title\":{\"text\":\"course distribution of Welcome Buddies\",\"x\":0.5},\"barmode\":\"relative\",\"showlegend\":false},                        {\"responsive\": true}                    ).then(function(){\n",
       "                            \n",
       "var gd = document.getElementById('14fdbea0-f5a2-4c96-b3d5-d44244a97332');\n",
       "var x = new MutationObserver(function (mutations, observer) {{\n",
       "        var display = window.getComputedStyle(gd).display;\n",
       "        if (!display || display === 'none') {{\n",
       "            console.log([gd, 'removed!']);\n",
       "            Plotly.purge(gd);\n",
       "            observer.disconnect();\n",
       "        }}\n",
       "}});\n",
       "\n",
       "// Listen for the removal of the full notebook cells\n",
       "var notebookContainer = gd.closest('#notebook-container');\n",
       "if (notebookContainer) {{\n",
       "    x.observe(notebookContainer, {childList: true});\n",
       "}}\n",
       "\n",
       "// Listen for the clearing of the current output cell\n",
       "var outputEl = gd.closest('.output');\n",
       "if (outputEl) {{\n",
       "    x.observe(outputEl, {childList: true});\n",
       "}}\n",
       "\n",
       "                        })                };                });            </script>        </div>"
      ]
     },
     "metadata": {},
     "output_type": "display_data"
    }
   ],
   "source": [
    "course_fig = px.bar(course_counts, title=\"course distribution of Welcome Buddies\")\n",
    "course_fig.update_layout(\n",
    "    xaxis_title = \"course\",\n",
    "    yaxis_title = \"frequency\",\n",
    "    title_x = 0.5, \n",
    "    showlegend = False\n",
    ")\n",
    "course_fig.show()"
   ]
  },
  {
   "cell_type": "markdown",
   "id": "73e4727a",
   "metadata": {},
   "source": [
    "#### conclusion: courses which could stand to have more representation: to_recruit"
   ]
  },
  {
   "cell_type": "markdown",
   "id": "dc000878",
   "metadata": {},
   "source": [
    "### school"
   ]
  },
  {
   "cell_type": "code",
   "execution_count": 421,
   "id": "9a21d1dd",
   "metadata": {},
   "outputs": [],
   "source": [
    "#clean school column\n",
    "df1['school'] = df1['school'].str.replace('at Anglia Ruskin University', '')\n",
    "#will not differentiate between Cam and Chelms School of Nursing and Midwifery\n",
    "df1['school'] = df1['school'].str.replace('- Chelmsford', '')\n",
    "df1['school'] = df1['school'].str.replace('- Cambridgeshire', '')"
   ]
  },
  {
   "cell_type": "code",
   "execution_count": 422,
   "id": "96f34a01",
   "metadata": {},
   "outputs": [
    {
     "data": {
      "text/html": [
       "<div>\n",
       "<style scoped>\n",
       "    .dataframe tbody tr th:only-of-type {\n",
       "        vertical-align: middle;\n",
       "    }\n",
       "\n",
       "    .dataframe tbody tr th {\n",
       "        vertical-align: top;\n",
       "    }\n",
       "\n",
       "    .dataframe thead th {\n",
       "        text-align: right;\n",
       "    }\n",
       "</style>\n",
       "<table border=\"1\" class=\"dataframe\">\n",
       "  <thead>\n",
       "    <tr style=\"text-align: right;\">\n",
       "      <th></th>\n",
       "      <th>school</th>\n",
       "    </tr>\n",
       "  </thead>\n",
       "  <tbody>\n",
       "    <tr>\n",
       "      <th>School of Nursing and Midwifery</th>\n",
       "      <td>125</td>\n",
       "    </tr>\n",
       "    <tr>\n",
       "      <th>School of Life Sciences</th>\n",
       "      <td>75</td>\n",
       "    </tr>\n",
       "    <tr>\n",
       "      <th>School of Education and Social Care</th>\n",
       "      <td>54</td>\n",
       "    </tr>\n",
       "    <tr>\n",
       "      <th>School of Psychology and Sport Science</th>\n",
       "      <td>49</td>\n",
       "    </tr>\n",
       "    <tr>\n",
       "      <th>School of Allied Health</th>\n",
       "      <td>48</td>\n",
       "    </tr>\n",
       "  </tbody>\n",
       "</table>\n",
       "</div>"
      ],
      "text/plain": [
       "                                         school\n",
       "School of Nursing and Midwifery             125\n",
       "School of Life Sciences                      75\n",
       "School of Education and Social Care          54\n",
       "School of Psychology and Sport Science       49\n",
       "School of Allied Health                      48"
      ]
     },
     "execution_count": 422,
     "metadata": {},
     "output_type": "execute_result"
    }
   ],
   "source": [
    "#find school distribution across WBs\n",
    "school_counts = pd.DataFrame(data = df1[\"school\"].value_counts(), dtype=None, copy=None)\n",
    "school_counts.head()"
   ]
  },
  {
   "cell_type": "code",
   "execution_count": 423,
   "id": "5f1aa665",
   "metadata": {},
   "outputs": [
    {
     "data": {
      "application/vnd.plotly.v1+json": {
       "config": {
        "plotlyServerURL": "https://plot.ly"
       },
       "data": [
        {
         "alignmentgroup": "True",
         "hovertemplate": "variable=school<br>index=%{x}<br>value=%{y}<extra></extra>",
         "legendgroup": "school",
         "marker": {
          "color": "#636efa",
          "pattern": {
           "shape": ""
          }
         },
         "name": "school",
         "offsetgroup": "school",
         "orientation": "v",
         "showlegend": true,
         "textposition": "auto",
         "type": "bar",
         "x": [
          "School of Nursing and Midwifery  ",
          "School of Life Sciences ",
          "School of Education and Social Care ",
          "School of Psychology and Sport Science ",
          "School of Allied Health ",
          "Cambridge School of the Creative Industries ",
          "School of Economics Finance and Law ",
          "School of Humanities and Social Sciences ",
          "School of Management ",
          "School of Medicine",
          "Cambridge School of Art ",
          "School of Computing and Information Sciences ",
          "School of Engineering and the Built Environment "
         ],
         "xaxis": "x",
         "y": [
          125,
          75,
          54,
          49,
          48,
          37,
          36,
          29,
          28,
          26,
          23,
          18,
          15
         ],
         "yaxis": "y"
        }
       ],
       "layout": {
        "barmode": "relative",
        "legend": {
         "title": {
          "text": "variable"
         },
         "tracegroupgap": 0
        },
        "showlegend": false,
        "template": {
         "data": {
          "bar": [
           {
            "error_x": {
             "color": "#2a3f5f"
            },
            "error_y": {
             "color": "#2a3f5f"
            },
            "marker": {
             "line": {
              "color": "#E5ECF6",
              "width": 0.5
             },
             "pattern": {
              "fillmode": "overlay",
              "size": 10,
              "solidity": 0.2
             }
            },
            "type": "bar"
           }
          ],
          "barpolar": [
           {
            "marker": {
             "line": {
              "color": "#E5ECF6",
              "width": 0.5
             },
             "pattern": {
              "fillmode": "overlay",
              "size": 10,
              "solidity": 0.2
             }
            },
            "type": "barpolar"
           }
          ],
          "carpet": [
           {
            "aaxis": {
             "endlinecolor": "#2a3f5f",
             "gridcolor": "white",
             "linecolor": "white",
             "minorgridcolor": "white",
             "startlinecolor": "#2a3f5f"
            },
            "baxis": {
             "endlinecolor": "#2a3f5f",
             "gridcolor": "white",
             "linecolor": "white",
             "minorgridcolor": "white",
             "startlinecolor": "#2a3f5f"
            },
            "type": "carpet"
           }
          ],
          "choropleth": [
           {
            "colorbar": {
             "outlinewidth": 0,
             "ticks": ""
            },
            "type": "choropleth"
           }
          ],
          "contour": [
           {
            "colorbar": {
             "outlinewidth": 0,
             "ticks": ""
            },
            "colorscale": [
             [
              0,
              "#0d0887"
             ],
             [
              0.1111111111111111,
              "#46039f"
             ],
             [
              0.2222222222222222,
              "#7201a8"
             ],
             [
              0.3333333333333333,
              "#9c179e"
             ],
             [
              0.4444444444444444,
              "#bd3786"
             ],
             [
              0.5555555555555556,
              "#d8576b"
             ],
             [
              0.6666666666666666,
              "#ed7953"
             ],
             [
              0.7777777777777778,
              "#fb9f3a"
             ],
             [
              0.8888888888888888,
              "#fdca26"
             ],
             [
              1,
              "#f0f921"
             ]
            ],
            "type": "contour"
           }
          ],
          "contourcarpet": [
           {
            "colorbar": {
             "outlinewidth": 0,
             "ticks": ""
            },
            "type": "contourcarpet"
           }
          ],
          "heatmap": [
           {
            "colorbar": {
             "outlinewidth": 0,
             "ticks": ""
            },
            "colorscale": [
             [
              0,
              "#0d0887"
             ],
             [
              0.1111111111111111,
              "#46039f"
             ],
             [
              0.2222222222222222,
              "#7201a8"
             ],
             [
              0.3333333333333333,
              "#9c179e"
             ],
             [
              0.4444444444444444,
              "#bd3786"
             ],
             [
              0.5555555555555556,
              "#d8576b"
             ],
             [
              0.6666666666666666,
              "#ed7953"
             ],
             [
              0.7777777777777778,
              "#fb9f3a"
             ],
             [
              0.8888888888888888,
              "#fdca26"
             ],
             [
              1,
              "#f0f921"
             ]
            ],
            "type": "heatmap"
           }
          ],
          "heatmapgl": [
           {
            "colorbar": {
             "outlinewidth": 0,
             "ticks": ""
            },
            "colorscale": [
             [
              0,
              "#0d0887"
             ],
             [
              0.1111111111111111,
              "#46039f"
             ],
             [
              0.2222222222222222,
              "#7201a8"
             ],
             [
              0.3333333333333333,
              "#9c179e"
             ],
             [
              0.4444444444444444,
              "#bd3786"
             ],
             [
              0.5555555555555556,
              "#d8576b"
             ],
             [
              0.6666666666666666,
              "#ed7953"
             ],
             [
              0.7777777777777778,
              "#fb9f3a"
             ],
             [
              0.8888888888888888,
              "#fdca26"
             ],
             [
              1,
              "#f0f921"
             ]
            ],
            "type": "heatmapgl"
           }
          ],
          "histogram": [
           {
            "marker": {
             "pattern": {
              "fillmode": "overlay",
              "size": 10,
              "solidity": 0.2
             }
            },
            "type": "histogram"
           }
          ],
          "histogram2d": [
           {
            "colorbar": {
             "outlinewidth": 0,
             "ticks": ""
            },
            "colorscale": [
             [
              0,
              "#0d0887"
             ],
             [
              0.1111111111111111,
              "#46039f"
             ],
             [
              0.2222222222222222,
              "#7201a8"
             ],
             [
              0.3333333333333333,
              "#9c179e"
             ],
             [
              0.4444444444444444,
              "#bd3786"
             ],
             [
              0.5555555555555556,
              "#d8576b"
             ],
             [
              0.6666666666666666,
              "#ed7953"
             ],
             [
              0.7777777777777778,
              "#fb9f3a"
             ],
             [
              0.8888888888888888,
              "#fdca26"
             ],
             [
              1,
              "#f0f921"
             ]
            ],
            "type": "histogram2d"
           }
          ],
          "histogram2dcontour": [
           {
            "colorbar": {
             "outlinewidth": 0,
             "ticks": ""
            },
            "colorscale": [
             [
              0,
              "#0d0887"
             ],
             [
              0.1111111111111111,
              "#46039f"
             ],
             [
              0.2222222222222222,
              "#7201a8"
             ],
             [
              0.3333333333333333,
              "#9c179e"
             ],
             [
              0.4444444444444444,
              "#bd3786"
             ],
             [
              0.5555555555555556,
              "#d8576b"
             ],
             [
              0.6666666666666666,
              "#ed7953"
             ],
             [
              0.7777777777777778,
              "#fb9f3a"
             ],
             [
              0.8888888888888888,
              "#fdca26"
             ],
             [
              1,
              "#f0f921"
             ]
            ],
            "type": "histogram2dcontour"
           }
          ],
          "mesh3d": [
           {
            "colorbar": {
             "outlinewidth": 0,
             "ticks": ""
            },
            "type": "mesh3d"
           }
          ],
          "parcoords": [
           {
            "line": {
             "colorbar": {
              "outlinewidth": 0,
              "ticks": ""
             }
            },
            "type": "parcoords"
           }
          ],
          "pie": [
           {
            "automargin": true,
            "type": "pie"
           }
          ],
          "scatter": [
           {
            "fillpattern": {
             "fillmode": "overlay",
             "size": 10,
             "solidity": 0.2
            },
            "type": "scatter"
           }
          ],
          "scatter3d": [
           {
            "line": {
             "colorbar": {
              "outlinewidth": 0,
              "ticks": ""
             }
            },
            "marker": {
             "colorbar": {
              "outlinewidth": 0,
              "ticks": ""
             }
            },
            "type": "scatter3d"
           }
          ],
          "scattercarpet": [
           {
            "marker": {
             "colorbar": {
              "outlinewidth": 0,
              "ticks": ""
             }
            },
            "type": "scattercarpet"
           }
          ],
          "scattergeo": [
           {
            "marker": {
             "colorbar": {
              "outlinewidth": 0,
              "ticks": ""
             }
            },
            "type": "scattergeo"
           }
          ],
          "scattergl": [
           {
            "marker": {
             "colorbar": {
              "outlinewidth": 0,
              "ticks": ""
             }
            },
            "type": "scattergl"
           }
          ],
          "scattermapbox": [
           {
            "marker": {
             "colorbar": {
              "outlinewidth": 0,
              "ticks": ""
             }
            },
            "type": "scattermapbox"
           }
          ],
          "scatterpolar": [
           {
            "marker": {
             "colorbar": {
              "outlinewidth": 0,
              "ticks": ""
             }
            },
            "type": "scatterpolar"
           }
          ],
          "scatterpolargl": [
           {
            "marker": {
             "colorbar": {
              "outlinewidth": 0,
              "ticks": ""
             }
            },
            "type": "scatterpolargl"
           }
          ],
          "scatterternary": [
           {
            "marker": {
             "colorbar": {
              "outlinewidth": 0,
              "ticks": ""
             }
            },
            "type": "scatterternary"
           }
          ],
          "surface": [
           {
            "colorbar": {
             "outlinewidth": 0,
             "ticks": ""
            },
            "colorscale": [
             [
              0,
              "#0d0887"
             ],
             [
              0.1111111111111111,
              "#46039f"
             ],
             [
              0.2222222222222222,
              "#7201a8"
             ],
             [
              0.3333333333333333,
              "#9c179e"
             ],
             [
              0.4444444444444444,
              "#bd3786"
             ],
             [
              0.5555555555555556,
              "#d8576b"
             ],
             [
              0.6666666666666666,
              "#ed7953"
             ],
             [
              0.7777777777777778,
              "#fb9f3a"
             ],
             [
              0.8888888888888888,
              "#fdca26"
             ],
             [
              1,
              "#f0f921"
             ]
            ],
            "type": "surface"
           }
          ],
          "table": [
           {
            "cells": {
             "fill": {
              "color": "#EBF0F8"
             },
             "line": {
              "color": "white"
             }
            },
            "header": {
             "fill": {
              "color": "#C8D4E3"
             },
             "line": {
              "color": "white"
             }
            },
            "type": "table"
           }
          ]
         },
         "layout": {
          "annotationdefaults": {
           "arrowcolor": "#2a3f5f",
           "arrowhead": 0,
           "arrowwidth": 1
          },
          "autotypenumbers": "strict",
          "coloraxis": {
           "colorbar": {
            "outlinewidth": 0,
            "ticks": ""
           }
          },
          "colorscale": {
           "diverging": [
            [
             0,
             "#8e0152"
            ],
            [
             0.1,
             "#c51b7d"
            ],
            [
             0.2,
             "#de77ae"
            ],
            [
             0.3,
             "#f1b6da"
            ],
            [
             0.4,
             "#fde0ef"
            ],
            [
             0.5,
             "#f7f7f7"
            ],
            [
             0.6,
             "#e6f5d0"
            ],
            [
             0.7,
             "#b8e186"
            ],
            [
             0.8,
             "#7fbc41"
            ],
            [
             0.9,
             "#4d9221"
            ],
            [
             1,
             "#276419"
            ]
           ],
           "sequential": [
            [
             0,
             "#0d0887"
            ],
            [
             0.1111111111111111,
             "#46039f"
            ],
            [
             0.2222222222222222,
             "#7201a8"
            ],
            [
             0.3333333333333333,
             "#9c179e"
            ],
            [
             0.4444444444444444,
             "#bd3786"
            ],
            [
             0.5555555555555556,
             "#d8576b"
            ],
            [
             0.6666666666666666,
             "#ed7953"
            ],
            [
             0.7777777777777778,
             "#fb9f3a"
            ],
            [
             0.8888888888888888,
             "#fdca26"
            ],
            [
             1,
             "#f0f921"
            ]
           ],
           "sequentialminus": [
            [
             0,
             "#0d0887"
            ],
            [
             0.1111111111111111,
             "#46039f"
            ],
            [
             0.2222222222222222,
             "#7201a8"
            ],
            [
             0.3333333333333333,
             "#9c179e"
            ],
            [
             0.4444444444444444,
             "#bd3786"
            ],
            [
             0.5555555555555556,
             "#d8576b"
            ],
            [
             0.6666666666666666,
             "#ed7953"
            ],
            [
             0.7777777777777778,
             "#fb9f3a"
            ],
            [
             0.8888888888888888,
             "#fdca26"
            ],
            [
             1,
             "#f0f921"
            ]
           ]
          },
          "colorway": [
           "#636efa",
           "#EF553B",
           "#00cc96",
           "#ab63fa",
           "#FFA15A",
           "#19d3f3",
           "#FF6692",
           "#B6E880",
           "#FF97FF",
           "#FECB52"
          ],
          "font": {
           "color": "#2a3f5f"
          },
          "geo": {
           "bgcolor": "white",
           "lakecolor": "white",
           "landcolor": "#E5ECF6",
           "showlakes": true,
           "showland": true,
           "subunitcolor": "white"
          },
          "hoverlabel": {
           "align": "left"
          },
          "hovermode": "closest",
          "mapbox": {
           "style": "light"
          },
          "paper_bgcolor": "white",
          "plot_bgcolor": "#E5ECF6",
          "polar": {
           "angularaxis": {
            "gridcolor": "white",
            "linecolor": "white",
            "ticks": ""
           },
           "bgcolor": "#E5ECF6",
           "radialaxis": {
            "gridcolor": "white",
            "linecolor": "white",
            "ticks": ""
           }
          },
          "scene": {
           "xaxis": {
            "backgroundcolor": "#E5ECF6",
            "gridcolor": "white",
            "gridwidth": 2,
            "linecolor": "white",
            "showbackground": true,
            "ticks": "",
            "zerolinecolor": "white"
           },
           "yaxis": {
            "backgroundcolor": "#E5ECF6",
            "gridcolor": "white",
            "gridwidth": 2,
            "linecolor": "white",
            "showbackground": true,
            "ticks": "",
            "zerolinecolor": "white"
           },
           "zaxis": {
            "backgroundcolor": "#E5ECF6",
            "gridcolor": "white",
            "gridwidth": 2,
            "linecolor": "white",
            "showbackground": true,
            "ticks": "",
            "zerolinecolor": "white"
           }
          },
          "shapedefaults": {
           "line": {
            "color": "#2a3f5f"
           }
          },
          "ternary": {
           "aaxis": {
            "gridcolor": "white",
            "linecolor": "white",
            "ticks": ""
           },
           "baxis": {
            "gridcolor": "white",
            "linecolor": "white",
            "ticks": ""
           },
           "bgcolor": "#E5ECF6",
           "caxis": {
            "gridcolor": "white",
            "linecolor": "white",
            "ticks": ""
           }
          },
          "title": {
           "x": 0.05
          },
          "xaxis": {
           "automargin": true,
           "gridcolor": "white",
           "linecolor": "white",
           "ticks": "",
           "title": {
            "standoff": 15
           },
           "zerolinecolor": "white",
           "zerolinewidth": 2
          },
          "yaxis": {
           "automargin": true,
           "gridcolor": "white",
           "linecolor": "white",
           "ticks": "",
           "title": {
            "standoff": 15
           },
           "zerolinecolor": "white",
           "zerolinewidth": 2
          }
         }
        },
        "title": {
         "text": "school membership distribution of Welcome Buddies",
         "x": 0.5
        },
        "xaxis": {
         "anchor": "y",
         "domain": [
          0,
          1
         ],
         "title": {
          "text": "school"
         }
        },
        "yaxis": {
         "anchor": "x",
         "domain": [
          0,
          1
         ],
         "title": {
          "text": "frequency"
         }
        }
       }
      },
      "text/html": [
       "<div>                            <div id=\"eeea8d1e-899d-49f8-8cff-c553ab7ff3d0\" class=\"plotly-graph-div\" style=\"height:525px; width:100%;\"></div>            <script type=\"text/javascript\">                require([\"plotly\"], function(Plotly) {                    window.PLOTLYENV=window.PLOTLYENV || {};                                    if (document.getElementById(\"eeea8d1e-899d-49f8-8cff-c553ab7ff3d0\")) {                    Plotly.newPlot(                        \"eeea8d1e-899d-49f8-8cff-c553ab7ff3d0\",                        [{\"alignmentgroup\":\"True\",\"hovertemplate\":\"variable=school<br>index=%{x}<br>value=%{y}<extra></extra>\",\"legendgroup\":\"school\",\"marker\":{\"color\":\"#636efa\",\"pattern\":{\"shape\":\"\"}},\"name\":\"school\",\"offsetgroup\":\"school\",\"orientation\":\"v\",\"showlegend\":true,\"textposition\":\"auto\",\"x\":[\"School of Nursing and Midwifery  \",\"School of Life Sciences \",\"School of Education and Social Care \",\"School of Psychology and Sport Science \",\"School of Allied Health \",\"Cambridge School of the Creative Industries \",\"School of Economics Finance and Law \",\"School of Humanities and Social Sciences \",\"School of Management \",\"School of Medicine\",\"Cambridge School of Art \",\"School of Computing and Information Sciences \",\"School of Engineering and the Built Environment \"],\"xaxis\":\"x\",\"y\":[125,75,54,49,48,37,36,29,28,26,23,18,15],\"yaxis\":\"y\",\"type\":\"bar\"}],                        {\"template\":{\"data\":{\"histogram2dcontour\":[{\"type\":\"histogram2dcontour\",\"colorbar\":{\"outlinewidth\":0,\"ticks\":\"\"},\"colorscale\":[[0.0,\"#0d0887\"],[0.1111111111111111,\"#46039f\"],[0.2222222222222222,\"#7201a8\"],[0.3333333333333333,\"#9c179e\"],[0.4444444444444444,\"#bd3786\"],[0.5555555555555556,\"#d8576b\"],[0.6666666666666666,\"#ed7953\"],[0.7777777777777778,\"#fb9f3a\"],[0.8888888888888888,\"#fdca26\"],[1.0,\"#f0f921\"]]}],\"choropleth\":[{\"type\":\"choropleth\",\"colorbar\":{\"outlinewidth\":0,\"ticks\":\"\"}}],\"histogram2d\":[{\"type\":\"histogram2d\",\"colorbar\":{\"outlinewidth\":0,\"ticks\":\"\"},\"colorscale\":[[0.0,\"#0d0887\"],[0.1111111111111111,\"#46039f\"],[0.2222222222222222,\"#7201a8\"],[0.3333333333333333,\"#9c179e\"],[0.4444444444444444,\"#bd3786\"],[0.5555555555555556,\"#d8576b\"],[0.6666666666666666,\"#ed7953\"],[0.7777777777777778,\"#fb9f3a\"],[0.8888888888888888,\"#fdca26\"],[1.0,\"#f0f921\"]]}],\"heatmap\":[{\"type\":\"heatmap\",\"colorbar\":{\"outlinewidth\":0,\"ticks\":\"\"},\"colorscale\":[[0.0,\"#0d0887\"],[0.1111111111111111,\"#46039f\"],[0.2222222222222222,\"#7201a8\"],[0.3333333333333333,\"#9c179e\"],[0.4444444444444444,\"#bd3786\"],[0.5555555555555556,\"#d8576b\"],[0.6666666666666666,\"#ed7953\"],[0.7777777777777778,\"#fb9f3a\"],[0.8888888888888888,\"#fdca26\"],[1.0,\"#f0f921\"]]}],\"heatmapgl\":[{\"type\":\"heatmapgl\",\"colorbar\":{\"outlinewidth\":0,\"ticks\":\"\"},\"colorscale\":[[0.0,\"#0d0887\"],[0.1111111111111111,\"#46039f\"],[0.2222222222222222,\"#7201a8\"],[0.3333333333333333,\"#9c179e\"],[0.4444444444444444,\"#bd3786\"],[0.5555555555555556,\"#d8576b\"],[0.6666666666666666,\"#ed7953\"],[0.7777777777777778,\"#fb9f3a\"],[0.8888888888888888,\"#fdca26\"],[1.0,\"#f0f921\"]]}],\"contourcarpet\":[{\"type\":\"contourcarpet\",\"colorbar\":{\"outlinewidth\":0,\"ticks\":\"\"}}],\"contour\":[{\"type\":\"contour\",\"colorbar\":{\"outlinewidth\":0,\"ticks\":\"\"},\"colorscale\":[[0.0,\"#0d0887\"],[0.1111111111111111,\"#46039f\"],[0.2222222222222222,\"#7201a8\"],[0.3333333333333333,\"#9c179e\"],[0.4444444444444444,\"#bd3786\"],[0.5555555555555556,\"#d8576b\"],[0.6666666666666666,\"#ed7953\"],[0.7777777777777778,\"#fb9f3a\"],[0.8888888888888888,\"#fdca26\"],[1.0,\"#f0f921\"]]}],\"surface\":[{\"type\":\"surface\",\"colorbar\":{\"outlinewidth\":0,\"ticks\":\"\"},\"colorscale\":[[0.0,\"#0d0887\"],[0.1111111111111111,\"#46039f\"],[0.2222222222222222,\"#7201a8\"],[0.3333333333333333,\"#9c179e\"],[0.4444444444444444,\"#bd3786\"],[0.5555555555555556,\"#d8576b\"],[0.6666666666666666,\"#ed7953\"],[0.7777777777777778,\"#fb9f3a\"],[0.8888888888888888,\"#fdca26\"],[1.0,\"#f0f921\"]]}],\"mesh3d\":[{\"type\":\"mesh3d\",\"colorbar\":{\"outlinewidth\":0,\"ticks\":\"\"}}],\"scatter\":[{\"fillpattern\":{\"fillmode\":\"overlay\",\"size\":10,\"solidity\":0.2},\"type\":\"scatter\"}],\"parcoords\":[{\"type\":\"parcoords\",\"line\":{\"colorbar\":{\"outlinewidth\":0,\"ticks\":\"\"}}}],\"scatterpolargl\":[{\"type\":\"scatterpolargl\",\"marker\":{\"colorbar\":{\"outlinewidth\":0,\"ticks\":\"\"}}}],\"bar\":[{\"error_x\":{\"color\":\"#2a3f5f\"},\"error_y\":{\"color\":\"#2a3f5f\"},\"marker\":{\"line\":{\"color\":\"#E5ECF6\",\"width\":0.5},\"pattern\":{\"fillmode\":\"overlay\",\"size\":10,\"solidity\":0.2}},\"type\":\"bar\"}],\"scattergeo\":[{\"type\":\"scattergeo\",\"marker\":{\"colorbar\":{\"outlinewidth\":0,\"ticks\":\"\"}}}],\"scatterpolar\":[{\"type\":\"scatterpolar\",\"marker\":{\"colorbar\":{\"outlinewidth\":0,\"ticks\":\"\"}}}],\"histogram\":[{\"marker\":{\"pattern\":{\"fillmode\":\"overlay\",\"size\":10,\"solidity\":0.2}},\"type\":\"histogram\"}],\"scattergl\":[{\"type\":\"scattergl\",\"marker\":{\"colorbar\":{\"outlinewidth\":0,\"ticks\":\"\"}}}],\"scatter3d\":[{\"type\":\"scatter3d\",\"line\":{\"colorbar\":{\"outlinewidth\":0,\"ticks\":\"\"}},\"marker\":{\"colorbar\":{\"outlinewidth\":0,\"ticks\":\"\"}}}],\"scattermapbox\":[{\"type\":\"scattermapbox\",\"marker\":{\"colorbar\":{\"outlinewidth\":0,\"ticks\":\"\"}}}],\"scatterternary\":[{\"type\":\"scatterternary\",\"marker\":{\"colorbar\":{\"outlinewidth\":0,\"ticks\":\"\"}}}],\"scattercarpet\":[{\"type\":\"scattercarpet\",\"marker\":{\"colorbar\":{\"outlinewidth\":0,\"ticks\":\"\"}}}],\"carpet\":[{\"aaxis\":{\"endlinecolor\":\"#2a3f5f\",\"gridcolor\":\"white\",\"linecolor\":\"white\",\"minorgridcolor\":\"white\",\"startlinecolor\":\"#2a3f5f\"},\"baxis\":{\"endlinecolor\":\"#2a3f5f\",\"gridcolor\":\"white\",\"linecolor\":\"white\",\"minorgridcolor\":\"white\",\"startlinecolor\":\"#2a3f5f\"},\"type\":\"carpet\"}],\"table\":[{\"cells\":{\"fill\":{\"color\":\"#EBF0F8\"},\"line\":{\"color\":\"white\"}},\"header\":{\"fill\":{\"color\":\"#C8D4E3\"},\"line\":{\"color\":\"white\"}},\"type\":\"table\"}],\"barpolar\":[{\"marker\":{\"line\":{\"color\":\"#E5ECF6\",\"width\":0.5},\"pattern\":{\"fillmode\":\"overlay\",\"size\":10,\"solidity\":0.2}},\"type\":\"barpolar\"}],\"pie\":[{\"automargin\":true,\"type\":\"pie\"}]},\"layout\":{\"autotypenumbers\":\"strict\",\"colorway\":[\"#636efa\",\"#EF553B\",\"#00cc96\",\"#ab63fa\",\"#FFA15A\",\"#19d3f3\",\"#FF6692\",\"#B6E880\",\"#FF97FF\",\"#FECB52\"],\"font\":{\"color\":\"#2a3f5f\"},\"hovermode\":\"closest\",\"hoverlabel\":{\"align\":\"left\"},\"paper_bgcolor\":\"white\",\"plot_bgcolor\":\"#E5ECF6\",\"polar\":{\"bgcolor\":\"#E5ECF6\",\"angularaxis\":{\"gridcolor\":\"white\",\"linecolor\":\"white\",\"ticks\":\"\"},\"radialaxis\":{\"gridcolor\":\"white\",\"linecolor\":\"white\",\"ticks\":\"\"}},\"ternary\":{\"bgcolor\":\"#E5ECF6\",\"aaxis\":{\"gridcolor\":\"white\",\"linecolor\":\"white\",\"ticks\":\"\"},\"baxis\":{\"gridcolor\":\"white\",\"linecolor\":\"white\",\"ticks\":\"\"},\"caxis\":{\"gridcolor\":\"white\",\"linecolor\":\"white\",\"ticks\":\"\"}},\"coloraxis\":{\"colorbar\":{\"outlinewidth\":0,\"ticks\":\"\"}},\"colorscale\":{\"sequential\":[[0.0,\"#0d0887\"],[0.1111111111111111,\"#46039f\"],[0.2222222222222222,\"#7201a8\"],[0.3333333333333333,\"#9c179e\"],[0.4444444444444444,\"#bd3786\"],[0.5555555555555556,\"#d8576b\"],[0.6666666666666666,\"#ed7953\"],[0.7777777777777778,\"#fb9f3a\"],[0.8888888888888888,\"#fdca26\"],[1.0,\"#f0f921\"]],\"sequentialminus\":[[0.0,\"#0d0887\"],[0.1111111111111111,\"#46039f\"],[0.2222222222222222,\"#7201a8\"],[0.3333333333333333,\"#9c179e\"],[0.4444444444444444,\"#bd3786\"],[0.5555555555555556,\"#d8576b\"],[0.6666666666666666,\"#ed7953\"],[0.7777777777777778,\"#fb9f3a\"],[0.8888888888888888,\"#fdca26\"],[1.0,\"#f0f921\"]],\"diverging\":[[0,\"#8e0152\"],[0.1,\"#c51b7d\"],[0.2,\"#de77ae\"],[0.3,\"#f1b6da\"],[0.4,\"#fde0ef\"],[0.5,\"#f7f7f7\"],[0.6,\"#e6f5d0\"],[0.7,\"#b8e186\"],[0.8,\"#7fbc41\"],[0.9,\"#4d9221\"],[1,\"#276419\"]]},\"xaxis\":{\"gridcolor\":\"white\",\"linecolor\":\"white\",\"ticks\":\"\",\"title\":{\"standoff\":15},\"zerolinecolor\":\"white\",\"automargin\":true,\"zerolinewidth\":2},\"yaxis\":{\"gridcolor\":\"white\",\"linecolor\":\"white\",\"ticks\":\"\",\"title\":{\"standoff\":15},\"zerolinecolor\":\"white\",\"automargin\":true,\"zerolinewidth\":2},\"scene\":{\"xaxis\":{\"backgroundcolor\":\"#E5ECF6\",\"gridcolor\":\"white\",\"linecolor\":\"white\",\"showbackground\":true,\"ticks\":\"\",\"zerolinecolor\":\"white\",\"gridwidth\":2},\"yaxis\":{\"backgroundcolor\":\"#E5ECF6\",\"gridcolor\":\"white\",\"linecolor\":\"white\",\"showbackground\":true,\"ticks\":\"\",\"zerolinecolor\":\"white\",\"gridwidth\":2},\"zaxis\":{\"backgroundcolor\":\"#E5ECF6\",\"gridcolor\":\"white\",\"linecolor\":\"white\",\"showbackground\":true,\"ticks\":\"\",\"zerolinecolor\":\"white\",\"gridwidth\":2}},\"shapedefaults\":{\"line\":{\"color\":\"#2a3f5f\"}},\"annotationdefaults\":{\"arrowcolor\":\"#2a3f5f\",\"arrowhead\":0,\"arrowwidth\":1},\"geo\":{\"bgcolor\":\"white\",\"landcolor\":\"#E5ECF6\",\"subunitcolor\":\"white\",\"showland\":true,\"showlakes\":true,\"lakecolor\":\"white\"},\"title\":{\"x\":0.05},\"mapbox\":{\"style\":\"light\"}}},\"xaxis\":{\"anchor\":\"y\",\"domain\":[0.0,1.0],\"title\":{\"text\":\"school\"}},\"yaxis\":{\"anchor\":\"x\",\"domain\":[0.0,1.0],\"title\":{\"text\":\"frequency\"}},\"legend\":{\"title\":{\"text\":\"variable\"},\"tracegroupgap\":0},\"title\":{\"text\":\"school membership distribution of Welcome Buddies\",\"x\":0.5},\"barmode\":\"relative\",\"showlegend\":false},                        {\"responsive\": true}                    ).then(function(){\n",
       "                            \n",
       "var gd = document.getElementById('eeea8d1e-899d-49f8-8cff-c553ab7ff3d0');\n",
       "var x = new MutationObserver(function (mutations, observer) {{\n",
       "        var display = window.getComputedStyle(gd).display;\n",
       "        if (!display || display === 'none') {{\n",
       "            console.log([gd, 'removed!']);\n",
       "            Plotly.purge(gd);\n",
       "            observer.disconnect();\n",
       "        }}\n",
       "}});\n",
       "\n",
       "// Listen for the removal of the full notebook cells\n",
       "var notebookContainer = gd.closest('#notebook-container');\n",
       "if (notebookContainer) {{\n",
       "    x.observe(notebookContainer, {childList: true});\n",
       "}}\n",
       "\n",
       "// Listen for the clearing of the current output cell\n",
       "var outputEl = gd.closest('.output');\n",
       "if (outputEl) {{\n",
       "    x.observe(outputEl, {childList: true});\n",
       "}}\n",
       "\n",
       "                        })                };                });            </script>        </div>"
      ]
     },
     "metadata": {},
     "output_type": "display_data"
    }
   ],
   "source": [
    "school_fig = px.bar(school_counts, title=\"school membership distribution of Welcome Buddies\")\n",
    "school_fig.update_layout(\n",
    "    xaxis_title = \"school\",\n",
    "    yaxis_title = \"frequency\",\n",
    "    title_x = 0.5, \n",
    "    showlegend = False\n",
    ")\n",
    "school_fig.show()"
   ]
  },
  {
   "cell_type": "markdown",
   "id": "51f79587",
   "metadata": {},
   "source": [
    "#### conclusion: more students should be recruited from the School of Engineering?"
   ]
  },
  {
   "cell_type": "code",
   "execution_count": 424,
   "id": "266aa14d",
   "metadata": {},
   "outputs": [
    {
     "data": {
      "text/plain": [
       "563"
      ]
     },
     "execution_count": 424,
     "metadata": {},
     "output_type": "execute_result"
    }
   ],
   "source": [
    "len(df1)"
   ]
  },
  {
   "cell_type": "markdown",
   "id": "72036294",
   "metadata": {},
   "source": [
    "## Associations"
   ]
  },
  {
   "cell_type": "code",
   "execution_count": 425,
   "id": "e954f051",
   "metadata": {},
   "outputs": [
    {
     "data": {
      "text/html": [
       "<div>\n",
       "<style scoped>\n",
       "    .dataframe tbody tr th:only-of-type {\n",
       "        vertical-align: middle;\n",
       "    }\n",
       "\n",
       "    .dataframe tbody tr th {\n",
       "        vertical-align: top;\n",
       "    }\n",
       "\n",
       "    .dataframe thead th {\n",
       "        text-align: right;\n",
       "    }\n",
       "</style>\n",
       "<table border=\"1\" class=\"dataframe\">\n",
       "  <thead>\n",
       "    <tr style=\"text-align: right;\">\n",
       "      <th></th>\n",
       "      <th>overall</th>\n",
       "    </tr>\n",
       "  </thead>\n",
       "  <tbody>\n",
       "    <tr>\n",
       "      <th>3</th>\n",
       "      <td>235</td>\n",
       "    </tr>\n",
       "    <tr>\n",
       "      <th>2</th>\n",
       "      <td>162</td>\n",
       "    </tr>\n",
       "    <tr>\n",
       "      <th>4</th>\n",
       "      <td>107</td>\n",
       "    </tr>\n",
       "    <tr>\n",
       "      <th>1</th>\n",
       "      <td>52</td>\n",
       "    </tr>\n",
       "    <tr>\n",
       "      <th>5</th>\n",
       "      <td>7</td>\n",
       "    </tr>\n",
       "  </tbody>\n",
       "</table>\n",
       "</div>"
      ],
      "text/plain": [
       "   overall\n",
       "3      235\n",
       "2      162\n",
       "4      107\n",
       "1       52\n",
       "5        7"
      ]
     },
     "execution_count": 425,
     "metadata": {},
     "output_type": "execute_result"
    }
   ],
   "source": [
    "#find score distribution across WBs\n",
    "score_counts = pd.DataFrame(data = df1[\"overall\"].value_counts(), dtype=None, copy=None)\n",
    "score_counts.head()"
   ]
  },
  {
   "cell_type": "code",
   "execution_count": 426,
   "id": "5fadc2fb",
   "metadata": {},
   "outputs": [
    {
     "data": {
      "application/vnd.plotly.v1+json": {
       "config": {
        "plotlyServerURL": "https://plot.ly"
       },
       "data": [
        {
         "alignmentgroup": "True",
         "hovertemplate": "variable=overall<br>index=%{x}<br>value=%{y}<extra></extra>",
         "legendgroup": "overall",
         "marker": {
          "color": "#636efa",
          "pattern": {
           "shape": ""
          }
         },
         "name": "overall",
         "offsetgroup": "overall",
         "orientation": "v",
         "showlegend": true,
         "textposition": "auto",
         "type": "bar",
         "x": [
          3,
          2,
          4,
          1,
          5
         ],
         "xaxis": "x",
         "y": [
          235,
          162,
          107,
          52,
          7
         ],
         "yaxis": "y"
        }
       ],
       "layout": {
        "barmode": "relative",
        "legend": {
         "title": {
          "text": "variable"
         },
         "tracegroupgap": 0
        },
        "showlegend": false,
        "template": {
         "data": {
          "bar": [
           {
            "error_x": {
             "color": "#2a3f5f"
            },
            "error_y": {
             "color": "#2a3f5f"
            },
            "marker": {
             "line": {
              "color": "#E5ECF6",
              "width": 0.5
             },
             "pattern": {
              "fillmode": "overlay",
              "size": 10,
              "solidity": 0.2
             }
            },
            "type": "bar"
           }
          ],
          "barpolar": [
           {
            "marker": {
             "line": {
              "color": "#E5ECF6",
              "width": 0.5
             },
             "pattern": {
              "fillmode": "overlay",
              "size": 10,
              "solidity": 0.2
             }
            },
            "type": "barpolar"
           }
          ],
          "carpet": [
           {
            "aaxis": {
             "endlinecolor": "#2a3f5f",
             "gridcolor": "white",
             "linecolor": "white",
             "minorgridcolor": "white",
             "startlinecolor": "#2a3f5f"
            },
            "baxis": {
             "endlinecolor": "#2a3f5f",
             "gridcolor": "white",
             "linecolor": "white",
             "minorgridcolor": "white",
             "startlinecolor": "#2a3f5f"
            },
            "type": "carpet"
           }
          ],
          "choropleth": [
           {
            "colorbar": {
             "outlinewidth": 0,
             "ticks": ""
            },
            "type": "choropleth"
           }
          ],
          "contour": [
           {
            "colorbar": {
             "outlinewidth": 0,
             "ticks": ""
            },
            "colorscale": [
             [
              0,
              "#0d0887"
             ],
             [
              0.1111111111111111,
              "#46039f"
             ],
             [
              0.2222222222222222,
              "#7201a8"
             ],
             [
              0.3333333333333333,
              "#9c179e"
             ],
             [
              0.4444444444444444,
              "#bd3786"
             ],
             [
              0.5555555555555556,
              "#d8576b"
             ],
             [
              0.6666666666666666,
              "#ed7953"
             ],
             [
              0.7777777777777778,
              "#fb9f3a"
             ],
             [
              0.8888888888888888,
              "#fdca26"
             ],
             [
              1,
              "#f0f921"
             ]
            ],
            "type": "contour"
           }
          ],
          "contourcarpet": [
           {
            "colorbar": {
             "outlinewidth": 0,
             "ticks": ""
            },
            "type": "contourcarpet"
           }
          ],
          "heatmap": [
           {
            "colorbar": {
             "outlinewidth": 0,
             "ticks": ""
            },
            "colorscale": [
             [
              0,
              "#0d0887"
             ],
             [
              0.1111111111111111,
              "#46039f"
             ],
             [
              0.2222222222222222,
              "#7201a8"
             ],
             [
              0.3333333333333333,
              "#9c179e"
             ],
             [
              0.4444444444444444,
              "#bd3786"
             ],
             [
              0.5555555555555556,
              "#d8576b"
             ],
             [
              0.6666666666666666,
              "#ed7953"
             ],
             [
              0.7777777777777778,
              "#fb9f3a"
             ],
             [
              0.8888888888888888,
              "#fdca26"
             ],
             [
              1,
              "#f0f921"
             ]
            ],
            "type": "heatmap"
           }
          ],
          "heatmapgl": [
           {
            "colorbar": {
             "outlinewidth": 0,
             "ticks": ""
            },
            "colorscale": [
             [
              0,
              "#0d0887"
             ],
             [
              0.1111111111111111,
              "#46039f"
             ],
             [
              0.2222222222222222,
              "#7201a8"
             ],
             [
              0.3333333333333333,
              "#9c179e"
             ],
             [
              0.4444444444444444,
              "#bd3786"
             ],
             [
              0.5555555555555556,
              "#d8576b"
             ],
             [
              0.6666666666666666,
              "#ed7953"
             ],
             [
              0.7777777777777778,
              "#fb9f3a"
             ],
             [
              0.8888888888888888,
              "#fdca26"
             ],
             [
              1,
              "#f0f921"
             ]
            ],
            "type": "heatmapgl"
           }
          ],
          "histogram": [
           {
            "marker": {
             "pattern": {
              "fillmode": "overlay",
              "size": 10,
              "solidity": 0.2
             }
            },
            "type": "histogram"
           }
          ],
          "histogram2d": [
           {
            "colorbar": {
             "outlinewidth": 0,
             "ticks": ""
            },
            "colorscale": [
             [
              0,
              "#0d0887"
             ],
             [
              0.1111111111111111,
              "#46039f"
             ],
             [
              0.2222222222222222,
              "#7201a8"
             ],
             [
              0.3333333333333333,
              "#9c179e"
             ],
             [
              0.4444444444444444,
              "#bd3786"
             ],
             [
              0.5555555555555556,
              "#d8576b"
             ],
             [
              0.6666666666666666,
              "#ed7953"
             ],
             [
              0.7777777777777778,
              "#fb9f3a"
             ],
             [
              0.8888888888888888,
              "#fdca26"
             ],
             [
              1,
              "#f0f921"
             ]
            ],
            "type": "histogram2d"
           }
          ],
          "histogram2dcontour": [
           {
            "colorbar": {
             "outlinewidth": 0,
             "ticks": ""
            },
            "colorscale": [
             [
              0,
              "#0d0887"
             ],
             [
              0.1111111111111111,
              "#46039f"
             ],
             [
              0.2222222222222222,
              "#7201a8"
             ],
             [
              0.3333333333333333,
              "#9c179e"
             ],
             [
              0.4444444444444444,
              "#bd3786"
             ],
             [
              0.5555555555555556,
              "#d8576b"
             ],
             [
              0.6666666666666666,
              "#ed7953"
             ],
             [
              0.7777777777777778,
              "#fb9f3a"
             ],
             [
              0.8888888888888888,
              "#fdca26"
             ],
             [
              1,
              "#f0f921"
             ]
            ],
            "type": "histogram2dcontour"
           }
          ],
          "mesh3d": [
           {
            "colorbar": {
             "outlinewidth": 0,
             "ticks": ""
            },
            "type": "mesh3d"
           }
          ],
          "parcoords": [
           {
            "line": {
             "colorbar": {
              "outlinewidth": 0,
              "ticks": ""
             }
            },
            "type": "parcoords"
           }
          ],
          "pie": [
           {
            "automargin": true,
            "type": "pie"
           }
          ],
          "scatter": [
           {
            "fillpattern": {
             "fillmode": "overlay",
             "size": 10,
             "solidity": 0.2
            },
            "type": "scatter"
           }
          ],
          "scatter3d": [
           {
            "line": {
             "colorbar": {
              "outlinewidth": 0,
              "ticks": ""
             }
            },
            "marker": {
             "colorbar": {
              "outlinewidth": 0,
              "ticks": ""
             }
            },
            "type": "scatter3d"
           }
          ],
          "scattercarpet": [
           {
            "marker": {
             "colorbar": {
              "outlinewidth": 0,
              "ticks": ""
             }
            },
            "type": "scattercarpet"
           }
          ],
          "scattergeo": [
           {
            "marker": {
             "colorbar": {
              "outlinewidth": 0,
              "ticks": ""
             }
            },
            "type": "scattergeo"
           }
          ],
          "scattergl": [
           {
            "marker": {
             "colorbar": {
              "outlinewidth": 0,
              "ticks": ""
             }
            },
            "type": "scattergl"
           }
          ],
          "scattermapbox": [
           {
            "marker": {
             "colorbar": {
              "outlinewidth": 0,
              "ticks": ""
             }
            },
            "type": "scattermapbox"
           }
          ],
          "scatterpolar": [
           {
            "marker": {
             "colorbar": {
              "outlinewidth": 0,
              "ticks": ""
             }
            },
            "type": "scatterpolar"
           }
          ],
          "scatterpolargl": [
           {
            "marker": {
             "colorbar": {
              "outlinewidth": 0,
              "ticks": ""
             }
            },
            "type": "scatterpolargl"
           }
          ],
          "scatterternary": [
           {
            "marker": {
             "colorbar": {
              "outlinewidth": 0,
              "ticks": ""
             }
            },
            "type": "scatterternary"
           }
          ],
          "surface": [
           {
            "colorbar": {
             "outlinewidth": 0,
             "ticks": ""
            },
            "colorscale": [
             [
              0,
              "#0d0887"
             ],
             [
              0.1111111111111111,
              "#46039f"
             ],
             [
              0.2222222222222222,
              "#7201a8"
             ],
             [
              0.3333333333333333,
              "#9c179e"
             ],
             [
              0.4444444444444444,
              "#bd3786"
             ],
             [
              0.5555555555555556,
              "#d8576b"
             ],
             [
              0.6666666666666666,
              "#ed7953"
             ],
             [
              0.7777777777777778,
              "#fb9f3a"
             ],
             [
              0.8888888888888888,
              "#fdca26"
             ],
             [
              1,
              "#f0f921"
             ]
            ],
            "type": "surface"
           }
          ],
          "table": [
           {
            "cells": {
             "fill": {
              "color": "#EBF0F8"
             },
             "line": {
              "color": "white"
             }
            },
            "header": {
             "fill": {
              "color": "#C8D4E3"
             },
             "line": {
              "color": "white"
             }
            },
            "type": "table"
           }
          ]
         },
         "layout": {
          "annotationdefaults": {
           "arrowcolor": "#2a3f5f",
           "arrowhead": 0,
           "arrowwidth": 1
          },
          "autotypenumbers": "strict",
          "coloraxis": {
           "colorbar": {
            "outlinewidth": 0,
            "ticks": ""
           }
          },
          "colorscale": {
           "diverging": [
            [
             0,
             "#8e0152"
            ],
            [
             0.1,
             "#c51b7d"
            ],
            [
             0.2,
             "#de77ae"
            ],
            [
             0.3,
             "#f1b6da"
            ],
            [
             0.4,
             "#fde0ef"
            ],
            [
             0.5,
             "#f7f7f7"
            ],
            [
             0.6,
             "#e6f5d0"
            ],
            [
             0.7,
             "#b8e186"
            ],
            [
             0.8,
             "#7fbc41"
            ],
            [
             0.9,
             "#4d9221"
            ],
            [
             1,
             "#276419"
            ]
           ],
           "sequential": [
            [
             0,
             "#0d0887"
            ],
            [
             0.1111111111111111,
             "#46039f"
            ],
            [
             0.2222222222222222,
             "#7201a8"
            ],
            [
             0.3333333333333333,
             "#9c179e"
            ],
            [
             0.4444444444444444,
             "#bd3786"
            ],
            [
             0.5555555555555556,
             "#d8576b"
            ],
            [
             0.6666666666666666,
             "#ed7953"
            ],
            [
             0.7777777777777778,
             "#fb9f3a"
            ],
            [
             0.8888888888888888,
             "#fdca26"
            ],
            [
             1,
             "#f0f921"
            ]
           ],
           "sequentialminus": [
            [
             0,
             "#0d0887"
            ],
            [
             0.1111111111111111,
             "#46039f"
            ],
            [
             0.2222222222222222,
             "#7201a8"
            ],
            [
             0.3333333333333333,
             "#9c179e"
            ],
            [
             0.4444444444444444,
             "#bd3786"
            ],
            [
             0.5555555555555556,
             "#d8576b"
            ],
            [
             0.6666666666666666,
             "#ed7953"
            ],
            [
             0.7777777777777778,
             "#fb9f3a"
            ],
            [
             0.8888888888888888,
             "#fdca26"
            ],
            [
             1,
             "#f0f921"
            ]
           ]
          },
          "colorway": [
           "#636efa",
           "#EF553B",
           "#00cc96",
           "#ab63fa",
           "#FFA15A",
           "#19d3f3",
           "#FF6692",
           "#B6E880",
           "#FF97FF",
           "#FECB52"
          ],
          "font": {
           "color": "#2a3f5f"
          },
          "geo": {
           "bgcolor": "white",
           "lakecolor": "white",
           "landcolor": "#E5ECF6",
           "showlakes": true,
           "showland": true,
           "subunitcolor": "white"
          },
          "hoverlabel": {
           "align": "left"
          },
          "hovermode": "closest",
          "mapbox": {
           "style": "light"
          },
          "paper_bgcolor": "white",
          "plot_bgcolor": "#E5ECF6",
          "polar": {
           "angularaxis": {
            "gridcolor": "white",
            "linecolor": "white",
            "ticks": ""
           },
           "bgcolor": "#E5ECF6",
           "radialaxis": {
            "gridcolor": "white",
            "linecolor": "white",
            "ticks": ""
           }
          },
          "scene": {
           "xaxis": {
            "backgroundcolor": "#E5ECF6",
            "gridcolor": "white",
            "gridwidth": 2,
            "linecolor": "white",
            "showbackground": true,
            "ticks": "",
            "zerolinecolor": "white"
           },
           "yaxis": {
            "backgroundcolor": "#E5ECF6",
            "gridcolor": "white",
            "gridwidth": 2,
            "linecolor": "white",
            "showbackground": true,
            "ticks": "",
            "zerolinecolor": "white"
           },
           "zaxis": {
            "backgroundcolor": "#E5ECF6",
            "gridcolor": "white",
            "gridwidth": 2,
            "linecolor": "white",
            "showbackground": true,
            "ticks": "",
            "zerolinecolor": "white"
           }
          },
          "shapedefaults": {
           "line": {
            "color": "#2a3f5f"
           }
          },
          "ternary": {
           "aaxis": {
            "gridcolor": "white",
            "linecolor": "white",
            "ticks": ""
           },
           "baxis": {
            "gridcolor": "white",
            "linecolor": "white",
            "ticks": ""
           },
           "bgcolor": "#E5ECF6",
           "caxis": {
            "gridcolor": "white",
            "linecolor": "white",
            "ticks": ""
           }
          },
          "title": {
           "x": 0.05
          },
          "xaxis": {
           "automargin": true,
           "gridcolor": "white",
           "linecolor": "white",
           "ticks": "",
           "title": {
            "standoff": 15
           },
           "zerolinecolor": "white",
           "zerolinewidth": 2
          },
          "yaxis": {
           "automargin": true,
           "gridcolor": "white",
           "linecolor": "white",
           "ticks": "",
           "title": {
            "standoff": 15
           },
           "zerolinecolor": "white",
           "zerolinewidth": 2
          }
         }
        },
        "title": {
         "text": "distribution of overall performance scores of Welcome Buddies",
         "x": 0.5
        },
        "xaxis": {
         "anchor": "y",
         "domain": [
          0,
          1
         ],
         "title": {
          "text": "score"
         }
        },
        "yaxis": {
         "anchor": "x",
         "domain": [
          0,
          1
         ],
         "title": {
          "text": "frequency"
         }
        }
       }
      },
      "text/html": [
       "<div>                            <div id=\"14607ea9-8ae4-4782-ac75-15ded0899e61\" class=\"plotly-graph-div\" style=\"height:525px; width:100%;\"></div>            <script type=\"text/javascript\">                require([\"plotly\"], function(Plotly) {                    window.PLOTLYENV=window.PLOTLYENV || {};                                    if (document.getElementById(\"14607ea9-8ae4-4782-ac75-15ded0899e61\")) {                    Plotly.newPlot(                        \"14607ea9-8ae4-4782-ac75-15ded0899e61\",                        [{\"alignmentgroup\":\"True\",\"hovertemplate\":\"variable=overall<br>index=%{x}<br>value=%{y}<extra></extra>\",\"legendgroup\":\"overall\",\"marker\":{\"color\":\"#636efa\",\"pattern\":{\"shape\":\"\"}},\"name\":\"overall\",\"offsetgroup\":\"overall\",\"orientation\":\"v\",\"showlegend\":true,\"textposition\":\"auto\",\"x\":[3,2,4,1,5],\"xaxis\":\"x\",\"y\":[235,162,107,52,7],\"yaxis\":\"y\",\"type\":\"bar\"}],                        {\"template\":{\"data\":{\"histogram2dcontour\":[{\"type\":\"histogram2dcontour\",\"colorbar\":{\"outlinewidth\":0,\"ticks\":\"\"},\"colorscale\":[[0.0,\"#0d0887\"],[0.1111111111111111,\"#46039f\"],[0.2222222222222222,\"#7201a8\"],[0.3333333333333333,\"#9c179e\"],[0.4444444444444444,\"#bd3786\"],[0.5555555555555556,\"#d8576b\"],[0.6666666666666666,\"#ed7953\"],[0.7777777777777778,\"#fb9f3a\"],[0.8888888888888888,\"#fdca26\"],[1.0,\"#f0f921\"]]}],\"choropleth\":[{\"type\":\"choropleth\",\"colorbar\":{\"outlinewidth\":0,\"ticks\":\"\"}}],\"histogram2d\":[{\"type\":\"histogram2d\",\"colorbar\":{\"outlinewidth\":0,\"ticks\":\"\"},\"colorscale\":[[0.0,\"#0d0887\"],[0.1111111111111111,\"#46039f\"],[0.2222222222222222,\"#7201a8\"],[0.3333333333333333,\"#9c179e\"],[0.4444444444444444,\"#bd3786\"],[0.5555555555555556,\"#d8576b\"],[0.6666666666666666,\"#ed7953\"],[0.7777777777777778,\"#fb9f3a\"],[0.8888888888888888,\"#fdca26\"],[1.0,\"#f0f921\"]]}],\"heatmap\":[{\"type\":\"heatmap\",\"colorbar\":{\"outlinewidth\":0,\"ticks\":\"\"},\"colorscale\":[[0.0,\"#0d0887\"],[0.1111111111111111,\"#46039f\"],[0.2222222222222222,\"#7201a8\"],[0.3333333333333333,\"#9c179e\"],[0.4444444444444444,\"#bd3786\"],[0.5555555555555556,\"#d8576b\"],[0.6666666666666666,\"#ed7953\"],[0.7777777777777778,\"#fb9f3a\"],[0.8888888888888888,\"#fdca26\"],[1.0,\"#f0f921\"]]}],\"heatmapgl\":[{\"type\":\"heatmapgl\",\"colorbar\":{\"outlinewidth\":0,\"ticks\":\"\"},\"colorscale\":[[0.0,\"#0d0887\"],[0.1111111111111111,\"#46039f\"],[0.2222222222222222,\"#7201a8\"],[0.3333333333333333,\"#9c179e\"],[0.4444444444444444,\"#bd3786\"],[0.5555555555555556,\"#d8576b\"],[0.6666666666666666,\"#ed7953\"],[0.7777777777777778,\"#fb9f3a\"],[0.8888888888888888,\"#fdca26\"],[1.0,\"#f0f921\"]]}],\"contourcarpet\":[{\"type\":\"contourcarpet\",\"colorbar\":{\"outlinewidth\":0,\"ticks\":\"\"}}],\"contour\":[{\"type\":\"contour\",\"colorbar\":{\"outlinewidth\":0,\"ticks\":\"\"},\"colorscale\":[[0.0,\"#0d0887\"],[0.1111111111111111,\"#46039f\"],[0.2222222222222222,\"#7201a8\"],[0.3333333333333333,\"#9c179e\"],[0.4444444444444444,\"#bd3786\"],[0.5555555555555556,\"#d8576b\"],[0.6666666666666666,\"#ed7953\"],[0.7777777777777778,\"#fb9f3a\"],[0.8888888888888888,\"#fdca26\"],[1.0,\"#f0f921\"]]}],\"surface\":[{\"type\":\"surface\",\"colorbar\":{\"outlinewidth\":0,\"ticks\":\"\"},\"colorscale\":[[0.0,\"#0d0887\"],[0.1111111111111111,\"#46039f\"],[0.2222222222222222,\"#7201a8\"],[0.3333333333333333,\"#9c179e\"],[0.4444444444444444,\"#bd3786\"],[0.5555555555555556,\"#d8576b\"],[0.6666666666666666,\"#ed7953\"],[0.7777777777777778,\"#fb9f3a\"],[0.8888888888888888,\"#fdca26\"],[1.0,\"#f0f921\"]]}],\"mesh3d\":[{\"type\":\"mesh3d\",\"colorbar\":{\"outlinewidth\":0,\"ticks\":\"\"}}],\"scatter\":[{\"fillpattern\":{\"fillmode\":\"overlay\",\"size\":10,\"solidity\":0.2},\"type\":\"scatter\"}],\"parcoords\":[{\"type\":\"parcoords\",\"line\":{\"colorbar\":{\"outlinewidth\":0,\"ticks\":\"\"}}}],\"scatterpolargl\":[{\"type\":\"scatterpolargl\",\"marker\":{\"colorbar\":{\"outlinewidth\":0,\"ticks\":\"\"}}}],\"bar\":[{\"error_x\":{\"color\":\"#2a3f5f\"},\"error_y\":{\"color\":\"#2a3f5f\"},\"marker\":{\"line\":{\"color\":\"#E5ECF6\",\"width\":0.5},\"pattern\":{\"fillmode\":\"overlay\",\"size\":10,\"solidity\":0.2}},\"type\":\"bar\"}],\"scattergeo\":[{\"type\":\"scattergeo\",\"marker\":{\"colorbar\":{\"outlinewidth\":0,\"ticks\":\"\"}}}],\"scatterpolar\":[{\"type\":\"scatterpolar\",\"marker\":{\"colorbar\":{\"outlinewidth\":0,\"ticks\":\"\"}}}],\"histogram\":[{\"marker\":{\"pattern\":{\"fillmode\":\"overlay\",\"size\":10,\"solidity\":0.2}},\"type\":\"histogram\"}],\"scattergl\":[{\"type\":\"scattergl\",\"marker\":{\"colorbar\":{\"outlinewidth\":0,\"ticks\":\"\"}}}],\"scatter3d\":[{\"type\":\"scatter3d\",\"line\":{\"colorbar\":{\"outlinewidth\":0,\"ticks\":\"\"}},\"marker\":{\"colorbar\":{\"outlinewidth\":0,\"ticks\":\"\"}}}],\"scattermapbox\":[{\"type\":\"scattermapbox\",\"marker\":{\"colorbar\":{\"outlinewidth\":0,\"ticks\":\"\"}}}],\"scatterternary\":[{\"type\":\"scatterternary\",\"marker\":{\"colorbar\":{\"outlinewidth\":0,\"ticks\":\"\"}}}],\"scattercarpet\":[{\"type\":\"scattercarpet\",\"marker\":{\"colorbar\":{\"outlinewidth\":0,\"ticks\":\"\"}}}],\"carpet\":[{\"aaxis\":{\"endlinecolor\":\"#2a3f5f\",\"gridcolor\":\"white\",\"linecolor\":\"white\",\"minorgridcolor\":\"white\",\"startlinecolor\":\"#2a3f5f\"},\"baxis\":{\"endlinecolor\":\"#2a3f5f\",\"gridcolor\":\"white\",\"linecolor\":\"white\",\"minorgridcolor\":\"white\",\"startlinecolor\":\"#2a3f5f\"},\"type\":\"carpet\"}],\"table\":[{\"cells\":{\"fill\":{\"color\":\"#EBF0F8\"},\"line\":{\"color\":\"white\"}},\"header\":{\"fill\":{\"color\":\"#C8D4E3\"},\"line\":{\"color\":\"white\"}},\"type\":\"table\"}],\"barpolar\":[{\"marker\":{\"line\":{\"color\":\"#E5ECF6\",\"width\":0.5},\"pattern\":{\"fillmode\":\"overlay\",\"size\":10,\"solidity\":0.2}},\"type\":\"barpolar\"}],\"pie\":[{\"automargin\":true,\"type\":\"pie\"}]},\"layout\":{\"autotypenumbers\":\"strict\",\"colorway\":[\"#636efa\",\"#EF553B\",\"#00cc96\",\"#ab63fa\",\"#FFA15A\",\"#19d3f3\",\"#FF6692\",\"#B6E880\",\"#FF97FF\",\"#FECB52\"],\"font\":{\"color\":\"#2a3f5f\"},\"hovermode\":\"closest\",\"hoverlabel\":{\"align\":\"left\"},\"paper_bgcolor\":\"white\",\"plot_bgcolor\":\"#E5ECF6\",\"polar\":{\"bgcolor\":\"#E5ECF6\",\"angularaxis\":{\"gridcolor\":\"white\",\"linecolor\":\"white\",\"ticks\":\"\"},\"radialaxis\":{\"gridcolor\":\"white\",\"linecolor\":\"white\",\"ticks\":\"\"}},\"ternary\":{\"bgcolor\":\"#E5ECF6\",\"aaxis\":{\"gridcolor\":\"white\",\"linecolor\":\"white\",\"ticks\":\"\"},\"baxis\":{\"gridcolor\":\"white\",\"linecolor\":\"white\",\"ticks\":\"\"},\"caxis\":{\"gridcolor\":\"white\",\"linecolor\":\"white\",\"ticks\":\"\"}},\"coloraxis\":{\"colorbar\":{\"outlinewidth\":0,\"ticks\":\"\"}},\"colorscale\":{\"sequential\":[[0.0,\"#0d0887\"],[0.1111111111111111,\"#46039f\"],[0.2222222222222222,\"#7201a8\"],[0.3333333333333333,\"#9c179e\"],[0.4444444444444444,\"#bd3786\"],[0.5555555555555556,\"#d8576b\"],[0.6666666666666666,\"#ed7953\"],[0.7777777777777778,\"#fb9f3a\"],[0.8888888888888888,\"#fdca26\"],[1.0,\"#f0f921\"]],\"sequentialminus\":[[0.0,\"#0d0887\"],[0.1111111111111111,\"#46039f\"],[0.2222222222222222,\"#7201a8\"],[0.3333333333333333,\"#9c179e\"],[0.4444444444444444,\"#bd3786\"],[0.5555555555555556,\"#d8576b\"],[0.6666666666666666,\"#ed7953\"],[0.7777777777777778,\"#fb9f3a\"],[0.8888888888888888,\"#fdca26\"],[1.0,\"#f0f921\"]],\"diverging\":[[0,\"#8e0152\"],[0.1,\"#c51b7d\"],[0.2,\"#de77ae\"],[0.3,\"#f1b6da\"],[0.4,\"#fde0ef\"],[0.5,\"#f7f7f7\"],[0.6,\"#e6f5d0\"],[0.7,\"#b8e186\"],[0.8,\"#7fbc41\"],[0.9,\"#4d9221\"],[1,\"#276419\"]]},\"xaxis\":{\"gridcolor\":\"white\",\"linecolor\":\"white\",\"ticks\":\"\",\"title\":{\"standoff\":15},\"zerolinecolor\":\"white\",\"automargin\":true,\"zerolinewidth\":2},\"yaxis\":{\"gridcolor\":\"white\",\"linecolor\":\"white\",\"ticks\":\"\",\"title\":{\"standoff\":15},\"zerolinecolor\":\"white\",\"automargin\":true,\"zerolinewidth\":2},\"scene\":{\"xaxis\":{\"backgroundcolor\":\"#E5ECF6\",\"gridcolor\":\"white\",\"linecolor\":\"white\",\"showbackground\":true,\"ticks\":\"\",\"zerolinecolor\":\"white\",\"gridwidth\":2},\"yaxis\":{\"backgroundcolor\":\"#E5ECF6\",\"gridcolor\":\"white\",\"linecolor\":\"white\",\"showbackground\":true,\"ticks\":\"\",\"zerolinecolor\":\"white\",\"gridwidth\":2},\"zaxis\":{\"backgroundcolor\":\"#E5ECF6\",\"gridcolor\":\"white\",\"linecolor\":\"white\",\"showbackground\":true,\"ticks\":\"\",\"zerolinecolor\":\"white\",\"gridwidth\":2}},\"shapedefaults\":{\"line\":{\"color\":\"#2a3f5f\"}},\"annotationdefaults\":{\"arrowcolor\":\"#2a3f5f\",\"arrowhead\":0,\"arrowwidth\":1},\"geo\":{\"bgcolor\":\"white\",\"landcolor\":\"#E5ECF6\",\"subunitcolor\":\"white\",\"showland\":true,\"showlakes\":true,\"lakecolor\":\"white\"},\"title\":{\"x\":0.05},\"mapbox\":{\"style\":\"light\"}}},\"xaxis\":{\"anchor\":\"y\",\"domain\":[0.0,1.0],\"title\":{\"text\":\"score\"}},\"yaxis\":{\"anchor\":\"x\",\"domain\":[0.0,1.0],\"title\":{\"text\":\"frequency\"}},\"legend\":{\"title\":{\"text\":\"variable\"},\"tracegroupgap\":0},\"title\":{\"text\":\"distribution of overall performance scores of Welcome Buddies\",\"x\":0.5},\"barmode\":\"relative\",\"showlegend\":false},                        {\"responsive\": true}                    ).then(function(){\n",
       "                            \n",
       "var gd = document.getElementById('14607ea9-8ae4-4782-ac75-15ded0899e61');\n",
       "var x = new MutationObserver(function (mutations, observer) {{\n",
       "        var display = window.getComputedStyle(gd).display;\n",
       "        if (!display || display === 'none') {{\n",
       "            console.log([gd, 'removed!']);\n",
       "            Plotly.purge(gd);\n",
       "            observer.disconnect();\n",
       "        }}\n",
       "}});\n",
       "\n",
       "// Listen for the removal of the full notebook cells\n",
       "var notebookContainer = gd.closest('#notebook-container');\n",
       "if (notebookContainer) {{\n",
       "    x.observe(notebookContainer, {childList: true});\n",
       "}}\n",
       "\n",
       "// Listen for the clearing of the current output cell\n",
       "var outputEl = gd.closest('.output');\n",
       "if (outputEl) {{\n",
       "    x.observe(outputEl, {childList: true});\n",
       "}}\n",
       "\n",
       "                        })                };                });            </script>        </div>"
      ]
     },
     "metadata": {},
     "output_type": "display_data"
    }
   ],
   "source": [
    "score_fig = px.bar(score_counts, title=\"distribution of overall performance scores of Welcome Buddies\")\n",
    "score_fig.update_layout(\n",
    "    xaxis_title = \"score\",\n",
    "    yaxis_title = \"frequency\",\n",
    "    title_x = 0.5, \n",
    "    showlegend = False\n",
    ")\n",
    "score_fig.show()"
   ]
  },
  {
   "cell_type": "code",
   "execution_count": 427,
   "id": "4c2d6327",
   "metadata": {},
   "outputs": [
    {
     "data": {
      "text/plain": [
       "campus                0\n",
       "department            0\n",
       "course                0\n",
       "id                    0\n",
       "name                  0\n",
       "tw2                   0\n",
       "tw8                   0\n",
       "tw11                  0\n",
       "overall               0\n",
       "gender                0\n",
       "dob                   0\n",
       "ethnicity             0\n",
       "nationality           1\n",
       "household_income    302\n",
       "disab               474\n",
       "school                0\n",
       "text                  0\n",
       "chat                  0\n",
       "formality             0\n",
       "helpfulness           0\n",
       "warmth                0\n",
       "age                   0\n",
       "dtype: int64"
      ]
     },
     "execution_count": 427,
     "metadata": {},
     "output_type": "execute_result"
    }
   ],
   "source": [
    "#impute 'overall' nans with mean of tw8 and tw11\n",
    "\n",
    "#look at overall nans\n",
    "nan_overall = df1[df1['overall'].isna()]\n",
    "\n",
    "#all nans are missing tw2\n",
    "\n",
    "#impute overall with mean of tw8 and tw11\n",
    "df1['overall'] = df1['overall'].fillna((df1['overall'].mean()))\n",
    "#check for nan in overall\n",
    "df1.isnull().sum(axis = 0)\n"
   ]
  },
  {
   "cell_type": "code",
   "execution_count": 428,
   "id": "5ee7d676",
   "metadata": {},
   "outputs": [
    {
     "data": {
      "text/plain": [
       "563"
      ]
     },
     "execution_count": 428,
     "metadata": {},
     "output_type": "execute_result"
    }
   ],
   "source": [
    "len(df1)"
   ]
  },
  {
   "cell_type": "markdown",
   "id": "a6f45ee0",
   "metadata": {},
   "source": [
    "### correlation between campus and overall score"
   ]
  },
  {
   "cell_type": "code",
   "execution_count": 429,
   "id": "ff10e3ba",
   "metadata": {},
   "outputs": [
    {
     "data": {
      "text/plain": [
       "overall                1.000000\n",
       "campus_Cambridge       0.043725\n",
       "campus_Chelmsford     -0.015596\n",
       "campus_Peterborough   -0.086369\n",
       "Name: overall, dtype: float64"
      ]
     },
     "execution_count": 429,
     "metadata": {},
     "output_type": "execute_result"
    }
   ],
   "source": [
    "campus_df = df1[['campus', 'overall']].copy()\n",
    "campus_df = pd.get_dummies(campus_df, columns=[\"campus\"])\n",
    "campus_df.head()\n",
    "\n",
    "corr_tab = campus_df.corr()['overall']\n",
    "corr_tab"
   ]
  },
  {
   "cell_type": "markdown",
   "id": "daf41e35",
   "metadata": {},
   "source": [
    "#### conclusion: negligable correlation between overall score and campus"
   ]
  },
  {
   "cell_type": "markdown",
   "id": "f70a0c57",
   "metadata": {},
   "source": [
    "###  correlation between department and overall score"
   ]
  },
  {
   "cell_type": "code",
   "execution_count": 430,
   "id": "c26b6873",
   "metadata": {},
   "outputs": [
    {
     "data": {
      "text/plain": [
       "overall            1.000000\n",
       "department_AHSS   -0.053838\n",
       "department_BL      0.039805\n",
       "department_HEMS   -0.054224\n",
       "department_SE      0.075771\n",
       "Name: overall, dtype: float64"
      ]
     },
     "execution_count": 430,
     "metadata": {},
     "output_type": "execute_result"
    }
   ],
   "source": [
    "dept_df = df1[['department', 'overall']].copy()\n",
    "dept_df = pd.get_dummies(dept_df, columns=[\"department\"])\n",
    "dept_df.head()\n",
    "\n",
    "dept_corr_tab = dept_df.corr()['overall']\n",
    "dept_corr_tab"
   ]
  },
  {
   "cell_type": "markdown",
   "id": "e1625b34",
   "metadata": {},
   "source": [
    "#### conclusion: negligable correlation between overall score and dept"
   ]
  },
  {
   "cell_type": "markdown",
   "id": "f2016bb8",
   "metadata": {},
   "source": [
    "### correlation between course and overall score"
   ]
  },
  {
   "cell_type": "code",
   "execution_count": 431,
   "id": "6163832e",
   "metadata": {},
   "outputs": [
    {
     "data": {
      "text/plain": [
       "overall                                       1.000000\n",
       "course_BA (Hons) Architecture                -0.006086\n",
       "course_BA (Hons) Computer Games Art          -0.056230\n",
       "course_BA (Hons) Criminology                 -0.015884\n",
       "course_BA (Hons) Criminology and Policing    -0.048640\n",
       "                                                ...   \n",
       "course_BSc (Hons) Zoology                    -0.021055\n",
       "course_BSc (Hons) Zoology [Extended]         -0.034363\n",
       "course_LLB (Hons) Law                        -0.026189\n",
       "course_MBChB Primary Medical Qualification   -0.021392\n",
       "course_MEng Automotive Engineering            0.011920\n",
       "Name: overall, Length: 91, dtype: float64"
      ]
     },
     "execution_count": 431,
     "metadata": {},
     "output_type": "execute_result"
    }
   ],
   "source": [
    "course_df = df1[['course', 'overall']].copy()\n",
    "course_df = pd.get_dummies(course_df, columns=[\"course\"])\n",
    "course_df.head()\n",
    "\n",
    "course_corr_tab = course_df.corr()['overall']\n",
    "course_corr_tab"
   ]
  },
  {
   "cell_type": "code",
   "execution_count": 432,
   "id": "da7c7ad4",
   "metadata": {},
   "outputs": [
    {
     "data": {
      "text/plain": [
       "563"
      ]
     },
     "execution_count": 432,
     "metadata": {},
     "output_type": "execute_result"
    }
   ],
   "source": [
    "len(df1)"
   ]
  },
  {
   "cell_type": "markdown",
   "id": "ee288e4f",
   "metadata": {},
   "source": [
    "### gender"
   ]
  },
  {
   "cell_type": "code",
   "execution_count": 433,
   "id": "5bbab4d1",
   "metadata": {},
   "outputs": [],
   "source": [
    "#encode gender as binary\n",
    "gender = pd.get_dummies(df1[\"gender\"])"
   ]
  },
  {
   "cell_type": "code",
   "execution_count": 434,
   "id": "eeb78205",
   "metadata": {},
   "outputs": [],
   "source": [
    "df1 = pd.concat((df1, gender), axis=1)"
   ]
  },
  {
   "cell_type": "code",
   "execution_count": 435,
   "id": "6e003b40",
   "metadata": {},
   "outputs": [],
   "source": [
    "df1 = df1.drop([\"Male\"], axis=1)"
   ]
  },
  {
   "cell_type": "code",
   "execution_count": 436,
   "id": "32ec1b17",
   "metadata": {},
   "outputs": [
    {
     "data": {
      "text/html": [
       "<div>\n",
       "<style scoped>\n",
       "    .dataframe tbody tr th:only-of-type {\n",
       "        vertical-align: middle;\n",
       "    }\n",
       "\n",
       "    .dataframe tbody tr th {\n",
       "        vertical-align: top;\n",
       "    }\n",
       "\n",
       "    .dataframe thead th {\n",
       "        text-align: right;\n",
       "    }\n",
       "</style>\n",
       "<table border=\"1\" class=\"dataframe\">\n",
       "  <thead>\n",
       "    <tr style=\"text-align: right;\">\n",
       "      <th></th>\n",
       "      <th>campus</th>\n",
       "      <th>department</th>\n",
       "      <th>course</th>\n",
       "      <th>id</th>\n",
       "      <th>name</th>\n",
       "      <th>tw2</th>\n",
       "      <th>tw8</th>\n",
       "      <th>tw11</th>\n",
       "      <th>overall</th>\n",
       "      <th>gender</th>\n",
       "      <th>...</th>\n",
       "      <th>household_income</th>\n",
       "      <th>disab</th>\n",
       "      <th>school</th>\n",
       "      <th>text</th>\n",
       "      <th>chat</th>\n",
       "      <th>formality</th>\n",
       "      <th>helpfulness</th>\n",
       "      <th>warmth</th>\n",
       "      <th>age</th>\n",
       "      <th>gender_encoded</th>\n",
       "    </tr>\n",
       "  </thead>\n",
       "  <tbody>\n",
       "    <tr>\n",
       "      <th>0</th>\n",
       "      <td>Cambridge</td>\n",
       "      <td>BL</td>\n",
       "      <td>BSc (Hons) Business with Events Management</td>\n",
       "      <td>1803103.0</td>\n",
       "      <td>Aaliah Loureiro Brito</td>\n",
       "      <td>4</td>\n",
       "      <td>4</td>\n",
       "      <td>4</td>\n",
       "      <td>4</td>\n",
       "      <td>Female</td>\n",
       "      <td>...</td>\n",
       "      <td>Low</td>\n",
       "      <td>NaN</td>\n",
       "      <td>School of Management</td>\n",
       "      <td>06/12/2021 11:43 AM Elly Page: \n",
       "TW11 chat spac...</td>\n",
       "      <td>[Hey guys, just wanted to send a last quick li...</td>\n",
       "      <td></td>\n",
       "      <td></td>\n",
       "      <td></td>\n",
       "      <td>22</td>\n",
       "      <td>1</td>\n",
       "    </tr>\n",
       "    <tr>\n",
       "      <th>1</th>\n",
       "      <td>Chelmsford</td>\n",
       "      <td>BL</td>\n",
       "      <td>BSc (Hons) Business Management and Leadership</td>\n",
       "      <td>1841622.0</td>\n",
       "      <td>Aayush Sanjhawa Prajapati</td>\n",
       "      <td>4</td>\n",
       "      <td>4</td>\n",
       "      <td>4</td>\n",
       "      <td>4</td>\n",
       "      <td>Male</td>\n",
       "      <td>...</td>\n",
       "      <td>NaN</td>\n",
       "      <td>NaN</td>\n",
       "      <td>School of Management</td>\n",
       "      <td>06/12/2021 11:45 AM Elly Page: \n",
       "TW11 Chat spac...</td>\n",
       "      <td>[Hello everyone, Welcome to ARU I'm your welco...</td>\n",
       "      <td></td>\n",
       "      <td></td>\n",
       "      <td></td>\n",
       "      <td>21</td>\n",
       "      <td>0</td>\n",
       "    </tr>\n",
       "    <tr>\n",
       "      <th>2</th>\n",
       "      <td>Cambridge</td>\n",
       "      <td>AHSS</td>\n",
       "      <td>BA (Hons) Performing Arts</td>\n",
       "      <td>1909589.0</td>\n",
       "      <td>Abbie Kermode</td>\n",
       "      <td>1</td>\n",
       "      <td>1</td>\n",
       "      <td>1</td>\n",
       "      <td>1</td>\n",
       "      <td>Female</td>\n",
       "      <td>...</td>\n",
       "      <td>Mid</td>\n",
       "      <td>NaN</td>\n",
       "      <td>Cambridge School of the Creative Industries</td>\n",
       "      <td>06/12/2021 11:46 AM Elly Page: \n",
       "TW11 chat spac...</td>\n",
       "      <td>[Hiya everyone, just a quick update as this tr...</td>\n",
       "      <td></td>\n",
       "      <td></td>\n",
       "      <td></td>\n",
       "      <td>21</td>\n",
       "      <td>1</td>\n",
       "    </tr>\n",
       "    <tr>\n",
       "      <th>3</th>\n",
       "      <td>Peterborough</td>\n",
       "      <td>HEMS</td>\n",
       "      <td>BA (Hons) Primary Education Studies</td>\n",
       "      <td>2010362.0</td>\n",
       "      <td>Abby Paxton</td>\n",
       "      <td>1</td>\n",
       "      <td>2</td>\n",
       "      <td>1</td>\n",
       "      <td>2</td>\n",
       "      <td>Female</td>\n",
       "      <td>...</td>\n",
       "      <td>Low</td>\n",
       "      <td>Yes</td>\n",
       "      <td>School of Education and Social Care</td>\n",
       "      <td>06/12/2021 11:50 AM Elly Page: \n",
       "TW11 chat spac...</td>\n",
       "      <td>[Hello everyone! hope you are all doing well, ...</td>\n",
       "      <td></td>\n",
       "      <td></td>\n",
       "      <td></td>\n",
       "      <td>21</td>\n",
       "      <td>1</td>\n",
       "    </tr>\n",
       "    <tr>\n",
       "      <th>4</th>\n",
       "      <td>Chelmsford</td>\n",
       "      <td>HEMS</td>\n",
       "      <td>BSc (Hons) Nursing (Child)</td>\n",
       "      <td>1803962.0</td>\n",
       "      <td>Abi Mason</td>\n",
       "      <td>2</td>\n",
       "      <td>1</td>\n",
       "      <td>3</td>\n",
       "      <td>2</td>\n",
       "      <td>Female</td>\n",
       "      <td>...</td>\n",
       "      <td>Low</td>\n",
       "      <td>Yes</td>\n",
       "      <td>School of Nursing and Midwifery</td>\n",
       "      <td>06/12/2021 12:57 PM Elly Page: \n",
       "TW11 chat spac...</td>\n",
       "      <td>[Hey everyone, , Hey, Everyone. , Hi Kiona, , ...</td>\n",
       "      <td></td>\n",
       "      <td></td>\n",
       "      <td></td>\n",
       "      <td>30</td>\n",
       "      <td>1</td>\n",
       "    </tr>\n",
       "  </tbody>\n",
       "</table>\n",
       "<p>5 rows × 23 columns</p>\n",
       "</div>"
      ],
      "text/plain": [
       "         campus department                                         course  \\\n",
       "0     Cambridge         BL     BSc (Hons) Business with Events Management   \n",
       "1    Chelmsford         BL  BSc (Hons) Business Management and Leadership   \n",
       "2     Cambridge       AHSS                      BA (Hons) Performing Arts   \n",
       "3  Peterborough       HEMS            BA (Hons) Primary Education Studies   \n",
       "4    Chelmsford       HEMS                     BSc (Hons) Nursing (Child)   \n",
       "\n",
       "          id                       name tw2 tw8 tw11  overall  gender  ...  \\\n",
       "0  1803103.0      Aaliah Loureiro Brito   4   4    4        4  Female  ...   \n",
       "1  1841622.0  Aayush Sanjhawa Prajapati   4   4    4        4    Male  ...   \n",
       "2  1909589.0              Abbie Kermode   1   1    1        1  Female  ...   \n",
       "3  2010362.0                Abby Paxton   1   2    1        2  Female  ...   \n",
       "4  1803962.0                  Abi Mason   2   1    3        2  Female  ...   \n",
       "\n",
       "  household_income disab                                        school  \\\n",
       "0              Low   NaN                         School of Management    \n",
       "1              NaN   NaN                         School of Management    \n",
       "2              Mid   NaN  Cambridge School of the Creative Industries    \n",
       "3              Low   Yes          School of Education and Social Care    \n",
       "4              Low   Yes             School of Nursing and Midwifery     \n",
       "\n",
       "                                                text  \\\n",
       "0  06/12/2021 11:43 AM Elly Page: \n",
       "TW11 chat spac...   \n",
       "1  06/12/2021 11:45 AM Elly Page: \n",
       "TW11 Chat spac...   \n",
       "2  06/12/2021 11:46 AM Elly Page: \n",
       "TW11 chat spac...   \n",
       "3  06/12/2021 11:50 AM Elly Page: \n",
       "TW11 chat spac...   \n",
       "4  06/12/2021 12:57 PM Elly Page: \n",
       "TW11 chat spac...   \n",
       "\n",
       "                                                chat formality helpfulness  \\\n",
       "0  [Hey guys, just wanted to send a last quick li...                         \n",
       "1  [Hello everyone, Welcome to ARU I'm your welco...                         \n",
       "2  [Hiya everyone, just a quick update as this tr...                         \n",
       "3  [Hello everyone! hope you are all doing well, ...                         \n",
       "4  [Hey everyone, , Hey, Everyone. , Hi Kiona, , ...                         \n",
       "\n",
       "  warmth age gender_encoded  \n",
       "0         22              1  \n",
       "1         21              0  \n",
       "2         21              1  \n",
       "3         21              1  \n",
       "4         30              1  \n",
       "\n",
       "[5 rows x 23 columns]"
      ]
     },
     "execution_count": 436,
     "metadata": {},
     "output_type": "execute_result"
    }
   ],
   "source": [
    "df1 = df1.rename(columns={\"Female\": \"gender_encoded\"})\n",
    "df1.head()"
   ]
  },
  {
   "cell_type": "code",
   "execution_count": 437,
   "id": "b09c2cbc",
   "metadata": {},
   "outputs": [
    {
     "data": {
      "text/plain": [
       "563"
      ]
     },
     "execution_count": 437,
     "metadata": {},
     "output_type": "execute_result"
    }
   ],
   "source": [
    "len(df1)"
   ]
  },
  {
   "cell_type": "code",
   "execution_count": 438,
   "id": "ebd06c15",
   "metadata": {},
   "outputs": [
    {
     "data": {
      "text/plain": [
       "gender_encoded   -0.139933\n",
       "overall           1.000000\n",
       "Name: overall, dtype: float64"
      ]
     },
     "execution_count": 438,
     "metadata": {},
     "output_type": "execute_result"
    }
   ],
   "source": [
    "#is gender correlated with score?\n",
    "\n",
    "#remove nans\n",
    "df1['overall'].isnull().values.any()\n",
    "#df1=df1.dropna(axis = 0).reset_index(drop=True)\n",
    "#df1['overall'].isnull().values.any()\n",
    "\n",
    "#convert al columns to floats, not int\n",
    "df1.overall = df1.overall.astype(float)\n",
    "\n",
    "gender_df = df1[['gender_encoded', 'overall']].copy()\n",
    "\n",
    "\n",
    "gen_corr_tab = gender_df.corr()['overall']\n",
    "gen_corr_tab"
   ]
  },
  {
   "cell_type": "code",
   "execution_count": 439,
   "id": "ddbae452",
   "metadata": {},
   "outputs": [
    {
     "data": {
      "text/plain": [
       "563"
      ]
     },
     "execution_count": 439,
     "metadata": {},
     "output_type": "execute_result"
    }
   ],
   "source": [
    "len(df1)"
   ]
  },
  {
   "cell_type": "code",
   "execution_count": 440,
   "id": "4c4ce33e",
   "metadata": {},
   "outputs": [
    {
     "data": {
      "text/html": [
       "<div>\n",
       "<style scoped>\n",
       "    .dataframe tbody tr th:only-of-type {\n",
       "        vertical-align: middle;\n",
       "    }\n",
       "\n",
       "    .dataframe tbody tr th {\n",
       "        vertical-align: top;\n",
       "    }\n",
       "\n",
       "    .dataframe thead th {\n",
       "        text-align: right;\n",
       "    }\n",
       "</style>\n",
       "<table border=\"1\" class=\"dataframe\">\n",
       "  <thead>\n",
       "    <tr style=\"text-align: right;\">\n",
       "      <th></th>\n",
       "      <th>campus</th>\n",
       "      <th>department</th>\n",
       "      <th>course</th>\n",
       "      <th>id</th>\n",
       "      <th>name</th>\n",
       "      <th>tw2</th>\n",
       "      <th>tw8</th>\n",
       "      <th>tw11</th>\n",
       "      <th>overall</th>\n",
       "      <th>gender</th>\n",
       "      <th>...</th>\n",
       "      <th>household_income</th>\n",
       "      <th>disab</th>\n",
       "      <th>school</th>\n",
       "      <th>text</th>\n",
       "      <th>chat</th>\n",
       "      <th>formality</th>\n",
       "      <th>helpfulness</th>\n",
       "      <th>warmth</th>\n",
       "      <th>age</th>\n",
       "      <th>gender_encoded</th>\n",
       "    </tr>\n",
       "  </thead>\n",
       "  <tbody>\n",
       "    <tr>\n",
       "      <th>0</th>\n",
       "      <td>Cambridge</td>\n",
       "      <td>BL</td>\n",
       "      <td>BSc (Hons) Business with Events Management</td>\n",
       "      <td>1803103.0</td>\n",
       "      <td>Aaliah Loureiro Brito</td>\n",
       "      <td>4</td>\n",
       "      <td>4</td>\n",
       "      <td>4</td>\n",
       "      <td>4.0</td>\n",
       "      <td>Female</td>\n",
       "      <td>...</td>\n",
       "      <td>Low</td>\n",
       "      <td>NaN</td>\n",
       "      <td>School of Management</td>\n",
       "      <td>06/12/2021 11:43 AM Elly Page: \n",
       "TW11 chat spac...</td>\n",
       "      <td>[Hey guys, just wanted to send a last quick li...</td>\n",
       "      <td></td>\n",
       "      <td></td>\n",
       "      <td></td>\n",
       "      <td>22</td>\n",
       "      <td>1</td>\n",
       "    </tr>\n",
       "    <tr>\n",
       "      <th>1</th>\n",
       "      <td>Chelmsford</td>\n",
       "      <td>BL</td>\n",
       "      <td>BSc (Hons) Business Management and Leadership</td>\n",
       "      <td>1841622.0</td>\n",
       "      <td>Aayush Sanjhawa Prajapati</td>\n",
       "      <td>4</td>\n",
       "      <td>4</td>\n",
       "      <td>4</td>\n",
       "      <td>4.0</td>\n",
       "      <td>Male</td>\n",
       "      <td>...</td>\n",
       "      <td>NaN</td>\n",
       "      <td>NaN</td>\n",
       "      <td>School of Management</td>\n",
       "      <td>06/12/2021 11:45 AM Elly Page: \n",
       "TW11 Chat spac...</td>\n",
       "      <td>[Hello everyone, Welcome to ARU I'm your welco...</td>\n",
       "      <td></td>\n",
       "      <td></td>\n",
       "      <td></td>\n",
       "      <td>21</td>\n",
       "      <td>0</td>\n",
       "    </tr>\n",
       "    <tr>\n",
       "      <th>2</th>\n",
       "      <td>Cambridge</td>\n",
       "      <td>AHSS</td>\n",
       "      <td>BA (Hons) Performing Arts</td>\n",
       "      <td>1909589.0</td>\n",
       "      <td>Abbie Kermode</td>\n",
       "      <td>1</td>\n",
       "      <td>1</td>\n",
       "      <td>1</td>\n",
       "      <td>1.0</td>\n",
       "      <td>Female</td>\n",
       "      <td>...</td>\n",
       "      <td>Mid</td>\n",
       "      <td>NaN</td>\n",
       "      <td>Cambridge School of the Creative Industries</td>\n",
       "      <td>06/12/2021 11:46 AM Elly Page: \n",
       "TW11 chat spac...</td>\n",
       "      <td>[Hiya everyone, just a quick update as this tr...</td>\n",
       "      <td></td>\n",
       "      <td></td>\n",
       "      <td></td>\n",
       "      <td>21</td>\n",
       "      <td>1</td>\n",
       "    </tr>\n",
       "  </tbody>\n",
       "</table>\n",
       "<p>3 rows × 23 columns</p>\n",
       "</div>"
      ],
      "text/plain": [
       "       campus department                                         course  \\\n",
       "0   Cambridge         BL     BSc (Hons) Business with Events Management   \n",
       "1  Chelmsford         BL  BSc (Hons) Business Management and Leadership   \n",
       "2   Cambridge       AHSS                      BA (Hons) Performing Arts   \n",
       "\n",
       "          id                       name tw2 tw8 tw11  overall  gender  ...  \\\n",
       "0  1803103.0      Aaliah Loureiro Brito   4   4    4      4.0  Female  ...   \n",
       "1  1841622.0  Aayush Sanjhawa Prajapati   4   4    4      4.0    Male  ...   \n",
       "2  1909589.0              Abbie Kermode   1   1    1      1.0  Female  ...   \n",
       "\n",
       "  household_income disab                                        school  \\\n",
       "0              Low   NaN                         School of Management    \n",
       "1              NaN   NaN                         School of Management    \n",
       "2              Mid   NaN  Cambridge School of the Creative Industries    \n",
       "\n",
       "                                                text  \\\n",
       "0  06/12/2021 11:43 AM Elly Page: \n",
       "TW11 chat spac...   \n",
       "1  06/12/2021 11:45 AM Elly Page: \n",
       "TW11 Chat spac...   \n",
       "2  06/12/2021 11:46 AM Elly Page: \n",
       "TW11 chat spac...   \n",
       "\n",
       "                                                chat formality helpfulness  \\\n",
       "0  [Hey guys, just wanted to send a last quick li...                         \n",
       "1  [Hello everyone, Welcome to ARU I'm your welco...                         \n",
       "2  [Hiya everyone, just a quick update as this tr...                         \n",
       "\n",
       "  warmth age gender_encoded  \n",
       "0         22              1  \n",
       "1         21              0  \n",
       "2         21              1  \n",
       "\n",
       "[3 rows x 23 columns]"
      ]
     },
     "execution_count": 440,
     "metadata": {},
     "output_type": "execute_result"
    }
   ],
   "source": [
    "#df1 = df1.iloc[: , :-1]\n",
    "df1[0:3]"
   ]
  },
  {
   "cell_type": "code",
   "execution_count": 441,
   "id": "0d8013ae",
   "metadata": {},
   "outputs": [
    {
     "name": "stdout",
     "output_type": "stream",
     "text": [
      "                                                    course\n",
      "BSc (Hons) Midwifery                                    48\n",
      "BSc (Hons) Nursing (Adult)                              35\n",
      "BA (Hons) Primary Education Studies                     31\n",
      "BSc (Hons) Nursing (Child)                              26\n",
      "BSc (Hons) Biomedical Science                           24\n",
      "...                                                    ...\n",
      "BA (Hons) Graphic Design                                 1\n",
      "BA (Hons) Media Studies                                  1\n",
      "BSc (Hons) Marine Biology with Biodiversity and...       1\n",
      "BSc (Hons) Pharmaceutical Science                        1\n",
      "BA (Hons) Philosophy                                     1\n",
      "\n",
      "[77 rows x 1 columns]\n",
      "                                                    course\n",
      "BSc (Hons) Midwifery                                    48\n",
      "BSc (Hons) Nursing (Adult)                              37\n",
      "BA (Hons) Primary Education Studies                     37\n",
      "BSc (Hons) Paramedic Science                            32\n",
      "BSc (Hons) Biomedical Science                           30\n",
      "...                                                    ...\n",
      "BSc (Hons) Psychology and Criminology [Extended]         1\n",
      "BSc (Hons) Business with Human Resource Management       1\n",
      "BA (Hons) Writing and Film                               1\n",
      "BSc (Hons) Zoology [Extended]                            1\n",
      "BSc (Hons) Software Engineering                          1\n",
      "\n",
      "[90 rows x 1 columns]\n"
     ]
    }
   ],
   "source": [
    "#is gender associated with 'outcome'?\n",
    "#hypothesis: confounder = course (courses with highest frequencies are female-heavvy courses\n",
    "#subset courses by female gender\n",
    "course_gender = df1[df1['gender_encoded'] == True]['course']\n",
    "\n",
    "female_course_counts = pd.DataFrame(data = course_gender.value_counts(), dtype=None, copy=None)\n",
    "print(female_course_counts)\n",
    "print(course_counts)\n",
    "\n",
    "#clearly females are overrepresented across courses, indicating possible confounding behavior "
   ]
  },
  {
   "cell_type": "code",
   "execution_count": 442,
   "id": "d49dfd3f",
   "metadata": {},
   "outputs": [
    {
     "name": "stdout",
     "output_type": "stream",
     "text": [
      "                                                  school\n",
      "School of Nursing and Midwifery                      120\n",
      "School of Life Sciences                               62\n",
      "School of Education and Social Care                   47\n",
      "School of Psychology and Sport Science                43\n",
      "School of Allied Health                               39\n",
      "Cambridge School of the Creative Industries           25\n",
      "School of Economics Finance and Law                   24\n",
      "School of Humanities and Social Sciences              22\n",
      "Cambridge School of Art                               20\n",
      "School of Medicine                                    17\n",
      "School of Management                                  15\n",
      "School of Computing and Information Sciences           7\n",
      "School of Engineering and the Built Environment        5\n",
      "                                                  school\n",
      "School of Nursing and Midwifery                      125\n",
      "School of Life Sciences                               75\n",
      "School of Education and Social Care                   54\n",
      "School of Psychology and Sport Science                49\n",
      "School of Allied Health                               48\n",
      "Cambridge School of the Creative Industries           37\n",
      "School of Economics Finance and Law                   36\n",
      "School of Humanities and Social Sciences              29\n",
      "School of Management                                  28\n",
      "School of Medicine                                    26\n",
      "Cambridge School of Art                               23\n",
      "School of Computing and Information Sciences          18\n",
      "School of Engineering and the Built Environment       15\n"
     ]
    }
   ],
   "source": [
    "school_gender = df1[df1['gender_encoded'] == True]['school']\n",
    "\n",
    "female_school_counts = pd.DataFrame(data = school_gender.value_counts(), dtype=None, copy=None)\n",
    "print(female_school_counts)\n",
    "print(school_counts)\n",
    "\n",
    "#clearly females are overrepresented across schools, indicating possible confounding behavior "
   ]
  },
  {
   "cell_type": "code",
   "execution_count": 443,
   "id": "303bba74",
   "metadata": {},
   "outputs": [
    {
     "data": {
      "text/html": [
       "<div>\n",
       "<style scoped>\n",
       "    .dataframe tbody tr th:only-of-type {\n",
       "        vertical-align: middle;\n",
       "    }\n",
       "\n",
       "    .dataframe tbody tr th {\n",
       "        vertical-align: top;\n",
       "    }\n",
       "\n",
       "    .dataframe thead th {\n",
       "        text-align: right;\n",
       "    }\n",
       "</style>\n",
       "<table border=\"1\" class=\"dataframe\">\n",
       "  <thead>\n",
       "    <tr style=\"text-align: right;\">\n",
       "      <th></th>\n",
       "      <th>gender_encoded</th>\n",
       "      <th>course</th>\n",
       "      <th>overall</th>\n",
       "    </tr>\n",
       "  </thead>\n",
       "  <tbody>\n",
       "    <tr>\n",
       "      <th>0</th>\n",
       "      <td>1</td>\n",
       "      <td>BSc (Hons) Business with Events Management</td>\n",
       "      <td>4.0</td>\n",
       "    </tr>\n",
       "    <tr>\n",
       "      <th>1</th>\n",
       "      <td>0</td>\n",
       "      <td>BSc (Hons) Business Management and Leadership</td>\n",
       "      <td>4.0</td>\n",
       "    </tr>\n",
       "    <tr>\n",
       "      <th>2</th>\n",
       "      <td>1</td>\n",
       "      <td>BA (Hons) Performing Arts</td>\n",
       "      <td>1.0</td>\n",
       "    </tr>\n",
       "    <tr>\n",
       "      <th>3</th>\n",
       "      <td>1</td>\n",
       "      <td>BA (Hons) Primary Education Studies</td>\n",
       "      <td>2.0</td>\n",
       "    </tr>\n",
       "    <tr>\n",
       "      <th>4</th>\n",
       "      <td>1</td>\n",
       "      <td>BSc (Hons) Nursing (Child)</td>\n",
       "      <td>2.0</td>\n",
       "    </tr>\n",
       "  </tbody>\n",
       "</table>\n",
       "</div>"
      ],
      "text/plain": [
       "   gender_encoded                                         course  overall\n",
       "0               1     BSc (Hons) Business with Events Management      4.0\n",
       "1               0  BSc (Hons) Business Management and Leadership      4.0\n",
       "2               1                      BA (Hons) Performing Arts      1.0\n",
       "3               1            BA (Hons) Primary Education Studies      2.0\n",
       "4               1                     BSc (Hons) Nursing (Child)      2.0"
      ]
     },
     "execution_count": 443,
     "metadata": {},
     "output_type": "execute_result"
    }
   ],
   "source": [
    "new_df = df1[['gender_encoded', 'course', 'overall']].copy()\n",
    "new_df.head()"
   ]
  },
  {
   "cell_type": "code",
   "execution_count": 444,
   "id": "0ceee084",
   "metadata": {},
   "outputs": [],
   "source": [
    "X = df1['gender_encoded']\n",
    "y = df1['overall']\n",
    "\n",
    "df1['overall'] = df1['overall'].astype(int)"
   ]
  },
  {
   "cell_type": "code",
   "execution_count": 445,
   "id": "a9c01e68",
   "metadata": {},
   "outputs": [],
   "source": [
    "#split into test and train\n",
    "from sklearn.model_selection import train_test_split\n",
    "X_train, X_test, y_train, y_test = train_test_split(X, y, test_size=0.3, random_state=42)\n"
   ]
  },
  {
   "cell_type": "code",
   "execution_count": 446,
   "id": "269dd838",
   "metadata": {},
   "outputs": [
    {
     "name": "stdout",
     "output_type": "stream",
     "text": [
      "Optimization terminated successfully.\n",
      "         Current function value: 1.300713\n",
      "         Iterations: 21\n",
      "         Function evaluations: 24\n",
      "         Gradient evaluations: 24\n"
     ]
    },
    {
     "data": {
      "text/html": [
       "<table class=\"simpletable\">\n",
       "<caption>OrderedModel Results</caption>\n",
       "<tr>\n",
       "  <th>Dep. Variable:</th>          <td>overall</td>      <th>  Log-Likelihood:    </th> <td> -732.30</td>\n",
       "</tr>\n",
       "<tr>\n",
       "  <th>Model:</th>               <td>OrderedModel</td>    <th>  AIC:               </th> <td>   1477.</td>\n",
       "</tr>\n",
       "<tr>\n",
       "  <th>Method:</th>           <td>Maximum Likelihood</td> <th>  BIC:               </th> <td>   1503.</td>\n",
       "</tr>\n",
       "<tr>\n",
       "  <th>Date:</th>              <td>Wed, 17 Aug 2022</td>  <th>                     </th>     <td> </td>   \n",
       "</tr>\n",
       "<tr>\n",
       "  <th>Time:</th>                  <td>23:00:11</td>      <th>                     </th>     <td> </td>   \n",
       "</tr>\n",
       "<tr>\n",
       "  <th>No. Observations:</th>       <td>   563</td>       <th>                     </th>     <td> </td>   \n",
       "</tr>\n",
       "<tr>\n",
       "  <th>Df Residuals:</th>           <td>   557</td>       <th>                     </th>     <td> </td>   \n",
       "</tr>\n",
       "<tr>\n",
       "  <th>Df Model:</th>               <td>     6</td>       <th>                     </th>     <td> </td>   \n",
       "</tr>\n",
       "</table>\n",
       "<table class=\"simpletable\">\n",
       "<tr>\n",
       "         <td></td>           <th>coef</th>     <th>std err</th>      <th>z</th>      <th>P>|z|</th>  <th>[0.025</th>    <th>0.975]</th>  \n",
       "</tr>\n",
       "<tr>\n",
       "  <th>gender_encoded</th> <td>   -0.6744</td> <td>    0.192</td> <td>   -3.517</td> <td> 0.000</td> <td>   -1.050</td> <td>   -0.299</td>\n",
       "</tr>\n",
       "<tr>\n",
       "  <th>age</th>            <td>   -0.0130</td> <td>    0.010</td> <td>   -1.257</td> <td> 0.209</td> <td>   -0.033</td> <td>    0.007</td>\n",
       "</tr>\n",
       "<tr>\n",
       "  <th>1/2</th>            <td>   -3.1746</td> <td>    0.340</td> <td>   -9.332</td> <td> 0.000</td> <td>   -3.841</td> <td>   -2.508</td>\n",
       "</tr>\n",
       "<tr>\n",
       "  <th>2/3</th>            <td>    0.5995</td> <td>    0.075</td> <td>    7.965</td> <td> 0.000</td> <td>    0.452</td> <td>    0.747</td>\n",
       "</tr>\n",
       "<tr>\n",
       "  <th>3/4</th>            <td>    0.6416</td> <td>    0.058</td> <td>   11.145</td> <td> 0.000</td> <td>    0.529</td> <td>    0.754</td>\n",
       "</tr>\n",
       "<tr>\n",
       "  <th>4/5</th>            <td>    1.1046</td> <td>    0.123</td> <td>    8.966</td> <td> 0.000</td> <td>    0.863</td> <td>    1.346</td>\n",
       "</tr>\n",
       "</table>"
      ],
      "text/plain": [
       "<class 'statsmodels.iolib.summary.Summary'>\n",
       "\"\"\"\n",
       "                             OrderedModel Results                             \n",
       "==============================================================================\n",
       "Dep. Variable:                overall   Log-Likelihood:                -732.30\n",
       "Model:                   OrderedModel   AIC:                             1477.\n",
       "Method:            Maximum Likelihood   BIC:                             1503.\n",
       "Date:                Wed, 17 Aug 2022                                         \n",
       "Time:                        23:00:11                                         \n",
       "No. Observations:                 563                                         \n",
       "Df Residuals:                     557                                         \n",
       "Df Model:                           6                                         \n",
       "==================================================================================\n",
       "                     coef    std err          z      P>|z|      [0.025      0.975]\n",
       "----------------------------------------------------------------------------------\n",
       "gender_encoded    -0.6744      0.192     -3.517      0.000      -1.050      -0.299\n",
       "age               -0.0130      0.010     -1.257      0.209      -0.033       0.007\n",
       "1/2               -3.1746      0.340     -9.332      0.000      -3.841      -2.508\n",
       "2/3                0.5995      0.075      7.965      0.000       0.452       0.747\n",
       "3/4                0.6416      0.058     11.145      0.000       0.529       0.754\n",
       "4/5                1.1046      0.123      8.966      0.000       0.863       1.346\n",
       "==================================================================================\n",
       "\"\"\""
      ]
     },
     "execution_count": 446,
     "metadata": {},
     "output_type": "execute_result"
    }
   ],
   "source": [
    "import scipy.stats as stats\n",
    "\n",
    "#!pip install --upgrade --no-deps statsmodels\n",
    "\n",
    "from statsmodels.miscmodels.ordinal_model import OrderedModel\n",
    "ord_mod = OrderedModel(df1['overall'],\n",
    "                        df1[['gender_encoded',\"age\"]],\n",
    "                        distr='logit')\n",
    "\n",
    "res_prob = ord_mod.fit(method='bfgs')\n",
    "res_prob.summary()"
   ]
  },
  {
   "cell_type": "code",
   "execution_count": 447,
   "id": "b778ffdf",
   "metadata": {},
   "outputs": [
    {
     "name": "stdout",
     "output_type": "stream",
     "text": [
      "Optimization terminated successfully.\n",
      "         Current function value: 1.311807\n",
      "         Iterations: 17\n",
      "         Function evaluations: 19\n",
      "         Gradient evaluations: 19\n"
     ]
    },
    {
     "data": {
      "text/html": [
       "<table class=\"simpletable\">\n",
       "<caption>OrderedModel Results</caption>\n",
       "<tr>\n",
       "  <th>Dep. Variable:</th>          <td>overall</td>      <th>  Log-Likelihood:    </th> <td> -738.55</td>\n",
       "</tr>\n",
       "<tr>\n",
       "  <th>Model:</th>               <td>OrderedModel</td>    <th>  AIC:               </th> <td>   1487.</td>\n",
       "</tr>\n",
       "<tr>\n",
       "  <th>Method:</th>           <td>Maximum Likelihood</td> <th>  BIC:               </th> <td>   1509.</td>\n",
       "</tr>\n",
       "<tr>\n",
       "  <th>Date:</th>              <td>Wed, 17 Aug 2022</td>  <th>                     </th>     <td> </td>   \n",
       "</tr>\n",
       "<tr>\n",
       "  <th>Time:</th>                  <td>23:00:12</td>      <th>                     </th>     <td> </td>   \n",
       "</tr>\n",
       "<tr>\n",
       "  <th>No. Observations:</th>       <td>   563</td>       <th>                     </th>     <td> </td>   \n",
       "</tr>\n",
       "<tr>\n",
       "  <th>Df Residuals:</th>           <td>   558</td>       <th>                     </th>     <td> </td>   \n",
       "</tr>\n",
       "<tr>\n",
       "  <th>Df Model:</th>               <td>     5</td>       <th>                     </th>     <td> </td>   \n",
       "</tr>\n",
       "</table>\n",
       "<table class=\"simpletable\">\n",
       "<tr>\n",
       "   <td></td>      <th>coef</th>     <th>std err</th>      <th>z</th>      <th>P>|z|</th>  <th>[0.025</th>    <th>0.975]</th>  \n",
       "</tr>\n",
       "<tr>\n",
       "  <th>age</th> <td>   -0.0133</td> <td>    0.010</td> <td>   -1.276</td> <td> 0.202</td> <td>   -0.034</td> <td>    0.007</td>\n",
       "</tr>\n",
       "<tr>\n",
       "  <th>1/2</th> <td>   -2.6188</td> <td>    0.301</td> <td>   -8.710</td> <td> 0.000</td> <td>   -3.208</td> <td>   -2.030</td>\n",
       "</tr>\n",
       "<tr>\n",
       "  <th>2/3</th> <td>    0.5885</td> <td>    0.076</td> <td>    7.790</td> <td> 0.000</td> <td>    0.440</td> <td>    0.737</td>\n",
       "</tr>\n",
       "<tr>\n",
       "  <th>3/4</th> <td>    0.6226</td> <td>    0.057</td> <td>   10.865</td> <td> 0.000</td> <td>    0.510</td> <td>    0.735</td>\n",
       "</tr>\n",
       "<tr>\n",
       "  <th>4/5</th> <td>    1.0998</td> <td>    0.124</td> <td>    8.896</td> <td> 0.000</td> <td>    0.858</td> <td>    1.342</td>\n",
       "</tr>\n",
       "</table>"
      ],
      "text/plain": [
       "<class 'statsmodels.iolib.summary.Summary'>\n",
       "\"\"\"\n",
       "                             OrderedModel Results                             \n",
       "==============================================================================\n",
       "Dep. Variable:                overall   Log-Likelihood:                -738.55\n",
       "Model:                   OrderedModel   AIC:                             1487.\n",
       "Method:            Maximum Likelihood   BIC:                             1509.\n",
       "Date:                Wed, 17 Aug 2022                                         \n",
       "Time:                        23:00:12                                         \n",
       "No. Observations:                 563                                         \n",
       "Df Residuals:                     558                                         \n",
       "Df Model:                           5                                         \n",
       "==============================================================================\n",
       "                 coef    std err          z      P>|z|      [0.025      0.975]\n",
       "------------------------------------------------------------------------------\n",
       "age           -0.0133      0.010     -1.276      0.202      -0.034       0.007\n",
       "1/2           -2.6188      0.301     -8.710      0.000      -3.208      -2.030\n",
       "2/3            0.5885      0.076      7.790      0.000       0.440       0.737\n",
       "3/4            0.6226      0.057     10.865      0.000       0.510       0.735\n",
       "4/5            1.0998      0.124      8.896      0.000       0.858       1.342\n",
       "==============================================================================\n",
       "\"\"\""
      ]
     },
     "execution_count": 447,
     "metadata": {},
     "output_type": "execute_result"
    }
   ],
   "source": [
    "age_ord_mod = OrderedModel(df1['overall'], df1[['age']],\n",
    "                        distr='logit')\n",
    "\n",
    "age_res_prob = age_ord_mod.fit(method='bfgs')\n",
    "age_res_prob.summary()"
   ]
  },
  {
   "cell_type": "code",
   "execution_count": 448,
   "id": "6f7d281d",
   "metadata": {},
   "outputs": [
    {
     "data": {
      "text/plain": [
       "563"
      ]
     },
     "execution_count": 448,
     "metadata": {},
     "output_type": "execute_result"
    }
   ],
   "source": [
    "len(df1)"
   ]
  },
  {
   "cell_type": "markdown",
   "id": "0bfcf1b2",
   "metadata": {},
   "source": [
    "### school"
   ]
  },
  {
   "cell_type": "code",
   "execution_count": 449,
   "id": "d3dd7c9f",
   "metadata": {},
   "outputs": [
    {
     "data": {
      "text/plain": [
       "570"
      ]
     },
     "execution_count": 449,
     "metadata": {},
     "output_type": "execute_result"
    }
   ],
   "source": [
    "#remove all nan from dob column first \n",
    "\n",
    "labeled_df = labeled_df.dropna(subset=['dob'])\n",
    "len(labeled_df)"
   ]
  },
  {
   "cell_type": "code",
   "execution_count": 450,
   "id": "f9a72b07",
   "metadata": {},
   "outputs": [],
   "source": [
    "#create age column within new labeled column\n",
    "def calculate_age(born):\n",
    "    born = datetime.strptime(born, \"%d/%m/%Y\").date()\n",
    "    today = date.today()\n",
    "    return today.year - born.year - ((today.month, today.day) < (born.month, born.day))\n",
    "\n",
    "labeled_df['age'] = labeled_df['dob'].apply(calculate_age)"
   ]
  },
  {
   "cell_type": "markdown",
   "id": "084b5ffd",
   "metadata": {},
   "source": [
    "### disability"
   ]
  },
  {
   "cell_type": "code",
   "execution_count": 451,
   "id": "b36a1574",
   "metadata": {},
   "outputs": [],
   "source": [
    "#change disability column from nans to no\n",
    "labeled_df['disab'] = labeled_df['disab'].fillna('No')"
   ]
  },
  {
   "cell_type": "code",
   "execution_count": 452,
   "id": "05fa8513",
   "metadata": {},
   "outputs": [],
   "source": [
    "#encode gender as binary\n",
    "gender = pd.get_dummies(df1[\"gender\"])"
   ]
  },
  {
   "cell_type": "code",
   "execution_count": 453,
   "id": "0754e91f",
   "metadata": {},
   "outputs": [],
   "source": [
    "#concatenate gender dummies and labeled_df\n",
    "labeled_df1 = pd.concat((labeled_df, gender), axis=1)\n",
    "labeled_df1 = labeled_df1.drop([\"Male\"], axis=1)"
   ]
  },
  {
   "cell_type": "code",
   "execution_count": 454,
   "id": "1a4986c3",
   "metadata": {},
   "outputs": [],
   "source": [
    "#create 'gender_encoded' column\n",
    "labeled_df1 = labeled_df1.rename(columns={\"Female\": \"gender_encoded\"})"
   ]
  },
  {
   "cell_type": "code",
   "execution_count": 455,
   "id": "19f32883",
   "metadata": {},
   "outputs": [],
   "source": [
    "#clean school column\n",
    "labeled_df1['school'] = labeled_df1['school'].str.replace('at Anglia Ruskin University', '')\n",
    "#will not differentiate between Cam and Chelms School of Nursing and Midwifery\n",
    "labeled_df1['school'] = labeled_df1['school'].str.replace('- Chelmsford', '')\n",
    "labeled_df1['school'] = labeled_df1['school'].str.replace('- Cambridgeshire', '')"
   ]
  },
  {
   "cell_type": "code",
   "execution_count": 456,
   "id": "6adc284c",
   "metadata": {},
   "outputs": [
    {
     "data": {
      "text/html": [
       "<div>\n",
       "<style scoped>\n",
       "    .dataframe tbody tr th:only-of-type {\n",
       "        vertical-align: middle;\n",
       "    }\n",
       "\n",
       "    .dataframe tbody tr th {\n",
       "        vertical-align: top;\n",
       "    }\n",
       "\n",
       "    .dataframe thead th {\n",
       "        text-align: right;\n",
       "    }\n",
       "</style>\n",
       "<table border=\"1\" class=\"dataframe\">\n",
       "  <thead>\n",
       "    <tr style=\"text-align: right;\">\n",
       "      <th></th>\n",
       "      <th>Unnamed: 0</th>\n",
       "      <th>campus</th>\n",
       "      <th>department</th>\n",
       "      <th>course</th>\n",
       "      <th>id</th>\n",
       "      <th>name</th>\n",
       "      <th>tw2</th>\n",
       "      <th>tw8</th>\n",
       "      <th>tw11</th>\n",
       "      <th>overall</th>\n",
       "      <th>...</th>\n",
       "      <th>household_income</th>\n",
       "      <th>disab</th>\n",
       "      <th>school</th>\n",
       "      <th>text</th>\n",
       "      <th>chat</th>\n",
       "      <th>formality</th>\n",
       "      <th>helpfulness</th>\n",
       "      <th>warmth</th>\n",
       "      <th>age</th>\n",
       "      <th>gender_encoded</th>\n",
       "    </tr>\n",
       "  </thead>\n",
       "  <tbody>\n",
       "    <tr>\n",
       "      <th>0</th>\n",
       "      <td>0</td>\n",
       "      <td>Cambridge</td>\n",
       "      <td>BL</td>\n",
       "      <td>BSc (Hons) Business with Events Management</td>\n",
       "      <td>1803103</td>\n",
       "      <td>Aaliah Loureiro Brito</td>\n",
       "      <td>4</td>\n",
       "      <td>4</td>\n",
       "      <td>4</td>\n",
       "      <td>4.0</td>\n",
       "      <td>...</td>\n",
       "      <td>Low</td>\n",
       "      <td>No</td>\n",
       "      <td>School of Management</td>\n",
       "      <td>06/12/2021 11:43 AM Elly Page: \\nTW11 chat spa...</td>\n",
       "      <td>['Hey guys, just wanted to send a last quick l...</td>\n",
       "      <td>2</td>\n",
       "      <td>3</td>\n",
       "      <td>3</td>\n",
       "      <td>22</td>\n",
       "      <td>1.0</td>\n",
       "    </tr>\n",
       "    <tr>\n",
       "      <th>1</th>\n",
       "      <td>1</td>\n",
       "      <td>Chelmsford</td>\n",
       "      <td>BL</td>\n",
       "      <td>BSc (Hons) Business Management and Leadership</td>\n",
       "      <td>1841622</td>\n",
       "      <td>Aayush Sanjhawa Prajapati</td>\n",
       "      <td>4</td>\n",
       "      <td>4</td>\n",
       "      <td>4</td>\n",
       "      <td>4.0</td>\n",
       "      <td>...</td>\n",
       "      <td>NaN</td>\n",
       "      <td>No</td>\n",
       "      <td>School of Management</td>\n",
       "      <td>06/12/2021 11:45 AM Elly Page: \\nTW11 Chat spa...</td>\n",
       "      <td>[\"Hello everyone, Welcome to ARU I'm your welc...</td>\n",
       "      <td>2</td>\n",
       "      <td>1</td>\n",
       "      <td>2</td>\n",
       "      <td>21</td>\n",
       "      <td>0.0</td>\n",
       "    </tr>\n",
       "    <tr>\n",
       "      <th>2</th>\n",
       "      <td>2</td>\n",
       "      <td>Cambridge</td>\n",
       "      <td>AHSS</td>\n",
       "      <td>BA (Hons) Performing Arts</td>\n",
       "      <td>1909589</td>\n",
       "      <td>Abbie Kermode</td>\n",
       "      <td>1</td>\n",
       "      <td>1</td>\n",
       "      <td>1</td>\n",
       "      <td>1.0</td>\n",
       "      <td>...</td>\n",
       "      <td>Mid</td>\n",
       "      <td>No</td>\n",
       "      <td>Cambridge School of the Creative Industries</td>\n",
       "      <td>06/12/2021 11:46 AM Elly Page: \\nTW11 chat spa...</td>\n",
       "      <td>['Hiya everyone, just a quick update as this t...</td>\n",
       "      <td>1</td>\n",
       "      <td>3</td>\n",
       "      <td>3</td>\n",
       "      <td>21</td>\n",
       "      <td>1.0</td>\n",
       "    </tr>\n",
       "    <tr>\n",
       "      <th>3</th>\n",
       "      <td>3</td>\n",
       "      <td>Peterborough</td>\n",
       "      <td>HEMS</td>\n",
       "      <td>BA (Hons) Primary Education Studies</td>\n",
       "      <td>2010362</td>\n",
       "      <td>Abby Paxton</td>\n",
       "      <td>1</td>\n",
       "      <td>2</td>\n",
       "      <td>1</td>\n",
       "      <td>2.0</td>\n",
       "      <td>...</td>\n",
       "      <td>Low</td>\n",
       "      <td>Yes</td>\n",
       "      <td>School of Education and Social Care</td>\n",
       "      <td>06/12/2021 11:50 AM Elly Page: \\nTW11 chat spa...</td>\n",
       "      <td>[\"Hello everyone! hope you are all doing well,...</td>\n",
       "      <td>1</td>\n",
       "      <td>3</td>\n",
       "      <td>3</td>\n",
       "      <td>21</td>\n",
       "      <td>1.0</td>\n",
       "    </tr>\n",
       "    <tr>\n",
       "      <th>4</th>\n",
       "      <td>4</td>\n",
       "      <td>Chelmsford</td>\n",
       "      <td>HEMS</td>\n",
       "      <td>BSc (Hons) Nursing (Child)</td>\n",
       "      <td>1803962</td>\n",
       "      <td>Abi Mason</td>\n",
       "      <td>2</td>\n",
       "      <td>1</td>\n",
       "      <td>3</td>\n",
       "      <td>2.0</td>\n",
       "      <td>...</td>\n",
       "      <td>Low</td>\n",
       "      <td>Yes</td>\n",
       "      <td>School of Nursing and Midwifery</td>\n",
       "      <td>06/12/2021 12:57 PM Elly Page: \\nTW11 chat spa...</td>\n",
       "      <td>['Hey everyone, ', 'Hey, Everyone. ', 'Hi Kion...</td>\n",
       "      <td>1</td>\n",
       "      <td>3</td>\n",
       "      <td>3</td>\n",
       "      <td>30</td>\n",
       "      <td>1.0</td>\n",
       "    </tr>\n",
       "  </tbody>\n",
       "</table>\n",
       "<p>5 rows × 24 columns</p>\n",
       "</div>"
      ],
      "text/plain": [
       "   Unnamed: 0        campus department  \\\n",
       "0           0     Cambridge         BL   \n",
       "1           1    Chelmsford         BL   \n",
       "2           2     Cambridge       AHSS   \n",
       "3           3  Peterborough       HEMS   \n",
       "4           4    Chelmsford       HEMS   \n",
       "\n",
       "                                          course       id  \\\n",
       "0     BSc (Hons) Business with Events Management  1803103   \n",
       "1  BSc (Hons) Business Management and Leadership  1841622   \n",
       "2                      BA (Hons) Performing Arts  1909589   \n",
       "3            BA (Hons) Primary Education Studies  2010362   \n",
       "4                     BSc (Hons) Nursing (Child)  1803962   \n",
       "\n",
       "                        name tw2 tw8 tw11  overall  ... household_income  \\\n",
       "0      Aaliah Loureiro Brito   4   4    4      4.0  ...              Low   \n",
       "1  Aayush Sanjhawa Prajapati   4   4    4      4.0  ...              NaN   \n",
       "2              Abbie Kermode   1   1    1      1.0  ...              Mid   \n",
       "3                Abby Paxton   1   2    1      2.0  ...              Low   \n",
       "4                  Abi Mason   2   1    3      2.0  ...              Low   \n",
       "\n",
       "  disab                                        school  \\\n",
       "0    No                         School of Management    \n",
       "1    No                         School of Management    \n",
       "2    No  Cambridge School of the Creative Industries    \n",
       "3   Yes          School of Education and Social Care    \n",
       "4   Yes             School of Nursing and Midwifery     \n",
       "\n",
       "                                                text  \\\n",
       "0  06/12/2021 11:43 AM Elly Page: \\nTW11 chat spa...   \n",
       "1  06/12/2021 11:45 AM Elly Page: \\nTW11 Chat spa...   \n",
       "2  06/12/2021 11:46 AM Elly Page: \\nTW11 chat spa...   \n",
       "3  06/12/2021 11:50 AM Elly Page: \\nTW11 chat spa...   \n",
       "4  06/12/2021 12:57 PM Elly Page: \\nTW11 chat spa...   \n",
       "\n",
       "                                                chat formality helpfulness  \\\n",
       "0  ['Hey guys, just wanted to send a last quick l...         2           3   \n",
       "1  [\"Hello everyone, Welcome to ARU I'm your welc...         2           1   \n",
       "2  ['Hiya everyone, just a quick update as this t...         1           3   \n",
       "3  [\"Hello everyone! hope you are all doing well,...         1           3   \n",
       "4  ['Hey everyone, ', 'Hey, Everyone. ', 'Hi Kion...         1           3   \n",
       "\n",
       "  warmth age gender_encoded  \n",
       "0      3  22            1.0  \n",
       "1      2  21            0.0  \n",
       "2      3  21            1.0  \n",
       "3      3  21            1.0  \n",
       "4      3  30            1.0  \n",
       "\n",
       "[5 rows x 24 columns]"
      ]
     },
     "execution_count": 456,
     "metadata": {},
     "output_type": "execute_result"
    }
   ],
   "source": [
    "labeled_df1.head()"
   ]
  },
  {
   "cell_type": "code",
   "execution_count": 457,
   "id": "57832c1d",
   "metadata": {},
   "outputs": [],
   "source": [
    "#encode school column\n",
    "school = pd.get_dummies(labeled_df1[\"school\"], drop_first = True)"
   ]
  },
  {
   "cell_type": "code",
   "execution_count": 458,
   "id": "d54ef994",
   "metadata": {},
   "outputs": [
    {
     "data": {
      "text/html": [
       "<div>\n",
       "<style scoped>\n",
       "    .dataframe tbody tr th:only-of-type {\n",
       "        vertical-align: middle;\n",
       "    }\n",
       "\n",
       "    .dataframe tbody tr th {\n",
       "        vertical-align: top;\n",
       "    }\n",
       "\n",
       "    .dataframe thead th {\n",
       "        text-align: right;\n",
       "    }\n",
       "</style>\n",
       "<table border=\"1\" class=\"dataframe\">\n",
       "  <thead>\n",
       "    <tr style=\"text-align: right;\">\n",
       "      <th></th>\n",
       "      <th>Cambridge School of the Creative Industries</th>\n",
       "      <th>School of Allied Health</th>\n",
       "      <th>School of Computing and Information Sciences</th>\n",
       "      <th>School of Economics Finance and Law</th>\n",
       "      <th>School of Education and Social Care</th>\n",
       "      <th>School of Engineering and the Built Environment</th>\n",
       "      <th>School of Humanities and Social Sciences</th>\n",
       "      <th>School of Life Sciences</th>\n",
       "      <th>School of Management</th>\n",
       "      <th>School of Medicine</th>\n",
       "      <th>School of Nursing and Midwifery</th>\n",
       "      <th>School of Psychology and Sport Science</th>\n",
       "    </tr>\n",
       "  </thead>\n",
       "  <tbody>\n",
       "    <tr>\n",
       "      <th>0</th>\n",
       "      <td>0</td>\n",
       "      <td>0</td>\n",
       "      <td>0</td>\n",
       "      <td>0</td>\n",
       "      <td>0</td>\n",
       "      <td>0</td>\n",
       "      <td>0</td>\n",
       "      <td>0</td>\n",
       "      <td>1</td>\n",
       "      <td>0</td>\n",
       "      <td>0</td>\n",
       "      <td>0</td>\n",
       "    </tr>\n",
       "    <tr>\n",
       "      <th>1</th>\n",
       "      <td>0</td>\n",
       "      <td>0</td>\n",
       "      <td>0</td>\n",
       "      <td>0</td>\n",
       "      <td>0</td>\n",
       "      <td>0</td>\n",
       "      <td>0</td>\n",
       "      <td>0</td>\n",
       "      <td>1</td>\n",
       "      <td>0</td>\n",
       "      <td>0</td>\n",
       "      <td>0</td>\n",
       "    </tr>\n",
       "    <tr>\n",
       "      <th>2</th>\n",
       "      <td>1</td>\n",
       "      <td>0</td>\n",
       "      <td>0</td>\n",
       "      <td>0</td>\n",
       "      <td>0</td>\n",
       "      <td>0</td>\n",
       "      <td>0</td>\n",
       "      <td>0</td>\n",
       "      <td>0</td>\n",
       "      <td>0</td>\n",
       "      <td>0</td>\n",
       "      <td>0</td>\n",
       "    </tr>\n",
       "    <tr>\n",
       "      <th>3</th>\n",
       "      <td>0</td>\n",
       "      <td>0</td>\n",
       "      <td>0</td>\n",
       "      <td>0</td>\n",
       "      <td>1</td>\n",
       "      <td>0</td>\n",
       "      <td>0</td>\n",
       "      <td>0</td>\n",
       "      <td>0</td>\n",
       "      <td>0</td>\n",
       "      <td>0</td>\n",
       "      <td>0</td>\n",
       "    </tr>\n",
       "    <tr>\n",
       "      <th>4</th>\n",
       "      <td>0</td>\n",
       "      <td>0</td>\n",
       "      <td>0</td>\n",
       "      <td>0</td>\n",
       "      <td>0</td>\n",
       "      <td>0</td>\n",
       "      <td>0</td>\n",
       "      <td>0</td>\n",
       "      <td>0</td>\n",
       "      <td>0</td>\n",
       "      <td>1</td>\n",
       "      <td>0</td>\n",
       "    </tr>\n",
       "    <tr>\n",
       "      <th>...</th>\n",
       "      <td>...</td>\n",
       "      <td>...</td>\n",
       "      <td>...</td>\n",
       "      <td>...</td>\n",
       "      <td>...</td>\n",
       "      <td>...</td>\n",
       "      <td>...</td>\n",
       "      <td>...</td>\n",
       "      <td>...</td>\n",
       "      <td>...</td>\n",
       "      <td>...</td>\n",
       "      <td>...</td>\n",
       "    </tr>\n",
       "    <tr>\n",
       "      <th>576</th>\n",
       "      <td>0</td>\n",
       "      <td>0</td>\n",
       "      <td>0</td>\n",
       "      <td>0</td>\n",
       "      <td>1</td>\n",
       "      <td>0</td>\n",
       "      <td>0</td>\n",
       "      <td>0</td>\n",
       "      <td>0</td>\n",
       "      <td>0</td>\n",
       "      <td>0</td>\n",
       "      <td>0</td>\n",
       "    </tr>\n",
       "    <tr>\n",
       "      <th>577</th>\n",
       "      <td>0</td>\n",
       "      <td>0</td>\n",
       "      <td>0</td>\n",
       "      <td>0</td>\n",
       "      <td>0</td>\n",
       "      <td>0</td>\n",
       "      <td>1</td>\n",
       "      <td>0</td>\n",
       "      <td>0</td>\n",
       "      <td>0</td>\n",
       "      <td>0</td>\n",
       "      <td>0</td>\n",
       "    </tr>\n",
       "    <tr>\n",
       "      <th>578</th>\n",
       "      <td>0</td>\n",
       "      <td>0</td>\n",
       "      <td>0</td>\n",
       "      <td>0</td>\n",
       "      <td>0</td>\n",
       "      <td>0</td>\n",
       "      <td>0</td>\n",
       "      <td>0</td>\n",
       "      <td>0</td>\n",
       "      <td>0</td>\n",
       "      <td>1</td>\n",
       "      <td>0</td>\n",
       "    </tr>\n",
       "    <tr>\n",
       "      <th>579</th>\n",
       "      <td>0</td>\n",
       "      <td>1</td>\n",
       "      <td>0</td>\n",
       "      <td>0</td>\n",
       "      <td>0</td>\n",
       "      <td>0</td>\n",
       "      <td>0</td>\n",
       "      <td>0</td>\n",
       "      <td>0</td>\n",
       "      <td>0</td>\n",
       "      <td>0</td>\n",
       "      <td>0</td>\n",
       "    </tr>\n",
       "    <tr>\n",
       "      <th>580</th>\n",
       "      <td>0</td>\n",
       "      <td>0</td>\n",
       "      <td>0</td>\n",
       "      <td>0</td>\n",
       "      <td>0</td>\n",
       "      <td>0</td>\n",
       "      <td>0</td>\n",
       "      <td>0</td>\n",
       "      <td>0</td>\n",
       "      <td>1</td>\n",
       "      <td>0</td>\n",
       "      <td>0</td>\n",
       "    </tr>\n",
       "  </tbody>\n",
       "</table>\n",
       "<p>570 rows × 12 columns</p>\n",
       "</div>"
      ],
      "text/plain": [
       "     Cambridge School of the Creative Industries   School of Allied Health   \\\n",
       "0                                               0                         0   \n",
       "1                                               0                         0   \n",
       "2                                               1                         0   \n",
       "3                                               0                         0   \n",
       "4                                               0                         0   \n",
       "..                                            ...                       ...   \n",
       "576                                             0                         0   \n",
       "577                                             0                         0   \n",
       "578                                             0                         0   \n",
       "579                                             0                         1   \n",
       "580                                             0                         0   \n",
       "\n",
       "     School of Computing and Information Sciences   \\\n",
       "0                                                0   \n",
       "1                                                0   \n",
       "2                                                0   \n",
       "3                                                0   \n",
       "4                                                0   \n",
       "..                                             ...   \n",
       "576                                              0   \n",
       "577                                              0   \n",
       "578                                              0   \n",
       "579                                              0   \n",
       "580                                              0   \n",
       "\n",
       "     School of Economics Finance and Law   \\\n",
       "0                                       0   \n",
       "1                                       0   \n",
       "2                                       0   \n",
       "3                                       0   \n",
       "4                                       0   \n",
       "..                                    ...   \n",
       "576                                     0   \n",
       "577                                     0   \n",
       "578                                     0   \n",
       "579                                     0   \n",
       "580                                     0   \n",
       "\n",
       "     School of Education and Social Care   \\\n",
       "0                                       0   \n",
       "1                                       0   \n",
       "2                                       0   \n",
       "3                                       1   \n",
       "4                                       0   \n",
       "..                                    ...   \n",
       "576                                     1   \n",
       "577                                     0   \n",
       "578                                     0   \n",
       "579                                     0   \n",
       "580                                     0   \n",
       "\n",
       "     School of Engineering and the Built Environment   \\\n",
       "0                                                   0   \n",
       "1                                                   0   \n",
       "2                                                   0   \n",
       "3                                                   0   \n",
       "4                                                   0   \n",
       "..                                                ...   \n",
       "576                                                 0   \n",
       "577                                                 0   \n",
       "578                                                 0   \n",
       "579                                                 0   \n",
       "580                                                 0   \n",
       "\n",
       "     School of Humanities and Social Sciences   School of Life Sciences   \\\n",
       "0                                            0                         0   \n",
       "1                                            0                         0   \n",
       "2                                            0                         0   \n",
       "3                                            0                         0   \n",
       "4                                            0                         0   \n",
       "..                                         ...                       ...   \n",
       "576                                          0                         0   \n",
       "577                                          1                         0   \n",
       "578                                          0                         0   \n",
       "579                                          0                         0   \n",
       "580                                          0                         0   \n",
       "\n",
       "     School of Management   School of Medicine  \\\n",
       "0                        1                   0   \n",
       "1                        1                   0   \n",
       "2                        0                   0   \n",
       "3                        0                   0   \n",
       "4                        0                   0   \n",
       "..                     ...                 ...   \n",
       "576                      0                   0   \n",
       "577                      0                   0   \n",
       "578                      0                   0   \n",
       "579                      0                   0   \n",
       "580                      0                   1   \n",
       "\n",
       "     School of Nursing and Midwifery    \\\n",
       "0                                    0   \n",
       "1                                    0   \n",
       "2                                    0   \n",
       "3                                    0   \n",
       "4                                    1   \n",
       "..                                 ...   \n",
       "576                                  0   \n",
       "577                                  0   \n",
       "578                                  1   \n",
       "579                                  0   \n",
       "580                                  0   \n",
       "\n",
       "     School of Psychology and Sport Science   \n",
       "0                                          0  \n",
       "1                                          0  \n",
       "2                                          0  \n",
       "3                                          0  \n",
       "4                                          0  \n",
       "..                                       ...  \n",
       "576                                        0  \n",
       "577                                        0  \n",
       "578                                        0  \n",
       "579                                        0  \n",
       "580                                        0  \n",
       "\n",
       "[570 rows x 12 columns]"
      ]
     },
     "execution_count": 458,
     "metadata": {},
     "output_type": "execute_result"
    }
   ],
   "source": [
    "school"
   ]
  },
  {
   "cell_type": "code",
   "execution_count": 459,
   "id": "93e842b4",
   "metadata": {},
   "outputs": [
    {
     "data": {
      "text/plain": [
       "Int64Index([  0,   1,  20,  21,  35,  37,  60,  71, 130, 145, 185, 213, 216,\n",
       "            245, 265, 285, 388, 397, 437, 448, 468, 485, 500, 506, 537, 550,\n",
       "            564, 575],\n",
       "           dtype='int64')"
      ]
     },
     "execution_count": 459,
     "metadata": {},
     "output_type": "execute_result"
    }
   ],
   "source": [
    "index_school = school[school['School of Management '] == 1].index\n",
    "index_school"
   ]
  },
  {
   "cell_type": "code",
   "execution_count": 460,
   "id": "4a7a935d",
   "metadata": {},
   "outputs": [],
   "source": [
    "labeled_df1 = pd.concat((labeled_df1, school), axis=1)"
   ]
  },
  {
   "cell_type": "code",
   "execution_count": 461,
   "id": "2af1cf5b",
   "metadata": {},
   "outputs": [],
   "source": [
    "#add campus to this dataframe\n",
    "#encode campus column\n",
    "campus1 = pd.get_dummies(labeled_df1[\"campus\"], drop_first = True)"
   ]
  },
  {
   "cell_type": "code",
   "execution_count": 462,
   "id": "933e7da8",
   "metadata": {},
   "outputs": [],
   "source": [
    "labeled_df1 = pd.concat((labeled_df1, campus1), axis=1)"
   ]
  },
  {
   "cell_type": "code",
   "execution_count": 463,
   "id": "56295318",
   "metadata": {},
   "outputs": [
    {
     "data": {
      "text/plain": [
       "570"
      ]
     },
     "execution_count": 463,
     "metadata": {},
     "output_type": "execute_result"
    }
   ],
   "source": [
    "len(labeled_df1)"
   ]
  },
  {
   "cell_type": "code",
   "execution_count": 464,
   "id": "78b26668",
   "metadata": {},
   "outputs": [],
   "source": [
    "labeled_df1 = labeled_df1.rename(columns={labeled_df1.columns[0]:'year'})"
   ]
  },
  {
   "cell_type": "code",
   "execution_count": 465,
   "id": "64c4abf4",
   "metadata": {},
   "outputs": [],
   "source": [
    "#fill first column with year\n",
    "labeled_df1['year'] = '2021-2022'"
   ]
  },
  {
   "cell_type": "code",
   "execution_count": 466,
   "id": "a2a13453",
   "metadata": {},
   "outputs": [
    {
     "data": {
      "text/plain": [
       "['year',\n",
       " 'campus',\n",
       " 'department',\n",
       " 'course',\n",
       " 'id',\n",
       " 'name',\n",
       " 'tw2',\n",
       " 'tw8',\n",
       " 'tw11',\n",
       " 'overall',\n",
       " 'gender',\n",
       " 'dob',\n",
       " 'ethnicity',\n",
       " 'nationality',\n",
       " 'household_income',\n",
       " 'disab',\n",
       " 'school',\n",
       " 'text',\n",
       " 'chat',\n",
       " 'formality',\n",
       " 'helpfulness',\n",
       " 'warmth',\n",
       " 'age',\n",
       " 'gender_encoded',\n",
       " 'Cambridge School of the Creative Industries ',\n",
       " 'School of Allied Health ',\n",
       " 'School of Computing and Information Sciences ',\n",
       " 'School of Economics Finance and Law ',\n",
       " 'School of Education and Social Care ',\n",
       " 'School of Engineering and the Built Environment ',\n",
       " 'School of Humanities and Social Sciences ',\n",
       " 'School of Life Sciences ',\n",
       " 'School of Management ',\n",
       " 'School of Medicine',\n",
       " 'School of Nursing and Midwifery  ',\n",
       " 'School of Psychology and Sport Science ',\n",
       " 'Chelmsford',\n",
       " 'Peterborough']"
      ]
     },
     "execution_count": 466,
     "metadata": {},
     "output_type": "execute_result"
    }
   ],
   "source": [
    "list(labeled_df1.columns)"
   ]
  },
  {
   "cell_type": "code",
   "execution_count": 467,
   "id": "868c3855",
   "metadata": {},
   "outputs": [],
   "source": [
    "assoc_df = labeled_df1[['age','gender_encoded', 'Chelmsford', 'Peterborough', \n",
    "                        'School of Allied Health ', \n",
    "                'School of Economics Finance and Law ', 'School of Education and Social Care ',\n",
    "                'School of Humanities and Social Sciences ','School of Life Sciences ','School of Management ',\n",
    "                'School of Medicine','School of Nursing and Midwifery  ','School of Psychology and Sport Science ',\n",
    "                'formality','helpfulness','warmth','overall']].copy()"
   ]
  },
  {
   "cell_type": "code",
   "execution_count": 468,
   "id": "765a6529",
   "metadata": {},
   "outputs": [
    {
     "data": {
      "text/html": [
       "<div>\n",
       "<style scoped>\n",
       "    .dataframe tbody tr th:only-of-type {\n",
       "        vertical-align: middle;\n",
       "    }\n",
       "\n",
       "    .dataframe tbody tr th {\n",
       "        vertical-align: top;\n",
       "    }\n",
       "\n",
       "    .dataframe thead th {\n",
       "        text-align: right;\n",
       "    }\n",
       "</style>\n",
       "<table border=\"1\" class=\"dataframe\">\n",
       "  <thead>\n",
       "    <tr style=\"text-align: right;\">\n",
       "      <th></th>\n",
       "      <th>age</th>\n",
       "      <th>gender_encoded</th>\n",
       "      <th>Chelmsford</th>\n",
       "      <th>Peterborough</th>\n",
       "      <th>School of Allied Health</th>\n",
       "      <th>School of Economics Finance and Law</th>\n",
       "      <th>School of Education and Social Care</th>\n",
       "      <th>School of Humanities and Social Sciences</th>\n",
       "      <th>School of Life Sciences</th>\n",
       "      <th>School of Management</th>\n",
       "      <th>School of Medicine</th>\n",
       "      <th>School of Nursing and Midwifery</th>\n",
       "      <th>School of Psychology and Sport Science</th>\n",
       "      <th>formality</th>\n",
       "      <th>helpfulness</th>\n",
       "      <th>warmth</th>\n",
       "      <th>overall</th>\n",
       "    </tr>\n",
       "  </thead>\n",
       "  <tbody>\n",
       "    <tr>\n",
       "      <th>0</th>\n",
       "      <td>22</td>\n",
       "      <td>1.0</td>\n",
       "      <td>0</td>\n",
       "      <td>0</td>\n",
       "      <td>0</td>\n",
       "      <td>0</td>\n",
       "      <td>0</td>\n",
       "      <td>0</td>\n",
       "      <td>0</td>\n",
       "      <td>1</td>\n",
       "      <td>0</td>\n",
       "      <td>0</td>\n",
       "      <td>0</td>\n",
       "      <td>2</td>\n",
       "      <td>3</td>\n",
       "      <td>3</td>\n",
       "      <td>4.0</td>\n",
       "    </tr>\n",
       "    <tr>\n",
       "      <th>1</th>\n",
       "      <td>21</td>\n",
       "      <td>0.0</td>\n",
       "      <td>1</td>\n",
       "      <td>0</td>\n",
       "      <td>0</td>\n",
       "      <td>0</td>\n",
       "      <td>0</td>\n",
       "      <td>0</td>\n",
       "      <td>0</td>\n",
       "      <td>1</td>\n",
       "      <td>0</td>\n",
       "      <td>0</td>\n",
       "      <td>0</td>\n",
       "      <td>2</td>\n",
       "      <td>1</td>\n",
       "      <td>2</td>\n",
       "      <td>4.0</td>\n",
       "    </tr>\n",
       "    <tr>\n",
       "      <th>2</th>\n",
       "      <td>21</td>\n",
       "      <td>1.0</td>\n",
       "      <td>0</td>\n",
       "      <td>0</td>\n",
       "      <td>0</td>\n",
       "      <td>0</td>\n",
       "      <td>0</td>\n",
       "      <td>0</td>\n",
       "      <td>0</td>\n",
       "      <td>0</td>\n",
       "      <td>0</td>\n",
       "      <td>0</td>\n",
       "      <td>0</td>\n",
       "      <td>1</td>\n",
       "      <td>3</td>\n",
       "      <td>3</td>\n",
       "      <td>1.0</td>\n",
       "    </tr>\n",
       "    <tr>\n",
       "      <th>3</th>\n",
       "      <td>21</td>\n",
       "      <td>1.0</td>\n",
       "      <td>0</td>\n",
       "      <td>1</td>\n",
       "      <td>0</td>\n",
       "      <td>0</td>\n",
       "      <td>1</td>\n",
       "      <td>0</td>\n",
       "      <td>0</td>\n",
       "      <td>0</td>\n",
       "      <td>0</td>\n",
       "      <td>0</td>\n",
       "      <td>0</td>\n",
       "      <td>1</td>\n",
       "      <td>3</td>\n",
       "      <td>3</td>\n",
       "      <td>2.0</td>\n",
       "    </tr>\n",
       "    <tr>\n",
       "      <th>4</th>\n",
       "      <td>30</td>\n",
       "      <td>1.0</td>\n",
       "      <td>1</td>\n",
       "      <td>0</td>\n",
       "      <td>0</td>\n",
       "      <td>0</td>\n",
       "      <td>0</td>\n",
       "      <td>0</td>\n",
       "      <td>0</td>\n",
       "      <td>0</td>\n",
       "      <td>0</td>\n",
       "      <td>1</td>\n",
       "      <td>0</td>\n",
       "      <td>1</td>\n",
       "      <td>3</td>\n",
       "      <td>3</td>\n",
       "      <td>2.0</td>\n",
       "    </tr>\n",
       "  </tbody>\n",
       "</table>\n",
       "</div>"
      ],
      "text/plain": [
       "   age  gender_encoded  Chelmsford  Peterborough  School of Allied Health   \\\n",
       "0   22             1.0           0             0                         0   \n",
       "1   21             0.0           1             0                         0   \n",
       "2   21             1.0           0             0                         0   \n",
       "3   21             1.0           0             1                         0   \n",
       "4   30             1.0           1             0                         0   \n",
       "\n",
       "   School of Economics Finance and Law   School of Education and Social Care   \\\n",
       "0                                     0                                     0   \n",
       "1                                     0                                     0   \n",
       "2                                     0                                     0   \n",
       "3                                     0                                     1   \n",
       "4                                     0                                     0   \n",
       "\n",
       "   School of Humanities and Social Sciences   School of Life Sciences   \\\n",
       "0                                          0                         0   \n",
       "1                                          0                         0   \n",
       "2                                          0                         0   \n",
       "3                                          0                         0   \n",
       "4                                          0                         0   \n",
       "\n",
       "   School of Management   School of Medicine  \\\n",
       "0                      1                   0   \n",
       "1                      1                   0   \n",
       "2                      0                   0   \n",
       "3                      0                   0   \n",
       "4                      0                   0   \n",
       "\n",
       "   School of Nursing and Midwifery    School of Psychology and Sport Science   \\\n",
       "0                                  0                                        0   \n",
       "1                                  0                                        0   \n",
       "2                                  0                                        0   \n",
       "3                                  0                                        0   \n",
       "4                                  1                                        0   \n",
       "\n",
       "  formality helpfulness warmth  overall  \n",
       "0         2           3      3      4.0  \n",
       "1         2           1      2      4.0  \n",
       "2         1           3      3      1.0  \n",
       "3         1           3      3      2.0  \n",
       "4         1           3      3      2.0  "
      ]
     },
     "execution_count": 468,
     "metadata": {},
     "output_type": "execute_result"
    }
   ],
   "source": [
    "assoc_df.head()"
   ]
  },
  {
   "cell_type": "code",
   "execution_count": 469,
   "id": "e2dd0dfc",
   "metadata": {},
   "outputs": [
    {
     "data": {
      "text/plain": [
       "pandas.core.frame.DataFrame"
      ]
     },
     "execution_count": 469,
     "metadata": {},
     "output_type": "execute_result"
    }
   ],
   "source": [
    "type(assoc_df)"
   ]
  },
  {
   "cell_type": "code",
   "execution_count": 470,
   "id": "5ace002b",
   "metadata": {},
   "outputs": [
    {
     "data": {
      "text/plain": [
       "Int64Index([462], dtype='int64')"
      ]
     },
     "execution_count": 470,
     "metadata": {},
     "output_type": "execute_result"
    }
   ],
   "source": [
    "index_names = assoc_df[ assoc_df['formality'] == \" \"].index\n",
    "index_names\n",
    "# drop these row indexes\n",
    "# from dataFrame\n",
    "#assoc_df = assoc_df.drop(index_names, inplace = True)\n"
   ]
  },
  {
   "cell_type": "code",
   "execution_count": 471,
   "id": "da197c34",
   "metadata": {},
   "outputs": [],
   "source": [
    "#drop all rows where there is an empty formality column value\n",
    "assoc_df.drop(assoc_df.index[assoc_df['formality'] == \" \"], inplace = True)"
   ]
  },
  {
   "cell_type": "code",
   "execution_count": 472,
   "id": "c5ed8da4",
   "metadata": {},
   "outputs": [],
   "source": [
    "assoc_df['formality'] = pd.to_numeric(assoc_df['formality'])"
   ]
  },
  {
   "cell_type": "code",
   "execution_count": 473,
   "id": "999e4653",
   "metadata": {},
   "outputs": [],
   "source": [
    "assoc_df['helpfulness'] = pd.to_numeric(assoc_df['helpfulness'])"
   ]
  },
  {
   "cell_type": "code",
   "execution_count": 474,
   "id": "0938286e",
   "metadata": {},
   "outputs": [],
   "source": [
    "assoc_df['warmth'] = pd.to_numeric(assoc_df['warmth'])"
   ]
  },
  {
   "cell_type": "code",
   "execution_count": 475,
   "id": "9e0f8ebc",
   "metadata": {},
   "outputs": [],
   "source": [
    "assoc_df['School of Management '] = pd.to_numeric(assoc_df['School of Management '])"
   ]
  },
  {
   "cell_type": "code",
   "execution_count": 476,
   "id": "5612e62f",
   "metadata": {},
   "outputs": [
    {
     "data": {
      "text/plain": [
       "570"
      ]
     },
     "execution_count": 476,
     "metadata": {},
     "output_type": "execute_result"
    }
   ],
   "source": [
    "len(labeled_df1)"
   ]
  },
  {
   "cell_type": "code",
   "execution_count": 477,
   "id": "6595ec8e",
   "metadata": {},
   "outputs": [
    {
     "data": {
      "text/plain": [
       "False"
      ]
     },
     "execution_count": 477,
     "metadata": {},
     "output_type": "execute_result"
    }
   ],
   "source": [
    "assoc_df['School of Management '].isnull().any()"
   ]
  },
  {
   "cell_type": "code",
   "execution_count": 478,
   "id": "f88a3f1a",
   "metadata": {},
   "outputs": [
    {
     "data": {
      "text/plain": [
       "age                                         -0.047557\n",
       "gender_encoded                              -0.139305\n",
       "Chelmsford                                  -0.013773\n",
       "Peterborough                                -0.086662\n",
       "School of Allied Health                      0.009071\n",
       "School of Economics Finance and Law          0.033671\n",
       "School of Education and Social Care         -0.054065\n",
       "School of Humanities and Social Sciences    -0.049137\n",
       "School of Life Sciences                      0.029943\n",
       "School of Management                         0.019505\n",
       "School of Medicine                          -0.021725\n",
       "School of Nursing and Midwifery             -0.019899\n",
       "School of Psychology and Sport Science       0.052270\n",
       "formality                                   -0.008926\n",
       "helpfulness                                 -0.405452\n",
       "warmth                                      -0.376114\n",
       "overall                                      1.000000\n",
       "Name: overall, dtype: float64"
      ]
     },
     "execution_count": 478,
     "metadata": {},
     "output_type": "execute_result"
    }
   ],
   "source": [
    "assoc_df.corr()['overall']"
   ]
  },
  {
   "cell_type": "code",
   "execution_count": 479,
   "id": "f5b76953",
   "metadata": {},
   "outputs": [
    {
     "data": {
      "text/plain": [
       "<AxesSubplot:>"
      ]
     },
     "execution_count": 479,
     "metadata": {},
     "output_type": "execute_result"
    },
    {
     "data": {
      "image/png": "[encoded data removed]",
      "text/plain": [
       "<Figure size 432x288 with 2 Axes>"
      ]
     },
     "metadata": {
      "needs_background": "light"
     },
     "output_type": "display_data"
    }
   ],
   "source": [
    "sns.heatmap(assoc_df.corr())"
   ]
  },
  {
   "cell_type": "code",
   "execution_count": 480,
   "id": "e39d6fb6",
   "metadata": {},
   "outputs": [
    {
     "data": {
      "image/png": "[encoded data removed]",
      "text/plain": [
       "<Figure size 1152x432 with 2 Axes>"
      ]
     },
     "metadata": {
      "needs_background": "light"
     },
     "output_type": "display_data"
    }
   ],
   "source": [
    "plt.figure(figsize=(16, 6))\n",
    "# Set the range of values to be displayed on the colormap from -1 to 1, \n",
    "#and set the annotation to True to display the correlation values on the heatmap.\n",
    "heatmap = sns.heatmap(assoc_df.corr(), vmin=-1, vmax=1, annot=True)\n",
    "# Give a title to the heatmap. Pad defines the distance of the title from the top of the heatmap.\n",
    "heatmap.set_title('Correlation Heatmap', fontdict={'fontsize':12}, pad=12);"
   ]
  },
  {
   "cell_type": "code",
   "execution_count": 481,
   "id": "e8215ab9",
   "metadata": {},
   "outputs": [
    {
     "data": {
      "text/plain": [
       "age                                          0\n",
       "gender_encoded                               7\n",
       "Chelmsford                                   0\n",
       "Peterborough                                 0\n",
       "School of Allied Health                      0\n",
       "School of Economics Finance and Law          0\n",
       "School of Education and Social Care          0\n",
       "School of Humanities and Social Sciences     0\n",
       "School of Life Sciences                      0\n",
       "School of Management                         0\n",
       "School of Medicine                           0\n",
       "School of Nursing and Midwifery              0\n",
       "School of Psychology and Sport Science       0\n",
       "formality                                    0\n",
       "helpfulness                                  0\n",
       "warmth                                       0\n",
       "overall                                      7\n",
       "dtype: int64"
      ]
     },
     "execution_count": 481,
     "metadata": {},
     "output_type": "execute_result"
    }
   ],
   "source": [
    "#find nulls in final data frame\n",
    "assoc_df.isnull().sum(axis = 0)"
   ]
  },
  {
   "cell_type": "code",
   "execution_count": 482,
   "id": "34c261ff",
   "metadata": {},
   "outputs": [],
   "source": [
    "assoc_df = assoc_df.dropna(subset=['overall'])"
   ]
  },
  {
   "cell_type": "code",
   "execution_count": 483,
   "id": "a3c5f771",
   "metadata": {},
   "outputs": [
    {
     "data": {
      "text/plain": [
       "age                                          0\n",
       "gender_encoded                               0\n",
       "Chelmsford                                   0\n",
       "Peterborough                                 0\n",
       "School of Allied Health                      0\n",
       "School of Economics Finance and Law          0\n",
       "School of Education and Social Care          0\n",
       "School of Humanities and Social Sciences     0\n",
       "School of Life Sciences                      0\n",
       "School of Management                         0\n",
       "School of Medicine                           0\n",
       "School of Nursing and Midwifery              0\n",
       "School of Psychology and Sport Science       0\n",
       "formality                                    0\n",
       "helpfulness                                  0\n",
       "warmth                                       0\n",
       "overall                                      0\n",
       "dtype: int64"
      ]
     },
     "execution_count": 483,
     "metadata": {},
     "output_type": "execute_result"
    }
   ],
   "source": [
    "#check for nulls now, YAY\n",
    "assoc_df.isnull().sum(axis = 0)"
   ]
  },
  {
   "cell_type": "code",
   "execution_count": 484,
   "id": "f7947244",
   "metadata": {},
   "outputs": [],
   "source": [
    "#apply mulpiple linear regression\n",
    "X = assoc_df[['age', 'gender_encoded', 'Chelmsford', 'Peterborough', \n",
    "                        'School of Allied Health ', \n",
    "                'School of Economics Finance and Law ', 'School of Education and Social Care ',\n",
    "                'School of Humanities and Social Sciences ','School of Life Sciences ','School of Management ',\n",
    "                'School of Medicine','School of Nursing and Midwifery  ','School of Psychology and Sport Science ',\n",
    "                'formality','helpfulness','warmth']]\n",
    "\n",
    "y = assoc_df['overall']"
   ]
  },
  {
   "cell_type": "code",
   "execution_count": 485,
   "id": "85d9fde2",
   "metadata": {},
   "outputs": [
    {
     "data": {
      "text/html": [
       "<div>\n",
       "<style scoped>\n",
       "    .dataframe tbody tr th:only-of-type {\n",
       "        vertical-align: middle;\n",
       "    }\n",
       "\n",
       "    .dataframe tbody tr th {\n",
       "        vertical-align: top;\n",
       "    }\n",
       "\n",
       "    .dataframe thead th {\n",
       "        text-align: right;\n",
       "    }\n",
       "</style>\n",
       "<table border=\"1\" class=\"dataframe\">\n",
       "  <thead>\n",
       "    <tr style=\"text-align: right;\">\n",
       "      <th></th>\n",
       "      <th>age</th>\n",
       "      <th>gender_encoded</th>\n",
       "      <th>Chelmsford</th>\n",
       "      <th>Peterborough</th>\n",
       "      <th>School of Allied Health</th>\n",
       "      <th>School of Economics Finance and Law</th>\n",
       "      <th>School of Education and Social Care</th>\n",
       "      <th>School of Humanities and Social Sciences</th>\n",
       "      <th>School of Life Sciences</th>\n",
       "      <th>School of Management</th>\n",
       "      <th>School of Medicine</th>\n",
       "      <th>School of Nursing and Midwifery</th>\n",
       "      <th>School of Psychology and Sport Science</th>\n",
       "      <th>formality</th>\n",
       "      <th>helpfulness</th>\n",
       "      <th>warmth</th>\n",
       "    </tr>\n",
       "  </thead>\n",
       "  <tbody>\n",
       "    <tr>\n",
       "      <th>0</th>\n",
       "      <td>22</td>\n",
       "      <td>1.0</td>\n",
       "      <td>0</td>\n",
       "      <td>0</td>\n",
       "      <td>0</td>\n",
       "      <td>0</td>\n",
       "      <td>0</td>\n",
       "      <td>0</td>\n",
       "      <td>0</td>\n",
       "      <td>1</td>\n",
       "      <td>0</td>\n",
       "      <td>0</td>\n",
       "      <td>0</td>\n",
       "      <td>2</td>\n",
       "      <td>3</td>\n",
       "      <td>3</td>\n",
       "    </tr>\n",
       "    <tr>\n",
       "      <th>1</th>\n",
       "      <td>21</td>\n",
       "      <td>0.0</td>\n",
       "      <td>1</td>\n",
       "      <td>0</td>\n",
       "      <td>0</td>\n",
       "      <td>0</td>\n",
       "      <td>0</td>\n",
       "      <td>0</td>\n",
       "      <td>0</td>\n",
       "      <td>1</td>\n",
       "      <td>0</td>\n",
       "      <td>0</td>\n",
       "      <td>0</td>\n",
       "      <td>2</td>\n",
       "      <td>1</td>\n",
       "      <td>2</td>\n",
       "    </tr>\n",
       "    <tr>\n",
       "      <th>2</th>\n",
       "      <td>21</td>\n",
       "      <td>1.0</td>\n",
       "      <td>0</td>\n",
       "      <td>0</td>\n",
       "      <td>0</td>\n",
       "      <td>0</td>\n",
       "      <td>0</td>\n",
       "      <td>0</td>\n",
       "      <td>0</td>\n",
       "      <td>0</td>\n",
       "      <td>0</td>\n",
       "      <td>0</td>\n",
       "      <td>0</td>\n",
       "      <td>1</td>\n",
       "      <td>3</td>\n",
       "      <td>3</td>\n",
       "    </tr>\n",
       "    <tr>\n",
       "      <th>3</th>\n",
       "      <td>21</td>\n",
       "      <td>1.0</td>\n",
       "      <td>0</td>\n",
       "      <td>1</td>\n",
       "      <td>0</td>\n",
       "      <td>0</td>\n",
       "      <td>1</td>\n",
       "      <td>0</td>\n",
       "      <td>0</td>\n",
       "      <td>0</td>\n",
       "      <td>0</td>\n",
       "      <td>0</td>\n",
       "      <td>0</td>\n",
       "      <td>1</td>\n",
       "      <td>3</td>\n",
       "      <td>3</td>\n",
       "    </tr>\n",
       "    <tr>\n",
       "      <th>4</th>\n",
       "      <td>30</td>\n",
       "      <td>1.0</td>\n",
       "      <td>1</td>\n",
       "      <td>0</td>\n",
       "      <td>0</td>\n",
       "      <td>0</td>\n",
       "      <td>0</td>\n",
       "      <td>0</td>\n",
       "      <td>0</td>\n",
       "      <td>0</td>\n",
       "      <td>0</td>\n",
       "      <td>1</td>\n",
       "      <td>0</td>\n",
       "      <td>1</td>\n",
       "      <td>3</td>\n",
       "      <td>3</td>\n",
       "    </tr>\n",
       "    <tr>\n",
       "      <th>...</th>\n",
       "      <td>...</td>\n",
       "      <td>...</td>\n",
       "      <td>...</td>\n",
       "      <td>...</td>\n",
       "      <td>...</td>\n",
       "      <td>...</td>\n",
       "      <td>...</td>\n",
       "      <td>...</td>\n",
       "      <td>...</td>\n",
       "      <td>...</td>\n",
       "      <td>...</td>\n",
       "      <td>...</td>\n",
       "      <td>...</td>\n",
       "      <td>...</td>\n",
       "      <td>...</td>\n",
       "      <td>...</td>\n",
       "    </tr>\n",
       "    <tr>\n",
       "      <th>576</th>\n",
       "      <td>22</td>\n",
       "      <td>1.0</td>\n",
       "      <td>1</td>\n",
       "      <td>0</td>\n",
       "      <td>0</td>\n",
       "      <td>0</td>\n",
       "      <td>1</td>\n",
       "      <td>0</td>\n",
       "      <td>0</td>\n",
       "      <td>0</td>\n",
       "      <td>0</td>\n",
       "      <td>0</td>\n",
       "      <td>0</td>\n",
       "      <td>2</td>\n",
       "      <td>2</td>\n",
       "      <td>3</td>\n",
       "    </tr>\n",
       "    <tr>\n",
       "      <th>577</th>\n",
       "      <td>21</td>\n",
       "      <td>1.0</td>\n",
       "      <td>0</td>\n",
       "      <td>0</td>\n",
       "      <td>0</td>\n",
       "      <td>0</td>\n",
       "      <td>0</td>\n",
       "      <td>1</td>\n",
       "      <td>0</td>\n",
       "      <td>0</td>\n",
       "      <td>0</td>\n",
       "      <td>0</td>\n",
       "      <td>0</td>\n",
       "      <td>2</td>\n",
       "      <td>1</td>\n",
       "      <td>1</td>\n",
       "    </tr>\n",
       "    <tr>\n",
       "      <th>578</th>\n",
       "      <td>27</td>\n",
       "      <td>1.0</td>\n",
       "      <td>0</td>\n",
       "      <td>0</td>\n",
       "      <td>0</td>\n",
       "      <td>0</td>\n",
       "      <td>0</td>\n",
       "      <td>0</td>\n",
       "      <td>0</td>\n",
       "      <td>0</td>\n",
       "      <td>0</td>\n",
       "      <td>1</td>\n",
       "      <td>0</td>\n",
       "      <td>2</td>\n",
       "      <td>3</td>\n",
       "      <td>3</td>\n",
       "    </tr>\n",
       "    <tr>\n",
       "      <th>579</th>\n",
       "      <td>23</td>\n",
       "      <td>1.0</td>\n",
       "      <td>1</td>\n",
       "      <td>0</td>\n",
       "      <td>1</td>\n",
       "      <td>0</td>\n",
       "      <td>0</td>\n",
       "      <td>0</td>\n",
       "      <td>0</td>\n",
       "      <td>0</td>\n",
       "      <td>0</td>\n",
       "      <td>0</td>\n",
       "      <td>0</td>\n",
       "      <td>2</td>\n",
       "      <td>3</td>\n",
       "      <td>3</td>\n",
       "    </tr>\n",
       "    <tr>\n",
       "      <th>580</th>\n",
       "      <td>22</td>\n",
       "      <td>1.0</td>\n",
       "      <td>1</td>\n",
       "      <td>0</td>\n",
       "      <td>0</td>\n",
       "      <td>0</td>\n",
       "      <td>0</td>\n",
       "      <td>0</td>\n",
       "      <td>0</td>\n",
       "      <td>0</td>\n",
       "      <td>1</td>\n",
       "      <td>0</td>\n",
       "      <td>0</td>\n",
       "      <td>2</td>\n",
       "      <td>3</td>\n",
       "      <td>3</td>\n",
       "    </tr>\n",
       "  </tbody>\n",
       "</table>\n",
       "<p>562 rows × 16 columns</p>\n",
       "</div>"
      ],
      "text/plain": [
       "     age  gender_encoded  Chelmsford  Peterborough  School of Allied Health   \\\n",
       "0     22             1.0           0             0                         0   \n",
       "1     21             0.0           1             0                         0   \n",
       "2     21             1.0           0             0                         0   \n",
       "3     21             1.0           0             1                         0   \n",
       "4     30             1.0           1             0                         0   \n",
       "..   ...             ...         ...           ...                       ...   \n",
       "576   22             1.0           1             0                         0   \n",
       "577   21             1.0           0             0                         0   \n",
       "578   27             1.0           0             0                         0   \n",
       "579   23             1.0           1             0                         1   \n",
       "580   22             1.0           1             0                         0   \n",
       "\n",
       "     School of Economics Finance and Law   \\\n",
       "0                                       0   \n",
       "1                                       0   \n",
       "2                                       0   \n",
       "3                                       0   \n",
       "4                                       0   \n",
       "..                                    ...   \n",
       "576                                     0   \n",
       "577                                     0   \n",
       "578                                     0   \n",
       "579                                     0   \n",
       "580                                     0   \n",
       "\n",
       "     School of Education and Social Care   \\\n",
       "0                                       0   \n",
       "1                                       0   \n",
       "2                                       0   \n",
       "3                                       1   \n",
       "4                                       0   \n",
       "..                                    ...   \n",
       "576                                     1   \n",
       "577                                     0   \n",
       "578                                     0   \n",
       "579                                     0   \n",
       "580                                     0   \n",
       "\n",
       "     School of Humanities and Social Sciences   School of Life Sciences   \\\n",
       "0                                            0                         0   \n",
       "1                                            0                         0   \n",
       "2                                            0                         0   \n",
       "3                                            0                         0   \n",
       "4                                            0                         0   \n",
       "..                                         ...                       ...   \n",
       "576                                          0                         0   \n",
       "577                                          1                         0   \n",
       "578                                          0                         0   \n",
       "579                                          0                         0   \n",
       "580                                          0                         0   \n",
       "\n",
       "     School of Management   School of Medicine  \\\n",
       "0                        1                   0   \n",
       "1                        1                   0   \n",
       "2                        0                   0   \n",
       "3                        0                   0   \n",
       "4                        0                   0   \n",
       "..                     ...                 ...   \n",
       "576                      0                   0   \n",
       "577                      0                   0   \n",
       "578                      0                   0   \n",
       "579                      0                   0   \n",
       "580                      0                   1   \n",
       "\n",
       "     School of Nursing and Midwifery    \\\n",
       "0                                    0   \n",
       "1                                    0   \n",
       "2                                    0   \n",
       "3                                    0   \n",
       "4                                    1   \n",
       "..                                 ...   \n",
       "576                                  0   \n",
       "577                                  0   \n",
       "578                                  1   \n",
       "579                                  0   \n",
       "580                                  0   \n",
       "\n",
       "     School of Psychology and Sport Science   formality  helpfulness  warmth  \n",
       "0                                          0          2            3       3  \n",
       "1                                          0          2            1       2  \n",
       "2                                          0          1            3       3  \n",
       "3                                          0          1            3       3  \n",
       "4                                          0          1            3       3  \n",
       "..                                       ...        ...          ...     ...  \n",
       "576                                        0          2            2       3  \n",
       "577                                        0          2            1       1  \n",
       "578                                        0          2            3       3  \n",
       "579                                        0          2            3       3  \n",
       "580                                        0          2            3       3  \n",
       "\n",
       "[562 rows x 16 columns]"
      ]
     },
     "execution_count": 485,
     "metadata": {},
     "output_type": "execute_result"
    }
   ],
   "source": [
    "X"
   ]
  },
  {
   "cell_type": "code",
   "execution_count": 486,
   "id": "9fe73492",
   "metadata": {},
   "outputs": [
    {
     "data": {
      "text/plain": [
       "0      4.0\n",
       "1      4.0\n",
       "2      1.0\n",
       "3      2.0\n",
       "4      2.0\n",
       "      ... \n",
       "576    3.0\n",
       "577    4.0\n",
       "578    1.0\n",
       "579    2.0\n",
       "580    3.0\n",
       "Name: overall, Length: 562, dtype: float64"
      ]
     },
     "execution_count": 486,
     "metadata": {},
     "output_type": "execute_result"
    }
   ],
   "source": [
    "y"
   ]
  },
  {
   "cell_type": "code",
   "execution_count": 487,
   "id": "6397bbb9",
   "metadata": {},
   "outputs": [
    {
     "data": {
      "text/plain": [
       "age                                          0\n",
       "gender_encoded                               0\n",
       "Chelmsford                                   0\n",
       "Peterborough                                 0\n",
       "School of Allied Health                      0\n",
       "School of Economics Finance and Law          0\n",
       "School of Education and Social Care          0\n",
       "School of Humanities and Social Sciences     0\n",
       "School of Life Sciences                      0\n",
       "School of Management                         0\n",
       "School of Medicine                           0\n",
       "School of Nursing and Midwifery              0\n",
       "School of Psychology and Sport Science       0\n",
       "formality                                    0\n",
       "helpfulness                                  0\n",
       "warmth                                       0\n",
       "dtype: int64"
      ]
     },
     "execution_count": 487,
     "metadata": {},
     "output_type": "execute_result"
    }
   ],
   "source": [
    "X.isnull().sum(axis = 0)\n"
   ]
  },
  {
   "cell_type": "code",
   "execution_count": 488,
   "id": "16734907",
   "metadata": {},
   "outputs": [
    {
     "data": {
      "text/plain": [
       "0"
      ]
     },
     "execution_count": 488,
     "metadata": {},
     "output_type": "execute_result"
    }
   ],
   "source": [
    "y.isnull().sum(axis = 0)"
   ]
  },
  {
   "cell_type": "code",
   "execution_count": 489,
   "id": "6141bf06",
   "metadata": {},
   "outputs": [
    {
     "name": "stdout",
     "output_type": "stream",
     "text": [
      "Intercept: \n",
      " 4.58525165940625\n",
      "Coefficients: \n",
      " [-0.01355425 -0.34713342  0.01612403 -0.30364616  0.16678922  0.10861382\n",
      " -0.03130741 -0.25009724  0.14470555  0.11758596 -0.14575528  0.16573625\n",
      "  0.18861813  0.17082231 -0.32699745 -0.30803028]\n"
     ]
    }
   ],
   "source": [
    "from sklearn import linear_model\n",
    "from sklearn.linear_model import LinearRegression\n",
    "\n",
    "regr = linear_model.LinearRegression()\n",
    "regr.fit(X, y)\n",
    "\n",
    "\n",
    "\n",
    "print('Intercept: \\n', regr.intercept_)\n",
    "print('Coefficients: \\n', regr.coef_)"
   ]
  },
  {
   "cell_type": "code",
   "execution_count": 490,
   "id": "69d3acca",
   "metadata": {},
   "outputs": [
    {
     "data": {
      "text/html": [
       "<div>\n",
       "<style scoped>\n",
       "    .dataframe tbody tr th:only-of-type {\n",
       "        vertical-align: middle;\n",
       "    }\n",
       "\n",
       "    .dataframe tbody tr th {\n",
       "        vertical-align: top;\n",
       "    }\n",
       "\n",
       "    .dataframe thead th {\n",
       "        text-align: right;\n",
       "    }\n",
       "</style>\n",
       "<table border=\"1\" class=\"dataframe\">\n",
       "  <thead>\n",
       "    <tr style=\"text-align: right;\">\n",
       "      <th></th>\n",
       "      <th>index</th>\n",
       "      <th>Coefficients</th>\n",
       "      <th>category</th>\n",
       "    </tr>\n",
       "  </thead>\n",
       "  <tbody>\n",
       "    <tr>\n",
       "      <th>0</th>\n",
       "      <td>12</td>\n",
       "      <td>0.188618</td>\n",
       "      <td>School of Psychology and Sport Science</td>\n",
       "    </tr>\n",
       "    <tr>\n",
       "      <th>1</th>\n",
       "      <td>13</td>\n",
       "      <td>0.170822</td>\n",
       "      <td>formality</td>\n",
       "    </tr>\n",
       "    <tr>\n",
       "      <th>2</th>\n",
       "      <td>4</td>\n",
       "      <td>0.166789</td>\n",
       "      <td>School of Allied Health</td>\n",
       "    </tr>\n",
       "    <tr>\n",
       "      <th>3</th>\n",
       "      <td>11</td>\n",
       "      <td>0.165736</td>\n",
       "      <td>School of Nursing and Midwifery</td>\n",
       "    </tr>\n",
       "    <tr>\n",
       "      <th>4</th>\n",
       "      <td>8</td>\n",
       "      <td>0.144706</td>\n",
       "      <td>School of Life Sciences</td>\n",
       "    </tr>\n",
       "    <tr>\n",
       "      <th>5</th>\n",
       "      <td>9</td>\n",
       "      <td>0.117586</td>\n",
       "      <td>School of Management</td>\n",
       "    </tr>\n",
       "    <tr>\n",
       "      <th>6</th>\n",
       "      <td>5</td>\n",
       "      <td>0.108614</td>\n",
       "      <td>School of Economics Finance and Law</td>\n",
       "    </tr>\n",
       "    <tr>\n",
       "      <th>7</th>\n",
       "      <td>2</td>\n",
       "      <td>0.016124</td>\n",
       "      <td>Chelmsford</td>\n",
       "    </tr>\n",
       "    <tr>\n",
       "      <th>8</th>\n",
       "      <td>0</td>\n",
       "      <td>-0.013554</td>\n",
       "      <td>age</td>\n",
       "    </tr>\n",
       "    <tr>\n",
       "      <th>9</th>\n",
       "      <td>6</td>\n",
       "      <td>-0.031307</td>\n",
       "      <td>School of Education and Social Care</td>\n",
       "    </tr>\n",
       "    <tr>\n",
       "      <th>10</th>\n",
       "      <td>10</td>\n",
       "      <td>-0.145755</td>\n",
       "      <td>School of Medicine</td>\n",
       "    </tr>\n",
       "    <tr>\n",
       "      <th>11</th>\n",
       "      <td>7</td>\n",
       "      <td>-0.250097</td>\n",
       "      <td>School of Humanities and Social Sciences</td>\n",
       "    </tr>\n",
       "    <tr>\n",
       "      <th>12</th>\n",
       "      <td>3</td>\n",
       "      <td>-0.303646</td>\n",
       "      <td>Peterborough</td>\n",
       "    </tr>\n",
       "    <tr>\n",
       "      <th>13</th>\n",
       "      <td>15</td>\n",
       "      <td>-0.308030</td>\n",
       "      <td>warmth</td>\n",
       "    </tr>\n",
       "    <tr>\n",
       "      <th>14</th>\n",
       "      <td>14</td>\n",
       "      <td>-0.326997</td>\n",
       "      <td>helpfulness</td>\n",
       "    </tr>\n",
       "    <tr>\n",
       "      <th>15</th>\n",
       "      <td>1</td>\n",
       "      <td>-0.347133</td>\n",
       "      <td>gender_encoded</td>\n",
       "    </tr>\n",
       "  </tbody>\n",
       "</table>\n",
       "</div>"
      ],
      "text/plain": [
       "    index  Coefficients                                   category\n",
       "0      12      0.188618    School of Psychology and Sport Science \n",
       "1      13      0.170822                                  formality\n",
       "2       4      0.166789                   School of Allied Health \n",
       "3      11      0.165736          School of Nursing and Midwifery  \n",
       "4       8      0.144706                   School of Life Sciences \n",
       "5       9      0.117586                      School of Management \n",
       "6       5      0.108614       School of Economics Finance and Law \n",
       "7       2      0.016124                                 Chelmsford\n",
       "8       0     -0.013554                                        age\n",
       "9       6     -0.031307       School of Education and Social Care \n",
       "10     10     -0.145755                         School of Medicine\n",
       "11      7     -0.250097  School of Humanities and Social Sciences \n",
       "12      3     -0.303646                               Peterborough\n",
       "13     15     -0.308030                                     warmth\n",
       "14     14     -0.326997                                helpfulness\n",
       "15      1     -0.347133                             gender_encoded"
      ]
     },
     "execution_count": 490,
     "metadata": {},
     "output_type": "execute_result"
    }
   ],
   "source": [
    "coeff = (pd.DataFrame({'Coefficients':regr.coef_, 'category':X.columns})\n",
    ".sort_values(by = 'Coefficients', ascending = False)\n",
    ".reset_index())\n",
    "\n",
    "coeff"
   ]
  },
  {
   "cell_type": "code",
   "execution_count": 491,
   "id": "52884e8e",
   "metadata": {},
   "outputs": [],
   "source": [
    "lm = LinearRegression()\n",
    "lm.fit(X,y)\n",
    "params = np.append(lm.intercept_,lm.coef_)\n",
    "predictions = lm.predict(X)\n",
    "\n",
    "#newX = pd.DataFrame({\"Constant\":np.ones(len(X))}).join(pd.DataFrame(X))\n",
    "newX = pd.DataFrame({\"Constant\":np.ones(len(X))}).join(pd.DataFrame(X.reset_index(drop=True)))\n",
    "MSE = (sum((y-predictions)**2))/(len(newX)-len(newX.columns))\n",
    "\n",
    "# Note if you don't want to use a DataFrame replace the two lines above with\n",
    "# newX = np.append(np.ones((len(X),1)), X, axis=1)\n",
    "# MSE = (sum((y-predictions)**2))/(len(newX)-len(newX[0]))\n",
    "\n",
    "var_b = MSE*(np.linalg.inv(np.dot(newX.T,newX)).diagonal())\n",
    "sd_b = np.sqrt(var_b)\n",
    "ts_b = params/ sd_b\n",
    "\n",
    "p_values = [2 * (1 - stats.t.cdf(np.abs(i), (len(newX) - len(newX.columns)))) for i in ts_b]\n",
    "\n",
    "sd_b = np.round(sd_b,3)\n",
    "ts_b = np.round(ts_b,3)\n",
    "p_values = np.round(p_values,7)\n",
    "params = np.round(params,4)\n",
    "\n",
    "myDF3 = pd.DataFrame()\n",
    "myDF3[\"Coefficients\"],myDF3[\"Standard Errors\"],myDF3[\"t values\"],myDF3[\"Probabilities\"] = [params,sd_b,ts_b,p_values]"
   ]
  },
  {
   "cell_type": "code",
   "execution_count": 492,
   "id": "be99e0db",
   "metadata": {},
   "outputs": [],
   "source": [
    "myDF3 = myDF3.sort_values([\"Coefficients\"], ascending=False)"
   ]
  },
  {
   "cell_type": "code",
   "execution_count": 493,
   "id": "366e4f67",
   "metadata": {},
   "outputs": [
    {
     "data": {
      "text/html": [
       "<div>\n",
       "<style scoped>\n",
       "    .dataframe tbody tr th:only-of-type {\n",
       "        vertical-align: middle;\n",
       "    }\n",
       "\n",
       "    .dataframe tbody tr th {\n",
       "        vertical-align: top;\n",
       "    }\n",
       "\n",
       "    .dataframe thead th {\n",
       "        text-align: right;\n",
       "    }\n",
       "</style>\n",
       "<table border=\"1\" class=\"dataframe\">\n",
       "  <thead>\n",
       "    <tr style=\"text-align: right;\">\n",
       "      <th></th>\n",
       "      <th>index</th>\n",
       "      <th>Coefficients</th>\n",
       "      <th>Standard Errors</th>\n",
       "      <th>t values</th>\n",
       "      <th>Probabilities</th>\n",
       "    </tr>\n",
       "  </thead>\n",
       "  <tbody>\n",
       "    <tr>\n",
       "      <th>0</th>\n",
       "      <td>13</td>\n",
       "      <td>0.1886</td>\n",
       "      <td>0.146</td>\n",
       "      <td>1.296</td>\n",
       "      <td>1.954974e-01</td>\n",
       "    </tr>\n",
       "    <tr>\n",
       "      <th>1</th>\n",
       "      <td>14</td>\n",
       "      <td>0.1708</td>\n",
       "      <td>0.067</td>\n",
       "      <td>2.535</td>\n",
       "      <td>1.151010e-02</td>\n",
       "    </tr>\n",
       "    <tr>\n",
       "      <th>2</th>\n",
       "      <td>5</td>\n",
       "      <td>0.1668</td>\n",
       "      <td>0.157</td>\n",
       "      <td>1.061</td>\n",
       "      <td>2.890163e-01</td>\n",
       "    </tr>\n",
       "    <tr>\n",
       "      <th>3</th>\n",
       "      <td>12</td>\n",
       "      <td>0.1657</td>\n",
       "      <td>0.132</td>\n",
       "      <td>1.254</td>\n",
       "      <td>2.104777e-01</td>\n",
       "    </tr>\n",
       "    <tr>\n",
       "      <th>4</th>\n",
       "      <td>9</td>\n",
       "      <td>0.1447</td>\n",
       "      <td>0.128</td>\n",
       "      <td>1.133</td>\n",
       "      <td>2.579048e-01</td>\n",
       "    </tr>\n",
       "    <tr>\n",
       "      <th>5</th>\n",
       "      <td>10</td>\n",
       "      <td>0.1176</td>\n",
       "      <td>0.175</td>\n",
       "      <td>0.672</td>\n",
       "      <td>5.017378e-01</td>\n",
       "    </tr>\n",
       "    <tr>\n",
       "      <th>6</th>\n",
       "      <td>6</td>\n",
       "      <td>0.1086</td>\n",
       "      <td>0.160</td>\n",
       "      <td>0.678</td>\n",
       "      <td>4.982895e-01</td>\n",
       "    </tr>\n",
       "    <tr>\n",
       "      <th>7</th>\n",
       "      <td>3</td>\n",
       "      <td>0.0161</td>\n",
       "      <td>0.096</td>\n",
       "      <td>0.168</td>\n",
       "      <td>8.666977e-01</td>\n",
       "    </tr>\n",
       "    <tr>\n",
       "      <th>8</th>\n",
       "      <td>1</td>\n",
       "      <td>-0.0136</td>\n",
       "      <td>0.005</td>\n",
       "      <td>-2.756</td>\n",
       "      <td>6.043900e-03</td>\n",
       "    </tr>\n",
       "    <tr>\n",
       "      <th>9</th>\n",
       "      <td>7</td>\n",
       "      <td>-0.0313</td>\n",
       "      <td>0.154</td>\n",
       "      <td>-0.203</td>\n",
       "      <td>8.392044e-01</td>\n",
       "    </tr>\n",
       "    <tr>\n",
       "      <th>10</th>\n",
       "      <td>11</td>\n",
       "      <td>-0.1458</td>\n",
       "      <td>0.197</td>\n",
       "      <td>-0.740</td>\n",
       "      <td>4.598202e-01</td>\n",
       "    </tr>\n",
       "    <tr>\n",
       "      <th>11</th>\n",
       "      <td>8</td>\n",
       "      <td>-0.2501</td>\n",
       "      <td>0.173</td>\n",
       "      <td>-1.447</td>\n",
       "      <td>1.485112e-01</td>\n",
       "    </tr>\n",
       "    <tr>\n",
       "      <th>12</th>\n",
       "      <td>4</td>\n",
       "      <td>-0.3036</td>\n",
       "      <td>0.229</td>\n",
       "      <td>-1.323</td>\n",
       "      <td>1.863279e-01</td>\n",
       "    </tr>\n",
       "    <tr>\n",
       "      <th>13</th>\n",
       "      <td>16</td>\n",
       "      <td>-0.3080</td>\n",
       "      <td>0.073</td>\n",
       "      <td>-4.215</td>\n",
       "      <td>2.920000e-05</td>\n",
       "    </tr>\n",
       "    <tr>\n",
       "      <th>14</th>\n",
       "      <td>15</td>\n",
       "      <td>-0.3270</td>\n",
       "      <td>0.060</td>\n",
       "      <td>-5.444</td>\n",
       "      <td>1.000000e-07</td>\n",
       "    </tr>\n",
       "    <tr>\n",
       "      <th>15</th>\n",
       "      <td>2</td>\n",
       "      <td>-0.3471</td>\n",
       "      <td>0.090</td>\n",
       "      <td>-3.863</td>\n",
       "      <td>1.254000e-04</td>\n",
       "    </tr>\n",
       "  </tbody>\n",
       "</table>\n",
       "</div>"
      ],
      "text/plain": [
       "    index  Coefficients  Standard Errors  t values  Probabilities\n",
       "0      13        0.1886            0.146     1.296   1.954974e-01\n",
       "1      14        0.1708            0.067     2.535   1.151010e-02\n",
       "2       5        0.1668            0.157     1.061   2.890163e-01\n",
       "3      12        0.1657            0.132     1.254   2.104777e-01\n",
       "4       9        0.1447            0.128     1.133   2.579048e-01\n",
       "5      10        0.1176            0.175     0.672   5.017378e-01\n",
       "6       6        0.1086            0.160     0.678   4.982895e-01\n",
       "7       3        0.0161            0.096     0.168   8.666977e-01\n",
       "8       1       -0.0136            0.005    -2.756   6.043900e-03\n",
       "9       7       -0.0313            0.154    -0.203   8.392044e-01\n",
       "10     11       -0.1458            0.197    -0.740   4.598202e-01\n",
       "11      8       -0.2501            0.173    -1.447   1.485112e-01\n",
       "12      4       -0.3036            0.229    -1.323   1.863279e-01\n",
       "13     16       -0.3080            0.073    -4.215   2.920000e-05\n",
       "14     15       -0.3270            0.060    -5.444   1.000000e-07\n",
       "15      2       -0.3471            0.090    -3.863   1.254000e-04"
      ]
     },
     "execution_count": 493,
     "metadata": {},
     "output_type": "execute_result"
    }
   ],
   "source": [
    "coeff_df = myDF3.iloc[1: , :]\n",
    "coeff_df = coeff_df.reset_index()\n",
    "coeff_df"
   ]
  },
  {
   "cell_type": "code",
   "execution_count": 494,
   "id": "03bd8e7d",
   "metadata": {},
   "outputs": [
    {
     "data": {
      "text/html": [
       "<div>\n",
       "<style scoped>\n",
       "    .dataframe tbody tr th:only-of-type {\n",
       "        vertical-align: middle;\n",
       "    }\n",
       "\n",
       "    .dataframe tbody tr th {\n",
       "        vertical-align: top;\n",
       "    }\n",
       "\n",
       "    .dataframe thead th {\n",
       "        text-align: right;\n",
       "    }\n",
       "</style>\n",
       "<table border=\"1\" class=\"dataframe\">\n",
       "  <thead>\n",
       "    <tr style=\"text-align: right;\">\n",
       "      <th></th>\n",
       "      <th>index</th>\n",
       "      <th>Coefficients</th>\n",
       "      <th>Standard Errors</th>\n",
       "      <th>t values</th>\n",
       "      <th>Probabilities</th>\n",
       "      <th>index_other</th>\n",
       "      <th>Coefficients_other</th>\n",
       "      <th>category</th>\n",
       "    </tr>\n",
       "  </thead>\n",
       "  <tbody>\n",
       "    <tr>\n",
       "      <th>0</th>\n",
       "      <td>13</td>\n",
       "      <td>0.1886</td>\n",
       "      <td>0.146</td>\n",
       "      <td>1.296</td>\n",
       "      <td>1.954974e-01</td>\n",
       "      <td>12</td>\n",
       "      <td>0.188618</td>\n",
       "      <td>School of Psychology and Sport Science</td>\n",
       "    </tr>\n",
       "    <tr>\n",
       "      <th>1</th>\n",
       "      <td>14</td>\n",
       "      <td>0.1708</td>\n",
       "      <td>0.067</td>\n",
       "      <td>2.535</td>\n",
       "      <td>1.151010e-02</td>\n",
       "      <td>13</td>\n",
       "      <td>0.170822</td>\n",
       "      <td>formality</td>\n",
       "    </tr>\n",
       "    <tr>\n",
       "      <th>2</th>\n",
       "      <td>5</td>\n",
       "      <td>0.1668</td>\n",
       "      <td>0.157</td>\n",
       "      <td>1.061</td>\n",
       "      <td>2.890163e-01</td>\n",
       "      <td>4</td>\n",
       "      <td>0.166789</td>\n",
       "      <td>School of Allied Health</td>\n",
       "    </tr>\n",
       "    <tr>\n",
       "      <th>3</th>\n",
       "      <td>12</td>\n",
       "      <td>0.1657</td>\n",
       "      <td>0.132</td>\n",
       "      <td>1.254</td>\n",
       "      <td>2.104777e-01</td>\n",
       "      <td>11</td>\n",
       "      <td>0.165736</td>\n",
       "      <td>School of Nursing and Midwifery</td>\n",
       "    </tr>\n",
       "    <tr>\n",
       "      <th>4</th>\n",
       "      <td>9</td>\n",
       "      <td>0.1447</td>\n",
       "      <td>0.128</td>\n",
       "      <td>1.133</td>\n",
       "      <td>2.579048e-01</td>\n",
       "      <td>8</td>\n",
       "      <td>0.144706</td>\n",
       "      <td>School of Life Sciences</td>\n",
       "    </tr>\n",
       "    <tr>\n",
       "      <th>5</th>\n",
       "      <td>10</td>\n",
       "      <td>0.1176</td>\n",
       "      <td>0.175</td>\n",
       "      <td>0.672</td>\n",
       "      <td>5.017378e-01</td>\n",
       "      <td>9</td>\n",
       "      <td>0.117586</td>\n",
       "      <td>School of Management</td>\n",
       "    </tr>\n",
       "    <tr>\n",
       "      <th>6</th>\n",
       "      <td>6</td>\n",
       "      <td>0.1086</td>\n",
       "      <td>0.160</td>\n",
       "      <td>0.678</td>\n",
       "      <td>4.982895e-01</td>\n",
       "      <td>5</td>\n",
       "      <td>0.108614</td>\n",
       "      <td>School of Economics Finance and Law</td>\n",
       "    </tr>\n",
       "    <tr>\n",
       "      <th>7</th>\n",
       "      <td>3</td>\n",
       "      <td>0.0161</td>\n",
       "      <td>0.096</td>\n",
       "      <td>0.168</td>\n",
       "      <td>8.666977e-01</td>\n",
       "      <td>2</td>\n",
       "      <td>0.016124</td>\n",
       "      <td>Chelmsford</td>\n",
       "    </tr>\n",
       "    <tr>\n",
       "      <th>8</th>\n",
       "      <td>1</td>\n",
       "      <td>-0.0136</td>\n",
       "      <td>0.005</td>\n",
       "      <td>-2.756</td>\n",
       "      <td>6.043900e-03</td>\n",
       "      <td>0</td>\n",
       "      <td>-0.013554</td>\n",
       "      <td>age</td>\n",
       "    </tr>\n",
       "    <tr>\n",
       "      <th>9</th>\n",
       "      <td>7</td>\n",
       "      <td>-0.0313</td>\n",
       "      <td>0.154</td>\n",
       "      <td>-0.203</td>\n",
       "      <td>8.392044e-01</td>\n",
       "      <td>6</td>\n",
       "      <td>-0.031307</td>\n",
       "      <td>School of Education and Social Care</td>\n",
       "    </tr>\n",
       "    <tr>\n",
       "      <th>10</th>\n",
       "      <td>11</td>\n",
       "      <td>-0.1458</td>\n",
       "      <td>0.197</td>\n",
       "      <td>-0.740</td>\n",
       "      <td>4.598202e-01</td>\n",
       "      <td>10</td>\n",
       "      <td>-0.145755</td>\n",
       "      <td>School of Medicine</td>\n",
       "    </tr>\n",
       "    <tr>\n",
       "      <th>11</th>\n",
       "      <td>8</td>\n",
       "      <td>-0.2501</td>\n",
       "      <td>0.173</td>\n",
       "      <td>-1.447</td>\n",
       "      <td>1.485112e-01</td>\n",
       "      <td>7</td>\n",
       "      <td>-0.250097</td>\n",
       "      <td>School of Humanities and Social Sciences</td>\n",
       "    </tr>\n",
       "    <tr>\n",
       "      <th>12</th>\n",
       "      <td>4</td>\n",
       "      <td>-0.3036</td>\n",
       "      <td>0.229</td>\n",
       "      <td>-1.323</td>\n",
       "      <td>1.863279e-01</td>\n",
       "      <td>3</td>\n",
       "      <td>-0.303646</td>\n",
       "      <td>Peterborough</td>\n",
       "    </tr>\n",
       "    <tr>\n",
       "      <th>13</th>\n",
       "      <td>16</td>\n",
       "      <td>-0.3080</td>\n",
       "      <td>0.073</td>\n",
       "      <td>-4.215</td>\n",
       "      <td>2.920000e-05</td>\n",
       "      <td>15</td>\n",
       "      <td>-0.308030</td>\n",
       "      <td>warmth</td>\n",
       "    </tr>\n",
       "    <tr>\n",
       "      <th>14</th>\n",
       "      <td>15</td>\n",
       "      <td>-0.3270</td>\n",
       "      <td>0.060</td>\n",
       "      <td>-5.444</td>\n",
       "      <td>1.000000e-07</td>\n",
       "      <td>14</td>\n",
       "      <td>-0.326997</td>\n",
       "      <td>helpfulness</td>\n",
       "    </tr>\n",
       "    <tr>\n",
       "      <th>15</th>\n",
       "      <td>2</td>\n",
       "      <td>-0.3471</td>\n",
       "      <td>0.090</td>\n",
       "      <td>-3.863</td>\n",
       "      <td>1.254000e-04</td>\n",
       "      <td>1</td>\n",
       "      <td>-0.347133</td>\n",
       "      <td>gender_encoded</td>\n",
       "    </tr>\n",
       "  </tbody>\n",
       "</table>\n",
       "</div>"
      ],
      "text/plain": [
       "    index  Coefficients  Standard Errors  t values  Probabilities  \\\n",
       "0      13        0.1886            0.146     1.296   1.954974e-01   \n",
       "1      14        0.1708            0.067     2.535   1.151010e-02   \n",
       "2       5        0.1668            0.157     1.061   2.890163e-01   \n",
       "3      12        0.1657            0.132     1.254   2.104777e-01   \n",
       "4       9        0.1447            0.128     1.133   2.579048e-01   \n",
       "5      10        0.1176            0.175     0.672   5.017378e-01   \n",
       "6       6        0.1086            0.160     0.678   4.982895e-01   \n",
       "7       3        0.0161            0.096     0.168   8.666977e-01   \n",
       "8       1       -0.0136            0.005    -2.756   6.043900e-03   \n",
       "9       7       -0.0313            0.154    -0.203   8.392044e-01   \n",
       "10     11       -0.1458            0.197    -0.740   4.598202e-01   \n",
       "11      8       -0.2501            0.173    -1.447   1.485112e-01   \n",
       "12      4       -0.3036            0.229    -1.323   1.863279e-01   \n",
       "13     16       -0.3080            0.073    -4.215   2.920000e-05   \n",
       "14     15       -0.3270            0.060    -5.444   1.000000e-07   \n",
       "15      2       -0.3471            0.090    -3.863   1.254000e-04   \n",
       "\n",
       "    index_other  Coefficients_other                                   category  \n",
       "0            12            0.188618    School of Psychology and Sport Science   \n",
       "1            13            0.170822                                  formality  \n",
       "2             4            0.166789                   School of Allied Health   \n",
       "3            11            0.165736          School of Nursing and Midwifery    \n",
       "4             8            0.144706                   School of Life Sciences   \n",
       "5             9            0.117586                      School of Management   \n",
       "6             5            0.108614       School of Economics Finance and Law   \n",
       "7             2            0.016124                                 Chelmsford  \n",
       "8             0           -0.013554                                        age  \n",
       "9             6           -0.031307       School of Education and Social Care   \n",
       "10           10           -0.145755                         School of Medicine  \n",
       "11            7           -0.250097  School of Humanities and Social Sciences   \n",
       "12            3           -0.303646                               Peterborough  \n",
       "13           15           -0.308030                                     warmth  \n",
       "14           14           -0.326997                                helpfulness  \n",
       "15            1           -0.347133                             gender_encoded  "
      ]
     },
     "execution_count": 494,
     "metadata": {},
     "output_type": "execute_result"
    }
   ],
   "source": [
    "regression_df = coeff_df.join(coeff, lsuffix='', rsuffix='_other')\n",
    "regression_df"
   ]
  },
  {
   "cell_type": "code",
   "execution_count": 495,
   "id": "5ea4d96f",
   "metadata": {
    "scrolled": true
   },
   "outputs": [],
   "source": [
    "regression_df = regression_df.drop(['index','Coefficients_other','index_other'], axis = 1)\n"
   ]
  },
  {
   "cell_type": "code",
   "execution_count": null,
   "id": "691ae0c7",
   "metadata": {},
   "outputs": [],
   "source": []
  },
  {
   "cell_type": "code",
   "execution_count": 496,
   "id": "732c154c",
   "metadata": {},
   "outputs": [
    {
     "data": {
      "text/html": [
       "<div>\n",
       "<style scoped>\n",
       "    .dataframe tbody tr th:only-of-type {\n",
       "        vertical-align: middle;\n",
       "    }\n",
       "\n",
       "    .dataframe tbody tr th {\n",
       "        vertical-align: top;\n",
       "    }\n",
       "\n",
       "    .dataframe thead th {\n",
       "        text-align: right;\n",
       "    }\n",
       "</style>\n",
       "<table border=\"1\" class=\"dataframe\">\n",
       "  <thead>\n",
       "    <tr style=\"text-align: right;\">\n",
       "      <th></th>\n",
       "      <th>Coefficients</th>\n",
       "      <th>Standard Errors</th>\n",
       "      <th>t values</th>\n",
       "      <th>Probabilities</th>\n",
       "      <th>category</th>\n",
       "      <th>upper</th>\n",
       "      <th>lower</th>\n",
       "    </tr>\n",
       "  </thead>\n",
       "  <tbody>\n",
       "    <tr>\n",
       "      <th>0</th>\n",
       "      <td>0.1886</td>\n",
       "      <td>0.146</td>\n",
       "      <td>1.296</td>\n",
       "      <td>1.954974e-01</td>\n",
       "      <td>School of Psychology and Sport Science</td>\n",
       "      <td>0.47476</td>\n",
       "      <td>-0.09756</td>\n",
       "    </tr>\n",
       "    <tr>\n",
       "      <th>1</th>\n",
       "      <td>0.1708</td>\n",
       "      <td>0.067</td>\n",
       "      <td>2.535</td>\n",
       "      <td>1.151010e-02</td>\n",
       "      <td>formality</td>\n",
       "      <td>0.30212</td>\n",
       "      <td>0.03948</td>\n",
       "    </tr>\n",
       "    <tr>\n",
       "      <th>2</th>\n",
       "      <td>0.1668</td>\n",
       "      <td>0.157</td>\n",
       "      <td>1.061</td>\n",
       "      <td>2.890163e-01</td>\n",
       "      <td>School of Allied Health</td>\n",
       "      <td>0.47452</td>\n",
       "      <td>-0.14092</td>\n",
       "    </tr>\n",
       "    <tr>\n",
       "      <th>3</th>\n",
       "      <td>0.1657</td>\n",
       "      <td>0.132</td>\n",
       "      <td>1.254</td>\n",
       "      <td>2.104777e-01</td>\n",
       "      <td>School of Nursing and Midwifery</td>\n",
       "      <td>0.42442</td>\n",
       "      <td>-0.09302</td>\n",
       "    </tr>\n",
       "    <tr>\n",
       "      <th>4</th>\n",
       "      <td>0.1447</td>\n",
       "      <td>0.128</td>\n",
       "      <td>1.133</td>\n",
       "      <td>2.579048e-01</td>\n",
       "      <td>School of Life Sciences</td>\n",
       "      <td>0.39558</td>\n",
       "      <td>-0.10618</td>\n",
       "    </tr>\n",
       "    <tr>\n",
       "      <th>5</th>\n",
       "      <td>0.1176</td>\n",
       "      <td>0.175</td>\n",
       "      <td>0.672</td>\n",
       "      <td>5.017378e-01</td>\n",
       "      <td>School of Management</td>\n",
       "      <td>0.46060</td>\n",
       "      <td>-0.22540</td>\n",
       "    </tr>\n",
       "    <tr>\n",
       "      <th>6</th>\n",
       "      <td>0.1086</td>\n",
       "      <td>0.160</td>\n",
       "      <td>0.678</td>\n",
       "      <td>4.982895e-01</td>\n",
       "      <td>School of Economics Finance and Law</td>\n",
       "      <td>0.42220</td>\n",
       "      <td>-0.20500</td>\n",
       "    </tr>\n",
       "    <tr>\n",
       "      <th>7</th>\n",
       "      <td>0.0161</td>\n",
       "      <td>0.096</td>\n",
       "      <td>0.168</td>\n",
       "      <td>8.666977e-01</td>\n",
       "      <td>Chelmsford</td>\n",
       "      <td>0.20426</td>\n",
       "      <td>-0.17206</td>\n",
       "    </tr>\n",
       "    <tr>\n",
       "      <th>8</th>\n",
       "      <td>-0.0136</td>\n",
       "      <td>0.005</td>\n",
       "      <td>-2.756</td>\n",
       "      <td>6.043900e-03</td>\n",
       "      <td>age</td>\n",
       "      <td>-0.00380</td>\n",
       "      <td>-0.02340</td>\n",
       "    </tr>\n",
       "    <tr>\n",
       "      <th>9</th>\n",
       "      <td>-0.0313</td>\n",
       "      <td>0.154</td>\n",
       "      <td>-0.203</td>\n",
       "      <td>8.392044e-01</td>\n",
       "      <td>School of Education and Social Care</td>\n",
       "      <td>0.27054</td>\n",
       "      <td>-0.33314</td>\n",
       "    </tr>\n",
       "    <tr>\n",
       "      <th>10</th>\n",
       "      <td>-0.1458</td>\n",
       "      <td>0.197</td>\n",
       "      <td>-0.740</td>\n",
       "      <td>4.598202e-01</td>\n",
       "      <td>School of Medicine</td>\n",
       "      <td>0.24032</td>\n",
       "      <td>-0.53192</td>\n",
       "    </tr>\n",
       "    <tr>\n",
       "      <th>11</th>\n",
       "      <td>-0.2501</td>\n",
       "      <td>0.173</td>\n",
       "      <td>-1.447</td>\n",
       "      <td>1.485112e-01</td>\n",
       "      <td>School of Humanities and Social Sciences</td>\n",
       "      <td>0.08898</td>\n",
       "      <td>-0.58918</td>\n",
       "    </tr>\n",
       "    <tr>\n",
       "      <th>12</th>\n",
       "      <td>-0.3036</td>\n",
       "      <td>0.229</td>\n",
       "      <td>-1.323</td>\n",
       "      <td>1.863279e-01</td>\n",
       "      <td>Peterborough</td>\n",
       "      <td>0.14524</td>\n",
       "      <td>-0.75244</td>\n",
       "    </tr>\n",
       "    <tr>\n",
       "      <th>13</th>\n",
       "      <td>-0.3080</td>\n",
       "      <td>0.073</td>\n",
       "      <td>-4.215</td>\n",
       "      <td>2.920000e-05</td>\n",
       "      <td>warmth</td>\n",
       "      <td>-0.16492</td>\n",
       "      <td>-0.45108</td>\n",
       "    </tr>\n",
       "    <tr>\n",
       "      <th>14</th>\n",
       "      <td>-0.3270</td>\n",
       "      <td>0.060</td>\n",
       "      <td>-5.444</td>\n",
       "      <td>1.000000e-07</td>\n",
       "      <td>helpfulness</td>\n",
       "      <td>-0.20940</td>\n",
       "      <td>-0.44460</td>\n",
       "    </tr>\n",
       "    <tr>\n",
       "      <th>15</th>\n",
       "      <td>-0.3471</td>\n",
       "      <td>0.090</td>\n",
       "      <td>-3.863</td>\n",
       "      <td>1.254000e-04</td>\n",
       "      <td>gender_encoded</td>\n",
       "      <td>-0.17070</td>\n",
       "      <td>-0.52350</td>\n",
       "    </tr>\n",
       "  </tbody>\n",
       "</table>\n",
       "</div>"
      ],
      "text/plain": [
       "    Coefficients  Standard Errors  t values  Probabilities  \\\n",
       "0         0.1886            0.146     1.296   1.954974e-01   \n",
       "1         0.1708            0.067     2.535   1.151010e-02   \n",
       "2         0.1668            0.157     1.061   2.890163e-01   \n",
       "3         0.1657            0.132     1.254   2.104777e-01   \n",
       "4         0.1447            0.128     1.133   2.579048e-01   \n",
       "5         0.1176            0.175     0.672   5.017378e-01   \n",
       "6         0.1086            0.160     0.678   4.982895e-01   \n",
       "7         0.0161            0.096     0.168   8.666977e-01   \n",
       "8        -0.0136            0.005    -2.756   6.043900e-03   \n",
       "9        -0.0313            0.154    -0.203   8.392044e-01   \n",
       "10       -0.1458            0.197    -0.740   4.598202e-01   \n",
       "11       -0.2501            0.173    -1.447   1.485112e-01   \n",
       "12       -0.3036            0.229    -1.323   1.863279e-01   \n",
       "13       -0.3080            0.073    -4.215   2.920000e-05   \n",
       "14       -0.3270            0.060    -5.444   1.000000e-07   \n",
       "15       -0.3471            0.090    -3.863   1.254000e-04   \n",
       "\n",
       "                                     category    upper    lower  \n",
       "0     School of Psychology and Sport Science   0.47476 -0.09756  \n",
       "1                                   formality  0.30212  0.03948  \n",
       "2                    School of Allied Health   0.47452 -0.14092  \n",
       "3           School of Nursing and Midwifery    0.42442 -0.09302  \n",
       "4                    School of Life Sciences   0.39558 -0.10618  \n",
       "5                       School of Management   0.46060 -0.22540  \n",
       "6        School of Economics Finance and Law   0.42220 -0.20500  \n",
       "7                                  Chelmsford  0.20426 -0.17206  \n",
       "8                                         age -0.00380 -0.02340  \n",
       "9        School of Education and Social Care   0.27054 -0.33314  \n",
       "10                         School of Medicine  0.24032 -0.53192  \n",
       "11  School of Humanities and Social Sciences   0.08898 -0.58918  \n",
       "12                               Peterborough  0.14524 -0.75244  \n",
       "13                                     warmth -0.16492 -0.45108  \n",
       "14                                helpfulness -0.20940 -0.44460  \n",
       "15                             gender_encoded -0.17070 -0.52350  "
      ]
     },
     "execution_count": 496,
     "metadata": {},
     "output_type": "execute_result"
    }
   ],
   "source": [
    "\n",
    "regression_df['upper'] = regression_df['Coefficients'] + 1.96*regression_df['Standard Errors']\n",
    "regression_df['lower'] = regression_df['Coefficients'] - 1.96*regression_df['Standard Errors']\n",
    "regression_df"
   ]
  },
  {
   "cell_type": "code",
   "execution_count": 497,
   "id": "465ffb0c",
   "metadata": {},
   "outputs": [],
   "source": [
    "regression_df = regression_df.set_index('category')"
   ]
  },
  {
   "cell_type": "code",
   "execution_count": 498,
   "id": "ef7933c0",
   "metadata": {},
   "outputs": [
    {
     "data": {
      "image/png": "[encoded data removed]",
      "text/plain": [
       "<Figure size 900x600 with 1 Axes>"
      ]
     },
     "metadata": {
      "needs_background": "light"
     },
     "output_type": "display_data"
    }
   ],
   "source": [
    "plt.figure(figsize=(6, 4), dpi=150)\n",
    "ci = [regression_df.iloc[::]['Coefficients'] - regression_df.iloc[::]['lower'].values, regression_df.iloc[::]['upper'].values - regression_df.iloc[::]['Coefficients']]\n",
    "plt.errorbar(x=regression_df.iloc[::]['Coefficients'], y=regression_df.iloc[::].index.values, xerr=ci,\n",
    "            color='black',  capsize=3, linestyle='None', linewidth=1,\n",
    "            marker=\"o\", markersize=5, mfc=\"black\", mec=\"black\")\n",
    "plt.axvline(x=0, linewidth=0.8, linestyle='--', color='black')\n",
    "plt.tick_params(axis='both', which='major', labelsize=8)\n",
    "plt.xlabel('Coefficient and 95% Confidence Interval', fontsize=8)\n",
    "plt.tight_layout()\n",
    "# plt.savefig('raw_forest_plot.png')\n",
    "plt.show()\n"
   ]
  },
  {
   "cell_type": "markdown",
   "id": "5c5da6aa",
   "metadata": {},
   "source": [
    "# powerbi"
   ]
  },
  {
   "cell_type": "code",
   "execution_count": 499,
   "id": "468687e7",
   "metadata": {},
   "outputs": [],
   "source": [
    "powerbi_demo = labeled_df1[['year', 'campus', 'department','course','gender','age','ethnicity','nationality',\n",
    " 'household_income','disab','school','formality','helpfulness','warmth','overall']]"
   ]
  },
  {
   "cell_type": "code",
   "execution_count": 500,
   "id": "4b34a247",
   "metadata": {},
   "outputs": [
    {
     "name": "stderr",
     "output_type": "stream",
     "text": [
      "<ipython-input-500-b8945acc3a01>:1: SettingWithCopyWarning:\n",
      "\n",
      "\n",
      "A value is trying to be set on a copy of a slice from a DataFrame.\n",
      "Try using .loc[row_indexer,col_indexer] = value instead\n",
      "\n",
      "See the caveats in the documentation: https://pandas.pydata.org/pandas-docs/stable/user_guide/indexing.html#returning-a-view-versus-a-copy\n",
      "\n"
     ]
    }
   ],
   "source": [
    "powerbi_demo['household_income'] = powerbi_demo['household_income'].fillna('unreported')"
   ]
  },
  {
   "cell_type": "code",
   "execution_count": 501,
   "id": "15e7c0d9",
   "metadata": {},
   "outputs": [
    {
     "data": {
      "text/html": [
       "<div>\n",
       "<style scoped>\n",
       "    .dataframe tbody tr th:only-of-type {\n",
       "        vertical-align: middle;\n",
       "    }\n",
       "\n",
       "    .dataframe tbody tr th {\n",
       "        vertical-align: top;\n",
       "    }\n",
       "\n",
       "    .dataframe thead th {\n",
       "        text-align: right;\n",
       "    }\n",
       "</style>\n",
       "<table border=\"1\" class=\"dataframe\">\n",
       "  <thead>\n",
       "    <tr style=\"text-align: right;\">\n",
       "      <th></th>\n",
       "      <th>year</th>\n",
       "      <th>campus</th>\n",
       "      <th>department</th>\n",
       "      <th>course</th>\n",
       "      <th>gender</th>\n",
       "      <th>age</th>\n",
       "      <th>ethnicity</th>\n",
       "      <th>nationality</th>\n",
       "      <th>household_income</th>\n",
       "      <th>disab</th>\n",
       "      <th>school</th>\n",
       "      <th>formality</th>\n",
       "      <th>helpfulness</th>\n",
       "      <th>warmth</th>\n",
       "      <th>overall</th>\n",
       "    </tr>\n",
       "  </thead>\n",
       "  <tbody>\n",
       "    <tr>\n",
       "      <th>0</th>\n",
       "      <td>2021-2022</td>\n",
       "      <td>Cambridge</td>\n",
       "      <td>BL</td>\n",
       "      <td>BSc (Hons) Business with Events Management</td>\n",
       "      <td>Female</td>\n",
       "      <td>22</td>\n",
       "      <td>Mixed - White &amp; Black African</td>\n",
       "      <td>Portuguese</td>\n",
       "      <td>Low</td>\n",
       "      <td>No</td>\n",
       "      <td>School of Management</td>\n",
       "      <td>2</td>\n",
       "      <td>3</td>\n",
       "      <td>3</td>\n",
       "      <td>4.0</td>\n",
       "    </tr>\n",
       "    <tr>\n",
       "      <th>1</th>\n",
       "      <td>2021-2022</td>\n",
       "      <td>Chelmsford</td>\n",
       "      <td>BL</td>\n",
       "      <td>BSc (Hons) Business Management and Leadership</td>\n",
       "      <td>Male</td>\n",
       "      <td>21</td>\n",
       "      <td>Other Asian background</td>\n",
       "      <td>Nepalese</td>\n",
       "      <td>unreported</td>\n",
       "      <td>No</td>\n",
       "      <td>School of Management</td>\n",
       "      <td>2</td>\n",
       "      <td>1</td>\n",
       "      <td>2</td>\n",
       "      <td>4.0</td>\n",
       "    </tr>\n",
       "    <tr>\n",
       "      <th>2</th>\n",
       "      <td>2021-2022</td>\n",
       "      <td>Cambridge</td>\n",
       "      <td>AHSS</td>\n",
       "      <td>BA (Hons) Performing Arts</td>\n",
       "      <td>Female</td>\n",
       "      <td>21</td>\n",
       "      <td>White</td>\n",
       "      <td>UK National</td>\n",
       "      <td>Mid</td>\n",
       "      <td>No</td>\n",
       "      <td>Cambridge School of the Creative Industries</td>\n",
       "      <td>1</td>\n",
       "      <td>3</td>\n",
       "      <td>3</td>\n",
       "      <td>1.0</td>\n",
       "    </tr>\n",
       "    <tr>\n",
       "      <th>3</th>\n",
       "      <td>2021-2022</td>\n",
       "      <td>Peterborough</td>\n",
       "      <td>HEMS</td>\n",
       "      <td>BA (Hons) Primary Education Studies</td>\n",
       "      <td>Female</td>\n",
       "      <td>21</td>\n",
       "      <td>White</td>\n",
       "      <td>UK National</td>\n",
       "      <td>Low</td>\n",
       "      <td>Yes</td>\n",
       "      <td>School of Education and Social Care</td>\n",
       "      <td>1</td>\n",
       "      <td>3</td>\n",
       "      <td>3</td>\n",
       "      <td>2.0</td>\n",
       "    </tr>\n",
       "    <tr>\n",
       "      <th>4</th>\n",
       "      <td>2021-2022</td>\n",
       "      <td>Chelmsford</td>\n",
       "      <td>HEMS</td>\n",
       "      <td>BSc (Hons) Nursing (Child)</td>\n",
       "      <td>Female</td>\n",
       "      <td>30</td>\n",
       "      <td>White</td>\n",
       "      <td>UK National</td>\n",
       "      <td>Low</td>\n",
       "      <td>Yes</td>\n",
       "      <td>School of Nursing and Midwifery</td>\n",
       "      <td>1</td>\n",
       "      <td>3</td>\n",
       "      <td>3</td>\n",
       "      <td>2.0</td>\n",
       "    </tr>\n",
       "    <tr>\n",
       "      <th>...</th>\n",
       "      <td>...</td>\n",
       "      <td>...</td>\n",
       "      <td>...</td>\n",
       "      <td>...</td>\n",
       "      <td>...</td>\n",
       "      <td>...</td>\n",
       "      <td>...</td>\n",
       "      <td>...</td>\n",
       "      <td>...</td>\n",
       "      <td>...</td>\n",
       "      <td>...</td>\n",
       "      <td>...</td>\n",
       "      <td>...</td>\n",
       "      <td>...</td>\n",
       "      <td>...</td>\n",
       "    </tr>\n",
       "    <tr>\n",
       "      <th>576</th>\n",
       "      <td>2021-2022</td>\n",
       "      <td>Chelmsford</td>\n",
       "      <td>HEMS</td>\n",
       "      <td>BA (Hons) Primary Education Studies</td>\n",
       "      <td>Female</td>\n",
       "      <td>22</td>\n",
       "      <td>White</td>\n",
       "      <td>UK National</td>\n",
       "      <td>unreported</td>\n",
       "      <td>No</td>\n",
       "      <td>School of Education and Social Care</td>\n",
       "      <td>2</td>\n",
       "      <td>2</td>\n",
       "      <td>3</td>\n",
       "      <td>3.0</td>\n",
       "    </tr>\n",
       "    <tr>\n",
       "      <th>577</th>\n",
       "      <td>2021-2022</td>\n",
       "      <td>Cambridge</td>\n",
       "      <td>AHSS</td>\n",
       "      <td>BA (Hons) Sociology</td>\n",
       "      <td>Female</td>\n",
       "      <td>21</td>\n",
       "      <td>Asian or Asian British - Bangladeshi</td>\n",
       "      <td>UK National</td>\n",
       "      <td>unreported</td>\n",
       "      <td>No</td>\n",
       "      <td>School of Humanities and Social Sciences</td>\n",
       "      <td>2</td>\n",
       "      <td>1</td>\n",
       "      <td>1</td>\n",
       "      <td>4.0</td>\n",
       "    </tr>\n",
       "    <tr>\n",
       "      <th>578</th>\n",
       "      <td>2021-2022</td>\n",
       "      <td>Cambridge</td>\n",
       "      <td>HEMS</td>\n",
       "      <td>BSc (Hons) Midwifery</td>\n",
       "      <td>Female</td>\n",
       "      <td>27</td>\n",
       "      <td>White</td>\n",
       "      <td>UK National</td>\n",
       "      <td>Low</td>\n",
       "      <td>No</td>\n",
       "      <td>School of Nursing and Midwifery</td>\n",
       "      <td>2</td>\n",
       "      <td>3</td>\n",
       "      <td>3</td>\n",
       "      <td>1.0</td>\n",
       "    </tr>\n",
       "    <tr>\n",
       "      <th>579</th>\n",
       "      <td>2021-2022</td>\n",
       "      <td>Chelmsford</td>\n",
       "      <td>HEMS</td>\n",
       "      <td>BSc (Hons) Paramedic Science</td>\n",
       "      <td>Female</td>\n",
       "      <td>23</td>\n",
       "      <td>White</td>\n",
       "      <td>UK National</td>\n",
       "      <td>Mid</td>\n",
       "      <td>No</td>\n",
       "      <td>School of Allied Health</td>\n",
       "      <td>2</td>\n",
       "      <td>3</td>\n",
       "      <td>3</td>\n",
       "      <td>2.0</td>\n",
       "    </tr>\n",
       "    <tr>\n",
       "      <th>580</th>\n",
       "      <td>2021-2022</td>\n",
       "      <td>Chelmsford</td>\n",
       "      <td>HEMS</td>\n",
       "      <td>MBChB Primary Medical Qualification</td>\n",
       "      <td>Female</td>\n",
       "      <td>22</td>\n",
       "      <td>Asian or Asian British - Indian</td>\n",
       "      <td>UK National</td>\n",
       "      <td>unreported</td>\n",
       "      <td>No</td>\n",
       "      <td>School of Medicine</td>\n",
       "      <td>2</td>\n",
       "      <td>3</td>\n",
       "      <td>3</td>\n",
       "      <td>3.0</td>\n",
       "    </tr>\n",
       "  </tbody>\n",
       "</table>\n",
       "<p>570 rows × 15 columns</p>\n",
       "</div>"
      ],
      "text/plain": [
       "          year        campus department  \\\n",
       "0    2021-2022     Cambridge         BL   \n",
       "1    2021-2022    Chelmsford         BL   \n",
       "2    2021-2022     Cambridge       AHSS   \n",
       "3    2021-2022  Peterborough       HEMS   \n",
       "4    2021-2022    Chelmsford       HEMS   \n",
       "..         ...           ...        ...   \n",
       "576  2021-2022    Chelmsford       HEMS   \n",
       "577  2021-2022     Cambridge       AHSS   \n",
       "578  2021-2022     Cambridge       HEMS   \n",
       "579  2021-2022    Chelmsford       HEMS   \n",
       "580  2021-2022    Chelmsford       HEMS   \n",
       "\n",
       "                                            course  gender  age  \\\n",
       "0       BSc (Hons) Business with Events Management  Female   22   \n",
       "1    BSc (Hons) Business Management and Leadership    Male   21   \n",
       "2                        BA (Hons) Performing Arts  Female   21   \n",
       "3              BA (Hons) Primary Education Studies  Female   21   \n",
       "4                       BSc (Hons) Nursing (Child)  Female   30   \n",
       "..                                             ...     ...  ...   \n",
       "576            BA (Hons) Primary Education Studies  Female   22   \n",
       "577                            BA (Hons) Sociology  Female   21   \n",
       "578                           BSc (Hons) Midwifery  Female   27   \n",
       "579                   BSc (Hons) Paramedic Science  Female   23   \n",
       "580            MBChB Primary Medical Qualification  Female   22   \n",
       "\n",
       "                                ethnicity  nationality household_income disab  \\\n",
       "0           Mixed - White & Black African   Portuguese              Low    No   \n",
       "1                  Other Asian background     Nepalese       unreported    No   \n",
       "2                                   White  UK National              Mid    No   \n",
       "3                                   White  UK National              Low   Yes   \n",
       "4                                   White  UK National              Low   Yes   \n",
       "..                                    ...          ...              ...   ...   \n",
       "576                                 White  UK National       unreported    No   \n",
       "577  Asian or Asian British - Bangladeshi  UK National       unreported    No   \n",
       "578                                 White  UK National              Low    No   \n",
       "579                                 White  UK National              Mid    No   \n",
       "580       Asian or Asian British - Indian  UK National       unreported    No   \n",
       "\n",
       "                                           school formality helpfulness  \\\n",
       "0                           School of Management          2           3   \n",
       "1                           School of Management          2           1   \n",
       "2    Cambridge School of the Creative Industries          1           3   \n",
       "3            School of Education and Social Care          1           3   \n",
       "4               School of Nursing and Midwifery           1           3   \n",
       "..                                            ...       ...         ...   \n",
       "576          School of Education and Social Care          2           2   \n",
       "577     School of Humanities and Social Sciences          2           1   \n",
       "578             School of Nursing and Midwifery           2           3   \n",
       "579                      School of Allied Health          2           3   \n",
       "580                            School of Medicine         2           3   \n",
       "\n",
       "    warmth  overall  \n",
       "0        3      4.0  \n",
       "1        2      4.0  \n",
       "2        3      1.0  \n",
       "3        3      2.0  \n",
       "4        3      2.0  \n",
       "..     ...      ...  \n",
       "576      3      3.0  \n",
       "577      1      4.0  \n",
       "578      3      1.0  \n",
       "579      3      2.0  \n",
       "580      3      3.0  \n",
       "\n",
       "[570 rows x 15 columns]"
      ]
     },
     "execution_count": 501,
     "metadata": {},
     "output_type": "execute_result"
    }
   ],
   "source": [
    "powerbi_demo"
   ]
  },
  {
   "cell_type": "code",
   "execution_count": 502,
   "id": "8f5aa27f",
   "metadata": {},
   "outputs": [
    {
     "name": "stderr",
     "output_type": "stream",
     "text": [
      "<ipython-input-502-7d7189df9c85>:2: SettingWithCopyWarning:\n",
      "\n",
      "\n",
      "A value is trying to be set on a copy of a slice from a DataFrame.\n",
      "Try using .loc[row_indexer,col_indexer] = value instead\n",
      "\n",
      "See the caveats in the documentation: https://pandas.pydata.org/pandas-docs/stable/user_guide/indexing.html#returning-a-view-versus-a-copy\n",
      "\n",
      "<ipython-input-502-7d7189df9c85>:3: SettingWithCopyWarning:\n",
      "\n",
      "\n",
      "A value is trying to be set on a copy of a slice from a DataFrame.\n",
      "Try using .loc[row_indexer,col_indexer] = value instead\n",
      "\n",
      "See the caveats in the documentation: https://pandas.pydata.org/pandas-docs/stable/user_guide/indexing.html#returning-a-view-versus-a-copy\n",
      "\n",
      "<ipython-input-502-7d7189df9c85>:4: SettingWithCopyWarning:\n",
      "\n",
      "\n",
      "A value is trying to be set on a copy of a slice from a DataFrame.\n",
      "Try using .loc[row_indexer,col_indexer] = value instead\n",
      "\n",
      "See the caveats in the documentation: https://pandas.pydata.org/pandas-docs/stable/user_guide/indexing.html#returning-a-view-versus-a-copy\n",
      "\n"
     ]
    }
   ],
   "source": [
    "#reduce words in school column for ease of viewing in powerbi\n",
    "powerbi_demo['school'] = powerbi_demo['school'].str.replace('School of ', '')\n",
    "powerbi_demo['school'] = powerbi_demo['school'].str.replace('Cambridge the ', '')\n",
    "powerbi_demo['school'] = powerbi_demo['school'].str.replace('and', '&')"
   ]
  },
  {
   "cell_type": "code",
   "execution_count": 503,
   "id": "fc4ba4db",
   "metadata": {},
   "outputs": [
    {
     "data": {
      "text/html": [
       "<div>\n",
       "<style scoped>\n",
       "    .dataframe tbody tr th:only-of-type {\n",
       "        vertical-align: middle;\n",
       "    }\n",
       "\n",
       "    .dataframe tbody tr th {\n",
       "        vertical-align: top;\n",
       "    }\n",
       "\n",
       "    .dataframe thead th {\n",
       "        text-align: right;\n",
       "    }\n",
       "</style>\n",
       "<table border=\"1\" class=\"dataframe\">\n",
       "  <thead>\n",
       "    <tr style=\"text-align: right;\">\n",
       "      <th></th>\n",
       "      <th>year</th>\n",
       "      <th>campus</th>\n",
       "      <th>department</th>\n",
       "      <th>course</th>\n",
       "      <th>gender</th>\n",
       "      <th>age</th>\n",
       "      <th>ethnicity</th>\n",
       "      <th>nationality</th>\n",
       "      <th>household_income</th>\n",
       "      <th>disab</th>\n",
       "      <th>school</th>\n",
       "      <th>formality</th>\n",
       "      <th>helpfulness</th>\n",
       "      <th>warmth</th>\n",
       "      <th>overall</th>\n",
       "    </tr>\n",
       "  </thead>\n",
       "  <tbody>\n",
       "    <tr>\n",
       "      <th>0</th>\n",
       "      <td>2021-2022</td>\n",
       "      <td>Cambridge</td>\n",
       "      <td>BL</td>\n",
       "      <td>BSc (Hons) Business with Events Management</td>\n",
       "      <td>Female</td>\n",
       "      <td>22</td>\n",
       "      <td>Mixed - White &amp; Black African</td>\n",
       "      <td>Portuguese</td>\n",
       "      <td>Low</td>\n",
       "      <td>No</td>\n",
       "      <td>Management</td>\n",
       "      <td>2</td>\n",
       "      <td>3</td>\n",
       "      <td>3</td>\n",
       "      <td>4.0</td>\n",
       "    </tr>\n",
       "    <tr>\n",
       "      <th>1</th>\n",
       "      <td>2021-2022</td>\n",
       "      <td>Chelmsford</td>\n",
       "      <td>BL</td>\n",
       "      <td>BSc (Hons) Business Management and Leadership</td>\n",
       "      <td>Male</td>\n",
       "      <td>21</td>\n",
       "      <td>Other Asian background</td>\n",
       "      <td>Nepalese</td>\n",
       "      <td>unreported</td>\n",
       "      <td>No</td>\n",
       "      <td>Management</td>\n",
       "      <td>2</td>\n",
       "      <td>1</td>\n",
       "      <td>2</td>\n",
       "      <td>4.0</td>\n",
       "    </tr>\n",
       "    <tr>\n",
       "      <th>2</th>\n",
       "      <td>2021-2022</td>\n",
       "      <td>Cambridge</td>\n",
       "      <td>AHSS</td>\n",
       "      <td>BA (Hons) Performing Arts</td>\n",
       "      <td>Female</td>\n",
       "      <td>21</td>\n",
       "      <td>White</td>\n",
       "      <td>UK National</td>\n",
       "      <td>Mid</td>\n",
       "      <td>No</td>\n",
       "      <td>Creative Industries</td>\n",
       "      <td>1</td>\n",
       "      <td>3</td>\n",
       "      <td>3</td>\n",
       "      <td>1.0</td>\n",
       "    </tr>\n",
       "    <tr>\n",
       "      <th>3</th>\n",
       "      <td>2021-2022</td>\n",
       "      <td>Peterborough</td>\n",
       "      <td>HEMS</td>\n",
       "      <td>BA (Hons) Primary Education Studies</td>\n",
       "      <td>Female</td>\n",
       "      <td>21</td>\n",
       "      <td>White</td>\n",
       "      <td>UK National</td>\n",
       "      <td>Low</td>\n",
       "      <td>Yes</td>\n",
       "      <td>Education &amp; Social Care</td>\n",
       "      <td>1</td>\n",
       "      <td>3</td>\n",
       "      <td>3</td>\n",
       "      <td>2.0</td>\n",
       "    </tr>\n",
       "    <tr>\n",
       "      <th>4</th>\n",
       "      <td>2021-2022</td>\n",
       "      <td>Chelmsford</td>\n",
       "      <td>HEMS</td>\n",
       "      <td>BSc (Hons) Nursing (Child)</td>\n",
       "      <td>Female</td>\n",
       "      <td>30</td>\n",
       "      <td>White</td>\n",
       "      <td>UK National</td>\n",
       "      <td>Low</td>\n",
       "      <td>Yes</td>\n",
       "      <td>Nursing &amp; Midwifery</td>\n",
       "      <td>1</td>\n",
       "      <td>3</td>\n",
       "      <td>3</td>\n",
       "      <td>2.0</td>\n",
       "    </tr>\n",
       "  </tbody>\n",
       "</table>\n",
       "</div>"
      ],
      "text/plain": [
       "        year        campus department  \\\n",
       "0  2021-2022     Cambridge         BL   \n",
       "1  2021-2022    Chelmsford         BL   \n",
       "2  2021-2022     Cambridge       AHSS   \n",
       "3  2021-2022  Peterborough       HEMS   \n",
       "4  2021-2022    Chelmsford       HEMS   \n",
       "\n",
       "                                          course  gender  age  \\\n",
       "0     BSc (Hons) Business with Events Management  Female   22   \n",
       "1  BSc (Hons) Business Management and Leadership    Male   21   \n",
       "2                      BA (Hons) Performing Arts  Female   21   \n",
       "3            BA (Hons) Primary Education Studies  Female   21   \n",
       "4                     BSc (Hons) Nursing (Child)  Female   30   \n",
       "\n",
       "                       ethnicity  nationality household_income disab  \\\n",
       "0  Mixed - White & Black African   Portuguese              Low    No   \n",
       "1         Other Asian background     Nepalese       unreported    No   \n",
       "2                          White  UK National              Mid    No   \n",
       "3                          White  UK National              Low   Yes   \n",
       "4                          White  UK National              Low   Yes   \n",
       "\n",
       "                     school formality helpfulness warmth  overall  \n",
       "0               Management          2           3      3      4.0  \n",
       "1               Management          2           1      2      4.0  \n",
       "2      Creative Industries          1           3      3      1.0  \n",
       "3  Education & Social Care          1           3      3      2.0  \n",
       "4     Nursing & Midwifery           1           3      3      2.0  "
      ]
     },
     "execution_count": 503,
     "metadata": {},
     "output_type": "execute_result"
    }
   ],
   "source": [
    "powerbi_demo.head()"
   ]
  },
  {
   "cell_type": "code",
   "execution_count": 504,
   "id": "681bd2be",
   "metadata": {},
   "outputs": [],
   "source": [
    "powerbi_demo.to_csv('powerbi_demo.csv')"
   ]
  },
  {
   "cell_type": "code",
   "execution_count": 505,
   "id": "038e65d1",
   "metadata": {},
   "outputs": [],
   "source": [
    "powerbi_demo.to_csv('/Users/symphony/Downloads/powerbi_demo.csv')"
   ]
  },
  {
   "cell_type": "code",
   "execution_count": null,
   "id": "82d3044f",
   "metadata": {},
   "outputs": [],
   "source": []
  }
 ],
 "metadata": {
  "kernelspec": {
   "display_name": "Python 3",
   "language": "python",
   "name": "python3"
  },
  "language_info": {
   "codemirror_mode": {
    "name": "ipython",
    "version": 3
   },
   "file_extension": ".py",
   "mimetype": "text/x-python",
   "name": "python",
   "nbconvert_exporter": "python",
   "pygments_lexer": "ipython3",
   "version": "3.8.8"
  }
 },
 "nbformat": 4,
 "nbformat_minor": 5
}
