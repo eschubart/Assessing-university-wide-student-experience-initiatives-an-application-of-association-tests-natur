{
 "cells": [
  {
   "cell_type": "code",
   "execution_count": 149,
   "id": "00710690",
   "metadata": {},
   "outputs": [],
   "source": [
    "import pandas as pd\n",
    "import numpy as np\n",
    "import re\n",
    "import sys \n",
    "#!{sys.executable} -m pip install contractions\n",
    "import contractions\n",
    "import nltk\n",
    "#!{sys.executable} -m pip install transformers\n",
    "from gensim.models import Word2Vec\n",
    "from sklearn.decomposition import PCA\n",
    "import matplotlib.pyplot as plt\n",
    "from sklearn.cluster import MiniBatchKMeans\n",
    "from sklearn.metrics import silhouette_score\n",
    "from sklearn.metrics import silhouette_samples\n",
    "from sklearn.feature_extraction.text import TfidfVectorizer\n",
    "from sklearn.feature_extraction.text import CountVectorizer"
   ]
  },
  {
   "cell_type": "code",
   "execution_count": 150,
   "id": "3a135493",
   "metadata": {},
   "outputs": [],
   "source": [
    "results1 = pd.read_excel('/Users/symphony/Desktop/Results1.xlsx')\n",
    "results2 = pd.read_excel('/Users/symphony/Desktop/Results2.xlsx')\n",
    "df = pd.concat([results1, results2], ignore_index=True)\n",
    "df = df.drop(['CompletionDate','Amazon voucher winner', '11. Name', '12. SID', \n",
    "'5.a. If you selected Other, please specify:'], axis = 1)\n",
    "df = df.rename(columns={df.columns[0]:'campus', df.columns[1]:'how_became_aware', df.columns[2]:'if_other', \n",
    "df.columns[3]:'first_contact', df.columns[4]:'access_method', df.columns[5]:'met_up', df.columns[6]:'how_helped', \n",
    "df.columns[7]:'meet_new', df.columns[8]:'friends', df.columns[9]:'suggestions', df.columns[10]:'comments'})\n",
    "df = df.drop(['if_other'], axis = 1)"
   ]
  },
  {
   "cell_type": "code",
   "execution_count": 151,
   "id": "c2bfccb7",
   "metadata": {},
   "outputs": [
    {
     "data": {
      "text/plain": [
       "0      It helps a lot to settle in to life as a stude...\n",
       "1      Provided information about the uniforms and ma...\n",
       "2                                          To find notes\n",
       "3            There wasn’t too much information provided.\n",
       "4                              They didn't to be honest.\n",
       "                             ...                        \n",
       "125    When I was in my first year, i had a lot of an...\n",
       "126    Assisted me in helping find accomadation, prov...\n",
       "127                                           Was great \n",
       "128    Helped me by answering questions and concerns ...\n",
       "129    Meet in University, speak about their experien...\n",
       "Name: how_helped, Length: 130, dtype: object"
      ]
     },
     "execution_count": 151,
     "metadata": {},
     "output_type": "execute_result"
    }
   ],
   "source": [
    "df['how_helped']"
   ]
  },
  {
   "cell_type": "markdown",
   "id": "1b4145d1",
   "metadata": {},
   "source": [
    "## Unsupervised method"
   ]
  },
  {
   "cell_type": "code",
   "execution_count": 152,
   "id": "bc661038",
   "metadata": {},
   "outputs": [],
   "source": [
    "#In what ways did your Welcome Buddy help you to settle in to life as a student at ARU?\n",
    "\n",
    "#create function that cleans the text (vocab reduction), tokenizes each word of each response and removes stop words\n",
    "from nltk.tokenize import word_tokenize\n",
    "\n",
    "from nltk.corpus import stopwords\n",
    "  \n",
    "df['how_helped'][2]\n",
    "\n",
    "text = 'we are 100 welcome welcome buddy forever&*^'\n",
    "\n",
    "def vocab_clean(text):\n",
    "    #clean text\n",
    "    text = str(text)#make each entry into a string\n",
    "    text = text.lower()\n",
    "    text = contractions.fix(text)  #expand all contractions\n",
    "    text = re.sub(\"[\\(\\[].*?[\\)\\]]\", \"\", text) #remove () and [] and content inside\n",
    "    text = re.sub('\\w*\\d\\w*', '', text) #remove digits\n",
    "    text = re.sub(\"\\W\",\" \",text) #remove non-letters\n",
    "    text = re.sub('_+', '', text) #remove underscores\n",
    "    text = re.sub('-+', '', text) #remove dashes\n",
    "    text = re.sub(r'[^\\w\\s]','',text)  #remove quotes, but not what's w/in quote\n",
    "    text = text.replace('welcome buddy', '') #remove 'welcome buddy' from all responses\n",
    "    text = text.replace('buddy', '') #remove 'buddy' from all responses\n",
    "    text = text.replace('welcome buddies', '') #remove 'welcome buddy' from all responses\n",
    "    text = text.replace('alice', '') #remove 'alice' from all responses\n",
    "    text = text.replace('emma', '') #remove 'emma' from all responses\n",
    "    text = text.replace('aru', '') # remove 'aru' from all responses\n",
    "    text = text.replace('oh', '') # remove 'oh' from all responses\n",
    "    text = text.replace(' not ', 'not_') #join all 'not' to verb preceeding it\n",
    "    text = text.replace(' no ', ' no_') #join all \"no\" to noun following it\n",
    "    #text = \" \".join(re.split(\"\\s+\", text)) #remove duplicate spaces   \n",
    "    #turn each element into a token\n",
    "    text = word_tokenize(text)\n",
    "    \n",
    "    #removal of stop words\n",
    "    #nltk.download('stopwords')\n",
    "    stop = stopwords.words('english')\n",
    "    stop.remove('not')\n",
    "    stop.remove('no')\n",
    "    text = [word for word in text if not word in stopwords.words()]\n",
    "    \n",
    "    return text\n",
    "\n",
    "vocab_clean(text)\n",
    "#apply to whole column and make this into a new column of preprocessed text\n",
    "df['new_how_helped'] = df['how_helped'].apply(lambda x: vocab_clean(x))"
   ]
  },
  {
   "cell_type": "code",
   "execution_count": 153,
   "id": "dd42f9a5",
   "metadata": {},
   "outputs": [
    {
     "data": {
      "text/plain": [
       "str"
      ]
     },
     "execution_count": 153,
     "metadata": {},
     "output_type": "execute_result"
    }
   ],
   "source": [
    "cleaned_text = df['new_how_helped']\n",
    "cleaned_text = str(cleaned_text)\n",
    "type(cleaned_text)"
   ]
  },
  {
   "cell_type": "code",
   "execution_count": 154,
   "id": "8c87fc8f",
   "metadata": {},
   "outputs": [
    {
     "data": {
      "text/plain": [
       "[[{'label': 'sadness', 'score': 0.013175000436604023},\n",
       "  {'label': 'joy', 'score': 0.9320977926254272},\n",
       "  {'label': 'love', 'score': 0.0036559072323143482},\n",
       "  {'label': 'anger', 'score': 0.040714144706726074},\n",
       "  {'label': 'fear', 'score': 0.008339018560945988},\n",
       "  {'label': 'surprise', 'score': 0.0020182207226753235}]]"
      ]
     },
     "execution_count": 154,
     "metadata": {},
     "output_type": "execute_result"
    }
   ],
   "source": [
    "#sentiment analysis using pre-trained Distilbert\n",
    "from transformers import pipeline\n",
    "classifier = pipeline(\"text-classification\",model='bhadresh-savani/distilbert-base-uncased-emotion', return_all_scores=True)\n",
    "prediction = classifier(cleaned_text, )\n",
    "prediction\n"
   ]
  },
  {
   "cell_type": "code",
   "execution_count": 155,
   "id": "7672f4d6",
   "metadata": {},
   "outputs": [
    {
     "data": {
      "text/plain": [
       "130"
      ]
     },
     "execution_count": 155,
     "metadata": {},
     "output_type": "execute_result"
    }
   ],
   "source": [
    "sentences = df['new_how_helped'].to_list()\n",
    "len(sentences)"
   ]
  },
  {
   "cell_type": "code",
   "execution_count": 156,
   "id": "c6ea11cb",
   "metadata": {},
   "outputs": [
    {
     "name": "stdout",
     "output_type": "stream",
     "text": [
      "Total Number of elements :  687\n"
     ]
    }
   ],
   "source": [
    "#list comprehension to find number of tokens\n",
    "count = sum([len(i) for i in sentences])\n",
    "print('Total Number of elements : ', count)"
   ]
  },
  {
   "cell_type": "code",
   "execution_count": 157,
   "id": "caaac01f",
   "metadata": {},
   "outputs": [
    {
     "name": "stdout",
     "output_type": "stream",
     "text": [
      "Total Number of tokens :  687\n"
     ]
    }
   ],
   "source": [
    "#for loop to find vector size, aka number of dimensions of the embedding, \n",
    "#e.g. the length of the dense vector to represent each token (word)\n",
    "count = 0\n",
    "for i in sentences:\n",
    "    count += len(i)                    \n",
    "print('Total Number of tokens : ', count)"
   ]
  },
  {
   "cell_type": "code",
   "execution_count": 158,
   "id": "033135db",
   "metadata": {},
   "outputs": [
    {
     "name": "stderr",
     "output_type": "stream",
     "text": [
      "/Users/symphony/opt/anaconda3/lib/python3.8/site-packages/gensim/models/base_any2vec.py:742: UserWarning: C extension not loaded, training will be slow. Install a C compiler and reinstall gensim for fast training.\n",
      "  warnings.warn(\n"
     ]
    }
   ],
   "source": [
    "#create w2v model\n",
    "from gensim.models import word2vec\n",
    "model = word2vec.Word2Vec(sentences, workers=1, size = 350, min_count = 1,\n",
    "            window = 4, sg = 1, sample = 1e-3)"
   ]
  },
  {
   "cell_type": "code",
   "execution_count": 159,
   "id": "7ef61bec",
   "metadata": {},
   "outputs": [
    {
     "data": {
      "text/plain": [
       "[('queries', 0.1713251769542694),\n",
       " ('fundamentals', 0.142628014087677),\n",
       " ('websites', 0.11754798889160156),\n",
       " ('knowing', 0.11342263966798782),\n",
       " ('got', 0.10422667115926743),\n",
       " ('ideas', 0.10284942388534546),\n",
       " ('term', 0.10252537578344345),\n",
       " ('wasnot_anything', 0.10194487869739532),\n",
       " ('nothing', 0.10157476365566254),\n",
       " ('hard', 0.09795626997947693)]"
      ]
     },
     "execution_count": 159,
     "metadata": {},
     "output_type": "execute_result"
    }
   ],
   "source": [
    "#validate results\n",
    "model.wv.most_similar(\"helpful\")"
   ]
  },
  {
   "cell_type": "code",
   "execution_count": 160,
   "id": "ed902360",
   "metadata": {},
   "outputs": [
    {
     "name": "stdout",
     "output_type": "stream",
     "text": [
      "['helps', 'lot', 'settle', 'life', 'student', 'provided', 'information', 'uniforms', 'made', 'welcome', 'questions', 'find', 'notes', 'wasnot_too', 'much', 'didnot_to', 'honest', 'nan', 'unfortunately', 'introduced', 'time', 'spoke', 'sent', 'friendly', 'email', 'didnot_communicate', 'speak', 'settling', 'answered', 'promptly', 'sure', 'everything', 'okay', 'explained', 'help', 'available', 'new', 'students', 'terms', 'health', 'well', 'helped', 'explain', 'assignments', 'deadlines', 'extensions', 'needed', 'requested', 'required', 'subjects', 'helping', 'university', 'stuff', 'process', 'quiet', 'straight', 'forward', 'navigate', 'canvas', 'wasnot_any', 'conversation', 'told', 'expect', 'andnot_to', 'worry', 'offer', 'person', 'meet', 'wasnot_suitable', 'finding', 'local', 'area', 'revision', 'tips', 'couldnot_attend', 'day', 'didnot_', 'no_effort', 'reach', 'arrange', 'support', 'welcoming', 'nice', 'get', 'know', 'someone', 'older', 'year', 'gave', 'good', 'advice', 'question', 'whether', 'purchase', 'books', 'advance', 'week', 'introducing', 'benefit', 'engaging', 'environment', 'problem', 'solving', 'offering', 'bit', 'things', 'see', 'areas', 'uni', 'wasnot_anything', 'didnot_help', 'us', 'little', 'early', 'receive', 'donuts', 'studying', 'medicine', 'note', 'taking', 'maximise', 'learning', 'lectures', 'etc', 'really', 'disappointed', 'took', 'around', 'class', 'rooms', 'go', 'feel', 'comfortable', 'welcomed', 'coming', 'completely', 'place', 'chatting', 'frequently', 'answering', 'meeting', 'children', 'showing', 'campus', 'correct', 'building', 'messaged', 'ask', 'idea', 'offered', 'reassurance', 'felt', 'like', 'knew', 'already', 'simply', 'able', 'talk', 'enough', 'talking', 'helpful', 'talked', 'course', 'study', 'left', 'couple', 'messages', 'chat', 'no_contact', 'cope', 'placement', 'none', 'valuable', 'specific', 'could', 'starting', 'knowing', 'answer', 'wasnot_going', 'give', 'standard', 'response', 'boots', 'ground', 'comforting', 'work', 'way', 'general', 'option', 'revise', 'approach', 'assessments', 'routine', 'keep', 'workload', 'balance', 'relax', 'let', 'night', 'socialised', 'manage', 'telling', 'security', 'absolutely', 'conversations', 'didnot_use', 'feature', 'words', 'encouragement', 'got', 'supported', 'may', 'no_hesitation', 'grips', 'basics', 'fundamentals', 'excellent', 'recommended', 'term', 'reassured', 'doubts', 'library', 'system', 'showed', 'overwhelmed', 'working', 'full', 'education', 'going', 'kind', 'trimester', 'studies', 'done', 'foundation', 'didnot_really', 'need', 'getting', 'settled', 'however', 'crop', 'deal', 'different', 'situations', 'say', 'expected', 'though', 'particularly', 'beneficial', 'original', 'withdraw', 'current', 'quite', 'late', 'timetable', 'axis', 'submitting', 'zoom', 'calls', 'think', 'needs', 'extremely', 'options', 'ideas', 'group', 'space', 'since', 'part', 'aware', 'facilities', 'relevant', 'informations', 'lovely', 'didnot_end', 'didnot_feel', 'didnot_have', 'message', 'disappeared', 'lots', 'download', 'apps', 'assessing', 'sights', 'nothing', 'college', 'used', 'number', 'contact', 'never', 'weeks', 'passed', 'remember', 'hearing', 'replied', 'else', 'posted', 'advised', 'personal', 'tutor', 'apologised', 'slow', 'respsond', 'asked', 'anything', 'busy', 'no_one', 'anyway', 'whatsoever', 'came', 'via', 'appointment', 'first', 'excited', 'went', 'flat', 'given', 'answers', 'clearing', 'sort', 'confusion', 'checking', 'skills', 'days', 'didnot_if', 'found', 'teacher', 'people', 'experience', 'mail', 'correspondence', 'tried', 'virtual', 'wasnot_responding', 'timely', 'queries', 'properly', 'hard', 'anxiety', 'surrounding', 'moving', 'away', 'home', 'chapter', 'assisted', 'accomadation', 'right', 'lookup', 'guide', 'websites', 'look', 'great', 'concerns', 'experiences']\n"
     ]
    }
   ],
   "source": [
    "#look at model's learned vocabulary of tokens (words)\n",
    "words = list(model.wv.vocab)\n",
    "print(words)"
   ]
  },
  {
   "cell_type": "code",
   "execution_count": 161,
   "id": "9e0c0b82",
   "metadata": {},
   "outputs": [
    {
     "name": "stdout",
     "output_type": "stream",
     "text": [
      "[-6.45259279e-04  4.89443250e-04 -1.35378190e-03  5.21370501e-04\n",
      " -1.83394382e-04 -8.21070280e-04  4.10344946e-04  4.26686369e-04\n",
      "  6.16939040e-04  8.67462295e-05 -1.04847393e-04  1.76538801e-04\n",
      "  3.72873365e-05 -8.04072770e-04 -7.25147547e-04 -7.71806517e-04\n",
      "  1.13763544e-03  7.87930447e-04 -1.31378940e-04 -5.37028827e-04\n",
      "  7.28268642e-04  1.47730854e-04  6.55634562e-04  4.79460286e-05\n",
      "  4.14493879e-05 -4.13965347e-04  1.27188477e-03 -3.46855726e-04\n",
      "  3.51496965e-05 -1.12141238e-03 -8.04840020e-05 -3.51705006e-04\n",
      "  6.62346079e-04  1.00046466e-03 -9.44200554e-04 -4.47880448e-04\n",
      " -1.18708564e-03 -2.47176824e-04 -1.06250495e-03 -1.36353646e-03\n",
      "  1.24192098e-03 -6.11548079e-04  1.42121207e-05  9.75532806e-04\n",
      "  1.23320462e-03 -1.39535766e-03  6.28123176e-04 -1.19613716e-03\n",
      "  1.00005977e-03  3.84324987e-04 -2.67162482e-04  3.24332534e-04\n",
      "  1.49318730e-04 -3.66253895e-04  1.62039301e-04  2.11067032e-04\n",
      "  1.42983568e-03 -1.25312537e-03 -1.18993048e-03 -1.25092352e-04\n",
      " -1.30097975e-03 -1.32399157e-03 -1.23787054e-03 -1.34550990e-03\n",
      " -3.93896393e-04  7.50568055e-04 -1.29541242e-03 -2.71827856e-04\n",
      "  1.04691181e-03 -5.68040821e-04 -1.08498090e-03  4.98148380e-04\n",
      "  3.92168440e-04 -2.97182036e-04 -1.20641897e-03  7.29546126e-04\n",
      "  1.07279024e-03 -2.23476949e-04 -3.89865803e-04 -6.31876348e-04\n",
      "  9.00534273e-04  1.21591834e-03  8.30673845e-04 -1.18191342e-03\n",
      " -3.86006868e-04 -2.80753855e-04  2.66539922e-04 -9.44612722e-04\n",
      "  2.01266899e-04 -5.10580285e-05 -6.48584217e-04  1.55684596e-04\n",
      " -9.89838736e-04  8.72284756e-04 -5.39376691e-04  8.83193978e-04\n",
      " -1.92484062e-04 -1.21904514e-03 -8.36207764e-05  8.27184122e-04\n",
      " -4.85337405e-05 -5.24224830e-04  3.89796944e-04 -2.78841675e-04\n",
      " -1.07221899e-03  6.45640190e-04 -7.01367157e-04 -7.29864696e-04\n",
      " -5.55789797e-04 -4.75453387e-04  5.43126836e-04  1.23845006e-03\n",
      "  3.37130594e-04 -1.17622537e-03  9.53542884e-04  4.50851599e-04\n",
      " -4.97020083e-04  9.07293637e-04 -8.87731148e-04  1.40103046e-03\n",
      " -1.01070805e-03  8.27463344e-04 -1.31744391e-03  7.08236941e-04\n",
      " -1.54392241e-04 -1.10377581e-03  1.38358024e-04 -9.14048112e-04\n",
      " -1.36082375e-03 -1.20626355e-03  2.49905162e-04  1.23036630e-03\n",
      " -1.17567286e-03 -2.38123990e-04 -7.51780521e-04  2.94824247e-04\n",
      " -1.39942742e-03  8.03244999e-04 -1.31839456e-03 -1.00237434e-03\n",
      " -9.40610946e-04 -1.15605036e-03  6.70064590e-04  9.00709245e-04\n",
      "  1.37385342e-03 -1.33967679e-03  1.25809561e-03  1.04637723e-03\n",
      "  6.46578672e-04  1.03944330e-03  8.25712632e-04 -2.64130096e-04\n",
      " -9.20805964e-04  4.30733577e-04  7.05940591e-04 -1.02298276e-03\n",
      " -8.90512834e-04 -1.95700006e-04  6.04913221e-04  9.33667121e-04\n",
      " -2.76969397e-04 -6.57181081e-05  5.91957301e-04  3.35612945e-04\n",
      " -4.19418648e-04  5.66043745e-05 -2.90205207e-04 -7.08520456e-05\n",
      "  2.06298384e-04 -1.03313869e-04  4.65756981e-04 -5.27638942e-04\n",
      "  7.43377430e-04  4.23075471e-06  5.17693406e-04  3.02581349e-04\n",
      "  1.34783948e-03  4.05790255e-04 -1.31868967e-03  1.05772214e-03\n",
      " -4.07554733e-04  9.31778573e-04 -4.43320576e-04  1.04490423e-03\n",
      " -4.06148698e-04 -1.16497593e-03  3.26122448e-04  1.49672211e-04\n",
      " -1.09389552e-03  1.00315793e-03  1.31245144e-03 -6.65206462e-04\n",
      "  1.06064312e-03  6.01112260e-04  1.22327416e-03 -1.34375959e-03\n",
      " -9.77982185e-04  8.01591610e-04  9.47640627e-04 -1.14850258e-03\n",
      "  7.75243330e-04  9.95211303e-04  3.04962276e-04 -1.30709144e-03\n",
      " -5.11854945e-04  1.21488015e-03  4.48471255e-04  2.52699392e-04\n",
      " -1.05783821e-03 -1.32267468e-03 -1.15384732e-03  6.02678629e-04\n",
      " -1.31190475e-03 -1.40041765e-03  6.33356452e-04 -1.27535930e-03\n",
      "  9.19167767e-04  1.21475954e-03 -4.48069943e-04 -9.48514207e-05\n",
      "  3.13241093e-04 -1.20100216e-03  8.90502881e-04 -5.87240851e-04\n",
      " -3.64683830e-04  1.16091419e-03  8.77906918e-04  5.79828164e-04\n",
      "  1.33759517e-03  3.45580018e-04 -8.26415955e-04  1.91775805e-04\n",
      "  1.09838066e-03 -1.09405513e-03 -7.26607250e-05  1.06782326e-03\n",
      " -9.88024869e-04  3.56256409e-04  3.80436541e-05 -4.68686310e-04\n",
      "  3.02709406e-04 -5.71983866e-04  1.22031826e-03 -1.40988152e-04\n",
      "  2.44185387e-04 -5.98681872e-05 -1.30623940e-03 -1.05117925e-03\n",
      " -3.16507678e-04  4.67565318e-04  5.61875117e-04  5.39652654e-04\n",
      "  4.84287128e-04 -5.52496291e-04 -1.22064562e-03 -9.72774287e-04\n",
      " -5.05722826e-04  1.27098567e-04  5.74918697e-04 -2.15627675e-04\n",
      " -1.35780673e-03 -1.04883953e-03  1.05907186e-03  1.03122892e-03\n",
      "  8.88888375e-04  8.11691789e-05  1.00817194e-03 -4.55901958e-04\n",
      " -1.14613958e-03  1.19059079e-03  1.26338901e-03  1.27825711e-03\n",
      " -9.89317079e-04  7.41625903e-04 -6.32074196e-04  1.31210405e-03\n",
      "  3.78383236e-04  3.00314714e-04 -9.12128016e-05  9.88607877e-04\n",
      " -2.45911302e-04 -4.66774305e-04 -2.16107102e-04 -4.79743088e-04\n",
      " -1.28169544e-03  4.63944394e-04 -2.08726953e-04 -9.33365955e-04\n",
      "  1.27694220e-04  1.14718010e-03 -5.80016524e-04  5.74082660e-04\n",
      "  3.70468159e-04  1.27865933e-03 -1.06969092e-03 -9.43353283e-04\n",
      " -2.50744924e-04 -7.27484119e-04  4.67515747e-05 -8.99844337e-04\n",
      "  1.18166348e-03  8.62360699e-04 -4.61378484e-04 -5.87341434e-04\n",
      " -1.16216741e-03 -1.34950131e-03  5.30660909e-04 -3.66717664e-04\n",
      "  6.76008640e-04  3.29898583e-04 -1.04464218e-03 -4.52622568e-04\n",
      " -1.18354952e-03  6.67708868e-04  1.38341892e-03 -5.65136550e-04\n",
      "  1.03594724e-03  1.38183427e-03  5.22694667e-04 -7.10424443e-04\n",
      " -7.17307616e-04  6.39887061e-04 -1.19575874e-04  1.31734239e-04\n",
      "  5.68794901e-04  4.41953831e-04 -3.35656194e-04 -6.43649546e-04\n",
      " -3.11039970e-04 -7.38302188e-04  4.95085551e-04 -3.57905636e-04\n",
      "  1.10469514e-03 -3.01093445e-04  1.17387669e-03 -4.20030206e-04\n",
      "  8.04164374e-05 -1.78217568e-04 -9.60210455e-04  3.69786139e-04\n",
      " -1.10934209e-03 -1.16817397e-03  5.01670409e-04  6.78390497e-04\n",
      " -9.65878600e-04 -1.29857438e-03  2.58066430e-04 -7.02153600e-04\n",
      " -8.90111085e-04 -1.67591774e-04]\n"
     ]
    },
    {
     "name": "stderr",
     "output_type": "stream",
     "text": [
      "<ipython-input-161-23d622e8f218>:3: DeprecationWarning: Call to deprecated `__getitem__` (Method will be removed in 4.0.0, use self.wv.__getitem__() instead).\n",
      "  print(model['helpful'])\n"
     ]
    }
   ],
   "source": [
    "#review the embedded vector for a specific token as follows:\n",
    "\n",
    "print(model['helpful'])"
   ]
  },
  {
   "cell_type": "code",
   "execution_count": 162,
   "id": "f816db49",
   "metadata": {},
   "outputs": [
    {
     "name": "stderr",
     "output_type": "stream",
     "text": [
      "<ipython-input-162-8db8ecd2a535>:2: DeprecationWarning: Call to deprecated `__getitem__` (Method will be removed in 4.0.0, use self.wv.__getitem__() instead).\n",
      "  X = model[model.wv.vocab]\n"
     ]
    },
    {
     "data": {
      "text/plain": [
       "Text(0.5, 1.0, 'scatterplot PCA projection of word2vec model')"
      ]
     },
     "execution_count": 162,
     "metadata": {},
     "output_type": "execute_result"
    },
    {
     "data": {
      "image/png": "[encoded data removed]",
      "text/plain": [
       "<Figure size 648x648 with 1 Axes>"
      ]
     },
     "metadata": {
      "needs_background": "light"
     },
     "output_type": "display_data"
    }
   ],
   "source": [
    "#Visualize Word Embedding\n",
    "X = model[model.wv.vocab]\n",
    "#plot vectors w/ pca\n",
    "pca = PCA(n_components=2)\n",
    "result = pca.fit_transform(X)\n",
    "plt.scatter(result[:, 0], result[:, 1])\n",
    "\n",
    "plt.gcf().set_size_inches((9, 9)) \n",
    "\n",
    "plt.title('scatterplot PCA projection of word2vec model')\n",
    "\n",
    "#words = list(model.wv.vocab)\n",
    "#for i, word in enumerate(words):\n",
    "    #plt.annotate(word, xy=(result[i, 0], result[i, 1]))\n",
    "#plt.show()\n",
    "\n",
    "\n",
    "#scatter plot shows no correlation between pc1 and pc2, no structure to this cluster\n",
    "#largest axes of variation indicate one single \"cluster\"\n",
    "#consistent with results of pretrained model "
   ]
  },
  {
   "cell_type": "code",
   "execution_count": 163,
   "id": "01d8cb72",
   "metadata": {},
   "outputs": [
    {
     "data": {
      "text/plain": [
       "(130, 350)"
      ]
     },
     "execution_count": 163,
     "metadata": {},
     "output_type": "execute_result"
    }
   ],
   "source": [
    "def vectorize(list_of_docs, model):   #1. define the vectorize function that takes a list of documents \n",
    "                                        #and the gensim model as input, and generates a feature vector \n",
    "                                        #per document as output.\n",
    "                                #2. apply the function to the documents' tokens in tokenized_doc, \n",
    "                                #using the Word2Vec model you trained earlier\n",
    "                                #3. print the length of the list of documents and the size of the generated vectors\n",
    "\n",
    "    features = []\n",
    "    for tokens in list_of_docs:\n",
    "        zero_vector = np.zeros(model.vector_size)\n",
    "        vectors = []\n",
    "        for token in tokens:\n",
    "            if token in model.wv:\n",
    "                try:\n",
    "                    vectors.append(model.wv[token])\n",
    "                except KeyError:\n",
    "                    continue\n",
    "        if vectors:\n",
    "            vectors = np.asarray(vectors)\n",
    "            avg_vec = vectors.mean(axis=0)\n",
    "            features.append(avg_vec)\n",
    "        else:\n",
    "            features.append(zero_vector)\n",
    "    return features\n",
    "\n",
    "\n",
    "vectorized_docs = vectorize(sentences, model=model)\n",
    "len(vectorized_docs), len(vectorized_docs[0])"
   ]
  },
  {
   "cell_type": "code",
   "execution_count": 164,
   "id": "c3f5da6f",
   "metadata": {},
   "outputs": [],
   "source": [
    "#cluster documents with k-means\n",
    "def mbkmeans_clusters(\n",
    "\tX, \n",
    "    k, \n",
    "    mb, \n",
    "    print_silhouette_values, \n",
    "):\n",
    "    km = MiniBatchKMeans(n_clusters=k, batch_size=mb).fit(X)\n",
    "    print(f\"For n_clusters = {k}\")\n",
    "    print(f\"Silhouette coefficient: {silhouette_score(X, km.labels_):0.2f}\")\n",
    "    print(f\"Inertia:{km.inertia_}\")\n",
    "\n",
    "    if print_silhouette_values:\n",
    "        sample_silhouette_values = silhouette_samples(X, km.labels_)\n",
    "        print(f\"Silhouette values:\")\n",
    "        silhouette_values = []\n",
    "        for i in range(k):\n",
    "            cluster_silhouette_values = sample_silhouette_values[km.labels_ == i]\n",
    "            silhouette_values.append(\n",
    "                (\n",
    "                    i,\n",
    "                    cluster_silhouette_values.shape[0],\n",
    "                    cluster_silhouette_values.mean(),\n",
    "                    cluster_silhouette_values.min(),\n",
    "                    cluster_silhouette_values.max(),\n",
    "                )\n",
    "            )\n",
    "        silhouette_values = sorted(\n",
    "            silhouette_values, key=lambda tup: tup[2], reverse=True\n",
    "        )\n",
    "        for s in silhouette_values:\n",
    "            print(\n",
    "                f\"    Cluster {s[0]}: Size:{s[1]} | Avg:{s[2]:.2f} | Min:{s[3]:.2f} | Max: {s[4]:.2f}\"\n",
    "            )\n",
    "    return km, km.labels_"
   ]
  },
  {
   "cell_type": "code",
   "execution_count": 165,
   "id": "72e145e9",
   "metadata": {},
   "outputs": [
    {
     "name": "stdout",
     "output_type": "stream",
     "text": [
      "For n_clusters = 4\n",
      "Silhouette coefficient: 0.39\n",
      "Inertia:0.007862118511296635\n",
      "Silhouette values:\n",
      "    Cluster 2: Size:5 | Avg:1.00 | Min:1.00 | Max: 1.00\n",
      "    Cluster 1: Size:123 | Avg:0.37 | Min:0.19 | Max: 0.51\n",
      "    Cluster 0: Size:1 | Avg:0.00 | Min:0.00 | Max: 0.00\n",
      "    Cluster 3: Size:1 | Avg:0.00 | Min:0.00 | Max: 0.00\n"
     ]
    }
   ],
   "source": [
    "clustering, cluster_labels = mbkmeans_clusters(\n",
    "\tX=vectorized_docs,\n",
    "    k=4,\n",
    "    mb=50,\n",
    "    print_silhouette_values=True,\n",
    ")\n",
    "df_clusters = pd.DataFrame({\n",
    "    \"text\": df['how_helped'],\n",
    "    \"tokens\": [\" \".join(text) for text in sentences],\n",
    "    \"cluster\": cluster_labels\n",
    "})"
   ]
  },
  {
   "cell_type": "code",
   "execution_count": 166,
   "id": "ae2b7055",
   "metadata": {},
   "outputs": [
    {
     "data": {
      "text/html": [
       "<div>\n",
       "<style scoped>\n",
       "    .dataframe tbody tr th:only-of-type {\n",
       "        vertical-align: middle;\n",
       "    }\n",
       "\n",
       "    .dataframe tbody tr th {\n",
       "        vertical-align: top;\n",
       "    }\n",
       "\n",
       "    .dataframe thead th {\n",
       "        text-align: right;\n",
       "    }\n",
       "</style>\n",
       "<table border=\"1\" class=\"dataframe\">\n",
       "  <thead>\n",
       "    <tr style=\"text-align: right;\">\n",
       "      <th></th>\n",
       "      <th>text</th>\n",
       "      <th>tokens</th>\n",
       "      <th>cluster</th>\n",
       "    </tr>\n",
       "  </thead>\n",
       "  <tbody>\n",
       "    <tr>\n",
       "      <th>0</th>\n",
       "      <td>It helps a lot to settle in to life as a stude...</td>\n",
       "      <td>helps lot settle life student</td>\n",
       "      <td>1</td>\n",
       "    </tr>\n",
       "    <tr>\n",
       "      <th>1</th>\n",
       "      <td>Provided information about the uniforms and ma...</td>\n",
       "      <td>provided information uniforms made welcome que...</td>\n",
       "      <td>1</td>\n",
       "    </tr>\n",
       "    <tr>\n",
       "      <th>2</th>\n",
       "      <td>To find notes</td>\n",
       "      <td>find notes</td>\n",
       "      <td>1</td>\n",
       "    </tr>\n",
       "    <tr>\n",
       "      <th>3</th>\n",
       "      <td>There wasn’t too much information provided.</td>\n",
       "      <td>wasnot_too much information provided</td>\n",
       "      <td>1</td>\n",
       "    </tr>\n",
       "    <tr>\n",
       "      <th>4</th>\n",
       "      <td>They didn't to be honest.</td>\n",
       "      <td>didnot_to honest</td>\n",
       "      <td>1</td>\n",
       "    </tr>\n",
       "    <tr>\n",
       "      <th>...</th>\n",
       "      <td>...</td>\n",
       "      <td>...</td>\n",
       "      <td>...</td>\n",
       "    </tr>\n",
       "    <tr>\n",
       "      <th>125</th>\n",
       "      <td>When I was in my first year, i had a lot of an...</td>\n",
       "      <td>first year lot anxiety surrounding moving away...</td>\n",
       "      <td>1</td>\n",
       "    </tr>\n",
       "    <tr>\n",
       "      <th>126</th>\n",
       "      <td>Assisted me in helping find accomadation, prov...</td>\n",
       "      <td>assisted helping find accomadation provided ri...</td>\n",
       "      <td>1</td>\n",
       "    </tr>\n",
       "    <tr>\n",
       "      <th>127</th>\n",
       "      <td>Was great</td>\n",
       "      <td>great</td>\n",
       "      <td>1</td>\n",
       "    </tr>\n",
       "    <tr>\n",
       "      <th>128</th>\n",
       "      <td>Helped me by answering questions and concerns ...</td>\n",
       "      <td>helped answering questions concerns</td>\n",
       "      <td>1</td>\n",
       "    </tr>\n",
       "    <tr>\n",
       "      <th>129</th>\n",
       "      <td>Meet in University, speak about their experien...</td>\n",
       "      <td>meet university speak experiences</td>\n",
       "      <td>1</td>\n",
       "    </tr>\n",
       "  </tbody>\n",
       "</table>\n",
       "<p>130 rows × 3 columns</p>\n",
       "</div>"
      ],
      "text/plain": [
       "                                                  text  \\\n",
       "0    It helps a lot to settle in to life as a stude...   \n",
       "1    Provided information about the uniforms and ma...   \n",
       "2                                        To find notes   \n",
       "3          There wasn’t too much information provided.   \n",
       "4                            They didn't to be honest.   \n",
       "..                                                 ...   \n",
       "125  When I was in my first year, i had a lot of an...   \n",
       "126  Assisted me in helping find accomadation, prov...   \n",
       "127                                         Was great    \n",
       "128  Helped me by answering questions and concerns ...   \n",
       "129  Meet in University, speak about their experien...   \n",
       "\n",
       "                                                tokens  cluster  \n",
       "0                        helps lot settle life student        1  \n",
       "1    provided information uniforms made welcome que...        1  \n",
       "2                                           find notes        1  \n",
       "3                 wasnot_too much information provided        1  \n",
       "4                                     didnot_to honest        1  \n",
       "..                                                 ...      ...  \n",
       "125  first year lot anxiety surrounding moving away...        1  \n",
       "126  assisted helping find accomadation provided ri...        1  \n",
       "127                                              great        1  \n",
       "128                helped answering questions concerns        1  \n",
       "129                  meet university speak experiences        1  \n",
       "\n",
       "[130 rows x 3 columns]"
      ]
     },
     "execution_count": 166,
     "metadata": {},
     "output_type": "execute_result"
    }
   ],
   "source": [
    "df_clusters\n",
    "#reveals lack of distinct cluster structures, as we would expect from pca"
   ]
  },
  {
   "cell_type": "markdown",
   "id": "83d4a91d",
   "metadata": {},
   "source": [
    "## Supervised method"
   ]
  },
  {
   "cell_type": "code",
   "execution_count": 167,
   "id": "371c4d99",
   "metadata": {},
   "outputs": [],
   "source": [
    "results1 = pd.read_excel('/Users/symphony/Desktop/Results1.xlsx')\n",
    "results2 = pd.read_excel('/Users/symphony/Desktop/Results2.xlsx')\n",
    "df1 = pd.concat([results1, results2], ignore_index=True)\n",
    "df1 = df1.drop(df1.columns[[1, 2, 3, 4, 5, 6, 9, 10, 11, 12, 13, 14, 15, 16]], axis=1)\n",
    "df1= df1.rename(columns={df1.columns[0]:'campus', df1.columns[1]:'how_helped'})\n",
    "df1.drop(df1[df1['sentiment'] == 'n'].index, inplace = True)#remove all neutrals, aka clean for irrelevence"
   ]
  },
  {
   "cell_type": "code",
   "execution_count": 168,
   "id": "1b5ba565",
   "metadata": {},
   "outputs": [
    {
     "data": {
      "text/plain": [
       "<AxesSubplot:ylabel='sentiment'>"
      ]
     },
     "execution_count": 168,
     "metadata": {},
     "output_type": "execute_result"
    },
    {
     "data": {
      "image/png": "[encoded data removed]",
      "text/plain": [
       "<Figure size 720x432 with 1 Axes>"
      ]
     },
     "metadata": {},
     "output_type": "display_data"
    }
   ],
   "source": [
    "#distribution of sentiments across all responses\n",
    "df1.sentiment.value_counts().plot(kind='pie', autopct='%1.0f%%', figsize=(10,6), labels= ['positive','negative'], colors=[\"green\", \"red\"])\n",
    "#most responses are positive"
   ]
  },
  {
   "cell_type": "code",
   "execution_count": 169,
   "id": "cf9dbae9",
   "metadata": {},
   "outputs": [
    {
     "data": {
      "text/plain": [
       "<matplotlib.legend.Legend at 0x1725bf430>"
      ]
     },
     "execution_count": 169,
     "metadata": {},
     "output_type": "execute_result"
    },
    {
     "data": {
      "image/png": "[encoded data removed]",
      "text/plain": [
       "<Figure size 432x288 with 1 Axes>"
      ]
     },
     "metadata": {
      "needs_background": "light"
     },
     "output_type": "display_data"
    }
   ],
   "source": [
    "#distribution of sentiments for each campus\n",
    "sentiment = df1.groupby(['campus', 'sentiment']).sentiment.count().unstack()\n",
    "sentiment.plot(kind='bar', rot=0)\n",
    "plt.title('distribution of sentiments for each campus', fontsize=18)\n",
    "plt.legend([\"negative\", \"positive\"], \n",
    "           bbox_to_anchor=(1.0, 1.0), loc =\"upper right\")"
   ]
  },
  {
   "cell_type": "code",
   "execution_count": 170,
   "id": "be2869b1",
   "metadata": {},
   "outputs": [],
   "source": [
    "#clean text\n",
    "\n",
    "#In what ways did your Welcome Buddy help you to settle in to life as a student at ARU?\n",
    "\n",
    "#create function that cleans the text (vocab reduction), tokenizes each word of each response and removes stop words\n",
    "from nltk.tokenize import word_tokenize\n",
    "\n",
    "from nltk.corpus import stopwords\n",
    "  \n",
    "df1['how_helped'][2]\n",
    "\n",
    "text = df1['how_helped'][2]\n",
    "\n",
    "def vocab_clean(text):\n",
    "    #clean text\n",
    "    text = str(text)#make each entry into a string\n",
    "    text = text.lower()\n",
    "    text = contractions.fix(text)  #expand all contractions\n",
    "    text = re.sub(\"[\\(\\[].*?[\\)\\]]\", \"\", text) #remove () and [] and content inside\n",
    "    text = re.sub('\\w*\\d\\w*', '', text) #remove digits\n",
    "    text = re.sub(\"\\W\",\" \",text) #remove non-letters\n",
    "    text = re.sub('_+', '', text) #remove underscores\n",
    "    text = re.sub('-+', '', text) #remove dashes\n",
    "    text = re.sub(r'[^\\w\\s]','',text)  #remove quotes, but not what's w/in quote\n",
    "    text = text.replace('welcome buddy', '') #remove 'welcome buddy' from all responses\n",
    "    text = text.replace('buddy', '') #remove 'buddy' from all responses\n",
    "    text = text.replace('welcome buddies', '') #remove 'welcome buddy' from all responses\n",
    "    text = text.replace('alice', '') #remove 'alice' from all responses\n",
    "    text = text.replace('emma', '') #remove 'emma' from all responses\n",
    "    text = text.replace('aru', '') # remove 'aru' from all responses\n",
    "    text = text.replace('oh', '') # remove 'oh' from all responses\n",
    "    text = text.replace(' not ', 'not_') #join all 'not' to verb preceeding it\n",
    "    text = text.replace(' no ', ' no_') #join all \"no\" to noun following it\n",
    "    #text = \" \".join(re.split(\"\\s+\", text)) #remove duplicate spaces   \n",
    "    #turn each element into a token\n",
    "    text = word_tokenize(text)\n",
    "    \n",
    "    #removal of stop words\n",
    "    #nltk.download('stopwords')\n",
    "    stop = stopwords.words('english')\n",
    "    stop.remove('not')\n",
    "    stop.remove('no')\n",
    "    text = [word for word in text if not word in stopwords.words()]\n",
    "    \n",
    "    return text\n",
    "\n",
    "vocab_clean(text)\n",
    "#apply to whole column and make this into a new column of preprocessed text\n",
    "df1['new_how_helped'] = df1['how_helped'].apply(lambda x: vocab_clean(x))"
   ]
  },
  {
   "cell_type": "code",
   "execution_count": 171,
   "id": "f4e6b626",
   "metadata": {},
   "outputs": [],
   "source": [
    "#remove all rows that corresponded to neutral sentiment, aka clean for irrelevence\n",
    "df1.dropna(inplace = True)"
   ]
  },
  {
   "cell_type": "code",
   "execution_count": 172,
   "id": "f93e1518",
   "metadata": {},
   "outputs": [
    {
     "name": "stdout",
     "output_type": "stream",
     "text": [
      "Total Number of tokens :  660\n"
     ]
    }
   ],
   "source": [
    "#for loop to find no of responses\n",
    "count = 0\n",
    "for i in df1['new_how_helped']:\n",
    "    count += len(i)                    \n",
    "print('Total Number of tokens : ', count)"
   ]
  },
  {
   "cell_type": "code",
   "execution_count": 173,
   "id": "ab502786",
   "metadata": {},
   "outputs": [
    {
     "data": {
      "text/plain": [
       "(116, 340)"
      ]
     },
     "execution_count": 173,
     "metadata": {},
     "output_type": "execute_result"
    }
   ],
   "source": [
    "tfidf = TfidfVectorizer(use_idf=True, norm='l2', smooth_idf=True)\n",
    "corpus = df1['new_how_helped']\n",
    "\n",
    "corpus = [str (item) for item in corpus]\n",
    "\n",
    "fitted_vectorizer=tfidf.fit(corpus)\n",
    "tfidf_vectorizer_vectors=fitted_vectorizer.transform(corpus)\n",
    "\n",
    "tfidf_vectorizer_vectors.shape"
   ]
  },
  {
   "cell_type": "code",
   "execution_count": 174,
   "id": "61c60449",
   "metadata": {},
   "outputs": [
    {
     "name": "stderr",
     "output_type": "stream",
     "text": [
      "<ipython-input-174-994aeac6577b>:3: DeprecationWarning: `np.float` is a deprecated alias for the builtin `float`. To silence this warning, use `float` by itself. Doing this will not modify any behavior and is safe. If you specifically wanted the numpy scalar type, use `np.float64` here.\n",
      "Deprecated in NumPy 1.20; for more details and guidance: https://numpy.org/devdocs/release/1.20.0-notes.html#deprecations\n",
      "  x = x.toarray().astype(np.float)\n",
      "<ipython-input-174-994aeac6577b>:5: DeprecationWarning: `np.float` is a deprecated alias for the builtin `float`. To silence this warning, use `float` by itself. Doing this will not modify any behavior and is safe. If you specifically wanted the numpy scalar type, use `np.float64` here.\n",
      "Deprecated in NumPy 1.20; for more details and guidance: https://numpy.org/devdocs/release/1.20.0-notes.html#deprecations\n",
      "  y = y.astype(np.float)\n"
     ]
    }
   ],
   "source": [
    "#define variables \n",
    "x = tfidf_vectorizer_vectors\n",
    "x = x.toarray().astype(np.float)\n",
    "y = np.array(df1.iloc[:,2])\n",
    "y = y.astype(np.float)"
   ]
  },
  {
   "cell_type": "code",
   "execution_count": 175,
   "id": "08621c68",
   "metadata": {},
   "outputs": [
    {
     "data": {
      "text/plain": [
       "116"
      ]
     },
     "execution_count": 175,
     "metadata": {},
     "output_type": "execute_result"
    }
   ],
   "source": [
    "len(x)"
   ]
  },
  {
   "cell_type": "code",
   "execution_count": 176,
   "id": "5301449f",
   "metadata": {},
   "outputs": [],
   "source": [
    "#split into test and train\n",
    "from sklearn.model_selection import train_test_split\n",
    "X_train, X_test, y_train, y_test = train_test_split(x, y, test_size=0.3, random_state=42)"
   ]
  },
  {
   "cell_type": "code",
   "execution_count": 177,
   "id": "4445d56c",
   "metadata": {},
   "outputs": [
    {
     "data": {
      "text/plain": [
       "(81,)"
      ]
     },
     "execution_count": 177,
     "metadata": {},
     "output_type": "execute_result"
    }
   ],
   "source": [
    "#check shaoe of X_train\n",
    "y_train.shape"
   ]
  },
  {
   "cell_type": "code",
   "execution_count": 178,
   "id": "8f0a86e9",
   "metadata": {},
   "outputs": [
    {
     "data": {
      "text/plain": [
       "LogisticRegression()"
      ]
     },
     "execution_count": 178,
     "metadata": {},
     "output_type": "execute_result"
    }
   ],
   "source": [
    "#train logistic regression\n",
    "from sklearn.linear_model import LogisticRegression\n",
    "from sklearn import metrics\n",
    "classifier = LogisticRegression()\n",
    "classifier.fit(X_train, y_train)\n",
    "\n",
    "\n"
   ]
  },
  {
   "cell_type": "code",
   "execution_count": 179,
   "id": "0a319720",
   "metadata": {},
   "outputs": [
    {
     "name": "stdout",
     "output_type": "stream",
     "text": [
      "Accuracy of logistic regression classifier on test set: 0.77\n"
     ]
    }
   ],
   "source": [
    "y_pred = classifier.predict(X_test)\n",
    "print('Accuracy of logistic regression classifier on test set: {:.2f}'.format(classifier.score(X_test, y_test)))"
   ]
  },
  {
   "cell_type": "code",
   "execution_count": 180,
   "id": "b51b8ab9",
   "metadata": {},
   "outputs": [
    {
     "name": "stdout",
     "output_type": "stream",
     "text": [
      "[[ 1  8]\n",
      " [ 0 26]]\n"
     ]
    }
   ],
   "source": [
    "from sklearn.metrics import confusion_matrix\n",
    "confusion_matrix = confusion_matrix(y_test, y_pred)\n",
    "print(confusion_matrix)\n",
    "# 26 correct predictions and 9 incorrect predictions"
   ]
  },
  {
   "cell_type": "code",
   "execution_count": 181,
   "id": "04e8c158",
   "metadata": {},
   "outputs": [
    {
     "name": "stdout",
     "output_type": "stream",
     "text": [
      "              precision    recall  f1-score   support\n",
      "\n",
      "         0.0       1.00      0.11      0.20         9\n",
      "         1.0       0.76      1.00      0.87        26\n",
      "\n",
      "    accuracy                           0.77        35\n",
      "   macro avg       0.88      0.56      0.53        35\n",
      "weighted avg       0.83      0.77      0.70        35\n",
      "\n"
     ]
    }
   ],
   "source": [
    "from sklearn.metrics import classification_report\n",
    "print(classification_report(y_test, y_pred))"
   ]
  },
  {
   "cell_type": "code",
   "execution_count": 182,
   "id": "07e7d3bb",
   "metadata": {},
   "outputs": [
    {
     "name": "stdout",
     "output_type": "stream",
     "text": [
      "No Skill: ROC AUC=0.500\n",
      "Logistic: ROC AUC=0.897\n"
     ]
    },
    {
     "data": {
      "image/png": "[encoded data removed]",
      "text/plain": [
       "<Figure size 432x288 with 1 Axes>"
      ]
     },
     "metadata": {
      "needs_background": "light"
     },
     "output_type": "display_data"
    }
   ],
   "source": [
    "from sklearn.metrics import roc_auc_score\n",
    "from sklearn.metrics import roc_curve\n",
    "\n",
    "# generate a no skill prediction (majority class)\n",
    "ns_probs = [0 for _ in range(len(y_test))]\n",
    "# fit a model\n",
    "model = LogisticRegression(solver='lbfgs')\n",
    "model.fit(X_train, y_train)\n",
    "# predict probabilities\n",
    "lr_probs = model.predict_proba(X_test)\n",
    "# keep probabilities for the positive outcome only\n",
    "lr_probs = lr_probs[:, 1]\n",
    "# calculate scores\n",
    "ns_auc = roc_auc_score(y_test, ns_probs)\n",
    "lr_auc = roc_auc_score(y_test, lr_probs)\n",
    "# summarize scores\n",
    "print('No Skill: ROC AUC=%.3f' % (ns_auc))\n",
    "print('Logistic: ROC AUC=%.3f' % (lr_auc))\n",
    "# calculate roc curves\n",
    "ns_fpr, ns_tpr, _ = roc_curve(y_test, ns_probs)\n",
    "lr_fpr, lr_tpr, _ = roc_curve(y_test, lr_probs)\n",
    "# plot the roc curve for the model\n",
    "plt.plot(ns_fpr, ns_tpr, linestyle='--', label='No Skill')\n",
    "plt.plot(lr_fpr, lr_tpr, marker='.', label='Logistic')\n",
    "# axis labels\n",
    "plt.xlabel('False Positive Rate')\n",
    "plt.ylabel('True Positive Rate')\n",
    "# show the legend\n",
    "plt.legend()\n",
    "# show the plot\n",
    "plt.show()"
   ]
  },
  {
   "cell_type": "code",
   "execution_count": null,
   "id": "a237be2d",
   "metadata": {},
   "outputs": [],
   "source": []
  }
 ],
 "metadata": {
  "kernelspec": {
   "display_name": "Python 3",
   "language": "python",
   "name": "python3"
  },
  "language_info": {
   "codemirror_mode": {
    "name": "ipython",
    "version": 3
   },
   "file_extension": ".py",
   "mimetype": "text/x-python",
   "name": "python",
   "nbconvert_exporter": "python",
   "pygments_lexer": "ipython3",
   "version": "3.8.8"
  }
 },
 "nbformat": 4,
 "nbformat_minor": 5
}
