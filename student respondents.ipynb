{
 "cells": [
  {
   "cell_type": "code",
   "execution_count": 1,
   "id": "b73ad5df",
   "metadata": {},
   "outputs": [],
   "source": [
    "import pandas as pd\n",
    "import numpy as np\n",
    "import matplotlib.pyplot as plt\n",
    "import multiprocessing\n",
    "from time import time \n",
    "import nltk\n",
    "import gensim\n",
    "from gensim.models import Word2Vec\n",
    "import multiprocessing\n",
    "import os\n",
    "import sys\n",
    "import seaborn as sns\n",
    "import researchpy"
   ]
  },
  {
   "cell_type": "code",
   "execution_count": 2,
   "id": "cafa7453",
   "metadata": {},
   "outputs": [],
   "source": [
    "#read in files, preprocessing\n",
    "results1 = pd.read_excel('/Users/symphony/Desktop/Results1.xlsx')\n",
    "results2 = pd.read_excel('/Users/symphony/Desktop/Results2.xlsx')\n",
    "df = pd.concat([results1, results2], ignore_index=True)"
   ]
  },
  {
   "cell_type": "code",
   "execution_count": 3,
   "id": "443af04b",
   "metadata": {},
   "outputs": [],
   "source": [
    "df = df.drop(['CompletionDate','Amazon voucher winner', '11. Name', '12. SID',\n",
    "              '2.a. If you selected Other, please specify:' ,\n",
    "              '5.a. If you selected Other, please specify:'], axis = 1)"
   ]
  },
  {
   "cell_type": "code",
   "execution_count": 4,
   "id": "923fb94b",
   "metadata": {},
   "outputs": [
    {
     "data": {
      "text/html": [
       "<div>\n",
       "<style scoped>\n",
       "    .dataframe tbody tr th:only-of-type {\n",
       "        vertical-align: middle;\n",
       "    }\n",
       "\n",
       "    .dataframe tbody tr th {\n",
       "        vertical-align: top;\n",
       "    }\n",
       "\n",
       "    .dataframe thead th {\n",
       "        text-align: right;\n",
       "    }\n",
       "</style>\n",
       "<table border=\"1\" class=\"dataframe\">\n",
       "  <thead>\n",
       "    <tr style=\"text-align: right;\">\n",
       "      <th></th>\n",
       "      <th>1. Campus</th>\n",
       "      <th>2. How did you find out about the Welcome Buddy scheme? (tick all that apply)</th>\n",
       "      <th>3. When did your Welcome Buddy first contact you?</th>\n",
       "      <th>4. Please select the most common way that you used to access your Ask ARU chat space with your Welcome Buddy.</th>\n",
       "      <th>5. Did you meet up with your Welcome Buddy (in person or online) in your first few weeks at ARU?</th>\n",
       "      <th>6. In what ways did your Welcome Buddy help you to settle in to life as a student at ARU?</th>\n",
       "      <th>sentiment</th>\n",
       "      <th>7. One of the reasons for running the buddy scheme through Ask ARU, was so that you could meet other new students as well as your Welcome Buddy. How helpful did you find this?</th>\n",
       "      <th>8. Are you friends with any of the new students that are in the same group chat as you?</th>\n",
       "      <th>9. Are there any ways that we could improve the Welcome Buddy scheme?</th>\n",
       "      <th>10. Are there any other comments you would like to make about the Welcome Buddy scheme?</th>\n",
       "    </tr>\n",
       "  </thead>\n",
       "  <tbody>\n",
       "    <tr>\n",
       "      <th>125</th>\n",
       "      <td>Cambridge</td>\n",
       "      <td>Email from the Welcome Buddy team</td>\n",
       "      <td>Before I arrived</td>\n",
       "      <td>Links in the auto emails</td>\n",
       "      <td>No - we couldn't figure out a convenient time ...</td>\n",
       "      <td>When I was in my first year, i had a lot of an...</td>\n",
       "      <td>1</td>\n",
       "      <td>I don't feel strongly either way</td>\n",
       "      <td>No - none of them</td>\n",
       "      <td>Encourage fellow students to communicate in th...</td>\n",
       "      <td>No</td>\n",
       "    </tr>\n",
       "    <tr>\n",
       "      <th>126</th>\n",
       "      <td>Cambridge</td>\n",
       "      <td>Email from the Welcome Buddy team,Email notifi...</td>\n",
       "      <td>Before I arrived</td>\n",
       "      <td>Going directly to the Ask ARU website in a web...</td>\n",
       "      <td>No - I didn't feel I needed this support</td>\n",
       "      <td>Assisted me in helping find accomadation, prov...</td>\n",
       "      <td>1</td>\n",
       "      <td>I loved that I could chat to other new students</td>\n",
       "      <td>Yes - a few of them</td>\n",
       "      <td>improve accessing the chat,rather than going t...</td>\n",
       "      <td>NaN</td>\n",
       "    </tr>\n",
       "    <tr>\n",
       "      <th>127</th>\n",
       "      <td>Chelmsford</td>\n",
       "      <td>Email from the Welcome Buddy team</td>\n",
       "      <td>Before I arrived</td>\n",
       "      <td>Links in the auto emails</td>\n",
       "      <td>No - I didn't feel I needed this support</td>\n",
       "      <td>Was great</td>\n",
       "      <td>1</td>\n",
       "      <td>I would rather have been able to talk to my bu...</td>\n",
       "      <td>No - none of them</td>\n",
       "      <td>An app</td>\n",
       "      <td>No</td>\n",
       "    </tr>\n",
       "    <tr>\n",
       "      <th>128</th>\n",
       "      <td>Chelmsford</td>\n",
       "      <td>Email when I accepted my place at ARU</td>\n",
       "      <td>Before I arrived</td>\n",
       "      <td>Links in the auto emails</td>\n",
       "      <td>No - I didn't feel I needed this support</td>\n",
       "      <td>Helped me by answering questions and concerns ...</td>\n",
       "      <td>1</td>\n",
       "      <td>I loved that I could chat to other new students</td>\n",
       "      <td>No - none of them</td>\n",
       "      <td>Face to face opportunities on campus</td>\n",
       "      <td>No</td>\n",
       "    </tr>\n",
       "    <tr>\n",
       "      <th>129</th>\n",
       "      <td>Cambridge</td>\n",
       "      <td>Email when I accepted my place at ARU</td>\n",
       "      <td>Before I arrived</td>\n",
       "      <td>Links in the auto emails</td>\n",
       "      <td>Yes - we met up in an online video call</td>\n",
       "      <td>Meet in University, speak about their experien...</td>\n",
       "      <td>1</td>\n",
       "      <td>I loved that I could chat to other new students</td>\n",
       "      <td>No - none of them</td>\n",
       "      <td>Yes, could make the page easier to access.</td>\n",
       "      <td>no</td>\n",
       "    </tr>\n",
       "  </tbody>\n",
       "</table>\n",
       "</div>"
      ],
      "text/plain": [
       "      1. Campus  \\\n",
       "125   Cambridge   \n",
       "126   Cambridge   \n",
       "127  Chelmsford   \n",
       "128  Chelmsford   \n",
       "129   Cambridge   \n",
       "\n",
       "    2. How did you find out about the Welcome Buddy scheme? (tick all that apply)  \\\n",
       "125                  Email from the Welcome Buddy team                              \n",
       "126  Email from the Welcome Buddy team,Email notifi...                              \n",
       "127                  Email from the Welcome Buddy team                              \n",
       "128              Email when I accepted my place at ARU                              \n",
       "129              Email when I accepted my place at ARU                              \n",
       "\n",
       "    3. When did your Welcome Buddy first contact you?  \\\n",
       "125                                  Before I arrived   \n",
       "126                                  Before I arrived   \n",
       "127                                  Before I arrived   \n",
       "128                                  Before I arrived   \n",
       "129                                  Before I arrived   \n",
       "\n",
       "    4. Please select the most common way that you used to access your Ask ARU chat space with your Welcome Buddy.  \\\n",
       "125                           Links in the auto emails                                                              \n",
       "126  Going directly to the Ask ARU website in a web...                                                              \n",
       "127                           Links in the auto emails                                                              \n",
       "128                           Links in the auto emails                                                              \n",
       "129                           Links in the auto emails                                                              \n",
       "\n",
       "    5. Did you meet up with your Welcome Buddy (in person or online) in your first few weeks at ARU?  \\\n",
       "125  No - we couldn't figure out a convenient time ...                                                 \n",
       "126           No - I didn't feel I needed this support                                                 \n",
       "127           No - I didn't feel I needed this support                                                 \n",
       "128           No - I didn't feel I needed this support                                                 \n",
       "129            Yes - we met up in an online video call                                                 \n",
       "\n",
       "    6. In what ways did your Welcome Buddy help you to settle in to life as a student at ARU?  \\\n",
       "125  When I was in my first year, i had a lot of an...                                          \n",
       "126  Assisted me in helping find accomadation, prov...                                          \n",
       "127                                         Was great                                           \n",
       "128  Helped me by answering questions and concerns ...                                          \n",
       "129  Meet in University, speak about their experien...                                          \n",
       "\n",
       "    sentiment  \\\n",
       "125         1   \n",
       "126         1   \n",
       "127         1   \n",
       "128         1   \n",
       "129         1   \n",
       "\n",
       "    7. One of the reasons for running the buddy scheme through Ask ARU, was so that you could meet other new students as well as your Welcome Buddy. How helpful did you find this?  \\\n",
       "125                   I don't feel strongly either way                                                                                                                                \n",
       "126    I loved that I could chat to other new students                                                                                                                                \n",
       "127  I would rather have been able to talk to my bu...                                                                                                                                \n",
       "128    I loved that I could chat to other new students                                                                                                                                \n",
       "129    I loved that I could chat to other new students                                                                                                                                \n",
       "\n",
       "    8. Are you friends with any of the new students that are in the same group chat as you?  \\\n",
       "125                                  No - none of them                                        \n",
       "126                                Yes - a few of them                                        \n",
       "127                                  No - none of them                                        \n",
       "128                                  No - none of them                                        \n",
       "129                                  No - none of them                                        \n",
       "\n",
       "    9. Are there any ways that we could improve the Welcome Buddy scheme?  \\\n",
       "125  Encourage fellow students to communicate in th...                      \n",
       "126  improve accessing the chat,rather than going t...                      \n",
       "127                                             An app                      \n",
       "128              Face to face opportunities on campus                       \n",
       "129         Yes, could make the page easier to access.                      \n",
       "\n",
       "    10. Are there any other comments you would like to make about the Welcome Buddy scheme?  \n",
       "125                                                No                                        \n",
       "126                                                NaN                                       \n",
       "127                                                 No                                       \n",
       "128                                                 No                                       \n",
       "129                                                 no                                       "
      ]
     },
     "execution_count": 4,
     "metadata": {},
     "output_type": "execute_result"
    }
   ],
   "source": [
    "df.tail()"
   ]
  },
  {
   "cell_type": "code",
   "execution_count": 5,
   "id": "1384db03",
   "metadata": {},
   "outputs": [
    {
     "data": {
      "text/html": [
       "<div>\n",
       "<style scoped>\n",
       "    .dataframe tbody tr th:only-of-type {\n",
       "        vertical-align: middle;\n",
       "    }\n",
       "\n",
       "    .dataframe tbody tr th {\n",
       "        vertical-align: top;\n",
       "    }\n",
       "\n",
       "    .dataframe thead th {\n",
       "        text-align: right;\n",
       "    }\n",
       "</style>\n",
       "<table border=\"1\" class=\"dataframe\">\n",
       "  <thead>\n",
       "    <tr style=\"text-align: right;\">\n",
       "      <th></th>\n",
       "      <th>campus</th>\n",
       "      <th>how_became_aware</th>\n",
       "      <th>first_contact</th>\n",
       "      <th>access_method</th>\n",
       "      <th>met_up</th>\n",
       "      <th>how_helped</th>\n",
       "      <th>sentiment</th>\n",
       "      <th>meet_new</th>\n",
       "      <th>friends</th>\n",
       "      <th>suggestions</th>\n",
       "      <th>comments</th>\n",
       "    </tr>\n",
       "  </thead>\n",
       "  <tbody>\n",
       "    <tr>\n",
       "      <th>0</th>\n",
       "      <td>Chelmsford</td>\n",
       "      <td>Email from the Welcome Buddy team,Email notifi...</td>\n",
       "      <td>Once teaching had started</td>\n",
       "      <td>Links in the auto emails</td>\n",
       "      <td>No - the Welcome Buddy didn't offer</td>\n",
       "      <td>It helps a lot to settle in to life as a stude...</td>\n",
       "      <td>1</td>\n",
       "      <td>I loved that I could chat to other new students</td>\n",
       "      <td>No - none of them</td>\n",
       "      <td>Help students and make events related to this</td>\n",
       "      <td>Often chat with students</td>\n",
       "    </tr>\n",
       "    <tr>\n",
       "      <th>1</th>\n",
       "      <td>Cambridge</td>\n",
       "      <td>Email when I accepted my place at ARU,ARU Webp...</td>\n",
       "      <td>During Welcome Week</td>\n",
       "      <td>Links in the auto emails</td>\n",
       "      <td>Other</td>\n",
       "      <td>Provided information about the uniforms and ma...</td>\n",
       "      <td>1</td>\n",
       "      <td>I would rather have been able to talk to my bu...</td>\n",
       "      <td>No - none of them</td>\n",
       "      <td>Some students didn’t know about the welcome bu...</td>\n",
       "      <td>It is a very lovely idea, even tho we did not ...</td>\n",
       "    </tr>\n",
       "    <tr>\n",
       "      <th>2</th>\n",
       "      <td>Cambridge</td>\n",
       "      <td>Email when I accepted my place at ARU</td>\n",
       "      <td>Before I arrived</td>\n",
       "      <td>Links in the auto emails</td>\n",
       "      <td>No - I didn't feel I needed this support</td>\n",
       "      <td>To find notes</td>\n",
       "      <td>1</td>\n",
       "      <td>I loved that I could chat to other new students</td>\n",
       "      <td>No - none of them</td>\n",
       "      <td>Nothing</td>\n",
       "      <td>No</td>\n",
       "    </tr>\n",
       "    <tr>\n",
       "      <th>3</th>\n",
       "      <td>Peterborough</td>\n",
       "      <td>Email from the Welcome Buddy team</td>\n",
       "      <td>Before I arrived</td>\n",
       "      <td>Links in the auto emails</td>\n",
       "      <td>Other</td>\n",
       "      <td>There wasn’t too much information provided.</td>\n",
       "      <td>0</td>\n",
       "      <td>I would rather have been able to talk to my bu...</td>\n",
       "      <td>Yes - a few of them</td>\n",
       "      <td>Better/frequent communication? Never met my we...</td>\n",
       "      <td>Welcome buddy was understanding and enthusiast...</td>\n",
       "    </tr>\n",
       "    <tr>\n",
       "      <th>4</th>\n",
       "      <td>Chelmsford</td>\n",
       "      <td>Email from the Welcome Buddy team</td>\n",
       "      <td>During Welcome Week</td>\n",
       "      <td>Links in the auto emails</td>\n",
       "      <td>No - the Welcome Buddy didn't offer</td>\n",
       "      <td>They didn't to be honest.</td>\n",
       "      <td>0</td>\n",
       "      <td>I don't feel strongly either way</td>\n",
       "      <td>No - none of them</td>\n",
       "      <td>Put people together that are actually in the s...</td>\n",
       "      <td>It is a good idea in theory but it just didn't...</td>\n",
       "    </tr>\n",
       "  </tbody>\n",
       "</table>\n",
       "</div>"
      ],
      "text/plain": [
       "         campus                                   how_became_aware  \\\n",
       "0    Chelmsford  Email from the Welcome Buddy team,Email notifi...   \n",
       "1     Cambridge  Email when I accepted my place at ARU,ARU Webp...   \n",
       "2     Cambridge              Email when I accepted my place at ARU   \n",
       "3  Peterborough                  Email from the Welcome Buddy team   \n",
       "4    Chelmsford                  Email from the Welcome Buddy team   \n",
       "\n",
       "               first_contact             access_method  \\\n",
       "0  Once teaching had started  Links in the auto emails   \n",
       "1        During Welcome Week  Links in the auto emails   \n",
       "2           Before I arrived  Links in the auto emails   \n",
       "3           Before I arrived  Links in the auto emails   \n",
       "4        During Welcome Week  Links in the auto emails   \n",
       "\n",
       "                                     met_up  \\\n",
       "0       No - the Welcome Buddy didn't offer   \n",
       "1                                     Other   \n",
       "2  No - I didn't feel I needed this support   \n",
       "3                                     Other   \n",
       "4       No - the Welcome Buddy didn't offer   \n",
       "\n",
       "                                          how_helped sentiment  \\\n",
       "0  It helps a lot to settle in to life as a stude...         1   \n",
       "1  Provided information about the uniforms and ma...         1   \n",
       "2                                      To find notes         1   \n",
       "3        There wasn’t too much information provided.         0   \n",
       "4                          They didn't to be honest.         0   \n",
       "\n",
       "                                            meet_new              friends  \\\n",
       "0    I loved that I could chat to other new students    No - none of them   \n",
       "1  I would rather have been able to talk to my bu...    No - none of them   \n",
       "2    I loved that I could chat to other new students    No - none of them   \n",
       "3  I would rather have been able to talk to my bu...  Yes - a few of them   \n",
       "4                   I don't feel strongly either way    No - none of them   \n",
       "\n",
       "                                         suggestions  \\\n",
       "0      Help students and make events related to this   \n",
       "1  Some students didn’t know about the welcome bu...   \n",
       "2                                            Nothing   \n",
       "3  Better/frequent communication? Never met my we...   \n",
       "4  Put people together that are actually in the s...   \n",
       "\n",
       "                                            comments  \n",
       "0                          Often chat with students   \n",
       "1  It is a very lovely idea, even tho we did not ...  \n",
       "2                                                 No  \n",
       "3  Welcome buddy was understanding and enthusiast...  \n",
       "4  It is a good idea in theory but it just didn't...  "
      ]
     },
     "execution_count": 5,
     "metadata": {},
     "output_type": "execute_result"
    }
   ],
   "source": [
    "df = df.rename(columns={df.columns[0]:'campus', \n",
    "                        df.columns[1]:'how_became_aware', \n",
    "                        df.columns[2]:'first_contact', \n",
    "                        df.columns[3]:'access_method', \n",
    "                        df.columns[4]:'met_up', \n",
    "                        df.columns[5]:'how_helped', \n",
    "                        df.columns[7]:'meet_new', \n",
    "                        df.columns[8]:'friends', \n",
    "                        df.columns[9]:'suggestions', \n",
    "                        df.columns[10]:'comments'})\n",
    "#df = df.drop(['if_other'], axis = 1)\n",
    "df.head()"
   ]
  },
  {
   "cell_type": "code",
   "execution_count": 6,
   "id": "96436e6d",
   "metadata": {},
   "outputs": [
    {
     "name": "stdout",
     "output_type": "stream",
     "text": [
      "gone\n"
     ]
    }
   ],
   "source": [
    "#remove and then check for unwanted cell\n",
    "df = df[df[\"campus\"].str.contains(\"Download from\") == False]\n",
    "if df['campus'].str.contains('Download from Online Surveys: up to 12/12/21, NS').any():\n",
    "    print (\"is there\")\n",
    "else:\n",
    "    print (\"gone\")"
   ]
  },
  {
   "cell_type": "markdown",
   "id": "222abdf4",
   "metadata": {},
   "source": [
    "#### Students per campus"
   ]
  },
  {
   "cell_type": "code",
   "execution_count": 7,
   "id": "3bb166a5",
   "metadata": {},
   "outputs": [
    {
     "data": {
      "text/html": [
       "<div>\n",
       "<style scoped>\n",
       "    .dataframe tbody tr th:only-of-type {\n",
       "        vertical-align: middle;\n",
       "    }\n",
       "\n",
       "    .dataframe tbody tr th {\n",
       "        vertical-align: top;\n",
       "    }\n",
       "\n",
       "    .dataframe thead th {\n",
       "        text-align: right;\n",
       "    }\n",
       "</style>\n",
       "<table border=\"1\" class=\"dataframe\">\n",
       "  <thead>\n",
       "    <tr style=\"text-align: right;\">\n",
       "      <th></th>\n",
       "      <th>campus</th>\n",
       "    </tr>\n",
       "  </thead>\n",
       "  <tbody>\n",
       "    <tr>\n",
       "      <th>Cambridge</th>\n",
       "      <td>58</td>\n",
       "    </tr>\n",
       "    <tr>\n",
       "      <th>Chelmsford</th>\n",
       "      <td>54</td>\n",
       "    </tr>\n",
       "    <tr>\n",
       "      <th>Peterborough</th>\n",
       "      <td>15</td>\n",
       "    </tr>\n",
       "  </tbody>\n",
       "</table>\n",
       "</div>"
      ],
      "text/plain": [
       "              campus\n",
       "Cambridge         58\n",
       "Chelmsford        54\n",
       "Peterborough      15"
      ]
     },
     "execution_count": 7,
     "metadata": {},
     "output_type": "execute_result"
    }
   ],
   "source": [
    "#find number of students in survey from each campus \n",
    "df['campus'].value_counts()\n",
    "pd.DataFrame(data=df['campus'].value_counts(), dtype=None, copy=None)\n",
    "#any observations from Peterborough will be underpowered "
   ]
  },
  {
   "cell_type": "code",
   "execution_count": 8,
   "id": "4e26efe9",
   "metadata": {},
   "outputs": [
    {
     "data": {
      "text/plain": [
       "Text(0, 0.5, 'number of students')"
      ]
     },
     "execution_count": 8,
     "metadata": {},
     "output_type": "execute_result"
    },
    {
     "data": {
      "image/png": "[encoded data removed]",
      "text/plain": [
       "<Figure size 1080x504 with 1 Axes>"
      ]
     },
     "metadata": {
      "needs_background": "light"
     },
     "output_type": "display_data"
    }
   ],
   "source": [
    "#visualize distribution of studnet respondents across three campuses \n",
    "df['campus'].value_counts().plot(kind=\"bar\", figsize=(15,7), color=\"#61d199\")\n",
    "plt.title('campus distribution of student respondents')\n",
    "plt.xlabel('campuses')\n",
    "plt.xticks(rotation=0, ha='right')\n",
    "plt.ylabel('number of students')"
   ]
  },
  {
   "cell_type": "markdown",
   "id": "e3297b75",
   "metadata": {},
   "source": [
    "### meet_new"
   ]
  },
  {
   "cell_type": "code",
   "execution_count": 9,
   "id": "6b860d45",
   "metadata": {},
   "outputs": [
    {
     "data": {
      "text/html": [
       "<div>\n",
       "<style scoped>\n",
       "    .dataframe tbody tr th:only-of-type {\n",
       "        vertical-align: middle;\n",
       "    }\n",
       "\n",
       "    .dataframe tbody tr th {\n",
       "        vertical-align: top;\n",
       "    }\n",
       "\n",
       "    .dataframe thead th {\n",
       "        text-align: right;\n",
       "    }\n",
       "</style>\n",
       "<table border=\"1\" class=\"dataframe\">\n",
       "  <thead>\n",
       "    <tr style=\"text-align: right;\">\n",
       "      <th>meet_new</th>\n",
       "      <th>I don't feel strongly either way</th>\n",
       "      <th>I loved that I could chat to other new students</th>\n",
       "      <th>I would rather have been able to talk to my buddy one to one only</th>\n",
       "    </tr>\n",
       "    <tr>\n",
       "      <th>campus</th>\n",
       "      <th></th>\n",
       "      <th></th>\n",
       "      <th></th>\n",
       "    </tr>\n",
       "  </thead>\n",
       "  <tbody>\n",
       "    <tr>\n",
       "      <th>Cambridge</th>\n",
       "      <td>46.551724</td>\n",
       "      <td>41.379310</td>\n",
       "      <td>12.068966</td>\n",
       "    </tr>\n",
       "    <tr>\n",
       "      <th>Chelmsford</th>\n",
       "      <td>38.888889</td>\n",
       "      <td>40.740741</td>\n",
       "      <td>20.370370</td>\n",
       "    </tr>\n",
       "    <tr>\n",
       "      <th>Peterborough</th>\n",
       "      <td>46.666667</td>\n",
       "      <td>33.333333</td>\n",
       "      <td>20.000000</td>\n",
       "    </tr>\n",
       "  </tbody>\n",
       "</table>\n",
       "</div>"
      ],
      "text/plain": [
       "meet_new      I don't feel strongly either way  \\\n",
       "campus                                           \n",
       "Cambridge                            46.551724   \n",
       "Chelmsford                           38.888889   \n",
       "Peterborough                         46.666667   \n",
       "\n",
       "meet_new      I loved that I could chat to other new students  \\\n",
       "campus                                                          \n",
       "Cambridge                                           41.379310   \n",
       "Chelmsford                                          40.740741   \n",
       "Peterborough                                        33.333333   \n",
       "\n",
       "meet_new      I would rather have been able to talk to my buddy one to one only  \n",
       "campus                                                                           \n",
       "Cambridge                                             12.068966                  \n",
       "Chelmsford                                            20.370370                  \n",
       "Peterborough                                          20.000000                  "
      ]
     },
     "execution_count": 9,
     "metadata": {},
     "output_type": "execute_result"
    }
   ],
   "source": [
    "#find percentage of students in each campus who felt WB helped them meet new students\n",
    "table = pd.crosstab(index=df['campus'], columns=df['meet_new'], normalize='index') *100\n",
    "table"
   ]
  },
  {
   "cell_type": "code",
   "execution_count": 10,
   "id": "ba9c72fd",
   "metadata": {},
   "outputs": [
    {
     "name": "stdout",
     "output_type": "stream",
     "text": [
      "I don't feel strongly either way                                     55\n",
      "I loved that I could chat to other new students                      51\n",
      "I would rather have been able to talk to my buddy one to one only    21\n",
      "Name: meet_new, dtype: int64\n"
     ]
    },
    {
     "data": {
      "text/html": [
       "<div>\n",
       "<style scoped>\n",
       "    .dataframe tbody tr th:only-of-type {\n",
       "        vertical-align: middle;\n",
       "    }\n",
       "\n",
       "    .dataframe tbody tr th {\n",
       "        vertical-align: top;\n",
       "    }\n",
       "\n",
       "    .dataframe thead th {\n",
       "        text-align: right;\n",
       "    }\n",
       "</style>\n",
       "<table border=\"1\" class=\"dataframe\">\n",
       "  <thead>\n",
       "    <tr style=\"text-align: right;\">\n",
       "      <th></th>\n",
       "      <th>meet_new</th>\n",
       "    </tr>\n",
       "  </thead>\n",
       "  <tbody>\n",
       "    <tr>\n",
       "      <th>I don't feel strongly either way</th>\n",
       "      <td>55</td>\n",
       "    </tr>\n",
       "    <tr>\n",
       "      <th>I loved that I could chat to other new students</th>\n",
       "      <td>51</td>\n",
       "    </tr>\n",
       "    <tr>\n",
       "      <th>I would rather have been able to talk to my buddy one to one only</th>\n",
       "      <td>21</td>\n",
       "    </tr>\n",
       "  </tbody>\n",
       "</table>\n",
       "</div>"
      ],
      "text/plain": [
       "                                                    meet_new\n",
       "I don't feel strongly either way                          55\n",
       "I loved that I could chat to other new students           51\n",
       "I would rather have been able to talk to my bud...        21"
      ]
     },
     "execution_count": 10,
     "metadata": {},
     "output_type": "execute_result"
    }
   ],
   "source": [
    "#find percentage of students across campuses who felt WB helped them meet new students\n",
    "total_meet_new = df['meet_new'].value_counts()\n",
    "print(total_meet_new)\n",
    "pd.DataFrame(data=total_meet_new, dtype=None, copy=None)\n",
    "#most students reported \"I don't feel strongly either way\""
   ]
  },
  {
   "cell_type": "code",
   "execution_count": 11,
   "id": "81e9032b",
   "metadata": {},
   "outputs": [
    {
     "data": {
      "text/plain": [
       "Text(0.5, 0, 'campus')"
      ]
     },
     "execution_count": 11,
     "metadata": {},
     "output_type": "execute_result"
    },
    {
     "data": {
      "image/png": "[encoded data removed]",
      "text/plain": [
       "<Figure size 720x432 with 1 Axes>"
      ]
     },
     "metadata": {
      "needs_background": "light"
     },
     "output_type": "display_data"
    }
   ],
   "source": [
    "#stacked bar plot showing percentage of students in each campus who felt WB helped them meet new students\n",
    "ax = table.plot(kind='bar', stacked=True, figsize=(10,6), rot=0)\n",
    "plt.title('Did the Welcome Buddy scheme help you meet new students?', fontsize=15)\n",
    "ax.legend(title='', bbox_to_anchor=(0, -.1), loc='upper left', prop={'size': 10})\n",
    "ax.tick_params(axis='both', which='major', labelsize=11)\n",
    "ax.tick_params(axis='both', which='minor', labelsize=11)\n",
    "plt.ylabel('percentage of students', fontsize = 11)\n",
    "plt.xlabel('campus', fontsize = 11)"
   ]
  },
  {
   "cell_type": "code",
   "execution_count": 12,
   "id": "8b4ef612",
   "metadata": {},
   "outputs": [
    {
     "data": {
      "text/html": [
       "<div>\n",
       "<style scoped>\n",
       "    .dataframe tbody tr th:only-of-type {\n",
       "        vertical-align: middle;\n",
       "    }\n",
       "\n",
       "    .dataframe tbody tr th {\n",
       "        vertical-align: top;\n",
       "    }\n",
       "\n",
       "    .dataframe thead th {\n",
       "        text-align: right;\n",
       "    }\n",
       "</style>\n",
       "<table border=\"1\" class=\"dataframe\">\n",
       "  <thead>\n",
       "    <tr style=\"text-align: right;\">\n",
       "      <th></th>\n",
       "      <th>campus</th>\n",
       "      <th>how_became_aware</th>\n",
       "      <th>first_contact</th>\n",
       "      <th>access_method</th>\n",
       "      <th>met_up</th>\n",
       "      <th>how_helped</th>\n",
       "      <th>sentiment</th>\n",
       "      <th>meet_new</th>\n",
       "      <th>friends</th>\n",
       "      <th>suggestions</th>\n",
       "      <th>comments</th>\n",
       "      <th>Cambridge</th>\n",
       "      <th>Chelmsford</th>\n",
       "      <th>Peterborough</th>\n",
       "    </tr>\n",
       "  </thead>\n",
       "  <tbody>\n",
       "    <tr>\n",
       "      <th>0</th>\n",
       "      <td>Chelmsford</td>\n",
       "      <td>Email from the Welcome Buddy team,Email notifi...</td>\n",
       "      <td>Once teaching had started</td>\n",
       "      <td>Links in the auto emails</td>\n",
       "      <td>No - the Welcome Buddy didn't offer</td>\n",
       "      <td>It helps a lot to settle in to life as a stude...</td>\n",
       "      <td>1</td>\n",
       "      <td>3</td>\n",
       "      <td>No - none of them</td>\n",
       "      <td>Help students and make events related to this</td>\n",
       "      <td>Often chat with students</td>\n",
       "      <td>0</td>\n",
       "      <td>1</td>\n",
       "      <td>0</td>\n",
       "    </tr>\n",
       "    <tr>\n",
       "      <th>1</th>\n",
       "      <td>Cambridge</td>\n",
       "      <td>Email when I accepted my place at ARU,ARU Webp...</td>\n",
       "      <td>During Welcome Week</td>\n",
       "      <td>Links in the auto emails</td>\n",
       "      <td>Other</td>\n",
       "      <td>Provided information about the uniforms and ma...</td>\n",
       "      <td>1</td>\n",
       "      <td>1</td>\n",
       "      <td>No - none of them</td>\n",
       "      <td>Some students didn’t know about the welcome bu...</td>\n",
       "      <td>It is a very lovely idea, even tho we did not ...</td>\n",
       "      <td>1</td>\n",
       "      <td>0</td>\n",
       "      <td>0</td>\n",
       "    </tr>\n",
       "    <tr>\n",
       "      <th>2</th>\n",
       "      <td>Cambridge</td>\n",
       "      <td>Email when I accepted my place at ARU</td>\n",
       "      <td>Before I arrived</td>\n",
       "      <td>Links in the auto emails</td>\n",
       "      <td>No - I didn't feel I needed this support</td>\n",
       "      <td>To find notes</td>\n",
       "      <td>1</td>\n",
       "      <td>3</td>\n",
       "      <td>No - none of them</td>\n",
       "      <td>Nothing</td>\n",
       "      <td>No</td>\n",
       "      <td>1</td>\n",
       "      <td>0</td>\n",
       "      <td>0</td>\n",
       "    </tr>\n",
       "    <tr>\n",
       "      <th>3</th>\n",
       "      <td>Peterborough</td>\n",
       "      <td>Email from the Welcome Buddy team</td>\n",
       "      <td>Before I arrived</td>\n",
       "      <td>Links in the auto emails</td>\n",
       "      <td>Other</td>\n",
       "      <td>There wasn’t too much information provided.</td>\n",
       "      <td>0</td>\n",
       "      <td>1</td>\n",
       "      <td>Yes - a few of them</td>\n",
       "      <td>Better/frequent communication? Never met my we...</td>\n",
       "      <td>Welcome buddy was understanding and enthusiast...</td>\n",
       "      <td>0</td>\n",
       "      <td>0</td>\n",
       "      <td>1</td>\n",
       "    </tr>\n",
       "    <tr>\n",
       "      <th>4</th>\n",
       "      <td>Chelmsford</td>\n",
       "      <td>Email from the Welcome Buddy team</td>\n",
       "      <td>During Welcome Week</td>\n",
       "      <td>Links in the auto emails</td>\n",
       "      <td>No - the Welcome Buddy didn't offer</td>\n",
       "      <td>They didn't to be honest.</td>\n",
       "      <td>0</td>\n",
       "      <td>2</td>\n",
       "      <td>No - none of them</td>\n",
       "      <td>Put people together that are actually in the s...</td>\n",
       "      <td>It is a good idea in theory but it just didn't...</td>\n",
       "      <td>0</td>\n",
       "      <td>1</td>\n",
       "      <td>0</td>\n",
       "    </tr>\n",
       "  </tbody>\n",
       "</table>\n",
       "</div>"
      ],
      "text/plain": [
       "         campus                                   how_became_aware  \\\n",
       "0    Chelmsford  Email from the Welcome Buddy team,Email notifi...   \n",
       "1     Cambridge  Email when I accepted my place at ARU,ARU Webp...   \n",
       "2     Cambridge              Email when I accepted my place at ARU   \n",
       "3  Peterborough                  Email from the Welcome Buddy team   \n",
       "4    Chelmsford                  Email from the Welcome Buddy team   \n",
       "\n",
       "               first_contact             access_method  \\\n",
       "0  Once teaching had started  Links in the auto emails   \n",
       "1        During Welcome Week  Links in the auto emails   \n",
       "2           Before I arrived  Links in the auto emails   \n",
       "3           Before I arrived  Links in the auto emails   \n",
       "4        During Welcome Week  Links in the auto emails   \n",
       "\n",
       "                                     met_up  \\\n",
       "0       No - the Welcome Buddy didn't offer   \n",
       "1                                     Other   \n",
       "2  No - I didn't feel I needed this support   \n",
       "3                                     Other   \n",
       "4       No - the Welcome Buddy didn't offer   \n",
       "\n",
       "                                          how_helped sentiment  meet_new  \\\n",
       "0  It helps a lot to settle in to life as a stude...         1         3   \n",
       "1  Provided information about the uniforms and ma...         1         1   \n",
       "2                                      To find notes         1         3   \n",
       "3        There wasn’t too much information provided.         0         1   \n",
       "4                          They didn't to be honest.         0         2   \n",
       "\n",
       "               friends                                        suggestions  \\\n",
       "0    No - none of them      Help students and make events related to this   \n",
       "1    No - none of them  Some students didn’t know about the welcome bu...   \n",
       "2    No - none of them                                            Nothing   \n",
       "3  Yes - a few of them  Better/frequent communication? Never met my we...   \n",
       "4    No - none of them  Put people together that are actually in the s...   \n",
       "\n",
       "                                            comments  Cambridge  Chelmsford  \\\n",
       "0                          Often chat with students           0           1   \n",
       "1  It is a very lovely idea, even tho we did not ...          1           0   \n",
       "2                                                 No          1           0   \n",
       "3  Welcome buddy was understanding and enthusiast...          0           0   \n",
       "4  It is a good idea in theory but it just didn't...          0           1   \n",
       "\n",
       "   Peterborough  \n",
       "0             0  \n",
       "1             0  \n",
       "2             0  \n",
       "3             1  \n",
       "4             0  "
      ]
     },
     "execution_count": 12,
     "metadata": {},
     "output_type": "execute_result"
    }
   ],
   "source": [
    "#encode meet_new to run correlation\n",
    "# scale i created to avoid .corr mininterpreting encoding\n",
    "#3 = I loved that I could chat to other new students'; 2 = I would rather have been able to talk...; 1 = I dont feel..\n",
    "#I am treating, even though this is a poorly worded question that \"I would rather have been able to \n",
    "#talk to my buddy one to one only\" indicates that WB didn't help them meet new friends\n",
    "\n",
    "cleanup_meet_new = {\"meet_new\":     {\"I loved that I could chat to other new students\": 3, \n",
    "                                     \"I don't feel strongly either way\": 2, \n",
    "                                     \"I would rather have been able to talk to my buddy one to one only\" : 1 }}\n",
    "df = df.replace(cleanup_meet_new)\n",
    "df.head()\n",
    "\n",
    "#encode campus (w/o loosing campus column) to run correlation\n",
    "\n",
    "df[\"Cambridge\"] = df['campus'].str.contains('Cam') *1\n",
    "df[\"Chelmsford\"] = df['campus'].str.contains('Chel') *1\n",
    "df[\"Peterborough\"] = df['campus'].str.contains('Peter') *1\n",
    "\n",
    "df.head()\n"
   ]
  },
  {
   "cell_type": "code",
   "execution_count": 13,
   "id": "1193da66",
   "metadata": {},
   "outputs": [
    {
     "name": "stdout",
     "output_type": "stream",
     "text": [
      "Cambridge       0.072947\n",
      "Chelmsford     -0.039118\n",
      "Peterborough   -0.052666\n",
      "meet_new        1.000000\n",
      "Name: meet_new, dtype: float64\n",
      "Correlation between Cambridge and meet_new\n",
      "0.07294684099480034\n"
     ]
    }
   ],
   "source": [
    "#did campus significantly effect how students responded to this question\n",
    "\n",
    "new_df = df[['Cambridge', 'Chelmsford', 'Peterborough', 'meet_new']].copy()\n",
    "\n",
    "corr_tab = new_df.corr()[\"meet_new\"]\n",
    "print(corr_tab)\n",
    "\n",
    "print('Correlation between Cambridge and meet_new')\n",
    "cam_corr = new_df['Cambridge'].corr(new_df['meet_new'])\n",
    "print(cam_corr)\n"
   ]
  },
  {
   "cell_type": "code",
   "execution_count": 14,
   "id": "3d25207c",
   "metadata": {},
   "outputs": [
    {
     "data": {
      "text/html": [
       "<div>\n",
       "<style scoped>\n",
       "    .dataframe tbody tr th:only-of-type {\n",
       "        vertical-align: middle;\n",
       "    }\n",
       "\n",
       "    .dataframe tbody tr th {\n",
       "        vertical-align: top;\n",
       "    }\n",
       "\n",
       "    .dataframe thead tr th {\n",
       "        text-align: left;\n",
       "    }\n",
       "\n",
       "    .dataframe thead tr:last-of-type th {\n",
       "        text-align: right;\n",
       "    }\n",
       "</style>\n",
       "<table border=\"1\" class=\"dataframe\">\n",
       "  <thead>\n",
       "    <tr>\n",
       "      <th></th>\n",
       "      <th colspan=\"4\" halign=\"left\">meet_new</th>\n",
       "    </tr>\n",
       "    <tr>\n",
       "      <th>meet_new</th>\n",
       "      <th>1</th>\n",
       "      <th>2</th>\n",
       "      <th>3</th>\n",
       "      <th>All</th>\n",
       "    </tr>\n",
       "    <tr>\n",
       "      <th>campus</th>\n",
       "      <th></th>\n",
       "      <th></th>\n",
       "      <th></th>\n",
       "      <th></th>\n",
       "    </tr>\n",
       "  </thead>\n",
       "  <tbody>\n",
       "    <tr>\n",
       "      <th>Cambridge</th>\n",
       "      <td>12.07</td>\n",
       "      <td>46.55</td>\n",
       "      <td>41.38</td>\n",
       "      <td>100.0</td>\n",
       "    </tr>\n",
       "    <tr>\n",
       "      <th>Chelmsford</th>\n",
       "      <td>20.37</td>\n",
       "      <td>38.89</td>\n",
       "      <td>40.74</td>\n",
       "      <td>100.0</td>\n",
       "    </tr>\n",
       "    <tr>\n",
       "      <th>Peterborough</th>\n",
       "      <td>20.00</td>\n",
       "      <td>46.67</td>\n",
       "      <td>33.33</td>\n",
       "      <td>100.0</td>\n",
       "    </tr>\n",
       "    <tr>\n",
       "      <th>All</th>\n",
       "      <td>16.54</td>\n",
       "      <td>43.31</td>\n",
       "      <td>40.16</td>\n",
       "      <td>100.0</td>\n",
       "    </tr>\n",
       "  </tbody>\n",
       "</table>\n",
       "</div>"
      ],
      "text/plain": [
       "             meet_new                     \n",
       "meet_new            1      2      3    All\n",
       "campus                                    \n",
       "Cambridge       12.07  46.55  41.38  100.0\n",
       "Chelmsford      20.37  38.89  40.74  100.0\n",
       "Peterborough    20.00  46.67  33.33  100.0\n",
       "All             16.54  43.31  40.16  100.0"
      ]
     },
     "execution_count": 14,
     "metadata": {},
     "output_type": "execute_result"
    }
   ],
   "source": [
    "#crosstab of meet_new w/ percentages\n",
    "meet_new_t = researchpy.crosstab(df['campus'], df['meet_new'], prop = \"row\")\n",
    "meet_new_t"
   ]
  },
  {
   "cell_type": "code",
   "execution_count": 15,
   "id": "4fdd4770",
   "metadata": {},
   "outputs": [
    {
     "data": {
      "text/html": [
       "<div>\n",
       "<style scoped>\n",
       "    .dataframe tbody tr th:only-of-type {\n",
       "        vertical-align: middle;\n",
       "    }\n",
       "\n",
       "    .dataframe tbody tr th {\n",
       "        vertical-align: top;\n",
       "    }\n",
       "\n",
       "    .dataframe thead th {\n",
       "        text-align: right;\n",
       "    }\n",
       "</style>\n",
       "<table border=\"1\" class=\"dataframe\">\n",
       "  <thead>\n",
       "    <tr style=\"text-align: right;\">\n",
       "      <th></th>\n",
       "      <th>Chi-square test</th>\n",
       "      <th>results</th>\n",
       "    </tr>\n",
       "  </thead>\n",
       "  <tbody>\n",
       "    <tr>\n",
       "      <th>0</th>\n",
       "      <td>Pearson Chi-square ( 4.0) =</td>\n",
       "      <td>1.9125</td>\n",
       "    </tr>\n",
       "    <tr>\n",
       "      <th>1</th>\n",
       "      <td>p-value =</td>\n",
       "      <td>0.7519</td>\n",
       "    </tr>\n",
       "    <tr>\n",
       "      <th>2</th>\n",
       "      <td>Cramer's V =</td>\n",
       "      <td>0.0868</td>\n",
       "    </tr>\n",
       "  </tbody>\n",
       "</table>\n",
       "</div>"
      ],
      "text/plain": [
       "                Chi-square test  results\n",
       "0  Pearson Chi-square ( 4.0) =    1.9125\n",
       "1                    p-value =    0.7519\n",
       "2                 Cramer's V =    0.0868"
      ]
     },
     "execution_count": 15,
     "metadata": {},
     "output_type": "execute_result"
    }
   ],
   "source": [
    "meet_new_t, meet_new_res = researchpy.crosstab(df['campus'], df['meet_new'], test= \"chi-square\")\n",
    "meet_new_res\n",
    "#no relationship between variables, accept null"
   ]
  },
  {
   "cell_type": "markdown",
   "id": "86be0d12",
   "metadata": {},
   "source": [
    "### first contact"
   ]
  },
  {
   "cell_type": "code",
   "execution_count": 16,
   "id": "b2b592af",
   "metadata": {},
   "outputs": [
    {
     "name": "stdout",
     "output_type": "stream",
     "text": [
      "During Welcome Week                60\n",
      "Before I arrived                   44\n",
      "Once teaching had started          16\n",
      "They still haven't contacted me     7\n",
      "Name: first_contact, dtype: int64\n"
     ]
    }
   ],
   "source": [
    "#find when first_contact\n",
    "total_first_contact = df['first_contact'].value_counts()\n",
    "print(total_first_contact)\n",
    "#most students reported they were contacted during welcome week"
   ]
  },
  {
   "cell_type": "code",
   "execution_count": 17,
   "id": "56da9bfe",
   "metadata": {},
   "outputs": [
    {
     "data": {
      "text/plain": [
       "Text(0, 0.5, 'frequency')"
      ]
     },
     "execution_count": 17,
     "metadata": {},
     "output_type": "execute_result"
    },
    {
     "data": {
      "image/png": "[encoded data removed]",
      "text/plain": [
       "<Figure size 576x504 with 1 Axes>"
      ]
     },
     "metadata": {
      "needs_background": "light"
     },
     "output_type": "display_data"
    }
   ],
   "source": [
    "ax = total_first_contact.plot(kind='bar', figsize=(8,7),rot=45)\n",
    "plt.title('When did your Welcome Buddy first contact you?')\n",
    "plt.xlabel('method of first contact')\n",
    "plt.ylabel('frequency')"
   ]
  },
  {
   "cell_type": "code",
   "execution_count": 18,
   "id": "afc659db",
   "metadata": {},
   "outputs": [
    {
     "name": "stdout",
     "output_type": "stream",
     "text": [
      "first_contact  Before I arrived  During Welcome Week  \\\n",
      "campus                                                 \n",
      "Cambridge             29.310345            51.724138   \n",
      "Chelmsford            38.888889            42.592593   \n",
      "Peterborough          40.000000            46.666667   \n",
      "\n",
      "first_contact  Once teaching had started  They still haven't contacted me  \n",
      "campus                                                                     \n",
      "Cambridge                      12.068966                         6.896552  \n",
      "Chelmsford                     14.814815                         3.703704  \n",
      "Peterborough                    6.666667                         6.666667  \n"
     ]
    }
   ],
   "source": [
    "#find first_contact broken down by campus\n",
    "table1 = pd.crosstab(index=df['campus'], columns=df['first_contact'], normalize='index') *100\n",
    "print(table1)\n",
    "#even subsetted by campus, most students reported they were contacted during welcome week\n"
   ]
  },
  {
   "cell_type": "code",
   "execution_count": 19,
   "id": "a661c9d6",
   "metadata": {},
   "outputs": [
    {
     "data": {
      "text/html": [
       "<div>\n",
       "<style scoped>\n",
       "    .dataframe tbody tr th:only-of-type {\n",
       "        vertical-align: middle;\n",
       "    }\n",
       "\n",
       "    .dataframe tbody tr th {\n",
       "        vertical-align: top;\n",
       "    }\n",
       "\n",
       "    .dataframe thead tr th {\n",
       "        text-align: left;\n",
       "    }\n",
       "\n",
       "    .dataframe thead tr:last-of-type th {\n",
       "        text-align: right;\n",
       "    }\n",
       "</style>\n",
       "<table border=\"1\" class=\"dataframe\">\n",
       "  <thead>\n",
       "    <tr>\n",
       "      <th></th>\n",
       "      <th colspan=\"5\" halign=\"left\">first_contact</th>\n",
       "    </tr>\n",
       "    <tr>\n",
       "      <th>first_contact</th>\n",
       "      <th>Before I arrived</th>\n",
       "      <th>During Welcome Week</th>\n",
       "      <th>Once teaching had started</th>\n",
       "      <th>They still haven't contacted me</th>\n",
       "      <th>All</th>\n",
       "    </tr>\n",
       "    <tr>\n",
       "      <th>campus</th>\n",
       "      <th></th>\n",
       "      <th></th>\n",
       "      <th></th>\n",
       "      <th></th>\n",
       "      <th></th>\n",
       "    </tr>\n",
       "  </thead>\n",
       "  <tbody>\n",
       "    <tr>\n",
       "      <th>Cambridge</th>\n",
       "      <td>29.31</td>\n",
       "      <td>51.72</td>\n",
       "      <td>12.07</td>\n",
       "      <td>6.90</td>\n",
       "      <td>100.0</td>\n",
       "    </tr>\n",
       "    <tr>\n",
       "      <th>Chelmsford</th>\n",
       "      <td>38.89</td>\n",
       "      <td>42.59</td>\n",
       "      <td>14.81</td>\n",
       "      <td>3.70</td>\n",
       "      <td>100.0</td>\n",
       "    </tr>\n",
       "    <tr>\n",
       "      <th>Peterborough</th>\n",
       "      <td>40.00</td>\n",
       "      <td>46.67</td>\n",
       "      <td>6.67</td>\n",
       "      <td>6.67</td>\n",
       "      <td>100.0</td>\n",
       "    </tr>\n",
       "    <tr>\n",
       "      <th>All</th>\n",
       "      <td>34.65</td>\n",
       "      <td>47.24</td>\n",
       "      <td>12.60</td>\n",
       "      <td>5.51</td>\n",
       "      <td>100.0</td>\n",
       "    </tr>\n",
       "  </tbody>\n",
       "</table>\n",
       "</div>"
      ],
      "text/plain": [
       "                 first_contact                                                \\\n",
       "first_contact Before I arrived During Welcome Week Once teaching had started   \n",
       "campus                                                                         \n",
       "Cambridge                29.31               51.72                     12.07   \n",
       "Chelmsford               38.89               42.59                     14.81   \n",
       "Peterborough             40.00               46.67                      6.67   \n",
       "All                      34.65               47.24                     12.60   \n",
       "\n",
       "                                                      \n",
       "first_contact They still haven't contacted me    All  \n",
       "campus                                                \n",
       "Cambridge                                6.90  100.0  \n",
       "Chelmsford                               3.70  100.0  \n",
       "Peterborough                             6.67  100.0  \n",
       "All                                      5.51  100.0  "
      ]
     },
     "execution_count": 19,
     "metadata": {},
     "output_type": "execute_result"
    }
   ],
   "source": [
    "#percentage\n",
    "first_contact_t = researchpy.crosstab(df['campus'], df['first_contact'], prop = \"row\")\n",
    "first_contact_t\n"
   ]
  },
  {
   "cell_type": "code",
   "execution_count": 20,
   "id": "7def70b8",
   "metadata": {},
   "outputs": [
    {
     "data": {
      "text/html": [
       "<div>\n",
       "<style scoped>\n",
       "    .dataframe tbody tr th:only-of-type {\n",
       "        vertical-align: middle;\n",
       "    }\n",
       "\n",
       "    .dataframe tbody tr th {\n",
       "        vertical-align: top;\n",
       "    }\n",
       "\n",
       "    .dataframe thead th {\n",
       "        text-align: right;\n",
       "    }\n",
       "</style>\n",
       "<table border=\"1\" class=\"dataframe\">\n",
       "  <thead>\n",
       "    <tr style=\"text-align: right;\">\n",
       "      <th></th>\n",
       "      <th>Chi-square test</th>\n",
       "      <th>results</th>\n",
       "    </tr>\n",
       "  </thead>\n",
       "  <tbody>\n",
       "    <tr>\n",
       "      <th>0</th>\n",
       "      <td>Pearson Chi-square ( 6.0) =</td>\n",
       "      <td>2.5768</td>\n",
       "    </tr>\n",
       "    <tr>\n",
       "      <th>1</th>\n",
       "      <td>p-value =</td>\n",
       "      <td>0.8598</td>\n",
       "    </tr>\n",
       "    <tr>\n",
       "      <th>2</th>\n",
       "      <td>Cramer's V =</td>\n",
       "      <td>0.1007</td>\n",
       "    </tr>\n",
       "  </tbody>\n",
       "</table>\n",
       "</div>"
      ],
      "text/plain": [
       "                Chi-square test  results\n",
       "0  Pearson Chi-square ( 6.0) =    2.5768\n",
       "1                    p-value =    0.8598\n",
       "2                 Cramer's V =    0.1007"
      ]
     },
     "execution_count": 20,
     "metadata": {},
     "output_type": "execute_result"
    }
   ],
   "source": [
    "first_contact_t, first_contact_res = researchpy.crosstab(df['campus'], df['first_contact'], test= \"chi-square\")\n",
    "first_contact_res\n",
    "\n",
    "#accept null, no relationship"
   ]
  },
  {
   "cell_type": "code",
   "execution_count": 21,
   "id": "76f93619",
   "metadata": {},
   "outputs": [
    {
     "data": {
      "text/plain": [
       "Text(0, 0.5, 'percentage of responses')"
      ]
     },
     "execution_count": 21,
     "metadata": {},
     "output_type": "execute_result"
    },
    {
     "data": {
      "image/png": "[encoded data removed]",
      "text/plain": [
       "<Figure size 720x432 with 1 Axes>"
      ]
     },
     "metadata": {
      "needs_background": "light"
     },
     "output_type": "display_data"
    }
   ],
   "source": [
    "#visualization of method of first contact by WB, subsetted by campus\n",
    "ax = table1.plot(kind='bar', stacked=True, figsize=(10,6), rot=0)\n",
    "plt.title('When did your Welcome Buddy first contact you?')\n",
    "ax.legend(title='', bbox_to_anchor=(0, -.1), loc='upper left')\n",
    "plt.ylabel('percentage of responses')"
   ]
  },
  {
   "cell_type": "markdown",
   "id": "f39f3033",
   "metadata": {},
   "source": [
    "### how became aware"
   ]
  },
  {
   "cell_type": "code",
   "execution_count": 22,
   "id": "1df75f12",
   "metadata": {},
   "outputs": [
    {
     "name": "stdout",
     "output_type": "stream",
     "text": [
      "['Email from the Welcome Buddy team,Email notification from my Welcome Buddy'\n",
      " 'Email when I accepted my place at ARU,ARU Webpages,Email from the Welcome Buddy team,Email notification from my Welcome Buddy'\n",
      " 'Email when I accepted my place at ARU'\n",
      " 'Email from the Welcome Buddy team'\n",
      " 'Email notification from my Welcome Buddy'\n",
      " 'Email when I accepted my place at ARU,Email from the Welcome Buddy team'\n",
      " \"I didn't receive any information\"\n",
      " 'Email when I accepted my place at ARU,Email from the Welcome Buddy team,Email notification from my Welcome Buddy'\n",
      " 'Open Day,Email from the Welcome Buddy team' 'Open Day'\n",
      " 'Open Day,Email notification from my Welcome Buddy'\n",
      " 'Email when I accepted my place at ARU,ARU Facebook group,Email from the Welcome Buddy team,Email notification from my Welcome Buddy'\n",
      " 'Email when I accepted my place at ARU,ARU Webpages,Email from the Welcome Buddy team'\n",
      " 'Email when I accepted my place at ARU,ARU Facebook group,Email from the Welcome Buddy team'\n",
      " 'Email from the Welcome Buddy team,Email notification from my Welcome Buddy,Other'\n",
      " 'Open Day,ARU Facebook group'\n",
      " 'Open Day,Email when I accepted my place at ARU,ARU Webpages,Email from the Welcome Buddy team,Email notification from my Welcome Buddy'\n",
      " 'Other'\n",
      " 'ARU Webpages,Email from the Welcome Buddy team,Email notification from my Welcome Buddy'\n",
      " 'ARU Webpages' 'Email when I accepted my place at ARU,ARU Facebook group'\n",
      " 'Email when I accepted my place at ARU,Email notification from my Welcome Buddy']\n"
     ]
    }
   ],
   "source": [
    "#check all unique values in how_became_aware column\n",
    "print(df['how_became_aware'].unique())"
   ]
  },
  {
   "cell_type": "code",
   "execution_count": 23,
   "id": "8eabccd6",
   "metadata": {},
   "outputs": [
    {
     "data": {
      "text/html": [
       "<div>\n",
       "<style scoped>\n",
       "    .dataframe tbody tr th:only-of-type {\n",
       "        vertical-align: middle;\n",
       "    }\n",
       "\n",
       "    .dataframe tbody tr th {\n",
       "        vertical-align: top;\n",
       "    }\n",
       "\n",
       "    .dataframe thead th {\n",
       "        text-align: right;\n",
       "    }\n",
       "</style>\n",
       "<table border=\"1\" class=\"dataframe\">\n",
       "  <thead>\n",
       "    <tr style=\"text-align: right;\">\n",
       "      <th></th>\n",
       "      <th>campus</th>\n",
       "      <th>first_contact</th>\n",
       "      <th>access_method</th>\n",
       "      <th>met_up</th>\n",
       "      <th>how_helped</th>\n",
       "      <th>sentiment</th>\n",
       "      <th>meet_new</th>\n",
       "      <th>friends</th>\n",
       "      <th>suggestions</th>\n",
       "      <th>comments</th>\n",
       "      <th>...</th>\n",
       "      <th>Chelmsford</th>\n",
       "      <th>Peterborough</th>\n",
       "      <th>email__when_accepted</th>\n",
       "      <th>email_from_wb</th>\n",
       "      <th>from_wbt</th>\n",
       "      <th>open_day</th>\n",
       "      <th>fb</th>\n",
       "      <th>no_info</th>\n",
       "      <th>web</th>\n",
       "      <th>other</th>\n",
       "    </tr>\n",
       "  </thead>\n",
       "  <tbody>\n",
       "    <tr>\n",
       "      <th>0</th>\n",
       "      <td>Chelmsford</td>\n",
       "      <td>Once teaching had started</td>\n",
       "      <td>Links in the auto emails</td>\n",
       "      <td>No - the Welcome Buddy didn't offer</td>\n",
       "      <td>It helps a lot to settle in to life as a stude...</td>\n",
       "      <td>1</td>\n",
       "      <td>3</td>\n",
       "      <td>No - none of them</td>\n",
       "      <td>Help students and make events related to this</td>\n",
       "      <td>Often chat with students</td>\n",
       "      <td>...</td>\n",
       "      <td>1</td>\n",
       "      <td>0</td>\n",
       "      <td>0</td>\n",
       "      <td>1</td>\n",
       "      <td>1</td>\n",
       "      <td>0</td>\n",
       "      <td>0</td>\n",
       "      <td>0</td>\n",
       "      <td>0</td>\n",
       "      <td>0</td>\n",
       "    </tr>\n",
       "    <tr>\n",
       "      <th>1</th>\n",
       "      <td>Cambridge</td>\n",
       "      <td>During Welcome Week</td>\n",
       "      <td>Links in the auto emails</td>\n",
       "      <td>Other</td>\n",
       "      <td>Provided information about the uniforms and ma...</td>\n",
       "      <td>1</td>\n",
       "      <td>1</td>\n",
       "      <td>No - none of them</td>\n",
       "      <td>Some students didn’t know about the welcome bu...</td>\n",
       "      <td>It is a very lovely idea, even tho we did not ...</td>\n",
       "      <td>...</td>\n",
       "      <td>0</td>\n",
       "      <td>0</td>\n",
       "      <td>1</td>\n",
       "      <td>1</td>\n",
       "      <td>1</td>\n",
       "      <td>0</td>\n",
       "      <td>0</td>\n",
       "      <td>0</td>\n",
       "      <td>1</td>\n",
       "      <td>0</td>\n",
       "    </tr>\n",
       "    <tr>\n",
       "      <th>2</th>\n",
       "      <td>Cambridge</td>\n",
       "      <td>Before I arrived</td>\n",
       "      <td>Links in the auto emails</td>\n",
       "      <td>No - I didn't feel I needed this support</td>\n",
       "      <td>To find notes</td>\n",
       "      <td>1</td>\n",
       "      <td>3</td>\n",
       "      <td>No - none of them</td>\n",
       "      <td>Nothing</td>\n",
       "      <td>No</td>\n",
       "      <td>...</td>\n",
       "      <td>0</td>\n",
       "      <td>0</td>\n",
       "      <td>1</td>\n",
       "      <td>0</td>\n",
       "      <td>0</td>\n",
       "      <td>0</td>\n",
       "      <td>0</td>\n",
       "      <td>0</td>\n",
       "      <td>0</td>\n",
       "      <td>0</td>\n",
       "    </tr>\n",
       "    <tr>\n",
       "      <th>3</th>\n",
       "      <td>Peterborough</td>\n",
       "      <td>Before I arrived</td>\n",
       "      <td>Links in the auto emails</td>\n",
       "      <td>Other</td>\n",
       "      <td>There wasn’t too much information provided.</td>\n",
       "      <td>0</td>\n",
       "      <td>1</td>\n",
       "      <td>Yes - a few of them</td>\n",
       "      <td>Better/frequent communication? Never met my we...</td>\n",
       "      <td>Welcome buddy was understanding and enthusiast...</td>\n",
       "      <td>...</td>\n",
       "      <td>0</td>\n",
       "      <td>1</td>\n",
       "      <td>0</td>\n",
       "      <td>0</td>\n",
       "      <td>1</td>\n",
       "      <td>0</td>\n",
       "      <td>0</td>\n",
       "      <td>0</td>\n",
       "      <td>0</td>\n",
       "      <td>0</td>\n",
       "    </tr>\n",
       "    <tr>\n",
       "      <th>4</th>\n",
       "      <td>Chelmsford</td>\n",
       "      <td>During Welcome Week</td>\n",
       "      <td>Links in the auto emails</td>\n",
       "      <td>No - the Welcome Buddy didn't offer</td>\n",
       "      <td>They didn't to be honest.</td>\n",
       "      <td>0</td>\n",
       "      <td>2</td>\n",
       "      <td>No - none of them</td>\n",
       "      <td>Put people together that are actually in the s...</td>\n",
       "      <td>It is a good idea in theory but it just didn't...</td>\n",
       "      <td>...</td>\n",
       "      <td>1</td>\n",
       "      <td>0</td>\n",
       "      <td>0</td>\n",
       "      <td>0</td>\n",
       "      <td>1</td>\n",
       "      <td>0</td>\n",
       "      <td>0</td>\n",
       "      <td>0</td>\n",
       "      <td>0</td>\n",
       "      <td>0</td>\n",
       "    </tr>\n",
       "  </tbody>\n",
       "</table>\n",
       "<p>5 rows × 21 columns</p>\n",
       "</div>"
      ],
      "text/plain": [
       "         campus              first_contact             access_method  \\\n",
       "0    Chelmsford  Once teaching had started  Links in the auto emails   \n",
       "1     Cambridge        During Welcome Week  Links in the auto emails   \n",
       "2     Cambridge           Before I arrived  Links in the auto emails   \n",
       "3  Peterborough           Before I arrived  Links in the auto emails   \n",
       "4    Chelmsford        During Welcome Week  Links in the auto emails   \n",
       "\n",
       "                                     met_up  \\\n",
       "0       No - the Welcome Buddy didn't offer   \n",
       "1                                     Other   \n",
       "2  No - I didn't feel I needed this support   \n",
       "3                                     Other   \n",
       "4       No - the Welcome Buddy didn't offer   \n",
       "\n",
       "                                          how_helped sentiment  meet_new  \\\n",
       "0  It helps a lot to settle in to life as a stude...         1         3   \n",
       "1  Provided information about the uniforms and ma...         1         1   \n",
       "2                                      To find notes         1         3   \n",
       "3        There wasn’t too much information provided.         0         1   \n",
       "4                          They didn't to be honest.         0         2   \n",
       "\n",
       "               friends                                        suggestions  \\\n",
       "0    No - none of them      Help students and make events related to this   \n",
       "1    No - none of them  Some students didn’t know about the welcome bu...   \n",
       "2    No - none of them                                            Nothing   \n",
       "3  Yes - a few of them  Better/frequent communication? Never met my we...   \n",
       "4    No - none of them  Put people together that are actually in the s...   \n",
       "\n",
       "                                            comments  ...  Chelmsford  \\\n",
       "0                          Often chat with students   ...           1   \n",
       "1  It is a very lovely idea, even tho we did not ...  ...           0   \n",
       "2                                                 No  ...           0   \n",
       "3  Welcome buddy was understanding and enthusiast...  ...           0   \n",
       "4  It is a good idea in theory but it just didn't...  ...           1   \n",
       "\n",
       "   Peterborough  email__when_accepted  email_from_wb  from_wbt  open_day  fb  \\\n",
       "0             0                     0              1         1         0   0   \n",
       "1             0                     1              1         1         0   0   \n",
       "2             0                     1              0         0         0   0   \n",
       "3             1                     0              0         1         0   0   \n",
       "4             0                     0              0         1         0   0   \n",
       "\n",
       "   no_info  web  other  \n",
       "0        0    0      0  \n",
       "1        0    1      0  \n",
       "2        0    0      0  \n",
       "3        0    0      0  \n",
       "4        0    0      0  \n",
       "\n",
       "[5 rows x 21 columns]"
      ]
     },
     "execution_count": 23,
     "metadata": {},
     "output_type": "execute_result"
    }
   ],
   "source": [
    "#encode all responses from how_became_aware column\n",
    "df[\"email__when_accepted\"] = df['how_became_aware'].str.contains('Email when I accepted my place at ARU') *1\n",
    "df[\"email_from_wb\"] = df['how_became_aware'].str.contains('Email notification from my Welcome Buddy') *1\n",
    "df[\"from_wbt\"] = df['how_became_aware'].str.contains('Email from the Welcome Buddy team') *1\n",
    "df[\"open_day\"] = df['how_became_aware'].str.contains('Open Day') *1\n",
    "df[\"fb\"] = df['how_became_aware'].str.contains('ARU Facebook group')*1\n",
    "df[\"no_info\"] = df['how_became_aware'].str.contains('receive any information')*1\n",
    "df[\"web\"] = df['how_became_aware'].str.contains('Webpages')*1\n",
    "df[\"other\"] = df['how_became_aware'].str.contains('Other')*1\n",
    "\n",
    "df = df.drop(['how_became_aware'], axis = 1)\n",
    "df.head()"
   ]
  },
  {
   "cell_type": "code",
   "execution_count": 24,
   "id": "0efb5f30",
   "metadata": {},
   "outputs": [
    {
     "data": {
      "text/html": [
       "<div>\n",
       "<style scoped>\n",
       "    .dataframe tbody tr th:only-of-type {\n",
       "        vertical-align: middle;\n",
       "    }\n",
       "\n",
       "    .dataframe tbody tr th {\n",
       "        vertical-align: top;\n",
       "    }\n",
       "\n",
       "    .dataframe thead th {\n",
       "        text-align: right;\n",
       "    }\n",
       "</style>\n",
       "<table border=\"1\" class=\"dataframe\">\n",
       "  <thead>\n",
       "    <tr style=\"text-align: right;\">\n",
       "      <th>email__when_accepted</th>\n",
       "      <th>0</th>\n",
       "      <th>1</th>\n",
       "    </tr>\n",
       "    <tr>\n",
       "      <th>campus</th>\n",
       "      <th></th>\n",
       "      <th></th>\n",
       "    </tr>\n",
       "  </thead>\n",
       "  <tbody>\n",
       "    <tr>\n",
       "      <th>Cambridge</th>\n",
       "      <td>0.413793</td>\n",
       "      <td>0.586207</td>\n",
       "    </tr>\n",
       "    <tr>\n",
       "      <th>Chelmsford</th>\n",
       "      <td>0.574074</td>\n",
       "      <td>0.425926</td>\n",
       "    </tr>\n",
       "    <tr>\n",
       "      <th>Peterborough</th>\n",
       "      <td>0.800000</td>\n",
       "      <td>0.200000</td>\n",
       "    </tr>\n",
       "  </tbody>\n",
       "</table>\n",
       "</div>"
      ],
      "text/plain": [
       "email__when_accepted         0         1\n",
       "campus                                  \n",
       "Cambridge             0.413793  0.586207\n",
       "Chelmsford            0.574074  0.425926\n",
       "Peterborough          0.800000  0.200000"
      ]
     },
     "execution_count": 24,
     "metadata": {},
     "output_type": "execute_result"
    }
   ],
   "source": [
    "#proportion of students from each campus who became aware from: email when accepted\n",
    "email_when_accepted = pd.crosstab(index=df['campus'], columns=df['email__when_accepted'], normalize='index')\n",
    "email_when_accepted\n",
    "#58.62% of students from Cambridge became aware from email when accepted; \n",
    "#42.59% of students from Chelmsford became aware from email when accepted; \n",
    "#20% of students from Peterborough became aware from email when accepted"
   ]
  },
  {
   "cell_type": "code",
   "execution_count": 25,
   "id": "ab14d18f",
   "metadata": {},
   "outputs": [
    {
     "data": {
      "text/plain": [
       "Text(0, 0.5, 'proportion of students')"
      ]
     },
     "execution_count": 25,
     "metadata": {},
     "output_type": "execute_result"
    },
    {
     "data": {
      "image/png": "[encoded data removed]",
      "text/plain": [
       "<Figure size 720x432 with 1 Axes>"
      ]
     },
     "metadata": {
      "needs_background": "light"
     },
     "output_type": "display_data"
    }
   ],
   "source": [
    "#visualization of proportion of students from each campus who became aware from email when accepted\n",
    "ax = pd.crosstab(index=df['campus'], columns=df['email__when_accepted'], normalize='index').plot(kind='bar', \n",
    "stacked=True, figsize=(10,6), rot=0)\n",
    "plt.title('proportion of students made aware via email when they accepted their place at ARU')\n",
    "plt.legend([\"not made aware via email\", \"made aware via email\"], bbox_to_anchor=(1, -.1), loc =\"upper right\")\n",
    "plt.ylabel('proportion of students')"
   ]
  },
  {
   "cell_type": "code",
   "execution_count": 26,
   "id": "9012abd9",
   "metadata": {},
   "outputs": [
    {
     "data": {
      "text/html": [
       "<div>\n",
       "<style scoped>\n",
       "    .dataframe tbody tr th:only-of-type {\n",
       "        vertical-align: middle;\n",
       "    }\n",
       "\n",
       "    .dataframe tbody tr th {\n",
       "        vertical-align: top;\n",
       "    }\n",
       "\n",
       "    .dataframe thead th {\n",
       "        text-align: right;\n",
       "    }\n",
       "</style>\n",
       "<table border=\"1\" class=\"dataframe\">\n",
       "  <thead>\n",
       "    <tr style=\"text-align: right;\">\n",
       "      <th>email_from_wb</th>\n",
       "      <th>0</th>\n",
       "      <th>1</th>\n",
       "    </tr>\n",
       "    <tr>\n",
       "      <th>campus</th>\n",
       "      <th></th>\n",
       "      <th></th>\n",
       "    </tr>\n",
       "  </thead>\n",
       "  <tbody>\n",
       "    <tr>\n",
       "      <th>Cambridge</th>\n",
       "      <td>0.724138</td>\n",
       "      <td>0.275862</td>\n",
       "    </tr>\n",
       "    <tr>\n",
       "      <th>Chelmsford</th>\n",
       "      <td>0.592593</td>\n",
       "      <td>0.407407</td>\n",
       "    </tr>\n",
       "    <tr>\n",
       "      <th>Peterborough</th>\n",
       "      <td>0.600000</td>\n",
       "      <td>0.400000</td>\n",
       "    </tr>\n",
       "  </tbody>\n",
       "</table>\n",
       "</div>"
      ],
      "text/plain": [
       "email_from_wb         0         1\n",
       "campus                           \n",
       "Cambridge      0.724138  0.275862\n",
       "Chelmsford     0.592593  0.407407\n",
       "Peterborough   0.600000  0.400000"
      ]
     },
     "execution_count": 26,
     "metadata": {},
     "output_type": "execute_result"
    }
   ],
   "source": [
    "#proportion of students from each campus who became aware from: email from wb\n",
    "email_from_wb = pd.crosstab(index=df['campus'], columns=df['email_from_wb'], normalize='index')\n",
    "email_from_wb\n",
    "#27.59% of students from Cambridge became aware from email when accepted; \n",
    "#40.74% of students from Chelmsford became aware from email when accepted; \n",
    "#40% of students from Peterborough became aware from email when accepted"
   ]
  },
  {
   "cell_type": "code",
   "execution_count": 27,
   "id": "f5aeb70c",
   "metadata": {},
   "outputs": [
    {
     "data": {
      "text/plain": [
       "Text(0, 0.5, 'proportion of students')"
      ]
     },
     "execution_count": 27,
     "metadata": {},
     "output_type": "execute_result"
    },
    {
     "data": {
      "image/png": "[encoded data removed]",
      "text/plain": [
       "<Figure size 720x432 with 1 Axes>"
      ]
     },
     "metadata": {
      "needs_background": "light"
     },
     "output_type": "display_data"
    }
   ],
   "source": [
    "#visualization of proportion of students from each campus who became aware from email from wb\n",
    "ax = pd.crosstab(index=df['campus'], columns=df['email_from_wb'], normalize='index').plot(kind='bar', \n",
    "stacked=True, figsize=(10,6), rot=0, color = ['indigo', 'violet'])\n",
    "plt.title('proportion of students made aware via email from Welcome Buddy')\n",
    "plt.legend([\"not made aware via email from Welcome Buddy\", \"made aware via email from Welcome Buddy\"], \n",
    "           bbox_to_anchor=(1, -.1), loc =\"upper right\")\n",
    "plt.ylabel('proportion of students')"
   ]
  },
  {
   "cell_type": "code",
   "execution_count": 28,
   "id": "f3fd3157",
   "metadata": {},
   "outputs": [
    {
     "data": {
      "text/plain": [
       "Text(0, 0.5, 'proportion of students')"
      ]
     },
     "execution_count": 28,
     "metadata": {},
     "output_type": "execute_result"
    },
    {
     "data": {
      "image/png": "[encoded data removed]",
      "text/plain": [
       "<Figure size 720x432 with 1 Axes>"
      ]
     },
     "metadata": {
      "needs_background": "light"
     },
     "output_type": "display_data"
    }
   ],
   "source": [
    "#visualization of proportion of students from each campus who became aware from email from wbt\n",
    "ax = pd.crosstab(index=df['campus'], columns=df['from_wbt'], normalize='index').plot(kind='bar', \n",
    "stacked=True, figsize=(10,6), rot=0, color = ['red', 'green'])\n",
    "plt.title('proportion of students made aware via email from Welcome Buddy team')\n",
    "plt.legend([\"not made aware via email from Welcome Buddy team\", \"made aware via email from Welcome Buddy team\"], \n",
    "           bbox_to_anchor=(1, -.1), loc =\"upper right\")\n",
    "plt.ylabel('proportion of students')"
   ]
  },
  {
   "cell_type": "code",
   "execution_count": 29,
   "id": "c4cc8c1c",
   "metadata": {},
   "outputs": [
    {
     "data": {
      "text/html": [
       "<div>\n",
       "<style scoped>\n",
       "    .dataframe tbody tr th:only-of-type {\n",
       "        vertical-align: middle;\n",
       "    }\n",
       "\n",
       "    .dataframe tbody tr th {\n",
       "        vertical-align: top;\n",
       "    }\n",
       "\n",
       "    .dataframe thead th {\n",
       "        text-align: right;\n",
       "    }\n",
       "</style>\n",
       "<table border=\"1\" class=\"dataframe\">\n",
       "  <thead>\n",
       "    <tr style=\"text-align: right;\">\n",
       "      <th>open_day</th>\n",
       "      <th>0</th>\n",
       "      <th>1</th>\n",
       "    </tr>\n",
       "    <tr>\n",
       "      <th>campus</th>\n",
       "      <th></th>\n",
       "      <th></th>\n",
       "    </tr>\n",
       "  </thead>\n",
       "  <tbody>\n",
       "    <tr>\n",
       "      <th>Cambridge</th>\n",
       "      <td>0.913793</td>\n",
       "      <td>0.086207</td>\n",
       "    </tr>\n",
       "    <tr>\n",
       "      <th>Chelmsford</th>\n",
       "      <td>0.907407</td>\n",
       "      <td>0.092593</td>\n",
       "    </tr>\n",
       "    <tr>\n",
       "      <th>Peterborough</th>\n",
       "      <td>0.733333</td>\n",
       "      <td>0.266667</td>\n",
       "    </tr>\n",
       "  </tbody>\n",
       "</table>\n",
       "</div>"
      ],
      "text/plain": [
       "open_day             0         1\n",
       "campus                          \n",
       "Cambridge     0.913793  0.086207\n",
       "Chelmsford    0.907407  0.092593\n",
       "Peterborough  0.733333  0.266667"
      ]
     },
     "execution_count": 29,
     "metadata": {},
     "output_type": "execute_result"
    }
   ],
   "source": [
    "#proportion of students from each campus who became aware from: email from open day\n",
    "open_day = pd.crosstab(index=df['campus'], columns=df['open_day'], normalize='index')\n",
    "open_day\n",
    "#8.62% of students from Cambridge became aware from open day; \n",
    "#9.26% of students from Chelmsford became aware from open day; \n",
    "#26.67% of students from Peterborough became aware from open day"
   ]
  },
  {
   "cell_type": "code",
   "execution_count": 30,
   "id": "13fd0d7d",
   "metadata": {},
   "outputs": [
    {
     "data": {
      "text/plain": [
       "Text(0, 0.5, 'proportion of students')"
      ]
     },
     "execution_count": 30,
     "metadata": {},
     "output_type": "execute_result"
    },
    {
     "data": {
      "image/png": "[encoded data removed]",
      "text/plain": [
       "<Figure size 720x432 with 1 Axes>"
      ]
     },
     "metadata": {
      "needs_background": "light"
     },
     "output_type": "display_data"
    }
   ],
   "source": [
    "#visualization of proportion of students from each campus who became aware from: email from open day\n",
    "ax = pd.crosstab(index=df['campus'], columns=df['open_day'], normalize='index').plot(kind='bar', \n",
    "stacked=True, figsize=(10,6), rot=0, color = ['purple', 'green'])\n",
    "plt.title('proportion of students made aware from open day')\n",
    "plt.legend([\"not made aware from open day\", \"made aware from open day\"], \n",
    "           bbox_to_anchor=(1, -.1), loc =\"upper right\")\n",
    "plt.ylabel('proportion of students')"
   ]
  },
  {
   "cell_type": "code",
   "execution_count": 31,
   "id": "ddd44c98",
   "metadata": {},
   "outputs": [
    {
     "data": {
      "text/html": [
       "<div>\n",
       "<style scoped>\n",
       "    .dataframe tbody tr th:only-of-type {\n",
       "        vertical-align: middle;\n",
       "    }\n",
       "\n",
       "    .dataframe tbody tr th {\n",
       "        vertical-align: top;\n",
       "    }\n",
       "\n",
       "    .dataframe thead th {\n",
       "        text-align: right;\n",
       "    }\n",
       "</style>\n",
       "<table border=\"1\" class=\"dataframe\">\n",
       "  <thead>\n",
       "    <tr style=\"text-align: right;\">\n",
       "      <th>fb</th>\n",
       "      <th>0</th>\n",
       "      <th>1</th>\n",
       "    </tr>\n",
       "    <tr>\n",
       "      <th>campus</th>\n",
       "      <th></th>\n",
       "      <th></th>\n",
       "    </tr>\n",
       "  </thead>\n",
       "  <tbody>\n",
       "    <tr>\n",
       "      <th>Cambridge</th>\n",
       "      <td>0.931034</td>\n",
       "      <td>0.068966</td>\n",
       "    </tr>\n",
       "    <tr>\n",
       "      <th>Chelmsford</th>\n",
       "      <td>0.981481</td>\n",
       "      <td>0.018519</td>\n",
       "    </tr>\n",
       "    <tr>\n",
       "      <th>Peterborough</th>\n",
       "      <td>1.000000</td>\n",
       "      <td>0.000000</td>\n",
       "    </tr>\n",
       "  </tbody>\n",
       "</table>\n",
       "</div>"
      ],
      "text/plain": [
       "fb                   0         1\n",
       "campus                          \n",
       "Cambridge     0.931034  0.068966\n",
       "Chelmsford    0.981481  0.018519\n",
       "Peterborough  1.000000  0.000000"
      ]
     },
     "execution_count": 31,
     "metadata": {},
     "output_type": "execute_result"
    }
   ],
   "source": [
    "#proportion of students from each campus who became aware from: ARU Facebook group\n",
    "fb = pd.crosstab(index=df['campus'], columns=df['fb'], normalize='index')\n",
    "fb\n",
    "#6.90% of students from Cambridge became aware from ARU Facebook group; \n",
    "#1.85% of students from Chelmsford became aware from ARU Facebook group; \n",
    "#0% of students from Peterborough became aware from ARU Facebook group"
   ]
  },
  {
   "cell_type": "code",
   "execution_count": 32,
   "id": "c4538274",
   "metadata": {},
   "outputs": [
    {
     "data": {
      "text/plain": [
       "Text(0, 0.5, 'proportion of students')"
      ]
     },
     "execution_count": 32,
     "metadata": {},
     "output_type": "execute_result"
    },
    {
     "data": {
      "image/png": "[encoded data removed]",
      "text/plain": [
       "<Figure size 720x432 with 1 Axes>"
      ]
     },
     "metadata": {
      "needs_background": "light"
     },
     "output_type": "display_data"
    }
   ],
   "source": [
    "#visualization of proportion of students from each campus who became aware from: ARU Facebook group\n",
    "ax = pd.crosstab(index=df['campus'], columns=df['fb'], normalize='index').plot(kind='bar', \n",
    "stacked=True, figsize=(10,6), rot=0, color = ['orange', 'gray'])\n",
    "plt.title('proportion of students made aware from ARU Facebook group')\n",
    "plt.legend([\"not made aware from ARU Facebook group\", \"made aware from ARU Facebook group\"], \n",
    "           bbox_to_anchor=(1, -.1), loc =\"upper right\")\n",
    "plt.ylabel('proportion of students')"
   ]
  },
  {
   "cell_type": "code",
   "execution_count": 33,
   "id": "9b847fd6",
   "metadata": {},
   "outputs": [
    {
     "data": {
      "text/html": [
       "<div>\n",
       "<style scoped>\n",
       "    .dataframe tbody tr th:only-of-type {\n",
       "        vertical-align: middle;\n",
       "    }\n",
       "\n",
       "    .dataframe tbody tr th {\n",
       "        vertical-align: top;\n",
       "    }\n",
       "\n",
       "    .dataframe thead th {\n",
       "        text-align: right;\n",
       "    }\n",
       "</style>\n",
       "<table border=\"1\" class=\"dataframe\">\n",
       "  <thead>\n",
       "    <tr style=\"text-align: right;\">\n",
       "      <th>no_info</th>\n",
       "      <th>0</th>\n",
       "      <th>1</th>\n",
       "    </tr>\n",
       "    <tr>\n",
       "      <th>campus</th>\n",
       "      <th></th>\n",
       "      <th></th>\n",
       "    </tr>\n",
       "  </thead>\n",
       "  <tbody>\n",
       "    <tr>\n",
       "      <th>Cambridge</th>\n",
       "      <td>0.965517</td>\n",
       "      <td>0.034483</td>\n",
       "    </tr>\n",
       "    <tr>\n",
       "      <th>Chelmsford</th>\n",
       "      <td>0.981481</td>\n",
       "      <td>0.018519</td>\n",
       "    </tr>\n",
       "    <tr>\n",
       "      <th>Peterborough</th>\n",
       "      <td>1.000000</td>\n",
       "      <td>0.000000</td>\n",
       "    </tr>\n",
       "  </tbody>\n",
       "</table>\n",
       "</div>"
      ],
      "text/plain": [
       "no_info              0         1\n",
       "campus                          \n",
       "Cambridge     0.965517  0.034483\n",
       "Chelmsford    0.981481  0.018519\n",
       "Peterborough  1.000000  0.000000"
      ]
     },
     "execution_count": 33,
     "metadata": {},
     "output_type": "execute_result"
    }
   ],
   "source": [
    "#proportion of students from each campus who became aware from: didn't receive any information\n",
    "no_info = pd.crosstab(index=df['campus'], columns=df['no_info'], normalize='index')\n",
    "no_info\n",
    "#3.45% of students from Cambridge didn't receive any information; \n",
    "#1.85% of students from Chelmsford didn't receive any information; \n",
    "#0% of students from Peterborough didn't receive any information"
   ]
  },
  {
   "cell_type": "code",
   "execution_count": 34,
   "id": "756480f8",
   "metadata": {},
   "outputs": [
    {
     "data": {
      "text/plain": [
       "Text(0, 0.5, 'proportion of students')"
      ]
     },
     "execution_count": 34,
     "metadata": {},
     "output_type": "execute_result"
    },
    {
     "data": {
      "image/png": "[encoded data removed]",
      "text/plain": [
       "<Figure size 720x432 with 1 Axes>"
      ]
     },
     "metadata": {
      "needs_background": "light"
     },
     "output_type": "display_data"
    }
   ],
   "source": [
    "#visualization of proportion of students from each campus who didn't receive any information\n",
    "ax = pd.crosstab(index=df['campus'], columns=df['no_info'], normalize='index').plot(kind='bar', \n",
    "stacked=True, figsize=(10,6), rot=0, color= ['gold', 'blue'])\n",
    "plt.title('proportion of students who recieved no information about Welcome Buddies')\n",
    "plt.legend([\"recieved information\", \"recieved no information\"], \n",
    "           bbox_to_anchor=(1, -.1), loc =\"upper right\")\n",
    "plt.ylabel('proportion of students')\n"
   ]
  },
  {
   "cell_type": "code",
   "execution_count": 35,
   "id": "0b93e8fc",
   "metadata": {},
   "outputs": [
    {
     "data": {
      "text/html": [
       "<div>\n",
       "<style scoped>\n",
       "    .dataframe tbody tr th:only-of-type {\n",
       "        vertical-align: middle;\n",
       "    }\n",
       "\n",
       "    .dataframe tbody tr th {\n",
       "        vertical-align: top;\n",
       "    }\n",
       "\n",
       "    .dataframe thead th {\n",
       "        text-align: right;\n",
       "    }\n",
       "</style>\n",
       "<table border=\"1\" class=\"dataframe\">\n",
       "  <thead>\n",
       "    <tr style=\"text-align: right;\">\n",
       "      <th>web</th>\n",
       "      <th>0</th>\n",
       "      <th>1</th>\n",
       "    </tr>\n",
       "    <tr>\n",
       "      <th>campus</th>\n",
       "      <th></th>\n",
       "      <th></th>\n",
       "    </tr>\n",
       "  </thead>\n",
       "  <tbody>\n",
       "    <tr>\n",
       "      <th>Cambridge</th>\n",
       "      <td>0.879310</td>\n",
       "      <td>0.120690</td>\n",
       "    </tr>\n",
       "    <tr>\n",
       "      <th>Chelmsford</th>\n",
       "      <td>0.925926</td>\n",
       "      <td>0.074074</td>\n",
       "    </tr>\n",
       "    <tr>\n",
       "      <th>Peterborough</th>\n",
       "      <td>1.000000</td>\n",
       "      <td>0.000000</td>\n",
       "    </tr>\n",
       "  </tbody>\n",
       "</table>\n",
       "</div>"
      ],
      "text/plain": [
       "web                  0         1\n",
       "campus                          \n",
       "Cambridge     0.879310  0.120690\n",
       "Chelmsford    0.925926  0.074074\n",
       "Peterborough  1.000000  0.000000"
      ]
     },
     "execution_count": 35,
     "metadata": {},
     "output_type": "execute_result"
    }
   ],
   "source": [
    "#proportion of students from each campus who became aware from: ARU Webpages\n",
    "web = pd.crosstab(index=df['campus'], columns=df['web'], normalize='index')\n",
    "web\n",
    "#12.07% of students from Cambridge who became aware from: ARU Webpages; \n",
    "#7.41% of students from Chelmsford who became aware from: ARU Webpages; \n",
    "#0% of students from Peterborough who became aware from: ARU Webpages"
   ]
  },
  {
   "cell_type": "code",
   "execution_count": 36,
   "id": "ce71b2af",
   "metadata": {},
   "outputs": [
    {
     "data": {
      "text/plain": [
       "Text(0, 0.5, 'proportion of students')"
      ]
     },
     "execution_count": 36,
     "metadata": {},
     "output_type": "execute_result"
    },
    {
     "data": {
      "image/png": "[encoded data removed]",
      "text/plain": [
       "<Figure size 720x432 with 1 Axes>"
      ]
     },
     "metadata": {
      "needs_background": "light"
     },
     "output_type": "display_data"
    }
   ],
   "source": [
    "#visualization of proportion of students from each campus who became aware from: ARU Webpages\n",
    "ax = pd.crosstab(index=df['campus'], columns=df['web'], normalize='index').plot(kind='bar', \n",
    "stacked=True, figsize=(10,6), rot=0, color = ['brown','silver'])\n",
    "plt.title('proportion of students who became aware from ARU Webpages')\n",
    "plt.legend([\"did not become aware from ARU Webpages\", \"became aware from ARU Webpages\"], \n",
    "           bbox_to_anchor=(1, -.1), loc =\"upper right\")\n",
    "plt.ylabel('proportion of students')"
   ]
  },
  {
   "cell_type": "code",
   "execution_count": 37,
   "id": "b69b52c7",
   "metadata": {},
   "outputs": [
    {
     "data": {
      "text/html": [
       "<div>\n",
       "<style scoped>\n",
       "    .dataframe tbody tr th:only-of-type {\n",
       "        vertical-align: middle;\n",
       "    }\n",
       "\n",
       "    .dataframe tbody tr th {\n",
       "        vertical-align: top;\n",
       "    }\n",
       "\n",
       "    .dataframe thead th {\n",
       "        text-align: right;\n",
       "    }\n",
       "</style>\n",
       "<table border=\"1\" class=\"dataframe\">\n",
       "  <thead>\n",
       "    <tr style=\"text-align: right;\">\n",
       "      <th>other</th>\n",
       "      <th>0</th>\n",
       "      <th>1</th>\n",
       "    </tr>\n",
       "    <tr>\n",
       "      <th>campus</th>\n",
       "      <th></th>\n",
       "      <th></th>\n",
       "    </tr>\n",
       "  </thead>\n",
       "  <tbody>\n",
       "    <tr>\n",
       "      <th>Cambridge</th>\n",
       "      <td>0.965517</td>\n",
       "      <td>0.034483</td>\n",
       "    </tr>\n",
       "    <tr>\n",
       "      <th>Chelmsford</th>\n",
       "      <td>1.000000</td>\n",
       "      <td>0.000000</td>\n",
       "    </tr>\n",
       "    <tr>\n",
       "      <th>Peterborough</th>\n",
       "      <td>1.000000</td>\n",
       "      <td>0.000000</td>\n",
       "    </tr>\n",
       "  </tbody>\n",
       "</table>\n",
       "</div>"
      ],
      "text/plain": [
       "other                0         1\n",
       "campus                          \n",
       "Cambridge     0.965517  0.034483\n",
       "Chelmsford    1.000000  0.000000\n",
       "Peterborough  1.000000  0.000000"
      ]
     },
     "execution_count": 37,
     "metadata": {},
     "output_type": "execute_result"
    }
   ],
   "source": [
    "#proportion of students from each campus who became aware from: other means\n",
    "other = pd.crosstab(index=df['campus'], columns=df['other'], normalize='index')\n",
    "other\n",
    "#3.45% of students from Cambridge who became aware from: other means; \n",
    "#0% of students from Chelmsford who became aware from: other means; \n",
    "#0% of students from Peterborough who became aware from: other means"
   ]
  },
  {
   "cell_type": "code",
   "execution_count": 38,
   "id": "c0f9c4ff",
   "metadata": {},
   "outputs": [
    {
     "data": {
      "text/plain": [
       "Text(0, 0.5, 'proportion of students')"
      ]
     },
     "execution_count": 38,
     "metadata": {},
     "output_type": "execute_result"
    },
    {
     "data": {
      "image/png": "[encoded data removed]",
      "text/plain": [
       "<Figure size 720x432 with 1 Axes>"
      ]
     },
     "metadata": {
      "needs_background": "light"
     },
     "output_type": "display_data"
    }
   ],
   "source": [
    "#visualization of proportion of students from each campus who became aware from: other means\n",
    "ax = pd.crosstab(index=df['campus'], columns=df['other'], normalize='index').plot(kind='bar', \n",
    "stacked=True, figsize=(10,6), rot=0, color = ['pink', 'purple'])\n",
    "plt.title('How did you find out about the Welcome Buddy scheme?: Other')\n",
    "plt.legend([\"did not become aware by other means\", \"became aware by other means\"], \n",
    "           bbox_to_anchor=(1, -.1), loc =\"upper right\")\n",
    "plt.ylabel('proportion of students')"
   ]
  },
  {
   "cell_type": "markdown",
   "id": "df991be5",
   "metadata": {},
   "source": [
    "## met_up"
   ]
  },
  {
   "cell_type": "code",
   "execution_count": 39,
   "id": "c4e28f56",
   "metadata": {},
   "outputs": [
    {
     "data": {
      "text/html": [
       "<div>\n",
       "<style scoped>\n",
       "    .dataframe tbody tr th:only-of-type {\n",
       "        vertical-align: middle;\n",
       "    }\n",
       "\n",
       "    .dataframe tbody tr th {\n",
       "        vertical-align: top;\n",
       "    }\n",
       "\n",
       "    .dataframe thead th {\n",
       "        text-align: right;\n",
       "    }\n",
       "</style>\n",
       "<table border=\"1\" class=\"dataframe\">\n",
       "  <thead>\n",
       "    <tr style=\"text-align: right;\">\n",
       "      <th>met_up</th>\n",
       "      <th>No - I didn't feel I needed this support</th>\n",
       "      <th>No - the Welcome Buddy didn't offer</th>\n",
       "      <th>No - we couldn't figure out a convenient time for us to meet</th>\n",
       "      <th>Other</th>\n",
       "      <th>Yes - we met up in an online video call</th>\n",
       "      <th>Yes - we met up in person</th>\n",
       "    </tr>\n",
       "    <tr>\n",
       "      <th>campus</th>\n",
       "      <th></th>\n",
       "      <th></th>\n",
       "      <th></th>\n",
       "      <th></th>\n",
       "      <th></th>\n",
       "      <th></th>\n",
       "    </tr>\n",
       "  </thead>\n",
       "  <tbody>\n",
       "    <tr>\n",
       "      <th>Cambridge</th>\n",
       "      <td>37.931034</td>\n",
       "      <td>22.413793</td>\n",
       "      <td>12.068966</td>\n",
       "      <td>5.172414</td>\n",
       "      <td>1.724138</td>\n",
       "      <td>20.689655</td>\n",
       "    </tr>\n",
       "    <tr>\n",
       "      <th>Chelmsford</th>\n",
       "      <td>37.037037</td>\n",
       "      <td>27.777778</td>\n",
       "      <td>11.111111</td>\n",
       "      <td>1.851852</td>\n",
       "      <td>11.111111</td>\n",
       "      <td>11.111111</td>\n",
       "    </tr>\n",
       "    <tr>\n",
       "      <th>Peterborough</th>\n",
       "      <td>26.666667</td>\n",
       "      <td>33.333333</td>\n",
       "      <td>20.000000</td>\n",
       "      <td>13.333333</td>\n",
       "      <td>0.000000</td>\n",
       "      <td>6.666667</td>\n",
       "    </tr>\n",
       "  </tbody>\n",
       "</table>\n",
       "</div>"
      ],
      "text/plain": [
       "met_up        No - I didn't feel I needed this support  \\\n",
       "campus                                                   \n",
       "Cambridge                                    37.931034   \n",
       "Chelmsford                                   37.037037   \n",
       "Peterborough                                 26.666667   \n",
       "\n",
       "met_up        No - the Welcome Buddy didn't offer  \\\n",
       "campus                                              \n",
       "Cambridge                               22.413793   \n",
       "Chelmsford                              27.777778   \n",
       "Peterborough                            33.333333   \n",
       "\n",
       "met_up        No - we couldn't figure out a convenient time for us to meet  \\\n",
       "campus                                                                       \n",
       "Cambridge                                             12.068966              \n",
       "Chelmsford                                            11.111111              \n",
       "Peterborough                                          20.000000              \n",
       "\n",
       "met_up            Other  Yes - we met up in an online video call  \\\n",
       "campus                                                             \n",
       "Cambridge      5.172414                                 1.724138   \n",
       "Chelmsford     1.851852                                11.111111   \n",
       "Peterborough  13.333333                                 0.000000   \n",
       "\n",
       "met_up        Yes - we met up in person  \n",
       "campus                                   \n",
       "Cambridge                     20.689655  \n",
       "Chelmsford                    11.111111  \n",
       "Peterborough                   6.666667  "
      ]
     },
     "execution_count": 39,
     "metadata": {},
     "output_type": "execute_result"
    }
   ],
   "source": [
    "#did you meet up with your Welcome Buddy (in person or online) in your first few weeks at ARU?\n",
    "mu = pd.crosstab(index=df['campus'], columns=df['met_up'], normalize='index') *100\n",
    "mu"
   ]
  },
  {
   "cell_type": "code",
   "execution_count": 40,
   "id": "36f3b904",
   "metadata": {},
   "outputs": [
    {
     "name": "stdout",
     "output_type": "stream",
     "text": [
      "No - I didn't feel I needed this support                        46\n",
      "No - the Welcome Buddy didn't offer                             33\n",
      "Yes - we met up in person                                       19\n",
      "No - we couldn't figure out a convenient time for us to meet    16\n",
      "Yes - we met up in an online video call                          7\n",
      "Other                                                            6\n",
      "Name: met_up, dtype: int64\n"
     ]
    }
   ],
   "source": [
    "#total first meet up\n",
    "total_met_up = df['met_up'].value_counts()\n",
    "print(total_met_up)\n",
    "#most students reported they were contacted during welcome week"
   ]
  },
  {
   "cell_type": "code",
   "execution_count": 41,
   "id": "e4515e58",
   "metadata": {},
   "outputs": [
    {
     "data": {
      "image/png": "[encoded data removed]",
      "text/plain": [
       "<Figure size 936x576 with 1 Axes>"
      ]
     },
     "metadata": {
      "needs_background": "light"
     },
     "output_type": "display_data"
    }
   ],
   "source": [
    "#visualization of:total_met_up\n",
    "ax = total_met_up.plot(kind='bar', figsize=(13,8),rot=0)\n",
    "plt.title('Did you meet up with your Welcome Buddy (in person or online) in your first few weeks at ARU?')\n",
    "plt.xlabel('Response')\n",
    "plt.ylabel('number of students')\n",
    "\n",
    "ax.set_xticks([0,1,2,3,4,5])\n",
    "ax.set_xticklabels([\"No - I didn't feel I needed this support\",\"No - the Welcome Buddy didn't offer\",\n",
    "                    \"Yes - we met up in person   \",\"     No - we couldn't figure out a convenient time for us to meet\",\n",
    "                    \"Yes - we met up in an online video call\", \"Other\"])\n",
    "\n",
    "#[1::2] means start from the second element in the list and get every other element\n",
    "for tick in ax.xaxis.get_major_ticks()[1::2]:\n",
    "    tick.set_pad(25)\n",
    "\n",
    "plt.show()"
   ]
  },
  {
   "cell_type": "code",
   "execution_count": 42,
   "id": "3dd65703",
   "metadata": {},
   "outputs": [
    {
     "data": {
      "text/plain": [
       "Text(0, 0.5, 'proportion of students')"
      ]
     },
     "execution_count": 42,
     "metadata": {},
     "output_type": "execute_result"
    },
    {
     "data": {
      "image/png": "[encoded data removed]",
      "text/plain": [
       "<Figure size 720x432 with 1 Axes>"
      ]
     },
     "metadata": {
      "needs_background": "light"
     },
     "output_type": "display_data"
    }
   ],
   "source": [
    "#visualization of proportion of:\n",
    "#did you meet up with your Welcome Buddy (in person or online) in your first few weeks at ARU?\n",
    "ax = pd.crosstab(index=df['campus'], columns=df['met_up'], normalize='index').plot(kind='bar', \n",
    "stacked=True, figsize=(10,6), rot=0)\n",
    "plt.title('Did you meet up with your Welcome Buddy (in person or online) in your first few weeks at ARU?')\n",
    "plt.legend([\"No - I didn't feel I needed this support\", \"No - the Welcome Buddy didn't offer\", \n",
    "            \"No - we couldn't figure out a convenient time for us to meet\", \"Other\", \n",
    "            \"Yes - we met up in an online video call\", \"Yes - we met up in person\"], \n",
    "           bbox_to_anchor=(1, -.1), loc =\"upper right\")\n",
    "plt.ylabel('proportion of students')"
   ]
  },
  {
   "cell_type": "code",
   "execution_count": 43,
   "id": "21035532",
   "metadata": {},
   "outputs": [
    {
     "data": {
      "text/html": [
       "<div>\n",
       "<style scoped>\n",
       "    .dataframe tbody tr th:only-of-type {\n",
       "        vertical-align: middle;\n",
       "    }\n",
       "\n",
       "    .dataframe tbody tr th {\n",
       "        vertical-align: top;\n",
       "    }\n",
       "\n",
       "    .dataframe thead tr th {\n",
       "        text-align: left;\n",
       "    }\n",
       "\n",
       "    .dataframe thead tr:last-of-type th {\n",
       "        text-align: right;\n",
       "    }\n",
       "</style>\n",
       "<table border=\"1\" class=\"dataframe\">\n",
       "  <thead>\n",
       "    <tr>\n",
       "      <th></th>\n",
       "      <th colspan=\"7\" halign=\"left\">met_up</th>\n",
       "    </tr>\n",
       "    <tr>\n",
       "      <th>met_up</th>\n",
       "      <th>No - I didn't feel I needed this support</th>\n",
       "      <th>No - the Welcome Buddy didn't offer</th>\n",
       "      <th>No - we couldn't figure out a convenient time for us to meet</th>\n",
       "      <th>Other</th>\n",
       "      <th>Yes - we met up in an online video call</th>\n",
       "      <th>Yes - we met up in person</th>\n",
       "      <th>All</th>\n",
       "    </tr>\n",
       "    <tr>\n",
       "      <th>campus</th>\n",
       "      <th></th>\n",
       "      <th></th>\n",
       "      <th></th>\n",
       "      <th></th>\n",
       "      <th></th>\n",
       "      <th></th>\n",
       "      <th></th>\n",
       "    </tr>\n",
       "  </thead>\n",
       "  <tbody>\n",
       "    <tr>\n",
       "      <th>Cambridge</th>\n",
       "      <td>22</td>\n",
       "      <td>13</td>\n",
       "      <td>7</td>\n",
       "      <td>3</td>\n",
       "      <td>1</td>\n",
       "      <td>12</td>\n",
       "      <td>58</td>\n",
       "    </tr>\n",
       "    <tr>\n",
       "      <th>Chelmsford</th>\n",
       "      <td>20</td>\n",
       "      <td>15</td>\n",
       "      <td>6</td>\n",
       "      <td>1</td>\n",
       "      <td>6</td>\n",
       "      <td>6</td>\n",
       "      <td>54</td>\n",
       "    </tr>\n",
       "    <tr>\n",
       "      <th>Peterborough</th>\n",
       "      <td>4</td>\n",
       "      <td>5</td>\n",
       "      <td>3</td>\n",
       "      <td>2</td>\n",
       "      <td>0</td>\n",
       "      <td>1</td>\n",
       "      <td>15</td>\n",
       "    </tr>\n",
       "    <tr>\n",
       "      <th>All</th>\n",
       "      <td>46</td>\n",
       "      <td>33</td>\n",
       "      <td>16</td>\n",
       "      <td>6</td>\n",
       "      <td>7</td>\n",
       "      <td>19</td>\n",
       "      <td>127</td>\n",
       "    </tr>\n",
       "  </tbody>\n",
       "</table>\n",
       "</div>"
      ],
      "text/plain": [
       "                                               met_up  \\\n",
       "met_up       No - I didn't feel I needed this support   \n",
       "campus                                                  \n",
       "Cambridge                                          22   \n",
       "Chelmsford                                         20   \n",
       "Peterborough                                        4   \n",
       "All                                                46   \n",
       "\n",
       "                                                  \\\n",
       "met_up       No - the Welcome Buddy didn't offer   \n",
       "campus                                             \n",
       "Cambridge                                     13   \n",
       "Chelmsford                                    15   \n",
       "Peterborough                                   5   \n",
       "All                                           33   \n",
       "\n",
       "                                                                           \\\n",
       "met_up       No - we couldn't figure out a convenient time for us to meet   \n",
       "campus                                                                      \n",
       "Cambridge                                                     7             \n",
       "Chelmsford                                                    6             \n",
       "Peterborough                                                  3             \n",
       "All                                                          16             \n",
       "\n",
       "                                                            \\\n",
       "met_up       Other Yes - we met up in an online video call   \n",
       "campus                                                       \n",
       "Cambridge        3                                       1   \n",
       "Chelmsford       1                                       6   \n",
       "Peterborough     2                                       0   \n",
       "All              6                                       7   \n",
       "\n",
       "                                             \n",
       "met_up       Yes - we met up in person  All  \n",
       "campus                                       \n",
       "Cambridge                           12   58  \n",
       "Chelmsford                           6   54  \n",
       "Peterborough                         1   15  \n",
       "All                                 19  127  "
      ]
     },
     "execution_count": 43,
     "metadata": {},
     "output_type": "execute_result"
    }
   ],
   "source": [
    "t, res = researchpy.crosstab(df['campus'], df['met_up'], test= \"chi-square\")\n",
    "t\n",
    "#this crosstab is the same as the crosstab for met_up just with counts, not proportions"
   ]
  },
  {
   "cell_type": "code",
   "execution_count": 44,
   "id": "37bf5871",
   "metadata": {},
   "outputs": [
    {
     "data": {
      "text/html": [
       "<div>\n",
       "<style scoped>\n",
       "    .dataframe tbody tr th:only-of-type {\n",
       "        vertical-align: middle;\n",
       "    }\n",
       "\n",
       "    .dataframe tbody tr th {\n",
       "        vertical-align: top;\n",
       "    }\n",
       "\n",
       "    .dataframe thead tr th {\n",
       "        text-align: left;\n",
       "    }\n",
       "\n",
       "    .dataframe thead tr:last-of-type th {\n",
       "        text-align: right;\n",
       "    }\n",
       "</style>\n",
       "<table border=\"1\" class=\"dataframe\">\n",
       "  <thead>\n",
       "    <tr>\n",
       "      <th></th>\n",
       "      <th colspan=\"7\" halign=\"left\">met_up</th>\n",
       "    </tr>\n",
       "    <tr>\n",
       "      <th>met_up</th>\n",
       "      <th>No - I didn't feel I needed this support</th>\n",
       "      <th>No - the Welcome Buddy didn't offer</th>\n",
       "      <th>No - we couldn't figure out a convenient time for us to meet</th>\n",
       "      <th>Other</th>\n",
       "      <th>Yes - we met up in an online video call</th>\n",
       "      <th>Yes - we met up in person</th>\n",
       "      <th>All</th>\n",
       "    </tr>\n",
       "    <tr>\n",
       "      <th>campus</th>\n",
       "      <th></th>\n",
       "      <th></th>\n",
       "      <th></th>\n",
       "      <th></th>\n",
       "      <th></th>\n",
       "      <th></th>\n",
       "      <th></th>\n",
       "    </tr>\n",
       "  </thead>\n",
       "  <tbody>\n",
       "    <tr>\n",
       "      <th>Cambridge</th>\n",
       "      <td>37.93</td>\n",
       "      <td>22.41</td>\n",
       "      <td>12.07</td>\n",
       "      <td>5.17</td>\n",
       "      <td>1.72</td>\n",
       "      <td>20.69</td>\n",
       "      <td>100.0</td>\n",
       "    </tr>\n",
       "    <tr>\n",
       "      <th>Chelmsford</th>\n",
       "      <td>37.04</td>\n",
       "      <td>27.78</td>\n",
       "      <td>11.11</td>\n",
       "      <td>1.85</td>\n",
       "      <td>11.11</td>\n",
       "      <td>11.11</td>\n",
       "      <td>100.0</td>\n",
       "    </tr>\n",
       "    <tr>\n",
       "      <th>Peterborough</th>\n",
       "      <td>26.67</td>\n",
       "      <td>33.33</td>\n",
       "      <td>20.00</td>\n",
       "      <td>13.33</td>\n",
       "      <td>0.00</td>\n",
       "      <td>6.67</td>\n",
       "      <td>100.0</td>\n",
       "    </tr>\n",
       "    <tr>\n",
       "      <th>All</th>\n",
       "      <td>36.22</td>\n",
       "      <td>25.98</td>\n",
       "      <td>12.60</td>\n",
       "      <td>4.72</td>\n",
       "      <td>5.51</td>\n",
       "      <td>14.96</td>\n",
       "      <td>100.0</td>\n",
       "    </tr>\n",
       "  </tbody>\n",
       "</table>\n",
       "</div>"
      ],
      "text/plain": [
       "                                               met_up  \\\n",
       "met_up       No - I didn't feel I needed this support   \n",
       "campus                                                  \n",
       "Cambridge                                       37.93   \n",
       "Chelmsford                                      37.04   \n",
       "Peterborough                                    26.67   \n",
       "All                                             36.22   \n",
       "\n",
       "                                                  \\\n",
       "met_up       No - the Welcome Buddy didn't offer   \n",
       "campus                                             \n",
       "Cambridge                                  22.41   \n",
       "Chelmsford                                 27.78   \n",
       "Peterborough                               33.33   \n",
       "All                                        25.98   \n",
       "\n",
       "                                                                           \\\n",
       "met_up       No - we couldn't figure out a convenient time for us to meet   \n",
       "campus                                                                      \n",
       "Cambridge                                                 12.07             \n",
       "Chelmsford                                                11.11             \n",
       "Peterborough                                              20.00             \n",
       "All                                                       12.60             \n",
       "\n",
       "                                                             \\\n",
       "met_up        Other Yes - we met up in an online video call   \n",
       "campus                                                        \n",
       "Cambridge      5.17                                    1.72   \n",
       "Chelmsford     1.85                                   11.11   \n",
       "Peterborough  13.33                                    0.00   \n",
       "All            4.72                                    5.51   \n",
       "\n",
       "                                               \n",
       "met_up       Yes - we met up in person    All  \n",
       "campus                                         \n",
       "Cambridge                        20.69  100.0  \n",
       "Chelmsford                       11.11  100.0  \n",
       "Peterborough                      6.67  100.0  \n",
       "All                              14.96  100.0  "
      ]
     },
     "execution_count": 44,
     "metadata": {},
     "output_type": "execute_result"
    }
   ],
   "source": [
    "tt = researchpy.crosstab(df['campus'], df['met_up'], prop= \"row\")\n",
    "tt"
   ]
  },
  {
   "cell_type": "code",
   "execution_count": 45,
   "id": "d1d37792",
   "metadata": {},
   "outputs": [
    {
     "data": {
      "text/html": [
       "<div>\n",
       "<style scoped>\n",
       "    .dataframe tbody tr th:only-of-type {\n",
       "        vertical-align: middle;\n",
       "    }\n",
       "\n",
       "    .dataframe tbody tr th {\n",
       "        vertical-align: top;\n",
       "    }\n",
       "\n",
       "    .dataframe thead th {\n",
       "        text-align: right;\n",
       "    }\n",
       "</style>\n",
       "<table border=\"1\" class=\"dataframe\">\n",
       "  <thead>\n",
       "    <tr style=\"text-align: right;\">\n",
       "      <th></th>\n",
       "      <th>Chi-square test</th>\n",
       "      <th>results</th>\n",
       "    </tr>\n",
       "  </thead>\n",
       "  <tbody>\n",
       "    <tr>\n",
       "      <th>0</th>\n",
       "      <td>Pearson Chi-square ( 10.0) =</td>\n",
       "      <td>13.0839</td>\n",
       "    </tr>\n",
       "    <tr>\n",
       "      <th>1</th>\n",
       "      <td>p-value =</td>\n",
       "      <td>0.2190</td>\n",
       "    </tr>\n",
       "    <tr>\n",
       "      <th>2</th>\n",
       "      <td>Cramer's V =</td>\n",
       "      <td>0.2270</td>\n",
       "    </tr>\n",
       "  </tbody>\n",
       "</table>\n",
       "</div>"
      ],
      "text/plain": [
       "                 Chi-square test  results\n",
       "0  Pearson Chi-square ( 10.0) =   13.0839\n",
       "1                     p-value =    0.2190\n",
       "2                  Cramer's V =    0.2270"
      ]
     },
     "execution_count": 45,
     "metadata": {},
     "output_type": "execute_result"
    }
   ],
   "source": [
    "res\n",
    "#results indicates that the null hypothesis that the variables are independent cannot be rejected. The variables\n",
    "#are independent, there is no relationship between the campus of a respondent and whether they met up"
   ]
  },
  {
   "cell_type": "code",
   "execution_count": 46,
   "id": "2250666c",
   "metadata": {},
   "outputs": [
    {
     "data": {
      "text/html": [
       "<div>\n",
       "<style scoped>\n",
       "    .dataframe tbody tr th:only-of-type {\n",
       "        vertical-align: middle;\n",
       "    }\n",
       "\n",
       "    .dataframe tbody tr th {\n",
       "        vertical-align: top;\n",
       "    }\n",
       "\n",
       "    .dataframe thead th {\n",
       "        text-align: right;\n",
       "    }\n",
       "</style>\n",
       "<table border=\"1\" class=\"dataframe\">\n",
       "  <thead>\n",
       "    <tr style=\"text-align: right;\">\n",
       "      <th></th>\n",
       "      <th>Cambridge</th>\n",
       "      <th>Chelmsford</th>\n",
       "      <th>Peterborough</th>\n",
       "      <th>met_up_encoded</th>\n",
       "    </tr>\n",
       "  </thead>\n",
       "  <tbody>\n",
       "    <tr>\n",
       "      <th>0</th>\n",
       "      <td>0</td>\n",
       "      <td>1</td>\n",
       "      <td>0</td>\n",
       "      <td>0</td>\n",
       "    </tr>\n",
       "    <tr>\n",
       "      <th>2</th>\n",
       "      <td>1</td>\n",
       "      <td>0</td>\n",
       "      <td>0</td>\n",
       "      <td>0</td>\n",
       "    </tr>\n",
       "    <tr>\n",
       "      <th>4</th>\n",
       "      <td>0</td>\n",
       "      <td>1</td>\n",
       "      <td>0</td>\n",
       "      <td>0</td>\n",
       "    </tr>\n",
       "    <tr>\n",
       "      <th>5</th>\n",
       "      <td>0</td>\n",
       "      <td>1</td>\n",
       "      <td>0</td>\n",
       "      <td>0</td>\n",
       "    </tr>\n",
       "    <tr>\n",
       "      <th>6</th>\n",
       "      <td>0</td>\n",
       "      <td>0</td>\n",
       "      <td>1</td>\n",
       "      <td>0</td>\n",
       "    </tr>\n",
       "    <tr>\n",
       "      <th>...</th>\n",
       "      <td>...</td>\n",
       "      <td>...</td>\n",
       "      <td>...</td>\n",
       "      <td>...</td>\n",
       "    </tr>\n",
       "    <tr>\n",
       "      <th>125</th>\n",
       "      <td>1</td>\n",
       "      <td>0</td>\n",
       "      <td>0</td>\n",
       "      <td>0</td>\n",
       "    </tr>\n",
       "    <tr>\n",
       "      <th>126</th>\n",
       "      <td>1</td>\n",
       "      <td>0</td>\n",
       "      <td>0</td>\n",
       "      <td>0</td>\n",
       "    </tr>\n",
       "    <tr>\n",
       "      <th>127</th>\n",
       "      <td>0</td>\n",
       "      <td>1</td>\n",
       "      <td>0</td>\n",
       "      <td>0</td>\n",
       "    </tr>\n",
       "    <tr>\n",
       "      <th>128</th>\n",
       "      <td>0</td>\n",
       "      <td>1</td>\n",
       "      <td>0</td>\n",
       "      <td>0</td>\n",
       "    </tr>\n",
       "    <tr>\n",
       "      <th>129</th>\n",
       "      <td>1</td>\n",
       "      <td>0</td>\n",
       "      <td>0</td>\n",
       "      <td>1</td>\n",
       "    </tr>\n",
       "  </tbody>\n",
       "</table>\n",
       "<p>121 rows × 4 columns</p>\n",
       "</div>"
      ],
      "text/plain": [
       "     Cambridge  Chelmsford  Peterborough  met_up_encoded\n",
       "0            0           1             0               0\n",
       "2            1           0             0               0\n",
       "4            0           1             0               0\n",
       "5            0           1             0               0\n",
       "6            0           0             1               0\n",
       "..         ...         ...           ...             ...\n",
       "125          1           0             0               0\n",
       "126          1           0             0               0\n",
       "127          0           1             0               0\n",
       "128          0           1             0               0\n",
       "129          1           0             0               1\n",
       "\n",
       "[121 rows x 4 columns]"
      ]
     },
     "execution_count": 46,
     "metadata": {},
     "output_type": "execute_result"
    }
   ],
   "source": [
    "#group this column in binary column: yes or no\n",
    "met_up_df = df[['Cambridge', 'Chelmsford', 'Peterborough', 'met_up']].copy()\n",
    "#remove \"other\" from met_up column\n",
    "met_up_df.drop(df[df['met_up'] == 'Other'].index, inplace = True)\n",
    "#encode Yes and Nos as binary variable\n",
    "met_up_df[\"met_up_encoded\"] = np.where(met_up_df[\"met_up\"].str.contains(\"Yes\"), 1, 0)\n",
    "#remove unencoded column\n",
    "met_up_df = met_up_df.drop(columns=['met_up'])\n",
    "met_up_df"
   ]
  },
  {
   "cell_type": "code",
   "execution_count": 47,
   "id": "1e605baa",
   "metadata": {},
   "outputs": [
    {
     "name": "stdout",
     "output_type": "stream",
     "text": [
      "                Chi-square test  results\n",
      "0  Pearson Chi-square ( 1.0) =    0.2760\n",
      "1                    p-value =    0.5994\n",
      "2               Cramer's phi =    0.0478\n",
      "                Chi-square test  results\n",
      "0  Pearson Chi-square ( 1.0) =    0.0744\n",
      "1                    p-value =    0.7850\n",
      "2               Cramer's phi =    0.0248\n",
      "                Chi-square test  results\n",
      "0  Pearson Chi-square ( 1.0) =    1.6430\n",
      "1                    p-value =    0.1999\n",
      "2               Cramer's phi =    0.1165\n"
     ]
    }
   ],
   "source": [
    "#statistical test \n",
    "met_up_t, met_up_res = researchpy.crosstab(met_up_df['Cambridge'], met_up_df['met_up_encoded'], test= \"chi-square\")\n",
    "print(met_up_res)\n",
    "ch_met_up_t, ch_met_up_res = researchpy.crosstab(met_up_df['Chelmsford'], met_up_df['met_up_encoded'], test= \"chi-square\")\n",
    "print(ch_met_up_res)\n",
    "p_met_up_t, p_met_up_res = researchpy.crosstab(met_up_df['Peterborough'], met_up_df['met_up_encoded'], test= \"chi-square\")\n",
    "print(p_met_up_res)\n",
    "#none are significant"
   ]
  },
  {
   "cell_type": "markdown",
   "id": "d8d07e85",
   "metadata": {},
   "source": [
    "### friends"
   ]
  },
  {
   "cell_type": "code",
   "execution_count": 48,
   "id": "ab909801",
   "metadata": {},
   "outputs": [
    {
     "data": {
      "text/html": [
       "<div>\n",
       "<style scoped>\n",
       "    .dataframe tbody tr th:only-of-type {\n",
       "        vertical-align: middle;\n",
       "    }\n",
       "\n",
       "    .dataframe tbody tr th {\n",
       "        vertical-align: top;\n",
       "    }\n",
       "\n",
       "    .dataframe thead th {\n",
       "        text-align: right;\n",
       "    }\n",
       "</style>\n",
       "<table border=\"1\" class=\"dataframe\">\n",
       "  <thead>\n",
       "    <tr style=\"text-align: right;\">\n",
       "      <th>friends</th>\n",
       "      <th>No - none of them</th>\n",
       "      <th>Yes - a few of them</th>\n",
       "      <th>Yes - all of them</th>\n",
       "      <th>Yes - just one of them</th>\n",
       "    </tr>\n",
       "    <tr>\n",
       "      <th>campus</th>\n",
       "      <th></th>\n",
       "      <th></th>\n",
       "      <th></th>\n",
       "      <th></th>\n",
       "    </tr>\n",
       "  </thead>\n",
       "  <tbody>\n",
       "    <tr>\n",
       "      <th>Cambridge</th>\n",
       "      <td>0.603448</td>\n",
       "      <td>0.258621</td>\n",
       "      <td>0.034483</td>\n",
       "      <td>0.103448</td>\n",
       "    </tr>\n",
       "    <tr>\n",
       "      <th>Chelmsford</th>\n",
       "      <td>0.611111</td>\n",
       "      <td>0.259259</td>\n",
       "      <td>0.074074</td>\n",
       "      <td>0.055556</td>\n",
       "    </tr>\n",
       "    <tr>\n",
       "      <th>Peterborough</th>\n",
       "      <td>0.266667</td>\n",
       "      <td>0.333333</td>\n",
       "      <td>0.400000</td>\n",
       "      <td>0.000000</td>\n",
       "    </tr>\n",
       "  </tbody>\n",
       "</table>\n",
       "</div>"
      ],
      "text/plain": [
       "friends       No - none of them  Yes - a few of them  Yes - all of them  \\\n",
       "campus                                                                    \n",
       "Cambridge              0.603448             0.258621           0.034483   \n",
       "Chelmsford             0.611111             0.259259           0.074074   \n",
       "Peterborough           0.266667             0.333333           0.400000   \n",
       "\n",
       "friends       Yes - just one of them  \n",
       "campus                                \n",
       "Cambridge                   0.103448  \n",
       "Chelmsford                  0.055556  \n",
       "Peterborough                0.000000  "
      ]
     },
     "execution_count": 48,
     "metadata": {},
     "output_type": "execute_result"
    }
   ],
   "source": [
    "#Are you friends with any of the new students that are in the same group chat as you?\n",
    "pd.crosstab(index=df['campus'], columns=df['friends'], normalize='index')"
   ]
  },
  {
   "cell_type": "code",
   "execution_count": 49,
   "id": "1223b0a1",
   "metadata": {},
   "outputs": [
    {
     "data": {
      "text/plain": [
       "Text(0, 0.5, 'proportion of students')"
      ]
     },
     "execution_count": 49,
     "metadata": {},
     "output_type": "execute_result"
    },
    {
     "data": {
      "image/png": "[encoded data removed]",
      "text/plain": [
       "<Figure size 720x432 with 1 Axes>"
      ]
     },
     "metadata": {
      "needs_background": "light"
     },
     "output_type": "display_data"
    }
   ],
   "source": [
    "#visualization of proportion of:\n",
    "#Are you friends with any of the new students that are in the same group chat as you?\n",
    "ax = pd.crosstab(index=df['campus'], columns=df['friends'], normalize='index').plot(kind='bar', \n",
    "stacked=True, figsize=(10,6), rot=0)\n",
    "plt.title('Are you friends with any of the new students that are in the same group chat as you?')\n",
    "plt.legend([\"No - none of them\", \"Yes - a few of them\", \n",
    "            \"Yes - all of them\", \"Yes - just one of them\"], bbox_to_anchor=(1.3, 1.1), loc =\"upper right\")\n",
    "plt.ylabel('proportion of students')"
   ]
  },
  {
   "cell_type": "code",
   "execution_count": 50,
   "id": "14576523",
   "metadata": {},
   "outputs": [
    {
     "data": {
      "text/html": [
       "<div>\n",
       "<style scoped>\n",
       "    .dataframe tbody tr th:only-of-type {\n",
       "        vertical-align: middle;\n",
       "    }\n",
       "\n",
       "    .dataframe tbody tr th {\n",
       "        vertical-align: top;\n",
       "    }\n",
       "\n",
       "    .dataframe thead tr th {\n",
       "        text-align: left;\n",
       "    }\n",
       "\n",
       "    .dataframe thead tr:last-of-type th {\n",
       "        text-align: right;\n",
       "    }\n",
       "</style>\n",
       "<table border=\"1\" class=\"dataframe\">\n",
       "  <thead>\n",
       "    <tr>\n",
       "      <th></th>\n",
       "      <th colspan=\"5\" halign=\"left\">friends</th>\n",
       "    </tr>\n",
       "    <tr>\n",
       "      <th>friends</th>\n",
       "      <th>No - none of them</th>\n",
       "      <th>Yes - a few of them</th>\n",
       "      <th>Yes - all of them</th>\n",
       "      <th>Yes - just one of them</th>\n",
       "      <th>All</th>\n",
       "    </tr>\n",
       "    <tr>\n",
       "      <th>campus</th>\n",
       "      <th></th>\n",
       "      <th></th>\n",
       "      <th></th>\n",
       "      <th></th>\n",
       "      <th></th>\n",
       "    </tr>\n",
       "  </thead>\n",
       "  <tbody>\n",
       "    <tr>\n",
       "      <th>Cambridge</th>\n",
       "      <td>60.34</td>\n",
       "      <td>25.86</td>\n",
       "      <td>3.45</td>\n",
       "      <td>10.34</td>\n",
       "      <td>100.0</td>\n",
       "    </tr>\n",
       "    <tr>\n",
       "      <th>Chelmsford</th>\n",
       "      <td>61.11</td>\n",
       "      <td>25.93</td>\n",
       "      <td>7.41</td>\n",
       "      <td>5.56</td>\n",
       "      <td>100.0</td>\n",
       "    </tr>\n",
       "    <tr>\n",
       "      <th>Peterborough</th>\n",
       "      <td>26.67</td>\n",
       "      <td>33.33</td>\n",
       "      <td>40.00</td>\n",
       "      <td>0.00</td>\n",
       "      <td>100.0</td>\n",
       "    </tr>\n",
       "    <tr>\n",
       "      <th>All</th>\n",
       "      <td>56.69</td>\n",
       "      <td>26.77</td>\n",
       "      <td>9.45</td>\n",
       "      <td>7.09</td>\n",
       "      <td>100.0</td>\n",
       "    </tr>\n",
       "  </tbody>\n",
       "</table>\n",
       "</div>"
      ],
      "text/plain": [
       "                       friends                                        \\\n",
       "friends      No - none of them Yes - a few of them Yes - all of them   \n",
       "campus                                                                 \n",
       "Cambridge                60.34               25.86              3.45   \n",
       "Chelmsford               61.11               25.93              7.41   \n",
       "Peterborough             26.67               33.33             40.00   \n",
       "All                      56.69               26.77              9.45   \n",
       "\n",
       "                                            \n",
       "friends      Yes - just one of them    All  \n",
       "campus                                      \n",
       "Cambridge                     10.34  100.0  \n",
       "Chelmsford                     5.56  100.0  \n",
       "Peterborough                   0.00  100.0  \n",
       "All                            7.09  100.0  "
      ]
     },
     "execution_count": 50,
     "metadata": {},
     "output_type": "execute_result"
    }
   ],
   "source": [
    "friends_t = researchpy.crosstab(df['campus'], df['friends'], prop= \"row\")\n",
    "friends_t"
   ]
  },
  {
   "cell_type": "code",
   "execution_count": 51,
   "id": "4934135c",
   "metadata": {},
   "outputs": [
    {
     "data": {
      "text/html": [
       "<div>\n",
       "<style scoped>\n",
       "    .dataframe tbody tr th:only-of-type {\n",
       "        vertical-align: middle;\n",
       "    }\n",
       "\n",
       "    .dataframe tbody tr th {\n",
       "        vertical-align: top;\n",
       "    }\n",
       "\n",
       "    .dataframe thead th {\n",
       "        text-align: right;\n",
       "    }\n",
       "</style>\n",
       "<table border=\"1\" class=\"dataframe\">\n",
       "  <thead>\n",
       "    <tr style=\"text-align: right;\">\n",
       "      <th></th>\n",
       "      <th>Chi-square test</th>\n",
       "      <th>results</th>\n",
       "    </tr>\n",
       "  </thead>\n",
       "  <tbody>\n",
       "    <tr>\n",
       "      <th>0</th>\n",
       "      <td>Pearson Chi-square ( 6.0) =</td>\n",
       "      <td>22.3575</td>\n",
       "    </tr>\n",
       "    <tr>\n",
       "      <th>1</th>\n",
       "      <td>p-value =</td>\n",
       "      <td>0.0010</td>\n",
       "    </tr>\n",
       "    <tr>\n",
       "      <th>2</th>\n",
       "      <td>Cramer's V =</td>\n",
       "      <td>0.2967</td>\n",
       "    </tr>\n",
       "  </tbody>\n",
       "</table>\n",
       "</div>"
      ],
      "text/plain": [
       "                Chi-square test  results\n",
       "0  Pearson Chi-square ( 6.0) =   22.3575\n",
       "1                    p-value =    0.0010\n",
       "2                 Cramer's V =    0.2967"
      ]
     },
     "execution_count": 51,
     "metadata": {},
     "output_type": "execute_result"
    }
   ],
   "source": [
    "friends_t, friends_res = researchpy.crosstab(df['campus'], df['friends'], test= \"chi-square\")\n",
    "friends_res\n",
    "#the p-vaue indicates a rejection of the null and that campus is associated with whether students are friends \n",
    "#with any of the new students that are in the same group chat"
   ]
  },
  {
   "cell_type": "code",
   "execution_count": 52,
   "id": "d92f9737",
   "metadata": {},
   "outputs": [
    {
     "data": {
      "text/html": [
       "<div>\n",
       "<style scoped>\n",
       "    .dataframe tbody tr th:only-of-type {\n",
       "        vertical-align: middle;\n",
       "    }\n",
       "\n",
       "    .dataframe tbody tr th {\n",
       "        vertical-align: top;\n",
       "    }\n",
       "\n",
       "    .dataframe thead th {\n",
       "        text-align: right;\n",
       "    }\n",
       "</style>\n",
       "<table border=\"1\" class=\"dataframe\">\n",
       "  <thead>\n",
       "    <tr style=\"text-align: right;\">\n",
       "      <th></th>\n",
       "      <th>Cambridge</th>\n",
       "      <th>Chelmsford</th>\n",
       "      <th>Peterborough</th>\n",
       "      <th>friends</th>\n",
       "    </tr>\n",
       "  </thead>\n",
       "  <tbody>\n",
       "    <tr>\n",
       "      <th>0</th>\n",
       "      <td>0</td>\n",
       "      <td>1</td>\n",
       "      <td>0</td>\n",
       "      <td>No - none of them</td>\n",
       "    </tr>\n",
       "    <tr>\n",
       "      <th>1</th>\n",
       "      <td>1</td>\n",
       "      <td>0</td>\n",
       "      <td>0</td>\n",
       "      <td>No - none of them</td>\n",
       "    </tr>\n",
       "    <tr>\n",
       "      <th>2</th>\n",
       "      <td>1</td>\n",
       "      <td>0</td>\n",
       "      <td>0</td>\n",
       "      <td>No - none of them</td>\n",
       "    </tr>\n",
       "    <tr>\n",
       "      <th>3</th>\n",
       "      <td>0</td>\n",
       "      <td>0</td>\n",
       "      <td>1</td>\n",
       "      <td>Yes - a few of them</td>\n",
       "    </tr>\n",
       "    <tr>\n",
       "      <th>4</th>\n",
       "      <td>0</td>\n",
       "      <td>1</td>\n",
       "      <td>0</td>\n",
       "      <td>No - none of them</td>\n",
       "    </tr>\n",
       "    <tr>\n",
       "      <th>...</th>\n",
       "      <td>...</td>\n",
       "      <td>...</td>\n",
       "      <td>...</td>\n",
       "      <td>...</td>\n",
       "    </tr>\n",
       "    <tr>\n",
       "      <th>125</th>\n",
       "      <td>1</td>\n",
       "      <td>0</td>\n",
       "      <td>0</td>\n",
       "      <td>No - none of them</td>\n",
       "    </tr>\n",
       "    <tr>\n",
       "      <th>126</th>\n",
       "      <td>1</td>\n",
       "      <td>0</td>\n",
       "      <td>0</td>\n",
       "      <td>Yes - a few of them</td>\n",
       "    </tr>\n",
       "    <tr>\n",
       "      <th>127</th>\n",
       "      <td>0</td>\n",
       "      <td>1</td>\n",
       "      <td>0</td>\n",
       "      <td>No - none of them</td>\n",
       "    </tr>\n",
       "    <tr>\n",
       "      <th>128</th>\n",
       "      <td>0</td>\n",
       "      <td>1</td>\n",
       "      <td>0</td>\n",
       "      <td>No - none of them</td>\n",
       "    </tr>\n",
       "    <tr>\n",
       "      <th>129</th>\n",
       "      <td>1</td>\n",
       "      <td>0</td>\n",
       "      <td>0</td>\n",
       "      <td>No - none of them</td>\n",
       "    </tr>\n",
       "  </tbody>\n",
       "</table>\n",
       "<p>127 rows × 4 columns</p>\n",
       "</div>"
      ],
      "text/plain": [
       "     Cambridge  Chelmsford  Peterborough              friends\n",
       "0            0           1             0    No - none of them\n",
       "1            1           0             0    No - none of them\n",
       "2            1           0             0    No - none of them\n",
       "3            0           0             1  Yes - a few of them\n",
       "4            0           1             0    No - none of them\n",
       "..         ...         ...           ...                  ...\n",
       "125          1           0             0    No - none of them\n",
       "126          1           0             0  Yes - a few of them\n",
       "127          0           1             0    No - none of them\n",
       "128          0           1             0    No - none of them\n",
       "129          1           0             0    No - none of them\n",
       "\n",
       "[127 rows x 4 columns]"
      ]
     },
     "execution_count": 52,
     "metadata": {},
     "output_type": "execute_result"
    }
   ],
   "source": [
    "friends_df = df[['Cambridge', 'Chelmsford', 'Peterborough', 'friends']].copy()\n",
    "friends_df"
   ]
  },
  {
   "cell_type": "code",
   "execution_count": 53,
   "id": "e3440907",
   "metadata": {},
   "outputs": [
    {
     "data": {
      "text/html": [
       "<div>\n",
       "<style scoped>\n",
       "    .dataframe tbody tr th:only-of-type {\n",
       "        vertical-align: middle;\n",
       "    }\n",
       "\n",
       "    .dataframe tbody tr th {\n",
       "        vertical-align: top;\n",
       "    }\n",
       "\n",
       "    .dataframe thead th {\n",
       "        text-align: right;\n",
       "    }\n",
       "</style>\n",
       "<table border=\"1\" class=\"dataframe\">\n",
       "  <thead>\n",
       "    <tr style=\"text-align: right;\">\n",
       "      <th></th>\n",
       "      <th>Cambridge</th>\n",
       "      <th>Chelmsford</th>\n",
       "      <th>Peterborough</th>\n",
       "      <th>friends_encoded</th>\n",
       "    </tr>\n",
       "  </thead>\n",
       "  <tbody>\n",
       "    <tr>\n",
       "      <th>0</th>\n",
       "      <td>0</td>\n",
       "      <td>1</td>\n",
       "      <td>0</td>\n",
       "      <td>0</td>\n",
       "    </tr>\n",
       "    <tr>\n",
       "      <th>1</th>\n",
       "      <td>1</td>\n",
       "      <td>0</td>\n",
       "      <td>0</td>\n",
       "      <td>0</td>\n",
       "    </tr>\n",
       "    <tr>\n",
       "      <th>2</th>\n",
       "      <td>1</td>\n",
       "      <td>0</td>\n",
       "      <td>0</td>\n",
       "      <td>0</td>\n",
       "    </tr>\n",
       "    <tr>\n",
       "      <th>3</th>\n",
       "      <td>0</td>\n",
       "      <td>0</td>\n",
       "      <td>1</td>\n",
       "      <td>1</td>\n",
       "    </tr>\n",
       "    <tr>\n",
       "      <th>4</th>\n",
       "      <td>0</td>\n",
       "      <td>1</td>\n",
       "      <td>0</td>\n",
       "      <td>0</td>\n",
       "    </tr>\n",
       "    <tr>\n",
       "      <th>...</th>\n",
       "      <td>...</td>\n",
       "      <td>...</td>\n",
       "      <td>...</td>\n",
       "      <td>...</td>\n",
       "    </tr>\n",
       "    <tr>\n",
       "      <th>125</th>\n",
       "      <td>1</td>\n",
       "      <td>0</td>\n",
       "      <td>0</td>\n",
       "      <td>0</td>\n",
       "    </tr>\n",
       "    <tr>\n",
       "      <th>126</th>\n",
       "      <td>1</td>\n",
       "      <td>0</td>\n",
       "      <td>0</td>\n",
       "      <td>1</td>\n",
       "    </tr>\n",
       "    <tr>\n",
       "      <th>127</th>\n",
       "      <td>0</td>\n",
       "      <td>1</td>\n",
       "      <td>0</td>\n",
       "      <td>0</td>\n",
       "    </tr>\n",
       "    <tr>\n",
       "      <th>128</th>\n",
       "      <td>0</td>\n",
       "      <td>1</td>\n",
       "      <td>0</td>\n",
       "      <td>0</td>\n",
       "    </tr>\n",
       "    <tr>\n",
       "      <th>129</th>\n",
       "      <td>1</td>\n",
       "      <td>0</td>\n",
       "      <td>0</td>\n",
       "      <td>0</td>\n",
       "    </tr>\n",
       "  </tbody>\n",
       "</table>\n",
       "<p>127 rows × 4 columns</p>\n",
       "</div>"
      ],
      "text/plain": [
       "     Cambridge  Chelmsford  Peterborough  friends_encoded\n",
       "0            0           1             0                0\n",
       "1            1           0             0                0\n",
       "2            1           0             0                0\n",
       "3            0           0             1                1\n",
       "4            0           1             0                0\n",
       "..         ...         ...           ...              ...\n",
       "125          1           0             0                0\n",
       "126          1           0             0                1\n",
       "127          0           1             0                0\n",
       "128          0           1             0                0\n",
       "129          1           0             0                0\n",
       "\n",
       "[127 rows x 4 columns]"
      ]
     },
     "execution_count": 53,
     "metadata": {},
     "output_type": "execute_result"
    }
   ],
   "source": [
    "#since got significant p-value, need to assess correlation\n",
    "#first encode friends\n",
    "friends_df[\"friends_encoded\"] = np.where(friends_df[\"friends\"].str.contains(\"Yes\"), 1, 0)\n",
    "friends_df.drop(columns=['friends'])"
   ]
  },
  {
   "cell_type": "code",
   "execution_count": 54,
   "id": "747ae2a8",
   "metadata": {},
   "outputs": [
    {
     "data": {
      "text/plain": [
       "Cambridge         -0.067572\n",
       "Chelmsford        -0.076690\n",
       "Peterborough       0.221765\n",
       "friends_encoded    1.000000\n",
       "Name: friends_encoded, dtype: float64"
      ]
     },
     "execution_count": 54,
     "metadata": {},
     "output_type": "execute_result"
    }
   ],
   "source": [
    "friends_corr_tab = friends_df.corr()['friends_encoded']\n",
    "friends_corr_tab\n",
    "#this indicates that chelmsford students are the least like to have friends..."
   ]
  },
  {
   "cell_type": "code",
   "execution_count": 55,
   "id": "d13c959b",
   "metadata": {},
   "outputs": [
    {
     "data": {
      "text/html": [
       "<div>\n",
       "<style scoped>\n",
       "    .dataframe tbody tr th:only-of-type {\n",
       "        vertical-align: middle;\n",
       "    }\n",
       "\n",
       "    .dataframe tbody tr th {\n",
       "        vertical-align: top;\n",
       "    }\n",
       "\n",
       "    .dataframe thead th {\n",
       "        text-align: right;\n",
       "    }\n",
       "</style>\n",
       "<table border=\"1\" class=\"dataframe\">\n",
       "  <thead>\n",
       "    <tr style=\"text-align: right;\">\n",
       "      <th></th>\n",
       "      <th>Chi-square test</th>\n",
       "      <th>results</th>\n",
       "    </tr>\n",
       "  </thead>\n",
       "  <tbody>\n",
       "    <tr>\n",
       "      <th>0</th>\n",
       "      <td>Pearson Chi-square ( 1.0) =</td>\n",
       "      <td>0.5799</td>\n",
       "    </tr>\n",
       "    <tr>\n",
       "      <th>1</th>\n",
       "      <td>p-value =</td>\n",
       "      <td>0.4464</td>\n",
       "    </tr>\n",
       "    <tr>\n",
       "      <th>2</th>\n",
       "      <td>Cramer's phi =</td>\n",
       "      <td>0.0676</td>\n",
       "    </tr>\n",
       "  </tbody>\n",
       "</table>\n",
       "</div>"
      ],
      "text/plain": [
       "                Chi-square test  results\n",
       "0  Pearson Chi-square ( 1.0) =    0.5799\n",
       "1                    p-value =    0.4464\n",
       "2               Cramer's phi =    0.0676"
      ]
     },
     "execution_count": 55,
     "metadata": {},
     "output_type": "execute_result"
    }
   ],
   "source": [
    "#Cambridge\n",
    "friends_split_t, friends_split_res = researchpy.crosstab(friends_df[\"Cambridge\"], friends_df['friends_encoded'], test= \"chi-square\")\n",
    "friends_split_res\n",
    "#Cambridge: not significant"
   ]
  },
  {
   "cell_type": "code",
   "execution_count": 56,
   "id": "662bacb4",
   "metadata": {},
   "outputs": [
    {
     "data": {
      "text/html": [
       "<div>\n",
       "<style scoped>\n",
       "    .dataframe tbody tr th:only-of-type {\n",
       "        vertical-align: middle;\n",
       "    }\n",
       "\n",
       "    .dataframe tbody tr th {\n",
       "        vertical-align: top;\n",
       "    }\n",
       "\n",
       "    .dataframe thead th {\n",
       "        text-align: right;\n",
       "    }\n",
       "</style>\n",
       "<table border=\"1\" class=\"dataframe\">\n",
       "  <thead>\n",
       "    <tr style=\"text-align: right;\">\n",
       "      <th></th>\n",
       "      <th>Chi-square test</th>\n",
       "      <th>results</th>\n",
       "    </tr>\n",
       "  </thead>\n",
       "  <tbody>\n",
       "    <tr>\n",
       "      <th>0</th>\n",
       "      <td>Pearson Chi-square ( 1.0) =</td>\n",
       "      <td>0.7469</td>\n",
       "    </tr>\n",
       "    <tr>\n",
       "      <th>1</th>\n",
       "      <td>p-value =</td>\n",
       "      <td>0.3875</td>\n",
       "    </tr>\n",
       "    <tr>\n",
       "      <th>2</th>\n",
       "      <td>Cramer's phi =</td>\n",
       "      <td>0.0767</td>\n",
       "    </tr>\n",
       "  </tbody>\n",
       "</table>\n",
       "</div>"
      ],
      "text/plain": [
       "                Chi-square test  results\n",
       "0  Pearson Chi-square ( 1.0) =    0.7469\n",
       "1                    p-value =    0.3875\n",
       "2               Cramer's phi =    0.0767"
      ]
     },
     "execution_count": 56,
     "metadata": {},
     "output_type": "execute_result"
    }
   ],
   "source": [
    "#Chelmsford\n",
    "ch_friends_split_t, ch_friends_split_res = researchpy.crosstab(friends_df[\"Chelmsford\"], friends_df['friends_encoded'], test= \"chi-square\")\n",
    "ch_friends_split_res\n",
    "#Chelmsford: notsignificant"
   ]
  },
  {
   "cell_type": "code",
   "execution_count": 57,
   "id": "666aea16",
   "metadata": {},
   "outputs": [
    {
     "data": {
      "text/html": [
       "<div>\n",
       "<style scoped>\n",
       "    .dataframe tbody tr th:only-of-type {\n",
       "        vertical-align: middle;\n",
       "    }\n",
       "\n",
       "    .dataframe tbody tr th {\n",
       "        vertical-align: top;\n",
       "    }\n",
       "\n",
       "    .dataframe thead th {\n",
       "        text-align: right;\n",
       "    }\n",
       "</style>\n",
       "<table border=\"1\" class=\"dataframe\">\n",
       "  <thead>\n",
       "    <tr style=\"text-align: right;\">\n",
       "      <th></th>\n",
       "      <th>Chi-square test</th>\n",
       "      <th>results</th>\n",
       "    </tr>\n",
       "  </thead>\n",
       "  <tbody>\n",
       "    <tr>\n",
       "      <th>0</th>\n",
       "      <td>Pearson Chi-square ( 1.0) =</td>\n",
       "      <td>6.2458</td>\n",
       "    </tr>\n",
       "    <tr>\n",
       "      <th>1</th>\n",
       "      <td>p-value =</td>\n",
       "      <td>0.0124</td>\n",
       "    </tr>\n",
       "    <tr>\n",
       "      <th>2</th>\n",
       "      <td>Cramer's phi =</td>\n",
       "      <td>0.2218</td>\n",
       "    </tr>\n",
       "  </tbody>\n",
       "</table>\n",
       "</div>"
      ],
      "text/plain": [
       "                Chi-square test  results\n",
       "0  Pearson Chi-square ( 1.0) =    6.2458\n",
       "1                    p-value =    0.0124\n",
       "2               Cramer's phi =    0.2218"
      ]
     },
     "execution_count": 57,
     "metadata": {},
     "output_type": "execute_result"
    }
   ],
   "source": [
    "#Peterborough\n",
    "p_friends_split_t, p_friends_split_res = researchpy.crosstab(friends_df[\"Peterborough\"], friends_df['friends_encoded'], test= \"chi-square\")\n",
    "p_friends_split_res\n",
    "#Peterborough: significant! Peterb is anomoly for its size "
   ]
  },
  {
   "cell_type": "code",
   "execution_count": 58,
   "id": "fe6637a0",
   "metadata": {},
   "outputs": [],
   "source": [
    "######################################"
   ]
  },
  {
   "cell_type": "code",
   "execution_count": 59,
   "id": "60590fc7",
   "metadata": {},
   "outputs": [
    {
     "data": {
      "text/plain": [
       "127"
      ]
     },
     "execution_count": 59,
     "metadata": {},
     "output_type": "execute_result"
    }
   ],
   "source": [
    "len(df)"
   ]
  },
  {
   "cell_type": "code",
   "execution_count": null,
   "id": "cc89210a",
   "metadata": {},
   "outputs": [],
   "source": []
  },
  {
   "cell_type": "code",
   "execution_count": null,
   "id": "2e9ee403",
   "metadata": {},
   "outputs": [],
   "source": []
  }
 ],
 "metadata": {
  "kernelspec": {
   "display_name": "Python 3",
   "language": "python",
   "name": "python3"
  },
  "language_info": {
   "codemirror_mode": {
    "name": "ipython",
    "version": 3
   },
   "file_extension": ".py",
   "mimetype": "text/x-python",
   "name": "python",
   "nbconvert_exporter": "python",
   "pygments_lexer": "ipython3",
   "version": "3.8.8"
  }
 },
 "nbformat": 4,
 "nbformat_minor": 5
}
